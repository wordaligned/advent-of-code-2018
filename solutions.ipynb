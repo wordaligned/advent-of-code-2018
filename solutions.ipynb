{
 "cells": [
  {
   "cell_type": "markdown",
   "metadata": {},
   "source": [
    "# [Advent of Code 2018](https://adventofcode.com/2018)\n",
    "I'm going to have a go at the Advent of Code 2018 puzzles using a Jupyter notebook.\n",
    "First, let's import some standard modules."
   ]
  },
  {
   "cell_type": "code",
   "execution_count": 1,
   "metadata": {},
   "outputs": [],
   "source": [
    "import collections\n",
    "import functools\n",
    "import itertools as its\n",
    "import math\n",
    "import operator\n",
    "import re\n",
    "import string"
   ]
  },
  {
   "cell_type": "markdown",
   "metadata": {},
   "source": [
    "Also, here are some general purpose functions."
   ]
  },
  {
   "cell_type": "code",
   "execution_count": 2,
   "metadata": {},
   "outputs": [],
   "source": [
    "def input(day):\n",
    "    'Load the input for `day`'\n",
    "    return open(f'input/{day}').read()\n",
    "\n",
    "def ilen(xs):\n",
    "    'Return the length of an iterable'\n",
    "    return sum(1 for _ in iter(xs))\n",
    "\n",
    "def last(xs):\n",
    "    'Return the last element of an iterable sequence.'\n",
    "    xs = iter(xs)\n",
    "    return collections.deque(xs, maxlen=1)[0]\n",
    "\n",
    "def ints(s):\n",
    "    'Return a list of integer tokens in `s`.'\n",
    "    return [int(x) for x in re.findall(r'[-+]?\\d+', s)]\n",
    "\n",
    "def array(data):\n",
    "    'Convert the data into a list of lists of ints.'\n",
    "    return [ints(line) for line in data.splitlines()]\n",
    "\n",
    "def swap(xs, i, j):\n",
    "    'Swap items in a sequence.'\n",
    "    xs[i], xs[j] = xs[j], xs[i]\n",
    "\n",
    "def nth(xs, n):\n",
    "    'Return the nth element of a sequence.'\n",
    "    return next(its.islice(xs, n, None))\n",
    "\n",
    "def take(xs, n):\n",
    "    'Return (up to) first `n` items of a sequence'\n",
    "    return [x for x, _ in zip(xs, range(n))]\n",
    "\n",
    "def overlapping(xs, n):\n",
    "    '''Generate overlapping n-tuples from `xs`\n",
    "\n",
    "    overlapping('ABCDEFG', 3) --> ABC BCD CDE DEF EFG\n",
    "    '''\n",
    "    if isinstance(xs, collections.abc.Sequence):\n",
    "        yield from (xs[i:i+n] for i in range(len(xs) + 1 - n))\n",
    "    else:\n",
    "        result = collections.deque(maxlen=n)\n",
    "        for x in xs:\n",
    "            result.append(x)\n",
    "            if len(result) == n:\n",
    "                yield tuple(result)\n",
    "                \n",
    "def pairwise(iterable):\n",
    "    's -> (s0,s1), (s1,s2), (s2, s3), ...'\n",
    "    return overlapping(iterable, 2)\n",
    "\n",
    "def manhattan_distance(p, q):\n",
    "    'Return the city block distance from `p` to `q`'\n",
    "    return math.fabs(p[0]-q[0]) + math.fabs(p[1]-q[1])\n",
    "\n",
    "def neighbours4(x, y):\n",
    "    'Return the horizontal and vertical neighbours of `(x, y)`'\n",
    "    return (x,y-1),(x-1,y),(x+1,y),(x,y+1)\n",
    "\n",
    "def unique(xs):\n",
    "    'Return `True` iff no elements of `xs` are repeated'\n",
    "    return len(xs) == len(set(xs))\n",
    "\n",
    "def mapt(f, xs):\n",
    "    return tuple(map(f, xs))\n",
    "\n",
    "flatten = its.chain.from_iterable\n",
    "cat = ''.join\n",
    "first = operator.itemgetter(0)\n",
    "second = operator.itemgetter(1)"
   ]
  },
  {
   "cell_type": "markdown",
   "metadata": {},
   "source": [
    "## [Day 1](https://adventofcode.com/2018/day/1)\n",
    "The input is a series of integers, one per line. These integers represent frequency changes. Part one requires the final frequenct. That is, the sum of these integers."
   ]
  },
  {
   "cell_type": "code",
   "execution_count": 3,
   "metadata": {},
   "outputs": [
    {
     "data": {
      "text/plain": [
       "599"
      ]
     },
     "execution_count": 3,
     "metadata": {},
     "output_type": "execute_result"
    }
   ],
   "source": [
    "deltas = ints(input(1)) \n",
    "sum(deltas)"
   ]
  },
  {
   "cell_type": "markdown",
   "metadata": {},
   "source": [
    "Part two explains the frequency changes repeat, over and over. We are asked to find the first frequency which is reached a second time."
   ]
  },
  {
   "cell_type": "code",
   "execution_count": 4,
   "metadata": {},
   "outputs": [
    {
     "data": {
      "text/plain": [
       "81204"
      ]
     },
     "execution_count": 4,
     "metadata": {},
     "output_type": "execute_result"
    }
   ],
   "source": [
    "seen = set()\n",
    "for freq in its.accumulate(its.cycle(deltas)):\n",
    "    if freq in seen:\n",
    "        break\n",
    "    seen.add(freq)\n",
    "\n",
    "freq"
   ]
  },
  {
   "cell_type": "markdown",
   "metadata": {},
   "source": [
    "## [Day 2](https://adventofcode.com/2018/day/2)\n",
    "The input is a list of strings representing box ids."
   ]
  },
  {
   "cell_type": "code",
   "execution_count": 5,
   "metadata": {},
   "outputs": [],
   "source": [
    "box_ids = input(2).split()"
   ]
  },
  {
   "cell_type": "markdown",
   "metadata": {},
   "source": [
    "We need to know the counts of letters in these ids -- specifically, how many ids have letters repeated 2 and/or 3 times? `Counter` can help here."
   ]
  },
  {
   "cell_type": "code",
   "execution_count": 6,
   "metadata": {},
   "outputs": [],
   "source": [
    "box_counts = [collections.Counter(box_id) for box_id in box_ids]\n",
    "x2 = sum(2 in box_count.values() for box_count in box_counts)\n",
    "x3 = sum(3 in box_count.values() for box_count in box_counts)"
   ]
  },
  {
   "cell_type": "markdown",
   "metadata": {},
   "source": [
    "We're asked for the product of the repeat counts."
   ]
  },
  {
   "cell_type": "code",
   "execution_count": 7,
   "metadata": {},
   "outputs": [
    {
     "data": {
      "text/plain": [
       "5681"
      ]
     },
     "execution_count": 7,
     "metadata": {},
     "output_type": "execute_result"
    }
   ],
   "source": [
    "x2 * x3"
   ]
  },
  {
   "cell_type": "markdown",
   "metadata": {},
   "source": [
    "Part two asks for something quite different: to identify a pair of ids which differ by a single character."
   ]
  },
  {
   "cell_type": "code",
   "execution_count": 8,
   "metadata": {},
   "outputs": [
    {
     "data": {
      "text/plain": [
       "250"
      ]
     },
     "execution_count": 8,
     "metadata": {},
     "output_type": "execute_result"
    }
   ],
   "source": [
    "len(box_ids)"
   ]
  },
  {
   "cell_type": "markdown",
   "metadata": {},
   "source": [
    "For such a low number of ids, we simply check every pair."
   ]
  },
  {
   "cell_type": "code",
   "execution_count": 9,
   "metadata": {},
   "outputs": [],
   "source": [
    "def diffs(b, B):\n",
    "    'Return the number of characters which differ in the inputs'\n",
    "    return sum(c != C for c, C in zip(b, B))\n",
    "\n",
    "diff_by_one = [p for p in its.combinations(box_ids, 2) if diffs(*p) == 1]\n",
    "\n",
    "# Check there's just one pair which fits the criteria\n",
    "assert len(diff_by_one) == 1"
   ]
  },
  {
   "cell_type": "markdown",
   "metadata": {},
   "source": [
    "We're asked for the letters common to this pair."
   ]
  },
  {
   "cell_type": "code",
   "execution_count": 10,
   "metadata": {},
   "outputs": [
    {
     "data": {
      "text/plain": [
       "'uqyoeizfvmbistpkgnocjtwld'"
      ]
     },
     "execution_count": 10,
     "metadata": {},
     "output_type": "execute_result"
    }
   ],
   "source": [
    "''.join(c for c, C in zip(*diff_by_one[0]) if c == C)"
   ]
  },
  {
   "cell_type": "markdown",
   "metadata": {},
   "source": [
    "## [Day 3](https://adventofcode.com/2018/day/3)\n",
    "This puzzle is about *claim*s, which are regions in a grid. Each grid square is specified by an id, then left, top, width, height values. We could write a regex to parse/check, but simply extracting `ints` gets us there."
   ]
  },
  {
   "cell_type": "code",
   "execution_count": 11,
   "metadata": {},
   "outputs": [
    {
     "data": {
      "text/plain": [
       "[123, 3, 2, 5, 4]"
      ]
     },
     "execution_count": 11,
     "metadata": {},
     "output_type": "execute_result"
    }
   ],
   "source": [
    "claim = \"#123 @ 3,2: 5x4\"\n",
    "ints(claim) "
   ]
  },
  {
   "cell_type": "markdown",
   "metadata": {},
   "source": [
    "For part one, we want to know how many squares on the grid are covered by more than one claim. Let's find the total area of all the claims."
   ]
  },
  {
   "cell_type": "code",
   "execution_count": 12,
   "metadata": {},
   "outputs": [
    {
     "data": {
      "text/plain": [
       "492476"
      ]
     },
     "execution_count": 12,
     "metadata": {},
     "output_type": "execute_result"
    }
   ],
   "source": [
    "claims = array(input(3))\n",
    "sum(c[3]*c[4] for c in claims)"
   ]
  },
  {
   "cell_type": "markdown",
   "metadata": {},
   "source": [
    "Given this figure, we can just count the number of claims in each cell. We can then read the number of squares with 2 or more claims."
   ]
  },
  {
   "cell_type": "code",
   "execution_count": 13,
   "metadata": {},
   "outputs": [
    {
     "data": {
      "text/plain": [
       "112378"
      ]
     },
     "execution_count": 13,
     "metadata": {},
     "output_type": "execute_result"
    }
   ],
   "source": [
    "def rectangle(id_, L, T, W, H):\n",
    "    'Generate the points within a claim'\n",
    "    return its.product(range(L, L+W), range(T, T+H))\n",
    "\n",
    "grid = collections.Counter(\n",
    "    p for claim in claims for p in rectangle(*claim))\n",
    "\n",
    "ilen(N for N in grid.values() if N > 1)"
   ]
  },
  {
   "cell_type": "markdown",
   "metadata": {},
   "source": [
    "For part two, we want the id of the claim which doesn't overlap any other claim. That's the claim for which cell counts are all `1`."
   ]
  },
  {
   "cell_type": "code",
   "execution_count": 14,
   "metadata": {},
   "outputs": [
    {
     "data": {
      "text/plain": [
       "603"
      ]
     },
     "execution_count": 14,
     "metadata": {},
     "output_type": "execute_result"
    }
   ],
   "source": [
    "non_overlaps = [claim[0] for claim in claims\n",
    "                if all(grid[p] == 1 for p in rectangle(*claim))]\n",
    "assert len(non_overlaps) == 1\n",
    "non_overlaps[0]"
   ]
  },
  {
   "cell_type": "markdown",
   "metadata": {},
   "source": [
    "## [Day 4](https://adventofcode.com/2018/day/4)\n",
    "It's not entirely clear what's wanted here. Are we only concerned with guards being asleep during the midnight hour? Or, when we sort the inputs, are these the only times guards are asleep? Let's start by sorting the records.\n",
    "\n",
    "    sort < input/4 > input/4a\n",
    "\n",
    "Note that alphabetically sorting the records places them in date order. Once sorted, my questions about the input are clarified. Every night just a single guard is on duty and that guard only sleeps during the midnight hour.\n",
    "\n",
    "We scan through the sorted records and keep a counter for each guard. That counter records minutes in the midnight hour the guard was asleep. For example, `sleeping[42][5] == 3` would mean guard `#42` was asleep on 3 nights between `00:05` and `00:06`."
   ]
  },
  {
   "cell_type": "code",
   "execution_count": 15,
   "metadata": {},
   "outputs": [
    {
     "data": {
      "text/plain": [
       "[(39, 10), (40, 10), (41, 10), (42, 10), (36, 9)]"
      ]
     },
     "execution_count": 15,
     "metadata": {},
     "output_type": "execute_result"
    }
   ],
   "source": [
    "sleeping = collections.defaultdict(collections.Counter)\n",
    "\n",
    "for record in open('input/4a'):\n",
    "    yy,mm,dd,hh,mm,*rest = ints(record)\n",
    "    if 'shift'  in record:\n",
    "        guard = rest[0]\n",
    "    elif 'asleep' in record:\n",
    "        assert hh == 0\n",
    "        asleep = mm\n",
    "    else:\n",
    "        assert hh == 0\n",
    "        assert 'wakes' in record\n",
    "        sleeping[guard].update(range(asleep, mm))\n",
    "\n",
    "# Let's have a look at some data & check it looks OK\n",
    "sleeping[2417].most_common(5)"
   ]
  },
  {
   "cell_type": "markdown",
   "metadata": {},
   "source": [
    "For part one, we're after the guard who slept the longest and the minute they were most often asleep."
   ]
  },
  {
   "cell_type": "code",
   "execution_count": 16,
   "metadata": {},
   "outputs": [
    {
     "data": {
      "text/plain": [
       "[(45, 15), (44, 14)]"
      ]
     },
     "execution_count": 16,
     "metadata": {},
     "output_type": "execute_result"
    }
   ],
   "source": [
    "guard, asleep = max(sleeping.items(), key=lambda i: sum(i[1].values()))\n",
    "asleep.most_common(2)"
   ]
  },
  {
   "cell_type": "markdown",
   "metadata": {},
   "source": [
    "That's good -- we have a unique choice for the minute the guard was most often asleep. We can get the answer directly."
   ]
  },
  {
   "cell_type": "code",
   "execution_count": 17,
   "metadata": {},
   "outputs": [
    {
     "data": {
      "text/plain": [
       "119835"
      ]
     },
     "execution_count": 17,
     "metadata": {},
     "output_type": "execute_result"
    }
   ],
   "source": [
    "guard * asleep.most_common(1)[0][0]"
   ]
  },
  {
   "cell_type": "markdown",
   "metadata": {},
   "source": [
    "Part two asks: Of all guards, which guard is most frequently asleep on the same minute? The answer is in our `sleeping` dict."
   ]
  },
  {
   "cell_type": "code",
   "execution_count": 18,
   "metadata": {},
   "outputs": [
    {
     "data": {
      "text/plain": [
       "12725"
      ]
     },
     "execution_count": 18,
     "metadata": {},
     "output_type": "execute_result"
    }
   ],
   "source": [
    "def sleepiest_minute(guard_mins):\n",
    "    guard, mins = guard_mins\n",
    "    minute, freq = mins.most_common(1).pop()\n",
    "    return freq, minute, guard\n",
    "\n",
    "freq, minute, guard = max(map(sleepiest_minute, sleeping.items()))\n",
    "guard * minute"
   ]
  },
  {
   "cell_type": "markdown",
   "metadata": {},
   "source": [
    "## [Day 5](https://adventofcode.com/2018/day/5)\n",
    "Pairs of characters are repeatedly removed from a polymer -- represented as a string. First, find all possible pairs. "
   ]
  },
  {
   "cell_type": "code",
   "execution_count": 19,
   "metadata": {},
   "outputs": [],
   "source": [
    "import string\n",
    "az, AZ = string.ascii_lowercase, string.ascii_uppercase\n",
    "removes = [cat(p) for p in zip(az, AZ)] + [cat(p) for p in zip(AZ, az)]"
   ]
  },
  {
   "cell_type": "markdown",
   "metadata": {},
   "source": [
    "Now we keep processing the polymer until there's nothing to remove."
   ]
  },
  {
   "cell_type": "code",
   "execution_count": 20,
   "metadata": {},
   "outputs": [
    {
     "data": {
      "text/plain": [
       "9562"
      ]
     },
     "execution_count": 20,
     "metadata": {},
     "output_type": "execute_result"
    }
   ],
   "source": [
    "def reactions(polymer, removes):\n",
    "    '''Generate the series of values taken by the polymer\n",
    "    \n",
    "    Yield `polymer`, then the repeated result of applying all removals.\n",
    "    '''\n",
    "    while True:\n",
    "        yield polymer\n",
    "        for rm in removes:\n",
    "            polymer = polymer.replace(rm, '')\n",
    "\n",
    "def reacted(polymer, removes):\n",
    "    'Keep applying removals until the polymer stabilises'\n",
    "    return next(p for p in pairwise(reactions(polymer, removes))\n",
    "                if len(set(p)) == 1)[0]\n",
    "\n",
    "polymer = input(5).strip() # (strip in case a newline appeared in the file)\n",
    "len(reacted(polymer, removes))"
   ]
  },
  {
   "cell_type": "markdown",
   "metadata": {},
   "source": [
    "For part two, we see what happens if we remove all instances of a unit before reacting. Which unit results in the biggest reaction?"
   ]
  },
  {
   "cell_type": "code",
   "execution_count": 21,
   "metadata": {},
   "outputs": [
    {
     "data": {
      "text/plain": [
       "4934"
      ]
     },
     "execution_count": 21,
     "metadata": {},
     "output_type": "execute_result"
    }
   ],
   "source": [
    "inputs = (polymer.replace(x, '').replace(X, '') for x, X in zip(az, AZ))\n",
    "min(len(reacted(p, removes)) for p in inputs)"
   ]
  },
  {
   "cell_type": "markdown",
   "metadata": {},
   "source": [
    "## [Day 6](https://adventofcode.com/2018/day/6)\n",
    "We are filling an infinite grid, stepping in horizontal or vertical direction. "
   ]
  },
  {
   "cell_type": "code",
   "execution_count": 22,
   "metadata": {},
   "outputs": [
    {
     "data": {
      "text/plain": [
       "3894"
      ]
     },
     "execution_count": 22,
     "metadata": {},
     "output_type": "execute_result"
    }
   ],
   "source": [
    "coords = set(tuple(ints(row)) for row in input(6).splitlines())\n",
    "\n",
    "# Find the X and Y ranges of the pts\n",
    "x, X = min(map(first,  coords)), max(map(first,  coords))\n",
    "y, Y = min(map(second, coords)), max(map(second, coords))\n",
    "\n",
    "def on_edge(pt):\n",
    "    'Return `True` if `pt` is on the bounding box of `coords`'\n",
    "    return pt[0] in {x, X} or pt[1] in {y, Y}\n",
    "\n",
    "def closest(pt, coords, dist=manhattan_distance):\n",
    "    'Return the `coords` closest to `pt`'\n",
    "    def key(p): return dist(p, pt)\n",
    "    d, result = next(its.groupby(sorted(coords, key=key), key=key))\n",
    "    return tuple(result)\n",
    "\n",
    "# Find the closest coord to each point in the bounding box of `coords`\n",
    "closest_coords = {p: closest(p, coords) \n",
    "                  for p in its.product(range(x, X+1), range(y, Y+1))}\n",
    "\n",
    "# We are looking for the coord surrounded by the largest contained region. \n",
    "\n",
    "# We can eliminate any coord which is closest to a point on \n",
    "# the bounding box -- such points are not contained\n",
    "infinite_extent = set(\n",
    "    flatten(vs for p, vs in closest_coords.items() if on_edge(p)))\n",
    "\n",
    "# Now count up points closest to `coords` -- this gives us areas of\n",
    "# contained regions\n",
    "areas = collections.Counter(\n",
    "    v for v, *tied in closest_coords.values()\n",
    "    if not tied and v not in infinite_extent)\n",
    "\n",
    "coord, biggest_area = areas.most_common(1)[0]\n",
    "biggest_area"
   ]
  },
  {
   "cell_type": "markdown",
   "metadata": {},
   "source": [
    "For part two, we want to find the region in which all points have a total Manhattan distance from `pts` of less than 10000."
   ]
  },
  {
   "cell_type": "code",
   "execution_count": 23,
   "metadata": {},
   "outputs": [
    {
     "data": {
      "text/plain": [
       "11299.0"
      ]
     },
     "execution_count": 23,
     "metadata": {},
     "output_type": "execute_result"
    }
   ],
   "source": [
    "min(sum(manhattan_distance(p, q) for q in coords) \n",
    "    for p in closest_coords if on_edge(p)) "
   ]
  },
  {
   "cell_type": "markdown",
   "metadata": {},
   "source": [
    "Since 11299 > 10000, this check confirms the region is strictly within the bounding box of the coords."
   ]
  },
  {
   "cell_type": "code",
   "execution_count": 24,
   "metadata": {},
   "outputs": [
    {
     "data": {
      "text/plain": [
       "39398"
      ]
     },
     "execution_count": 24,
     "metadata": {},
     "output_type": "execute_result"
    }
   ],
   "source": [
    "ilen(p for p in its.product(range(x, X+1), range(y, Y+1))\n",
    "     if sum(manhattan_distance(p, q) for q in coords) < 10000)"
   ]
  },
  {
   "cell_type": "markdown",
   "metadata": {},
   "source": [
    "## [Day 7](https://adventofcode.com/2018/day/7)\n",
    "Part one is a topological sort, with the minor twist of ordering dependencies alphabetically when there's a choice."
   ]
  },
  {
   "cell_type": "code",
   "execution_count": 25,
   "metadata": {},
   "outputs": [
    {
     "data": {
      "text/plain": [
       "('Y', 'J')"
      ]
     },
     "execution_count": 25,
     "metadata": {},
     "output_type": "execute_result"
    }
   ],
   "source": [
    "# Each row in the input looks something like\n",
    "row = 'Step Y must be finished before step J can begin.'\n",
    "# We can parse it like this\n",
    "select = operator.itemgetter(1, 7)\n",
    "select(row.split())"
   ]
  },
  {
   "cell_type": "code",
   "execution_count": 26,
   "metadata": {},
   "outputs": [
    {
     "data": {
      "text/plain": [
       "'CHILFNMORYKGAQXUVBZPSJWDET'"
      ]
     },
     "execution_count": 26,
     "metadata": {},
     "output_type": "execute_result"
    }
   ],
   "source": [
    "edges = sorted(select(row.split()) for row in input(7).splitlines())\n",
    "\n",
    "graph = collections.defaultdict(list,\n",
    "    {v: mapt(second, deps) for v, deps in its.groupby(edges, key=first)})\n",
    "\n",
    "in_degrees = collections.Counter(map(second, edges))\n",
    "ready = set(graph) - set(in_degrees)\n",
    "topo = []\n",
    "while ready:\n",
    "    v = min(ready)\n",
    "    topo.append(v)\n",
    "    ready.remove(v)\n",
    "    in_degrees.subtract(collections.Counter(graph[v]))\n",
    "    ready |= {v for v, n in in_degrees.items() \n",
    "              if n==0 and v not in topo}\n",
    "    \n",
    "''.join(topo)"
   ]
  },
  {
   "cell_type": "markdown",
   "metadata": {},
   "source": [
    "Part two adds extra workers (elves) and assigns times to the steps. We are asked for the time to complete the tasks."
   ]
  },
  {
   "cell_type": "code",
   "execution_count": 27,
   "metadata": {},
   "outputs": [
    {
     "name": "stdout",
     "output_type": "stream",
     "text": [
      "891\n"
     ]
    }
   ],
   "source": [
    "in_degrees = collections.Counter(map(second, edges))\n",
    "ready = set(graph) - set(in_degrees)\n",
    "workers = 5\n",
    "\n",
    "def t_step(S):\n",
    "    'Step A takes 61 seconds, B 62 seconds etc.'\n",
    "    return 61 + ord(S) - ord('A')\n",
    "\n",
    "t = 0\n",
    "work = []\n",
    "topo = []\n",
    "\n",
    "while ready or work:\n",
    "    if ready and workers:\n",
    "        workers -= 1\n",
    "        v = min(ready)\n",
    "        ready.remove(v)\n",
    "        work.append((t + t_step(v), v))\n",
    "    else:\n",
    "        workers += 1\n",
    "        work.sort(reverse=True)\n",
    "        t, v = work.pop()\n",
    "        topo.append(v)\n",
    "        in_degrees.subtract(collections.Counter(graph[v]))\n",
    "        ready |= {v for v, n in in_degrees.items() \n",
    "                  if n==0 and v not in topo and v not in mapt(second, work)}\n",
    "\n",
    "print(t)"
   ]
  },
  {
   "cell_type": "markdown",
   "metadata": {},
   "source": [
    "## [Day 8](https://adventofcode.com/2018/day/8)\n",
    "A list of integers defines a tree structure."
   ]
  },
  {
   "cell_type": "code",
   "execution_count": 28,
   "metadata": {},
   "outputs": [
    {
     "data": {
      "text/plain": [
       "44838"
      ]
     },
     "execution_count": 28,
     "metadata": {},
     "output_type": "execute_result"
    }
   ],
   "source": [
    "def traverse(tree_data, i, callback):\n",
    "    children, metas = tree_data[i], tree_data[i+1]\n",
    "    i += 2\n",
    "    for _ in range(children):\n",
    "        i = traverse(tree_data, i, callback)\n",
    "    callback(tree_data[i: i+metas])\n",
    "    return i + metas\n",
    "\n",
    "metadata = []\n",
    "\n",
    "traverse(ints('2 3 0 3 10 11 12 1 1 0 1 99 2 1 1 2'), 0, metadata.extend)\n",
    "assert sum(metadata) == 138\n",
    "\n",
    "metadata.clear()\n",
    "traverse(ints(input(8)), 0, metadata.extend)\n",
    "sum(metadata)"
   ]
  },
  {
   "cell_type": "code",
   "execution_count": 29,
   "metadata": {},
   "outputs": [
    {
     "data": {
      "text/plain": [
       "22198"
      ]
     },
     "execution_count": 29,
     "metadata": {},
     "output_type": "execute_result"
    }
   ],
   "source": [
    "def traverse2(tree_data, i):\n",
    "    children, metas = tree_data[i], tree_data[i+1]\n",
    "    i += 2\n",
    "    child_values = {}\n",
    "    for j in range(children):\n",
    "        i, v = traverse2(tree_data, i)\n",
    "        child_values[j+1] = v\n",
    "    \n",
    "    md = tree_data[i: i+metas]\n",
    "    if children:\n",
    "        value = sum(child_values.get(m, 0) for m in md)\n",
    "    else:\n",
    "        value = sum(md)\n",
    "    return i + metas, value\n",
    "\n",
    "assert traverse2(ints('2 3 0 3 10 11 12 1 1 0 1 99 2 1 1 2'), 0)[1] == 66\n",
    "traverse2(ints(input(8)), 0)[1]"
   ]
  },
  {
   "cell_type": "markdown",
   "metadata": {},
   "source": [
    "## [Day 9](https://adventofcode.com/2018/day/9)\n",
    "Inserting numbers into a circular buffer, following some bizarre rules."
   ]
  },
  {
   "cell_type": "code",
   "execution_count": 30,
   "metadata": {},
   "outputs": [],
   "source": [
    "def play_marbles():\n",
    "    marbles, pos = [0], 0\n",
    "    for N in its.count(1):\n",
    "        if N % 23:\n",
    "            pos = (pos + 2) % len(marbles)\n",
    "            marbles.insert(pos, N)\n",
    "            yield 0\n",
    "        else:\n",
    "            pos = (pos - 7) % len(marbles)\n",
    "            yield N + marbles.pop(pos)\n",
    "\n",
    "def marbles_game(players, marbles):\n",
    "    scores = collections.Counter()\n",
    "    for score, player in zip(\n",
    "        its.islice(play_marbles(), marbles), its.cycle(range(players))):\n",
    "        scores[player] += score\n",
    "    return max(scores.values())\n",
    "\n",
    "assert marbles_game(10, 1618) == 8317\n",
    "assert marbles_game(13, 7999) == 146373\n",
    "assert marbles_game(17, 1104) == 2764\n",
    "assert marbles_game(30, 5807) == 37305"
   ]
  },
  {
   "cell_type": "code",
   "execution_count": 31,
   "metadata": {},
   "outputs": [
    {
     "name": "stdout",
     "output_type": "stream",
     "text": [
      "Wall time: 653 ms\n"
     ]
    },
    {
     "data": {
      "text/plain": [
       "416424"
      ]
     },
     "execution_count": 31,
     "metadata": {},
     "output_type": "execute_result"
    }
   ],
   "source": [
    "# My input: 413 players; last marble is worth 71082 points\n",
    "%time marbles_game(413, 71082)"
   ]
  },
  {
   "cell_type": "markdown",
   "metadata": {},
   "source": [
    "For the second part, I wrote a [C++ program](./day9/main.cpp) using a doubly-linked list so I could insert and delete nodes in constant time. This gave the answer `3498287922`."
   ]
  },
  {
   "cell_type": "markdown",
   "metadata": {},
   "source": [
    "## [Day 10](https://adventofcode.com/2018/day/10)\n",
    "Points move in a grid until they form a message."
   ]
  },
  {
   "cell_type": "code",
   "execution_count": 32,
   "metadata": {},
   "outputs": [
    {
     "data": {
      "text/plain": [
       "(range(141, 203), range(133, 143))"
      ]
     },
     "execution_count": 32,
     "metadata": {},
     "output_type": "execute_result"
    }
   ],
   "source": [
    "pts_vs = array(input(10))\n",
    "\n",
    "def lights(pts_vs):\n",
    "    'Generate the light positions from the `pts_vs` point+velocity 4-tuples.'\n",
    "    posns = [(its.count(x, vx), its.count(y, vy)) for x, y, vx, vy in pts_vs]\n",
    "    while True:\n",
    "        yield [(next(x), next(y)) for x, y in posns]\n",
    "\n",
    "def bounding_box(pts):\n",
    "    ''\n",
    "    xs, ys = mapt(first, pts), mapt(second, pts)\n",
    "    return range(min(xs), max(xs)+1), range(min(ys), max(ys)+1)\n",
    "\n",
    "def area(box):\n",
    "    w, h = box\n",
    "    return len(w) * len(h)\n",
    "\n",
    "this_pts, next_pts = its.tee(lights(pts_vs))\n",
    "next(next_pts)\n",
    "\n",
    "# We'll assume the message appears when the bounding box of \n",
    "# the points reaches a minimum -- when we print the result\n",
    "# we'll know if we were right :-)\n",
    "for seconds, (this, next_) in enumerate(zip(this_pts, next_pts)):\n",
    "    if area(bounding_box(this)) < area(bounding_box(next_)):\n",
    "        break\n",
    "\n",
    "# Check the bounding box looks sane\n",
    "bounding_box(this)"
   ]
  },
  {
   "cell_type": "code",
   "execution_count": 33,
   "metadata": {},
   "outputs": [
    {
     "name": "stdout",
     "output_type": "stream",
     "text": [
      "******  *****   *****   *****   *****   *****   ******    **  \n",
      "*       *    *  *    *  *    *  *    *  *    *       *   *  * \n",
      "*       *    *  *    *  *    *  *    *  *    *       *  *    *\n",
      "*       *    *  *    *  *    *  *    *  *    *      *   *    *\n",
      "*****   *****   *****   *****   *****   *****      *    *    *\n",
      "*       *       *  *    *    *  *  *    *  *      *     ******\n",
      "*       *       *   *   *    *  *   *   *   *    *      *    *\n",
      "*       *       *   *   *    *  *   *   *   *   *       *    *\n",
      "*       *       *    *  *    *  *    *  *    *  *       *    *\n",
      "*       *       *    *  *****   *    *  *    *  ******  *    *\n"
     ]
    }
   ],
   "source": [
    "def message(pts):\n",
    "    range_x, range_y = bounding_box(pts)\n",
    "    def row(y):\n",
    "        return ''.join('*' if (x,y) in pts else ' ' \n",
    "                       for x in range_x)\n",
    "    print('\\n'.join(row(y) for y in range_y))\n",
    "    \n",
    "message(this)"
   ]
  },
  {
   "cell_type": "markdown",
   "metadata": {},
   "source": [
    "Part two of the question asks how long it would take to get this answer. I went back and modified my `for` loop to enumerate the zipped values, making the answer available."
   ]
  },
  {
   "cell_type": "code",
   "execution_count": 34,
   "metadata": {},
   "outputs": [
    {
     "data": {
      "text/plain": [
       "10027"
      ]
     },
     "execution_count": 34,
     "metadata": {},
     "output_type": "execute_result"
    }
   ],
   "source": [
    "seconds"
   ]
  },
  {
   "cell_type": "markdown",
   "metadata": {},
   "source": [
    "## [Day 11](https://adventofcode.com/2018/day/11)\n",
    "We are asked to find the 3x3 square in a 300x300 grid with the largest total power level. "
   ]
  },
  {
   "cell_type": "code",
   "execution_count": 35,
   "metadata": {},
   "outputs": [],
   "source": [
    "# The power level for cell (x, y) is calculated from its coords\n",
    "# and a \"serial number\"\n",
    "def hundreds(n):\n",
    "    'Return the hundreds digit in the decimal representation of `n`'\n",
    "    return (n//100)%10\n",
    "\n",
    "def power_level(serial_number, x, y):\n",
    "    rack_id = x + 10\n",
    "    return hundreds((rack_id*y + serial_number)*rack_id) - 5\n",
    "\n",
    "assert power_level(8, 3, 5) == 4\n",
    "assert power_level(71, 101, 153) == 4"
   ]
  },
  {
   "cell_type": "code",
   "execution_count": 36,
   "metadata": {
    "scrolled": true
   },
   "outputs": [
    {
     "name": "stdout",
     "output_type": "stream",
     "text": [
      "Wall time: 419 ms\n"
     ]
    },
    {
     "data": {
      "text/plain": [
       "(243, 64)"
      ]
     },
     "execution_count": 36,
     "metadata": {},
     "output_type": "execute_result"
    }
   ],
   "source": [
    "def power_levels(serial_number, S):\n",
    "    'Calculate power levels for square side `S` using supplied `serial_number`'\n",
    "    return {p: power_level(serial_number, *p) \n",
    "            for p in its.product(range(1, S+1), repeat=2)}\n",
    "    \n",
    "def max_power_cell(serial_number, s, S):\n",
    "    '''Maximise the power for a square side `s`\n",
    "    \n",
    "    Returns the cell at the top-left of the `s` square\n",
    "    - serial_number\n",
    "    - s, the side legth\n",
    "    - S, side length of the whole grid\n",
    "    '''\n",
    "    levels = power_levels(serial_number, S)\n",
    "    def total_power(x, y):\n",
    "        sq = its.product(range(x, x+s), range(y, y+s))\n",
    "        return sum(levels[p] for p in sq)\n",
    "\n",
    "    return max(\n",
    "        (p for p in its.product(range(1,1+S-s), repeat=2)),\n",
    "        key=lambda p: total_power(*p))\n",
    "\n",
    "s, S = 3, 300\n",
    "serial_number = 5468\n",
    "assert max_power_cell(18, s, S) == (33, 45)\n",
    "%time max_power_cell(5468, s, S)"
   ]
  },
  {
   "cell_type": "code",
   "execution_count": 37,
   "metadata": {},
   "outputs": [
    {
     "name": "stdout",
     "output_type": "stream",
     "text": [
      " -4 -3 -3 -3\n",
      " -2 -2 -1 -1\n",
      " -1  0  0  1\n",
      "  0  1  2  3\n"
     ]
    }
   ],
   "source": [
    "def draw_cells(cells):\n",
    "    'Draw the square grid of `cells`'\n",
    "    S = int(math.sqrt(len(cells)))\n",
    "    R = range(1, S+1)\n",
    "    print('\\n'.join(cat(f'{cells[(x,y)]:3}' for x in R) for y in R))\n",
    "\n",
    "draw_cells(power_levels(6, 4))"
   ]
  },
  {
   "cell_type": "markdown",
   "metadata": {},
   "source": [
    "For the second part of the question, we want to maximise the power in a square region over all possible square side lengths `s`. We start by accumulating the power over the grid. "
   ]
  },
  {
   "cell_type": "code",
   "execution_count": 38,
   "metadata": {},
   "outputs": [
    {
     "name": "stdout",
     "output_type": "stream",
     "text": [
      " -4 -3 -3 -3\n",
      " -2 -2 -1 -1\n",
      " -1  0  0  1\n",
      "  0  1  2  3\n",
      "\n",
      " -4 -7-10-13\n",
      " -6-11-15-19\n",
      " -7-12-16-19\n",
      " -7-11-13-13\n"
     ]
    }
   ],
   "source": [
    "def cumulative_power(serial_number, S):\n",
    "    cells = power_levels(serial_number, S)\n",
    "    R = range(1, S+1)\n",
    "    # Accumulate rows top-to-bottom\n",
    "    for y in R[1:]:\n",
    "        cells.update({(x,y): cells[x,y]+cells[x,y-1] for x in R})\n",
    "\n",
    "    # Accumulate columns left-to-right\n",
    "    for x in R[1:]:\n",
    "        cells.update({(x,y): cells[x,y]+cells[x-1,y] for y in R})\n",
    "    \n",
    "    return collections.Counter(cells)\n",
    "\n",
    "draw_cells(power_levels(6,4))\n",
    "print()\n",
    "draw_cells(cumulative_power(6, 4))"
   ]
  },
  {
   "cell_type": "markdown",
   "metadata": {},
   "source": [
    "Using the cumulative power grid we can read out the total power for a rectangular region."
   ]
  },
  {
   "cell_type": "code",
   "execution_count": 39,
   "metadata": {},
   "outputs": [],
   "source": [
    "def region_power(accu, t, l, b, r):\n",
    "    '''Return the total power for a rectangular region\n",
    "    \n",
    "    accu - the cumulative powers over the grid\n",
    "    tl - top-left corner\n",
    "    br - bottom-right corner (included)\n",
    "    '''\n",
    "    return accu[(r,b)] - accu[(r,t-1)] - accu[(l-1,b)] + accu[(l-1,t-1)]\n",
    "\n",
    "accu = cumulative_power(6, 4)\n",
    "assert region_power(accu, 1, 1, 1, 1) == -4\n",
    "assert region_power(accu, 1, 1, 3, 2) == -12"
   ]
  },
  {
   "cell_type": "code",
   "execution_count": null,
   "metadata": {},
   "outputs": [],
   "source": [
    "def highest_powered_square(serial_number, S):\n",
    "    R = range(S+1)\n",
    "    accu = cumulative_power(serial_number, S)\n",
    "    def square_power(lts):\n",
    "        left, top, side = lts\n",
    "        return region_power(accu, top, left, top+side-1, left+side-1)\n",
    "    return max(\n",
    "        ((left, top, side)\n",
    "        for side in range(1, S+1)\n",
    "        for top, left in its.product(range(1, S-side+2), repeat=2)),\n",
    "        key=square_power)\n",
    "\n",
    "# Check the supplied example answers\n",
    "assert highest_powered_square(18, 300) == (90, 269, 16)\n",
    "assert highest_powered_square(42, 300) == (232, 251, 12)\n",
    "\n",
    "print(serial_number, S)\n",
    "%time highest_powered_square(serial_number, S)"
   ]
  },
  {
   "cell_type": "markdown",
   "metadata": {},
   "source": [
    "## [Day 12](https://adventofcode.com/2018/day/12)\n",
    "This looks like a one dimensional [game of life](http://wordaligned.org/life)."
   ]
  },
  {
   "cell_type": "code",
   "execution_count": null,
   "metadata": {},
   "outputs": [],
   "source": [
    "def parse_input(data):\n",
    "    'Read initial state and rules'\n",
    "    rules = {}\n",
    "    for line in data.splitlines():\n",
    "        if 'initial state' in line:\n",
    "            state = line.split()[2]\n",
    "        elif '=>' in line:\n",
    "            src, _, dst = line.split()\n",
    "            rules[src] = dst\n",
    "    return state, rules\n",
    "\n",
    "def trim(state, pos0):\n",
    "    begin, end = state.find('#'), state.rfind('#')\n",
    "    return state[begin:end+1], pos0-begin\n",
    "\n",
    "def grow_plants(state, rules):\n",
    "    pos0 = 0\n",
    "    while True:\n",
    "        state, pos0 = trim(state, pos0)\n",
    "        yield state, pos0\n",
    "        # Pad the state with enough blanks to apply the rules\n",
    "        padded = '....' + state + '....'\n",
    "        state = cat(rules.get(padded[p:p+5], '.') for p,c in enumerate(padded[2:-2]))\n",
    "        pos0 += 2\n",
    "\n",
    "example_setup = '''\\\n",
    "initial state: #..#.#..##......###...###\n",
    "\n",
    "...## => #\n",
    "..#.. => #\n",
    ".#... => #\n",
    ".#.#. => #\n",
    ".#.## => #\n",
    ".##.. => #\n",
    ".#### => #\n",
    "#.#.# => #\n",
    "#.### => #\n",
    "##.#. => #\n",
    "##.## => #\n",
    "###.. => #\n",
    "###.# => #\n",
    "####. => #'''\n",
    "\n",
    "# Let's check the output against the example shown\n",
    "state, rules = parse_input(example_setup)\n",
    "print('\\n'.join(s for s, _ in take(grow_plants(state, rules), 5)))"
   ]
  },
  {
   "cell_type": "code",
   "execution_count": null,
   "metadata": {},
   "outputs": [],
   "source": [
    "def sum_of_plant_positions(setup, time):\n",
    "    plants = grow_plants(*parse_input(setup))\n",
    "    state, pos0 = next(its.islice(plants, time, None))\n",
    "    return sum(i - pos0 for i, c in enumerate(state) if c == '#')\n",
    "\n",
    "assert sum_of_plant_positions(example_setup, 20) == 325\n",
    "sum_of_plant_positions(input(12), 20)"
   ]
  },
  {
   "cell_type": "markdown",
   "metadata": {},
   "source": [
    "For part two, we're asked for the value returned by `sum_of_plant_positions()` when `time=50_000_000_000`. This is way too big to run directly. Let's see if the pattern repeats."
   ]
  },
  {
   "cell_type": "code",
   "execution_count": null,
   "metadata": {},
   "outputs": [],
   "source": [
    "def repeat(setup):\n",
    "    '''Grow plants from initial setup until a state repeats\n",
    "    \n",
    "    Returns (state, time of repeat, pos0 at repeat, time first seen, pos0 first seen)\n",
    "    '''\n",
    "    seen = {}\n",
    "    for t, (state, pos0) in enumerate(grow_plants(*parse_input(setup))):\n",
    "        if state in seen:\n",
    "            return (state, t, pos0, *seen[state])\n",
    "        seen[state] = t, pos0\n",
    "\n",
    "state, t_repeat, pos0_repeat, t_first_seen, pos0_first_seen = repeat(input(12))\n",
    "print(t_repeat, pos0_repeat, t_first_seen, pos0_first_seen)"
   ]
  },
  {
   "cell_type": "markdown",
   "metadata": {},
   "source": [
    "This tells us the state at time `192` is the same as the state at time `191`, shifted one to the left. Now we can figure out the state at `time=50_000_000_000`."
   ]
  },
  {
   "cell_type": "code",
   "execution_count": null,
   "metadata": {},
   "outputs": [],
   "source": [
    "T = 50_000_000_000\n",
    "pos0 = -96 - T + 192\n",
    "sum(i - pos0 for i, c in enumerate(state) if c == '#')"
   ]
  },
  {
   "cell_type": "code",
   "execution_count": null,
   "metadata": {},
   "outputs": [],
   "source": []
  }
 ],
 "metadata": {
  "kernelspec": {
   "display_name": "Python 3",
   "language": "python",
   "name": "python3"
  },
  "language_info": {
   "codemirror_mode": {
    "name": "ipython",
    "version": 3
   },
   "file_extension": ".py",
   "mimetype": "text/x-python",
   "name": "python",
   "nbconvert_exporter": "python",
   "pygments_lexer": "ipython3",
   "version": "3.7.0"
  }
 },
 "nbformat": 4,
 "nbformat_minor": 2
}
