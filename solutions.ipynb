{
 "cells": [
  {
   "cell_type": "markdown",
   "metadata": {},
   "source": [
    "# [Advent of Code 2018](https://adventofcode.com/2018)\n",
    "\n",
    "- [Day 1](#Day-1-Chronal-Calibration) Chronal Calibration\n",
    "- [Day 2](#Day-2-Inventory-Management-System) Inventory Management System\n",
    "- [Day 3](#Day-3-No-Matter-How-You-Slice-It)  No Matter How You Slice It\n",
    "- [Day 4](#Day-4-Repose-Record) Repose Record\n",
    "- [Day 5](#Day-5-Alchemical-Reduction) Alchemical Reduction\n",
    "- [Day 6](#Day-6-Chronal-Coordinates) Chronal Coordinates\n",
    "- [Day 7](#Day-7-The-Sum-of-Its-Parts) The Sum of Its Parts\n",
    "- [Day 8](#Day-8-Memory-Maneuver) Memory Maneuver\n",
    "- [Day 9](#Day-9-Marble-Mania) Marble Mania\n",
    "- [Day 10](#Day-10-The-Stars-Align) The Stars Align\n",
    "- [Day 11](#Day-11-Chronal-Charge) Chronal Charge\n",
    "- [Day 12](#Day-12-Subterranean-Sustainability) Subterranean Sustainability\n",
    "- [Day 13](#Day-13-Mine-Cart-Madness) Mine Cart Madness\n",
    "- [Day 14](#Day-14-Chocolate-Charts) Chocolate Charts\n",
    "- [Day 15](#Day-15)\n",
    "- [Day 16](#Day-16-Chronal-Classification) Chronal Classification\n",
    "- [Day 17](#Day-17-Reservoir-Research) Reservoir Research\n",
    "- [Day 18](#Day-18-Settlers-of-The-North-Pole) Settlers of The North Pole\n",
    "- [Day 19](#Day-19-Go-With-The-Flow) Go With The Flow\n",
    "- [Day 20](#Day-20-A-Regular-Map) A Regular Map\n",
    "- [Day 21](#Day-21)\n",
    "- [Day 22](#Day-22-Mode-Maze) Mode Maze\n",
    "- [Day 23](#Day-23-Experimental-Emergency-Teleportation) Experimental Emergency Teleportation\n",
    "- [Day 24](#Day-24)\n",
    "- [Day 25](#Day-25-Four-Dimensional-Adventure) Four Dimensional Adventure\n",
    "\n",
    "I'm going to have a go at the Advent of Code 2018 puzzles using a Jupyter notebook.\n",
    "First, let's import some standard modules."
   ]
  },
  {
   "cell_type": "code",
   "execution_count": 1,
   "metadata": {},
   "outputs": [],
   "source": [
    "import collections\n",
    "import functools\n",
    "import itertools as its\n",
    "import math\n",
    "import operator\n",
    "import re\n",
    "import string\n",
    "from pprint import pprint"
   ]
  },
  {
   "cell_type": "markdown",
   "metadata": {},
   "source": [
    "Also, here are some general purpose functions."
   ]
  },
  {
   "cell_type": "code",
   "execution_count": 2,
   "metadata": {},
   "outputs": [],
   "source": [
    "def day(day):\n",
    "    'Load the input for `day`'\n",
    "    return open(f'input/{day}').read()\n",
    "\n",
    "def ilen(xs):\n",
    "    'Return the length of an iterable'\n",
    "    return sum(1 for _ in iter(xs))\n",
    "\n",
    "def last(xs):\n",
    "    'Return the last element of an iterable sequence.'\n",
    "    xs = iter(xs)\n",
    "    return collections.deque(xs, maxlen=1)[0]\n",
    "\n",
    "def ints(s):\n",
    "    'Return a tuple of integer tokens in `s`.'\n",
    "    return tuple(int(x) for x in re.findall(r'[-+]?\\d+', s))\n",
    "\n",
    "def array(data):\n",
    "    'Convert the data into a tuple of int-tuples.'\n",
    "    return tuple(ints(line) for line in data.splitlines())\n",
    "\n",
    "def swap(xs, i, j):\n",
    "    'Swap items in a sequence.'\n",
    "    xs[i], xs[j] = xs[j], xs[i]\n",
    "\n",
    "def nth(xs, n):\n",
    "    'Return the nth element of a sequence.'\n",
    "    return next(its.islice(xs, n, None))\n",
    "\n",
    "def take(xs, n=None):\n",
    "    '''Return (up to) first `n` items of a sequence\n",
    "    or the whole sequence if `n` is `None`\n",
    "    '''\n",
    "    return list(xs) if n is None else [x for x, _ in zip(xs, range(n))]\n",
    "\n",
    "def overlapping(xs, n):\n",
    "    '''Generate overlapping n-tuples from `xs`\n",
    "\n",
    "    overlapping('ABCDEFG', 3) --> ABC BCD CDE DEF EFG\n",
    "    '''\n",
    "    if isinstance(xs, collections.abc.Sequence):\n",
    "        yield from (xs[i:i+n] for i in range(len(xs) + 1 - n))\n",
    "    else:\n",
    "        result = collections.deque(maxlen=n)\n",
    "        for x in xs:\n",
    "            result.append(x)\n",
    "            if len(result) == n:\n",
    "                yield tuple(result)\n",
    "                \n",
    "def pairwise(iterable):\n",
    "    's -> (s0,s1), (s1,s2), (s2, s3), ...'\n",
    "    return overlapping(iterable, 2)\n",
    "\n",
    "def unfold(fn, x):\n",
    "    while True:\n",
    "        yield x\n",
    "        x = fn(x)\n",
    "\n",
    "def chunked(xs, n):\n",
    "    'Collect `xs` into chunks of length `n`'\n",
    "    return zip(*[iter(xs)] * n)\n",
    "\n",
    "def manhattan_distance(P, Q):\n",
    "    'Return the city block distance from `P` to `Q`'\n",
    "    return sum(math.fabs(p-q) for p,q in zip(P, Q))\n",
    "\n",
    "def neighbours4(x, y):\n",
    "    'Return the horizontal and vertical neighbours of `(x, y)`'\n",
    "    return (x,y-1),(x-1,y),(x+1,y),(x,y+1)\n",
    "\n",
    "def neighbours8(x, y):\n",
    "    'Return the horizontal, vertical and diagonal neighbours of `(x, y)`'\n",
    "    return ((x-1,y-1),(x-1,y),(x-1,y+1),\n",
    "            (x,y-1),(x,y+1),\n",
    "            (x+1,y-1),(x+1,y),(x+1,y+1))\n",
    "\n",
    "def unique(xs):\n",
    "    'Return `True` iff no elements of `xs` are repeated'\n",
    "    return len(xs) == len(set(xs))\n",
    "\n",
    "def mapt(f, xs):\n",
    "    return tuple(map(f, xs))\n",
    "\n",
    "def render_grid(grid, fill_ch=' '):\n",
    "    '''Convert `grid` into a printable form\n",
    "    \n",
    "    grid - maps 2D points to single chars\n",
    "    fill_ch - used for chars not in the grid\n",
    "    '''\n",
    "    xlo, xhi = min(map(first, grid)), max(map(first, grid))\n",
    "    ylo, yhi = min(map(second, grid)), max(map(second, grid))\n",
    "    return ncat(cat(grid.get((x,y), fill_ch)\n",
    "                    for x in range(xlo, xhi+1))\n",
    "                for y in range(ylo, yhi+1))\n",
    "\n",
    "def draw_grid(grid, fill_ch=' '):\n",
    "    print(render_grid(grid, fill_ch))       \n",
    "\n",
    "flatten = its.chain.from_iterable\n",
    "cat = ''.join\n",
    "ncat = '\\n'.join\n",
    "first = operator.itemgetter(0)\n",
    "second = operator.itemgetter(1)"
   ]
  },
  {
   "cell_type": "markdown",
   "metadata": {},
   "source": [
    "## [Day 1](https://adventofcode.com/2018/day/1) Chronal Calibration\n",
    "The input is a series of integers, one per line. These integers represent frequency deltas. Part one requires the final frequency. That is, the sum of these integers."
   ]
  },
  {
   "cell_type": "code",
   "execution_count": 3,
   "metadata": {},
   "outputs": [
    {
     "data": {
      "text/plain": [
       "599"
      ]
     },
     "execution_count": 3,
     "metadata": {},
     "output_type": "execute_result"
    }
   ],
   "source": [
    "deltas = ints(day(1)) \n",
    "sum(deltas)"
   ]
  },
  {
   "cell_type": "markdown",
   "metadata": {},
   "source": [
    "Part two explains the frequency deltas cycle repeatedly. We are asked to find the first frequency which is reached a second time."
   ]
  },
  {
   "cell_type": "code",
   "execution_count": 4,
   "metadata": {},
   "outputs": [
    {
     "data": {
      "text/plain": [
       "81204"
      ]
     },
     "execution_count": 4,
     "metadata": {},
     "output_type": "execute_result"
    }
   ],
   "source": [
    "seen = set()\n",
    "for freq in its.accumulate(its.cycle(deltas)):\n",
    "    if freq in seen:\n",
    "        break\n",
    "    seen.add(freq)\n",
    "\n",
    "freq"
   ]
  },
  {
   "cell_type": "markdown",
   "metadata": {},
   "source": [
    "## [Day 2](https://adventofcode.com/2018/day/2) Inventory Management System\n",
    "The input is a list of strings representing box ids."
   ]
  },
  {
   "cell_type": "code",
   "execution_count": 5,
   "metadata": {},
   "outputs": [],
   "source": [
    "box_ids = day(2).split()"
   ]
  },
  {
   "cell_type": "markdown",
   "metadata": {},
   "source": [
    "We need to know the counts of letters in these ids -- specifically, how many ids have letters repeated 2 and/or 3 times? `Counter` can help here."
   ]
  },
  {
   "cell_type": "code",
   "execution_count": 6,
   "metadata": {},
   "outputs": [],
   "source": [
    "box_counts = [collections.Counter(box_id) for box_id in box_ids]\n",
    "x2 = sum(2 in box_count.values() for box_count in box_counts)\n",
    "x3 = sum(3 in box_count.values() for box_count in box_counts)"
   ]
  },
  {
   "cell_type": "markdown",
   "metadata": {},
   "source": [
    "We're asked for the product of the repeat counts."
   ]
  },
  {
   "cell_type": "code",
   "execution_count": 7,
   "metadata": {},
   "outputs": [
    {
     "data": {
      "text/plain": [
       "5681"
      ]
     },
     "execution_count": 7,
     "metadata": {},
     "output_type": "execute_result"
    }
   ],
   "source": [
    "x2 * x3"
   ]
  },
  {
   "cell_type": "markdown",
   "metadata": {},
   "source": [
    "Part two asks for something quite different: to identify a pair of ids which differ by a single character."
   ]
  },
  {
   "cell_type": "code",
   "execution_count": 8,
   "metadata": {},
   "outputs": [
    {
     "data": {
      "text/plain": [
       "250"
      ]
     },
     "execution_count": 8,
     "metadata": {},
     "output_type": "execute_result"
    }
   ],
   "source": [
    "len(box_ids)"
   ]
  },
  {
   "cell_type": "markdown",
   "metadata": {},
   "source": [
    "For such a low number of ids, we simply check every pair."
   ]
  },
  {
   "cell_type": "code",
   "execution_count": 9,
   "metadata": {},
   "outputs": [],
   "source": [
    "def diffs(b, B):\n",
    "    'Return the number of characters which differ in the inputs'\n",
    "    return sum(c != C for c, C in zip(b, B))\n",
    "\n",
    "diff_by_one = [p for p in its.combinations(box_ids, 2) if diffs(*p) == 1]\n",
    "\n",
    "# Check there's just one pair which fits the criteria\n",
    "assert len(diff_by_one) == 1"
   ]
  },
  {
   "cell_type": "markdown",
   "metadata": {},
   "source": [
    "We're asked for the letters common to this pair."
   ]
  },
  {
   "cell_type": "code",
   "execution_count": 10,
   "metadata": {},
   "outputs": [
    {
     "data": {
      "text/plain": [
       "'uqyoeizfvmbistpkgnocjtwld'"
      ]
     },
     "execution_count": 10,
     "metadata": {},
     "output_type": "execute_result"
    }
   ],
   "source": [
    "''.join(c for c, C in zip(*diff_by_one[0]) if c == C)"
   ]
  },
  {
   "cell_type": "markdown",
   "metadata": {},
   "source": [
    "## [Day 3](https://adventofcode.com/2018/day/3) No Matter How You Slice It\n",
    "This puzzle is about *claim*s, which are regions in a grid. Each grid square is specified by an id, then left, top, width, height values. We could write a regex to parse/check, but simply extracting `ints` gets us there."
   ]
  },
  {
   "cell_type": "code",
   "execution_count": 11,
   "metadata": {},
   "outputs": [
    {
     "data": {
      "text/plain": [
       "(123, 3, 2, 5, 4)"
      ]
     },
     "execution_count": 11,
     "metadata": {},
     "output_type": "execute_result"
    }
   ],
   "source": [
    "claim = \"#123 @ 3,2: 5x4\"\n",
    "ints(claim) "
   ]
  },
  {
   "cell_type": "markdown",
   "metadata": {},
   "source": [
    "For part one, we want to know how many squares on the grid are covered by more than one claim. Let's find the total area of all the claims."
   ]
  },
  {
   "cell_type": "code",
   "execution_count": 12,
   "metadata": {},
   "outputs": [
    {
     "data": {
      "text/plain": [
       "492476"
      ]
     },
     "execution_count": 12,
     "metadata": {},
     "output_type": "execute_result"
    }
   ],
   "source": [
    "claims = array(day(3))\n",
    "sum(c[3]*c[4] for c in claims)"
   ]
  },
  {
   "cell_type": "markdown",
   "metadata": {},
   "source": [
    "Given this figure, we can just count the number of claims in each cell. We can then read the number of squares with 2 or more claims."
   ]
  },
  {
   "cell_type": "code",
   "execution_count": 13,
   "metadata": {},
   "outputs": [
    {
     "data": {
      "text/plain": [
       "112378"
      ]
     },
     "execution_count": 13,
     "metadata": {},
     "output_type": "execute_result"
    }
   ],
   "source": [
    "def rectangle(id_, L, T, W, H):\n",
    "    'Generate the points within a claim'\n",
    "    return its.product(range(L, L+W), range(T, T+H))\n",
    "\n",
    "grid = collections.Counter(\n",
    "    p for claim in claims for p in rectangle(*claim))\n",
    "\n",
    "sum(N > 1 for N in grid.values())"
   ]
  },
  {
   "cell_type": "markdown",
   "metadata": {},
   "source": [
    "For part two, we want the id of the claim which doesn't overlap any other claim. That's the claim for which cell counts are all `1`."
   ]
  },
  {
   "cell_type": "code",
   "execution_count": 14,
   "metadata": {},
   "outputs": [
    {
     "data": {
      "text/plain": [
       "603"
      ]
     },
     "execution_count": 14,
     "metadata": {},
     "output_type": "execute_result"
    }
   ],
   "source": [
    "non_overlaps = [claim[0] for claim in claims\n",
    "                if all(grid[p] == 1 for p in rectangle(*claim))]\n",
    "\n",
    "assert len(non_overlaps) == 1, \"Multiple answers to Day 3 part 2\"\n",
    "non_overlaps[0]"
   ]
  },
  {
   "cell_type": "markdown",
   "metadata": {},
   "source": [
    "## [Day 4](https://adventofcode.com/2018/day/4) Repose Record\n",
    "It's not entirely clear what's wanted here. Are we only concerned with guards being asleep during the midnight hour? Or, when we sort the inputs, are these the only times guards are asleep? Let's investigate by sorting the records, noting that the result is time-ordered."
   ]
  },
  {
   "cell_type": "code",
   "execution_count": 15,
   "metadata": {},
   "outputs": [
    {
     "name": "stdout",
     "output_type": "stream",
     "text": [
      "[1518-01-29 23:57] Guard #2417 begins shift\n",
      "[1518-01-30 00:13] falls asleep\n",
      "[1518-01-30 00:50] wakes up\n",
      "[1518-01-31 00:00] Guard #1301 begins shift\n",
      "[1518-01-31 00:24] falls asleep\n",
      "[1518-01-31 00:54] wakes up\n",
      "[1518-01-31 23:59] Guard #401 begins shift\n",
      "[1518-02-01 00:42] falls asleep\n",
      "[1518-02-01 00:51] wakes up\n",
      "[1518-02-02 00:03] Guard #2207 begins shift\n",
      "[1518-02-02 00:10] falls asleep\n",
      "[1518-02-02 00:49] wakes up\n",
      "[1518-02-03 00:03] Guard #3541 begins shift\n",
      "[1518-02-03 00:22] falls asleep\n",
      "[1518-02-03 00:56] wakes up\n",
      "[1518-02-04 00:03] Guard #2207 begins shift\n",
      "[1518-02-04 00:09] falls asleep\n",
      "[1518-02-04 00:26] wakes up\n",
      "[1518-02-04 00:42] falls asleep\n",
      "[1518-02-04 00:58] wakes up\n",
      "[1518-02-05 00:00] Guard #2663 begins shift\n",
      "[1518-02-05 00:44] falls asleep\n",
      "[1518-02-05 00:50] wakes up\n",
      "[1518-02-05 23:57] Guard #2207 begins shift\n",
      "[1518-02-06 00:54] falls asleep\n",
      "[1518-02-06 00:59] wakes up\n",
      "[1518-02-07 00:00] Guard #1301 begins shift\n",
      "[1518-02-07 00:44] falls asleep\n",
      "[1518-02-07 00:53] wakes up\n",
      "[1518-02-08 00:03] Guard #1327 begins shift\n",
      "[1518-02-08 00:07] falls asleep\n",
      "[1518-02-08 00:22] wakes up\n",
      "[1518-02-08 00:31] falls asleep\n",
      "[1518-02-08 00:51] wakes up\n",
      "[1518-02-08 23:58] Guard #2411 begins shift\n",
      "[1518-02-09 00:34] falls asleep\n",
      "[1518-02-09 00:50] wakes up\n",
      "[1518-02-10 00:00] Guard #2411 begins shift\n",
      "[1518-02-10 00:42] falls asleep\n",
      "[1518-02-10 00:49] wakes up\n",
      "[1518-02-10 23:47] Guard #3541 begins shift\n",
      "[1518-02-11 00:05] falls asleep\n",
      "[1518-02-11 00:18] wakes up\n",
      "[1518-02-12 00:01] Guard #1831 begins shift\n",
      "[1518-02-12 00:17] falls asleep\n",
      "[1518-02-12 00:35] wakes up\n",
      "[1518-02-12 00:38] falls asleep\n",
      "[1518-02-12 00:51] wakes up\n",
      "[1518-02-13 00:02] Guard #1301 begins shift\n",
      "[1518-02-13 00:10] falls asleep\n",
      "[1518-02-13 00:55] wakes up\n",
      "[1518-02-14 00:00] Guard #2459 begins shift\n",
      "[1518-02-14 00:35] falls asleep\n",
      "[1518-02-14 00:48] wakes up\n",
      "[1518-02-14 00:52] falls asleep\n",
      "[1518-02-14 00:57] wakes up\n",
      "[1518-02-15 00:03] Guard #3499 begins shift\n",
      "[1518-02-15 00:46] falls asleep\n",
      "[1518-02-15 00:58] wakes up\n",
      "[1518-02-16 00:04] Guard #2459 begins shift\n",
      "[1518-02-16 00:13] falls asleep\n",
      "[1518-02-16 00:26] wakes up\n",
      "[1518-02-16 00:39] falls asleep\n",
      "[1518-02-16 00:41] wakes up\n",
      "[1518-02-16 00:45] falls asleep\n",
      "[1518-02-16 00:59] wakes up\n",
      "[1518-02-16 23:59] Guard #1327 begins shift\n",
      "[1518-02-17 00:13] falls asleep\n",
      "[1518-02-17 00:46] wakes up\n",
      "[1518-02-17 00:57] falls asleep\n",
      "[1518-02-17 00:59] wakes up\n",
      "[1518-02-17 23:47] Guard #2417 begins shift\n",
      "[1518-02-18 00:01] falls asleep\n",
      "[1518-02-18 00:53] wakes up\n",
      "[1518-02-18 23:59] Guard #2663 begins shift\n",
      "[1518-02-19 00:27] falls asleep\n",
      "[1518-02-19 00:37] wakes up\n",
      "[1518-02-19 00:52] falls asleep\n",
      "[1518-02-19 00:55] wakes up\n",
      "[1518-02-20 00:02] Guard #3191 begins shift\n",
      "[1518-02-21 00:00] Guard #3469 begins shift\n",
      "[1518-02-21 00:16] falls asleep\n",
      "[1518-02-21 00:26] wakes up\n",
      "[1518-02-21 00:36] falls asleep\n",
      "[1518-02-21 00:49] wakes up\n",
      "[1518-02-21 00:55] falls asleep\n",
      "[1518-02-21 00:56] wakes up\n",
      "[1518-02-21 23:57] Guard #1409 begins shift\n",
      "[1518-02-22 00:14] falls asleep\n",
      "[1518-02-22 00:57] wakes up\n",
      "[1518-02-23 00:00] Guard #2207 begins shift\n",
      "[1518-02-23 00:11] falls asleep\n",
      "[1518-02-23 00:19] wakes up\n",
      "[1518-02-24 00:00] Guard #3271 begins shift\n",
      "[1518-02-24 00:19] falls asleep\n",
      "[1518-02-24 00:50] wakes up\n",
      "[1518-02-25 00:02] Guard #1877 begins shift\n",
      "[1518-02-25 00:22] falls asleep\n",
      "[1518-02-25 00:42] wakes up\n",
      "[1518-02-25 00:46] falls asleep\n",
      "[1518-02-25 00:49] wakes up\n",
      "[1518-02-26 00:04] Guard #619 begins shift\n",
      "[1518-02-26 00:08] falls asleep\n",
      "[1518-02-26 00:42] wakes up\n",
      "[1518-02-26 23:58] Guard #1301 begins shift\n",
      "[1518-02-27 00:20] falls asleep\n",
      "[1518-02-27 00:32] wakes up\n",
      "[1518-02-27 00:43] falls asleep\n",
      "[1518-02-27 00:57] wakes up\n",
      "[1518-02-27 23:59] Guard #2861 begins shift\n",
      "[1518-02-28 00:31] falls asleep\n",
      "[1518-02-28 00:38] wakes up\n",
      "[1518-02-28 00:43] falls asleep\n",
      "[1518-02-28 00:56] wakes up\n",
      "[1518-03-01 00:00] Guard #2411 begins shift\n",
      "[1518-03-01 00:26] falls asleep\n",
      "[1518-03-01 00:34] wakes up\n",
      "[1518-03-02 00:00] Guard #2207 begins shift\n",
      "[1518-03-02 00:56] falls asleep\n",
      "[1518-03-02 00:58] wakes up\n",
      "[1518-03-03 00:00] Guard #433 begins shift\n",
      "[1518-03-03 00:06] falls asleep\n",
      "[1518-03-03 00:08] wakes up\n",
      "[1518-03-03 23:54] Guard #1327 begins shift\n",
      "[1518-03-04 00:02] falls asleep\n",
      "[1518-03-04 00:44] wakes up\n",
      "[1518-03-05 00:03] Guard #401 begins shift\n",
      "[1518-03-05 00:45] falls asleep\n",
      "[1518-03-05 00:46] wakes up\n",
      "[1518-03-05 23:46] Guard #401 begins shift\n",
      "[1518-03-06 00:02] falls asleep\n",
      "[1518-03-06 00:57] wakes up\n",
      "[1518-03-06 23:53] Guard #3469 begins shift\n",
      "[1518-03-07 00:00] falls asleep\n",
      "[1518-03-07 00:05] wakes up\n",
      "[1518-03-07 00:36] falls asleep\n",
      "[1518-03-07 00:43] wakes up\n",
      "[1518-03-07 00:46] falls asleep\n",
      "[1518-03-07 00:50] wakes up\n",
      "[1518-03-08 00:02] Guard #619 begins shift\n",
      "[1518-03-08 00:22] falls asleep\n",
      "[1518-03-08 00:24] wakes up\n",
      "[1518-03-08 00:30] falls asleep\n",
      "[1518-03-08 00:48] wakes up\n",
      "[1518-03-09 00:00] Guard #1831 begins shift\n",
      "[1518-03-09 00:30] falls asleep\n",
      "[1518-03-09 00:58] wakes up\n",
      "[1518-03-09 23:56] Guard #2333 begins shift\n",
      "[1518-03-10 23:58] Guard #509 begins shift\n",
      "[1518-03-11 00:09] falls asleep\n",
      "[1518-03-11 00:30] wakes up\n",
      "[1518-03-11 00:34] falls asleep\n",
      "[1518-03-11 00:49] wakes up\n",
      "[1518-03-12 00:01] Guard #2663 begins shift\n",
      "[1518-03-12 00:38] falls asleep\n",
      "[1518-03-12 00:46] wakes up\n",
      "[1518-03-12 00:49] falls asleep\n",
      "[1518-03-12 00:52] wakes up\n",
      "[1518-03-13 00:02] Guard #2663 begins shift\n",
      "[1518-03-13 00:13] falls asleep\n",
      "[1518-03-13 00:56] wakes up\n",
      "[1518-03-14 00:00] Guard #2663 begins shift\n",
      "[1518-03-14 00:06] falls asleep\n",
      "[1518-03-14 00:47] wakes up\n",
      "[1518-03-14 23:59] Guard #2861 begins shift\n",
      "[1518-03-15 00:18] falls asleep\n",
      "[1518-03-15 00:33] wakes up\n",
      "[1518-03-15 00:42] falls asleep\n",
      "[1518-03-15 00:47] wakes up\n",
      "[1518-03-15 23:59] Guard #2459 begins shift\n",
      "[1518-03-16 00:31] falls asleep\n",
      "[1518-03-16 00:35] wakes up\n",
      "[1518-03-16 00:43] falls asleep\n",
      "[1518-03-16 00:48] wakes up\n",
      "[1518-03-16 00:51] falls asleep\n",
      "[1518-03-16 00:53] wakes up\n",
      "[1518-03-16 23:58] Guard #1409 begins shift\n",
      "[1518-03-17 00:06] falls asleep\n",
      "[1518-03-17 00:46] wakes up\n",
      "[1518-03-18 00:03] Guard #1409 begins shift\n",
      "[1518-03-18 00:19] falls asleep\n",
      "[1518-03-18 00:29] wakes up\n",
      "[1518-03-18 00:40] falls asleep\n",
      "[1518-03-18 00:56] wakes up\n",
      "[1518-03-18 23:57] Guard #1301 begins shift\n",
      "[1518-03-19 00:33] falls asleep\n",
      "[1518-03-19 00:34] wakes up\n",
      "[1518-03-19 23:59] Guard #2459 begins shift\n",
      "[1518-03-20 00:23] falls asleep\n",
      "[1518-03-20 00:51] wakes up\n",
      "[1518-03-21 00:04] Guard #1831 begins shift\n",
      "[1518-03-21 00:09] falls asleep\n",
      "[1518-03-21 00:16] wakes up\n",
      "[1518-03-21 00:45] falls asleep\n",
      "[1518-03-21 00:56] wakes up\n",
      "[1518-03-22 00:02] Guard #619 begins shift\n",
      "[1518-03-22 00:20] falls asleep\n",
      "[1518-03-22 00:40] wakes up\n",
      "[1518-03-22 00:43] falls asleep\n",
      "[1518-03-22 00:52] wakes up\n",
      "[1518-03-22 00:56] falls asleep\n",
      "[1518-03-22 00:59] wakes up\n",
      "[1518-03-23 00:04] Guard #509 begins shift\n",
      "[1518-03-23 00:21] falls asleep\n",
      "[1518-03-23 00:26] wakes up\n",
      "[1518-03-23 00:30] falls asleep\n",
      "[1518-03-23 00:48] wakes up\n",
      "[1518-03-23 23:48] Guard #3271 begins shift\n",
      "[1518-03-24 00:01] falls asleep\n",
      "[1518-03-24 00:16] wakes up\n",
      "[1518-03-24 00:26] falls asleep\n",
      "[1518-03-24 00:30] wakes up\n",
      "[1518-03-24 23:54] Guard #3469 begins shift\n",
      "[1518-03-25 00:01] falls asleep\n",
      "[1518-03-25 00:23] wakes up\n",
      "[1518-03-25 00:31] falls asleep\n",
      "[1518-03-25 00:52] wakes up\n",
      "[1518-03-26 00:03] Guard #2207 begins shift\n",
      "[1518-03-26 00:35] falls asleep\n",
      "[1518-03-26 00:54] wakes up\n",
      "[1518-03-27 00:01] Guard #509 begins shift\n",
      "[1518-03-27 00:09] falls asleep\n",
      "[1518-03-27 00:29] wakes up\n",
      "[1518-03-27 00:32] falls asleep\n",
      "[1518-03-27 00:56] wakes up\n",
      "[1518-03-27 23:56] Guard #2459 begins shift\n",
      "[1518-03-28 00:22] falls asleep\n",
      "[1518-03-28 00:27] wakes up\n",
      "[1518-03-28 00:43] falls asleep\n",
      "[1518-03-28 00:47] wakes up\n",
      "[1518-03-28 23:57] Guard #2207 begins shift\n",
      "[1518-03-29 00:39] falls asleep\n",
      "[1518-03-29 00:46] wakes up\n",
      "[1518-03-29 23:52] Guard #401 begins shift\n",
      "[1518-03-30 00:05] falls asleep\n",
      "[1518-03-30 00:55] wakes up\n",
      "[1518-03-31 00:03] Guard #2663 begins shift\n",
      "[1518-03-31 00:09] falls asleep\n",
      "[1518-03-31 00:46] wakes up\n",
      "[1518-04-01 00:00] Guard #2861 begins shift\n",
      "[1518-04-01 00:09] falls asleep\n",
      "[1518-04-01 00:59] wakes up\n",
      "[1518-04-01 23:58] Guard #1877 begins shift\n",
      "[1518-04-02 00:10] falls asleep\n",
      "[1518-04-02 00:48] wakes up\n",
      "[1518-04-02 23:56] Guard #3271 begins shift\n",
      "[1518-04-03 00:29] falls asleep\n",
      "[1518-04-03 00:46] wakes up\n",
      "[1518-04-03 00:49] falls asleep\n",
      "[1518-04-03 00:56] wakes up\n",
      "[1518-04-03 23:59] Guard #619 begins shift\n",
      "[1518-04-04 00:30] falls asleep\n",
      "[1518-04-04 00:40] wakes up\n",
      "[1518-04-04 00:50] falls asleep\n",
      "[1518-04-04 00:51] wakes up\n",
      "[1518-04-04 23:54] Guard #2663 begins shift\n",
      "[1518-04-05 00:03] falls asleep\n",
      "[1518-04-05 00:55] wakes up\n",
      "[1518-04-06 00:01] Guard #3271 begins shift\n",
      "[1518-04-06 00:44] falls asleep\n",
      "[1518-04-06 00:57] wakes up\n",
      "[1518-04-06 23:58] Guard #433 begins shift\n",
      "[1518-04-07 00:16] falls asleep\n",
      "[1518-04-07 00:46] wakes up\n",
      "[1518-04-07 00:49] falls asleep\n",
      "[1518-04-07 00:50] wakes up\n",
      "[1518-04-07 00:53] falls asleep\n",
      "[1518-04-07 00:57] wakes up\n",
      "[1518-04-08 00:00] Guard #2663 begins shift\n",
      "[1518-04-08 00:26] falls asleep\n",
      "[1518-04-08 00:28] wakes up\n",
      "[1518-04-08 00:45] falls asleep\n",
      "[1518-04-08 00:54] wakes up\n",
      "[1518-04-09 00:04] Guard #1697 begins shift\n",
      "[1518-04-09 23:58] Guard #2861 begins shift\n",
      "[1518-04-10 00:26] falls asleep\n",
      "[1518-04-10 00:44] wakes up\n",
      "[1518-04-10 23:49] Guard #73 begins shift\n",
      "[1518-04-11 00:05] falls asleep\n",
      "[1518-04-11 00:24] wakes up\n",
      "[1518-04-11 00:28] falls asleep\n",
      "[1518-04-11 00:35] wakes up\n",
      "[1518-04-11 00:49] falls asleep\n",
      "[1518-04-11 00:52] wakes up\n",
      "[1518-04-11 00:57] falls asleep\n",
      "[1518-04-11 00:59] wakes up\n",
      "[1518-04-11 23:59] Guard #1697 begins shift\n",
      "[1518-04-12 23:58] Guard #3191 begins shift\n",
      "[1518-04-14 00:04] Guard #3469 begins shift\n",
      "[1518-04-14 00:29] falls asleep\n",
      "[1518-04-14 00:38] wakes up\n",
      "[1518-04-15 00:00] Guard #1831 begins shift\n",
      "[1518-04-15 00:35] falls asleep\n",
      "[1518-04-15 00:39] wakes up\n",
      "[1518-04-15 00:52] falls asleep\n",
      "[1518-04-15 00:53] wakes up\n",
      "[1518-04-16 00:00] Guard #2207 begins shift\n",
      "[1518-04-16 00:24] falls asleep\n",
      "[1518-04-16 00:59] wakes up\n",
      "[1518-04-16 23:57] Guard #2861 begins shift\n",
      "[1518-04-17 00:22] falls asleep\n",
      "[1518-04-17 00:34] wakes up\n",
      "[1518-04-17 00:41] falls asleep\n",
      "[1518-04-17 00:53] wakes up\n",
      "[1518-04-18 00:01] Guard #401 begins shift\n",
      "[1518-04-18 00:31] falls asleep\n",
      "[1518-04-18 00:59] wakes up\n",
      "[1518-04-19 00:00] Guard #1409 begins shift\n",
      "[1518-04-19 00:46] falls asleep\n",
      "[1518-04-19 00:51] wakes up\n",
      "[1518-04-19 23:47] Guard #619 begins shift\n",
      "[1518-04-20 00:01] falls asleep\n",
      "[1518-04-20 00:42] wakes up\n",
      "[1518-04-20 23:58] Guard #2663 begins shift\n",
      "[1518-04-21 00:12] falls asleep\n",
      "[1518-04-21 00:52] wakes up\n",
      "[1518-04-22 00:02] Guard #2207 begins shift\n",
      "[1518-04-22 00:47] falls asleep\n",
      "[1518-04-22 00:53] wakes up\n",
      "[1518-04-23 00:00] Guard #1327 begins shift\n",
      "[1518-04-23 00:40] falls asleep\n",
      "[1518-04-23 00:53] wakes up\n",
      "[1518-04-23 00:57] falls asleep\n",
      "[1518-04-23 00:58] wakes up\n",
      "[1518-04-24 00:01] Guard #2207 begins shift\n",
      "[1518-04-24 00:24] falls asleep\n",
      "[1518-04-24 00:43] wakes up\n",
      "[1518-04-25 00:00] Guard #1877 begins shift\n",
      "[1518-04-25 00:37] falls asleep\n",
      "[1518-04-25 00:49] wakes up\n",
      "[1518-04-25 23:54] Guard #1301 begins shift\n",
      "[1518-04-26 00:00] falls asleep\n",
      "[1518-04-26 00:04] wakes up\n",
      "[1518-04-26 00:14] falls asleep\n",
      "[1518-04-26 00:29] wakes up\n",
      "[1518-04-26 00:46] falls asleep\n",
      "[1518-04-26 00:49] wakes up\n",
      "[1518-04-27 00:03] Guard #2333 begins shift\n",
      "[1518-04-28 00:01] Guard #3541 begins shift\n",
      "[1518-04-28 00:27] falls asleep\n",
      "[1518-04-28 00:30] wakes up\n",
      "[1518-04-28 00:33] falls asleep\n",
      "[1518-04-28 00:59] wakes up\n",
      "[1518-04-28 23:48] Guard #2663 begins shift\n",
      "[1518-04-29 00:02] falls asleep\n",
      "[1518-04-29 00:26] wakes up\n",
      "[1518-04-30 00:01] Guard #3499 begins shift\n",
      "[1518-04-30 00:28] falls asleep\n",
      "[1518-04-30 00:31] wakes up\n",
      "[1518-04-30 00:47] falls asleep\n",
      "[1518-04-30 00:58] wakes up\n",
      "[1518-05-01 00:02] Guard #3271 begins shift\n",
      "[1518-05-01 00:12] falls asleep\n",
      "[1518-05-01 00:48] wakes up\n",
      "[1518-05-02 00:04] Guard #1409 begins shift\n",
      "[1518-05-02 00:33] falls asleep\n",
      "[1518-05-02 00:48] wakes up\n",
      "[1518-05-02 00:52] falls asleep\n",
      "[1518-05-02 00:58] wakes up\n",
      "[1518-05-02 23:57] Guard #1301 begins shift\n",
      "[1518-05-03 00:12] falls asleep\n",
      "[1518-05-03 00:51] wakes up\n",
      "[1518-05-03 23:59] Guard #1831 begins shift\n",
      "[1518-05-04 00:10] falls asleep\n",
      "[1518-05-04 00:58] wakes up\n",
      "[1518-05-04 23:50] Guard #2207 begins shift\n",
      "[1518-05-05 00:05] falls asleep\n",
      "[1518-05-05 00:11] wakes up\n",
      "[1518-05-05 00:23] falls asleep\n",
      "[1518-05-05 00:50] wakes up\n",
      "[1518-05-05 23:58] Guard #3271 begins shift\n",
      "[1518-05-06 00:43] falls asleep\n",
      "[1518-05-06 00:51] wakes up\n",
      "[1518-05-07 00:02] Guard #73 begins shift\n",
      "[1518-05-07 00:17] falls asleep\n",
      "[1518-05-07 00:54] wakes up\n",
      "[1518-05-08 00:00] Guard #2411 begins shift\n",
      "[1518-05-08 00:06] falls asleep\n",
      "[1518-05-08 00:18] wakes up\n",
      "[1518-05-08 00:50] falls asleep\n",
      "[1518-05-08 00:59] wakes up\n",
      "[1518-05-08 23:59] Guard #2861 begins shift\n",
      "[1518-05-09 00:07] falls asleep\n",
      "[1518-05-09 00:41] wakes up\n",
      "[1518-05-09 23:49] Guard #3541 begins shift\n",
      "[1518-05-10 00:03] falls asleep\n",
      "[1518-05-10 00:59] wakes up\n",
      "[1518-05-11 00:01] Guard #3469 begins shift\n",
      "[1518-05-11 00:16] falls asleep\n",
      "[1518-05-11 00:26] wakes up\n",
      "[1518-05-11 00:52] falls asleep\n",
      "[1518-05-11 00:54] wakes up\n",
      "[1518-05-12 00:00] Guard #1301 begins shift\n",
      "[1518-05-12 00:32] falls asleep\n",
      "[1518-05-12 00:38] wakes up\n",
      "[1518-05-12 00:44] falls asleep\n",
      "[1518-05-12 00:53] wakes up\n",
      "[1518-05-13 00:00] Guard #3499 begins shift\n",
      "[1518-05-13 00:40] falls asleep\n",
      "[1518-05-13 00:50] wakes up\n",
      "[1518-05-13 23:59] Guard #509 begins shift\n",
      "[1518-05-14 00:25] falls asleep\n",
      "[1518-05-14 00:48] wakes up\n",
      "[1518-05-15 00:04] Guard #1301 begins shift\n",
      "[1518-05-15 00:10] falls asleep\n",
      "[1518-05-15 00:53] wakes up\n",
      "[1518-05-15 23:56] Guard #3499 begins shift\n",
      "[1518-05-16 00:14] falls asleep\n",
      "[1518-05-16 00:31] wakes up\n",
      "[1518-05-16 00:36] falls asleep\n",
      "[1518-05-16 00:51] wakes up\n",
      "[1518-05-17 00:04] Guard #2411 begins shift\n",
      "[1518-05-17 00:33] falls asleep\n",
      "[1518-05-17 00:42] wakes up\n",
      "[1518-05-17 00:46] falls asleep\n",
      "[1518-05-17 00:55] wakes up\n",
      "[1518-05-18 00:04] Guard #2417 begins shift\n",
      "[1518-05-18 00:38] falls asleep\n",
      "[1518-05-18 00:48] wakes up\n",
      "[1518-05-18 00:56] falls asleep\n",
      "[1518-05-18 00:59] wakes up\n",
      "[1518-05-19 00:02] Guard #2411 begins shift\n",
      "[1518-05-19 00:35] falls asleep\n",
      "[1518-05-19 00:40] wakes up\n",
      "[1518-05-19 23:57] Guard #3541 begins shift\n",
      "[1518-05-20 00:25] falls asleep\n",
      "[1518-05-20 00:47] wakes up\n",
      "[1518-05-20 23:56] Guard #1301 begins shift\n",
      "[1518-05-21 00:10] falls asleep\n",
      "[1518-05-21 00:49] wakes up\n",
      "[1518-05-21 23:58] Guard #509 begins shift\n",
      "[1518-05-22 00:22] falls asleep\n",
      "[1518-05-22 00:31] wakes up\n",
      "[1518-05-23 00:04] Guard #401 begins shift\n",
      "[1518-05-23 00:29] falls asleep\n",
      "[1518-05-23 00:37] wakes up\n",
      "[1518-05-24 00:00] Guard #509 begins shift\n",
      "[1518-05-24 00:23] falls asleep\n",
      "[1518-05-24 00:28] wakes up\n",
      "[1518-05-24 00:57] falls asleep\n",
      "[1518-05-24 00:58] wakes up\n",
      "[1518-05-24 23:50] Guard #3271 begins shift\n",
      "[1518-05-25 00:05] falls asleep\n",
      "[1518-05-25 00:56] wakes up\n",
      "[1518-05-26 00:03] Guard #2411 begins shift\n",
      "[1518-05-26 00:14] falls asleep\n",
      "[1518-05-26 00:17] wakes up\n",
      "[1518-05-26 00:21] falls asleep\n",
      "[1518-05-26 00:48] wakes up\n",
      "[1518-05-26 23:49] Guard #3271 begins shift\n",
      "[1518-05-27 00:04] falls asleep\n",
      "[1518-05-27 00:12] wakes up\n",
      "[1518-05-28 00:00] Guard #2417 begins shift\n",
      "[1518-05-28 00:07] falls asleep\n",
      "[1518-05-28 00:44] wakes up\n",
      "[1518-05-28 23:57] Guard #401 begins shift\n",
      "[1518-05-29 00:18] falls asleep\n",
      "[1518-05-29 00:45] wakes up\n",
      "[1518-05-29 00:53] falls asleep\n",
      "[1518-05-29 00:58] wakes up\n",
      "[1518-05-30 00:02] Guard #3499 begins shift\n",
      "[1518-05-30 00:20] falls asleep\n",
      "[1518-05-30 00:42] wakes up\n",
      "[1518-05-30 00:48] falls asleep\n",
      "[1518-05-30 00:51] wakes up\n",
      "[1518-05-30 23:56] Guard #2861 begins shift\n",
      "[1518-05-31 00:32] falls asleep\n",
      "[1518-05-31 00:39] wakes up\n",
      "[1518-06-01 00:03] Guard #2417 begins shift\n",
      "[1518-06-01 00:25] falls asleep\n",
      "[1518-06-01 00:57] wakes up\n",
      "[1518-06-02 00:04] Guard #1301 begins shift\n",
      "[1518-06-02 00:27] falls asleep\n",
      "[1518-06-02 00:36] wakes up\n",
      "[1518-06-02 00:42] falls asleep\n",
      "[1518-06-02 00:54] wakes up\n",
      "[1518-06-03 00:01] Guard #3469 begins shift\n",
      "[1518-06-03 00:18] falls asleep\n",
      "[1518-06-03 00:27] wakes up\n",
      "[1518-06-03 23:58] Guard #509 begins shift\n",
      "[1518-06-04 00:19] falls asleep\n",
      "[1518-06-04 00:29] wakes up\n",
      "[1518-06-04 00:48] falls asleep\n",
      "[1518-06-04 00:58] wakes up\n",
      "[1518-06-05 00:00] Guard #619 begins shift\n",
      "[1518-06-05 00:33] falls asleep\n",
      "[1518-06-05 00:45] wakes up\n",
      "[1518-06-05 23:59] Guard #509 begins shift\n",
      "[1518-06-06 00:25] falls asleep\n",
      "[1518-06-06 00:36] wakes up\n",
      "[1518-06-06 23:56] Guard #3271 begins shift\n",
      "[1518-06-07 00:41] falls asleep\n",
      "[1518-06-07 00:57] wakes up\n",
      "[1518-06-08 00:04] Guard #2207 begins shift\n",
      "[1518-06-08 00:38] falls asleep\n",
      "[1518-06-08 00:47] wakes up\n",
      "[1518-06-09 00:01] Guard #1831 begins shift\n",
      "[1518-06-09 00:16] falls asleep\n",
      "[1518-06-09 00:41] wakes up\n",
      "[1518-06-09 23:56] Guard #3271 begins shift\n",
      "[1518-06-10 00:10] falls asleep\n",
      "[1518-06-10 00:51] wakes up\n",
      "[1518-06-10 23:59] Guard #433 begins shift\n",
      "[1518-06-11 00:19] falls asleep\n",
      "[1518-06-11 00:26] wakes up\n",
      "[1518-06-11 00:31] falls asleep\n",
      "[1518-06-11 00:54] wakes up\n",
      "[1518-06-12 00:00] Guard #2861 begins shift\n",
      "[1518-06-12 00:33] falls asleep\n",
      "[1518-06-12 00:47] wakes up\n",
      "[1518-06-12 00:50] falls asleep\n",
      "[1518-06-12 00:59] wakes up\n",
      "[1518-06-12 23:54] Guard #73 begins shift\n",
      "[1518-06-13 00:01] falls asleep\n",
      "[1518-06-13 00:41] wakes up\n",
      "[1518-06-13 23:53] Guard #73 begins shift\n",
      "[1518-06-14 00:04] falls asleep\n",
      "[1518-06-14 00:58] wakes up\n",
      "[1518-06-15 00:00] Guard #1409 begins shift\n",
      "[1518-06-15 00:06] falls asleep\n",
      "[1518-06-15 00:20] wakes up\n",
      "[1518-06-15 00:44] falls asleep\n",
      "[1518-06-15 00:47] wakes up\n",
      "[1518-06-16 00:03] Guard #3271 begins shift\n",
      "[1518-06-16 00:48] falls asleep\n",
      "[1518-06-16 00:56] wakes up\n",
      "[1518-06-17 00:03] Guard #3499 begins shift\n",
      "[1518-06-17 00:22] falls asleep\n",
      "[1518-06-17 00:53] wakes up\n",
      "[1518-06-17 00:57] falls asleep\n",
      "[1518-06-17 00:58] wakes up\n",
      "[1518-06-17 23:50] Guard #401 begins shift\n",
      "[1518-06-18 00:02] falls asleep\n",
      "[1518-06-18 00:49] wakes up\n",
      "[1518-06-18 23:57] Guard #2411 begins shift\n",
      "[1518-06-19 00:21] falls asleep\n",
      "[1518-06-19 00:24] wakes up\n",
      "[1518-06-19 23:57] Guard #509 begins shift\n",
      "[1518-06-20 00:16] falls asleep\n",
      "[1518-06-20 00:54] wakes up\n",
      "[1518-06-20 23:58] Guard #619 begins shift\n",
      "[1518-06-21 00:31] falls asleep\n",
      "[1518-06-21 00:59] wakes up\n",
      "[1518-06-22 00:02] Guard #619 begins shift\n",
      "[1518-06-22 00:06] falls asleep\n",
      "[1518-06-22 00:52] wakes up\n",
      "[1518-06-22 23:57] Guard #619 begins shift\n",
      "[1518-06-23 00:10] falls asleep\n",
      "[1518-06-23 00:28] wakes up\n",
      "[1518-06-23 00:32] falls asleep\n",
      "[1518-06-23 00:41] wakes up\n",
      "[1518-06-23 00:54] falls asleep\n",
      "[1518-06-23 00:59] wakes up\n",
      "[1518-06-24 00:03] Guard #3541 begins shift\n",
      "[1518-06-24 00:28] falls asleep\n",
      "[1518-06-24 00:42] wakes up\n",
      "[1518-06-24 23:49] Guard #3271 begins shift\n",
      "[1518-06-25 00:03] falls asleep\n",
      "[1518-06-25 00:47] wakes up\n",
      "[1518-06-26 00:03] Guard #2459 begins shift\n",
      "[1518-06-26 00:28] falls asleep\n",
      "[1518-06-26 00:57] wakes up\n",
      "[1518-06-27 00:01] Guard #1877 begins shift\n",
      "[1518-06-27 00:30] falls asleep\n",
      "[1518-06-27 00:44] wakes up\n",
      "[1518-06-27 00:47] falls asleep\n",
      "[1518-06-27 00:48] wakes up\n",
      "[1518-06-28 00:00] Guard #433 begins shift\n",
      "[1518-06-28 00:25] falls asleep\n",
      "[1518-06-28 00:57] wakes up\n",
      "[1518-06-28 23:57] Guard #1327 begins shift\n",
      "[1518-06-29 00:07] falls asleep\n",
      "[1518-06-29 00:11] wakes up\n",
      "[1518-06-29 23:59] Guard #1409 begins shift\n",
      "[1518-06-30 00:18] falls asleep\n",
      "[1518-06-30 00:24] wakes up\n",
      "[1518-06-30 00:40] falls asleep\n",
      "[1518-06-30 00:57] wakes up\n",
      "[1518-07-01 00:01] Guard #73 begins shift\n",
      "[1518-07-01 00:37] falls asleep\n",
      "[1518-07-01 00:47] wakes up\n",
      "[1518-07-01 23:59] Guard #1301 begins shift\n",
      "[1518-07-02 00:06] falls asleep\n",
      "[1518-07-02 00:48] wakes up\n",
      "[1518-07-03 00:02] Guard #73 begins shift\n",
      "[1518-07-03 00:19] falls asleep\n",
      "[1518-07-03 00:58] wakes up\n",
      "[1518-07-04 00:01] Guard #2417 begins shift\n",
      "[1518-07-04 00:22] falls asleep\n",
      "[1518-07-04 00:38] wakes up\n",
      "[1518-07-04 00:54] falls asleep\n",
      "[1518-07-04 00:59] wakes up\n",
      "[1518-07-05 00:01] Guard #2663 begins shift\n",
      "[1518-07-05 00:40] falls asleep\n",
      "[1518-07-05 00:48] wakes up\n",
      "[1518-07-05 23:51] Guard #1327 begins shift\n",
      "[1518-07-06 00:01] falls asleep\n",
      "[1518-07-06 00:24] wakes up\n",
      "[1518-07-06 00:48] falls asleep\n",
      "[1518-07-06 00:55] wakes up\n",
      "[1518-07-07 00:02] Guard #1877 begins shift\n",
      "[1518-07-07 00:35] falls asleep\n",
      "[1518-07-07 00:52] wakes up\n",
      "[1518-07-08 00:04] Guard #3541 begins shift\n",
      "[1518-07-08 00:11] falls asleep\n",
      "[1518-07-08 00:36] wakes up\n",
      "[1518-07-08 23:57] Guard #619 begins shift\n",
      "[1518-07-09 00:42] falls asleep\n",
      "[1518-07-09 00:56] wakes up\n",
      "[1518-07-10 00:00] Guard #2861 begins shift\n",
      "[1518-07-10 00:10] falls asleep\n",
      "[1518-07-10 00:11] wakes up\n",
      "[1518-07-10 00:23] falls asleep\n",
      "[1518-07-10 00:26] wakes up\n",
      "[1518-07-11 00:01] Guard #619 begins shift\n",
      "[1518-07-11 00:28] falls asleep\n",
      "[1518-07-11 00:56] wakes up\n",
      "[1518-07-11 23:47] Guard #3469 begins shift\n",
      "[1518-07-12 00:04] falls asleep\n",
      "[1518-07-12 00:08] wakes up\n",
      "[1518-07-12 00:17] falls asleep\n",
      "[1518-07-12 00:37] wakes up\n",
      "[1518-07-13 00:00] Guard #1831 begins shift\n",
      "[1518-07-13 00:36] falls asleep\n",
      "[1518-07-13 00:39] wakes up\n",
      "[1518-07-13 00:43] falls asleep\n",
      "[1518-07-13 00:58] wakes up\n",
      "[1518-07-13 23:56] Guard #401 begins shift\n",
      "[1518-07-14 00:30] falls asleep\n",
      "[1518-07-14 00:46] wakes up\n",
      "[1518-07-14 00:54] falls asleep\n",
      "[1518-07-14 00:57] wakes up\n",
      "[1518-07-14 23:59] Guard #3469 begins shift\n",
      "[1518-07-15 00:24] falls asleep\n",
      "[1518-07-15 00:27] wakes up\n",
      "[1518-07-16 00:00] Guard #509 begins shift\n",
      "[1518-07-16 00:24] falls asleep\n",
      "[1518-07-16 00:29] wakes up\n",
      "[1518-07-17 00:00] Guard #1409 begins shift\n",
      "[1518-07-17 00:12] falls asleep\n",
      "[1518-07-17 00:56] wakes up\n",
      "[1518-07-17 23:57] Guard #1301 begins shift\n",
      "[1518-07-18 00:35] falls asleep\n",
      "[1518-07-18 00:55] wakes up\n",
      "[1518-07-18 23:54] Guard #2411 begins shift\n",
      "[1518-07-19 00:04] falls asleep\n",
      "[1518-07-19 00:19] wakes up\n",
      "[1518-07-19 00:37] falls asleep\n",
      "[1518-07-19 00:55] wakes up\n",
      "[1518-07-20 00:03] Guard #433 begins shift\n",
      "[1518-07-20 00:41] falls asleep\n",
      "[1518-07-20 00:55] wakes up\n",
      "[1518-07-21 00:01] Guard #2411 begins shift\n",
      "[1518-07-21 00:50] falls asleep\n",
      "[1518-07-21 00:54] wakes up\n",
      "[1518-07-21 23:59] Guard #1409 begins shift\n",
      "[1518-07-22 00:35] falls asleep\n",
      "[1518-07-22 00:50] wakes up\n",
      "[1518-07-22 23:56] Guard #2459 begins shift\n",
      "[1518-07-23 00:26] falls asleep\n",
      "[1518-07-23 00:45] wakes up\n",
      "[1518-07-24 00:04] Guard #1409 begins shift\n",
      "[1518-07-24 00:32] falls asleep\n",
      "[1518-07-24 00:45] wakes up\n",
      "[1518-07-25 00:01] Guard #509 begins shift\n",
      "[1518-07-25 00:16] falls asleep\n",
      "[1518-07-25 00:42] wakes up\n",
      "[1518-07-25 23:56] Guard #433 begins shift\n",
      "[1518-07-26 00:35] falls asleep\n",
      "[1518-07-26 00:37] wakes up\n",
      "[1518-07-26 00:46] falls asleep\n",
      "[1518-07-26 00:58] wakes up\n",
      "[1518-07-26 23:50] Guard #3541 begins shift\n",
      "[1518-07-27 00:04] falls asleep\n",
      "[1518-07-27 00:45] wakes up\n",
      "[1518-07-27 00:55] falls asleep\n",
      "[1518-07-27 00:59] wakes up\n",
      "[1518-07-28 00:03] Guard #3499 begins shift\n",
      "[1518-07-28 00:34] falls asleep\n",
      "[1518-07-28 00:48] wakes up\n",
      "[1518-07-28 23:58] Guard #619 begins shift\n",
      "[1518-07-29 00:09] falls asleep\n",
      "[1518-07-29 00:13] wakes up\n",
      "[1518-07-29 00:19] falls asleep\n",
      "[1518-07-29 00:53] wakes up\n",
      "[1518-07-29 23:59] Guard #3469 begins shift\n",
      "[1518-07-30 00:16] falls asleep\n",
      "[1518-07-30 00:25] wakes up\n",
      "[1518-07-30 00:38] falls asleep\n",
      "[1518-07-30 00:48] wakes up\n",
      "[1518-07-30 00:55] falls asleep\n",
      "[1518-07-30 00:56] wakes up\n",
      "[1518-07-31 00:02] Guard #401 begins shift\n",
      "[1518-07-31 00:23] falls asleep\n",
      "[1518-07-31 00:50] wakes up\n",
      "[1518-08-01 00:03] Guard #3499 begins shift\n",
      "[1518-08-01 00:40] falls asleep\n",
      "[1518-08-01 00:58] wakes up\n",
      "[1518-08-02 00:03] Guard #3469 begins shift\n",
      "[1518-08-02 00:06] falls asleep\n",
      "[1518-08-02 00:09] wakes up\n",
      "[1518-08-02 00:14] falls asleep\n",
      "[1518-08-02 00:40] wakes up\n",
      "[1518-08-03 00:02] Guard #3191 begins shift\n",
      "[1518-08-04 00:04] Guard #3541 begins shift\n",
      "[1518-08-04 00:18] falls asleep\n",
      "[1518-08-04 00:26] wakes up\n",
      "[1518-08-04 00:35] falls asleep\n",
      "[1518-08-04 00:37] wakes up\n",
      "[1518-08-04 00:41] falls asleep\n",
      "[1518-08-04 00:55] wakes up\n",
      "[1518-08-05 00:03] Guard #509 begins shift\n",
      "[1518-08-05 00:10] falls asleep\n",
      "[1518-08-05 00:34] wakes up\n",
      "[1518-08-06 00:00] Guard #3541 begins shift\n",
      "[1518-08-06 00:17] falls asleep\n",
      "[1518-08-06 00:27] wakes up\n",
      "[1518-08-06 00:39] falls asleep\n",
      "[1518-08-06 00:55] wakes up\n",
      "[1518-08-07 00:02] Guard #2207 begins shift\n",
      "[1518-08-07 00:47] falls asleep\n",
      "[1518-08-07 00:54] wakes up\n",
      "[1518-08-08 00:01] Guard #3541 begins shift\n",
      "[1518-08-08 00:17] falls asleep\n",
      "[1518-08-08 00:55] wakes up\n",
      "[1518-08-08 23:58] Guard #2333 begins shift\n",
      "[1518-08-10 00:00] Guard #2207 begins shift\n",
      "[1518-08-10 00:21] falls asleep\n",
      "[1518-08-10 00:33] wakes up\n",
      "[1518-08-10 00:42] falls asleep\n",
      "[1518-08-10 00:54] wakes up\n",
      "[1518-08-10 23:57] Guard #1877 begins shift\n",
      "[1518-08-11 00:16] falls asleep\n",
      "[1518-08-11 00:51] wakes up\n",
      "[1518-08-11 23:56] Guard #2411 begins shift\n",
      "[1518-08-12 00:16] falls asleep\n",
      "[1518-08-12 00:31] wakes up\n",
      "[1518-08-12 23:59] Guard #619 begins shift\n",
      "[1518-08-13 00:22] falls asleep\n",
      "[1518-08-13 00:33] wakes up\n",
      "[1518-08-14 00:00] Guard #2861 begins shift\n",
      "[1518-08-14 00:25] falls asleep\n",
      "[1518-08-14 00:35] wakes up\n",
      "[1518-08-15 00:01] Guard #2411 begins shift\n",
      "[1518-08-15 00:12] falls asleep\n",
      "[1518-08-15 00:51] wakes up\n",
      "[1518-08-15 00:54] falls asleep\n",
      "[1518-08-15 00:58] wakes up\n",
      "[1518-08-16 00:04] Guard #509 begins shift\n",
      "[1518-08-16 00:25] falls asleep\n",
      "[1518-08-16 00:30] wakes up\n",
      "[1518-08-16 00:40] falls asleep\n",
      "[1518-08-16 00:56] wakes up\n",
      "[1518-08-16 23:56] Guard #3191 begins shift\n",
      "[1518-08-18 00:01] Guard #401 begins shift\n",
      "[1518-08-18 00:47] falls asleep\n",
      "[1518-08-18 00:53] wakes up\n",
      "[1518-08-19 00:00] Guard #2417 begins shift\n",
      "[1518-08-19 00:07] falls asleep\n",
      "[1518-08-19 00:50] wakes up\n",
      "[1518-08-19 23:59] Guard #2663 begins shift\n",
      "[1518-08-20 00:18] falls asleep\n",
      "[1518-08-20 00:59] wakes up\n",
      "[1518-08-20 23:54] Guard #1831 begins shift\n",
      "[1518-08-21 00:01] falls asleep\n",
      "[1518-08-21 00:55] wakes up\n",
      "[1518-08-21 23:56] Guard #1301 begins shift\n",
      "[1518-08-22 00:12] falls asleep\n",
      "[1518-08-22 00:43] wakes up\n",
      "[1518-08-22 00:46] falls asleep\n",
      "[1518-08-22 00:59] wakes up\n",
      "[1518-08-23 00:04] Guard #73 begins shift\n",
      "[1518-08-23 00:11] falls asleep\n",
      "[1518-08-23 00:56] wakes up\n",
      "[1518-08-23 23:49] Guard #2207 begins shift\n",
      "[1518-08-24 00:04] falls asleep\n",
      "[1518-08-24 00:33] wakes up\n",
      "[1518-08-24 00:40] falls asleep\n",
      "[1518-08-24 00:56] wakes up\n",
      "[1518-08-24 23:52] Guard #2663 begins shift\n",
      "[1518-08-25 00:04] falls asleep\n",
      "[1518-08-25 00:48] wakes up\n",
      "[1518-08-25 23:57] Guard #73 begins shift\n",
      "[1518-08-26 00:18] falls asleep\n",
      "[1518-08-26 00:34] wakes up\n",
      "[1518-08-26 00:44] falls asleep\n",
      "[1518-08-26 00:52] wakes up\n",
      "[1518-08-27 00:02] Guard #2663 begins shift\n",
      "[1518-08-27 00:21] falls asleep\n",
      "[1518-08-27 00:50] wakes up\n",
      "[1518-08-28 00:04] Guard #1301 begins shift\n",
      "[1518-08-28 00:16] falls asleep\n",
      "[1518-08-28 00:42] wakes up\n",
      "[1518-08-28 00:48] falls asleep\n",
      "[1518-08-28 00:55] wakes up\n",
      "[1518-08-28 23:57] Guard #401 begins shift\n",
      "[1518-08-29 00:26] falls asleep\n",
      "[1518-08-29 00:28] wakes up\n",
      "[1518-08-29 00:34] falls asleep\n",
      "[1518-08-29 00:45] wakes up\n",
      "[1518-08-29 00:50] falls asleep\n",
      "[1518-08-29 00:59] wakes up\n",
      "[1518-08-29 23:52] Guard #2417 begins shift\n",
      "[1518-08-30 00:04] falls asleep\n",
      "[1518-08-30 00:29] wakes up\n",
      "[1518-08-30 00:35] falls asleep\n",
      "[1518-08-30 00:58] wakes up\n",
      "[1518-08-30 23:57] Guard #1877 begins shift\n",
      "[1518-08-31 00:48] falls asleep\n",
      "[1518-08-31 00:55] wakes up\n",
      "[1518-08-31 23:59] Guard #1831 begins shift\n",
      "[1518-09-01 00:51] falls asleep\n",
      "[1518-09-01 00:54] wakes up\n",
      "[1518-09-01 23:57] Guard #3271 begins shift\n",
      "[1518-09-02 00:08] falls asleep\n",
      "[1518-09-02 00:36] wakes up\n",
      "[1518-09-02 00:41] falls asleep\n",
      "[1518-09-02 00:57] wakes up\n",
      "[1518-09-02 23:59] Guard #3541 begins shift\n",
      "[1518-09-03 00:25] falls asleep\n",
      "[1518-09-03 00:42] wakes up\n",
      "[1518-09-03 00:48] falls asleep\n",
      "[1518-09-03 00:51] wakes up\n",
      "[1518-09-03 23:57] Guard #2417 begins shift\n",
      "[1518-09-04 00:34] falls asleep\n",
      "[1518-09-04 00:47] wakes up\n",
      "[1518-09-04 00:56] falls asleep\n",
      "[1518-09-04 00:58] wakes up\n",
      "[1518-09-05 00:00] Guard #3271 begins shift\n",
      "[1518-09-05 00:06] falls asleep\n",
      "[1518-09-05 00:56] wakes up\n",
      "[1518-09-05 23:59] Guard #73 begins shift\n",
      "[1518-09-06 00:37] falls asleep\n",
      "[1518-09-06 00:46] wakes up\n",
      "[1518-09-06 23:58] Guard #3499 begins shift\n",
      "[1518-09-07 00:17] falls asleep\n",
      "[1518-09-07 00:36] wakes up\n",
      "[1518-09-07 00:45] falls asleep\n",
      "[1518-09-07 00:58] wakes up\n",
      "[1518-09-07 23:58] Guard #433 begins shift\n",
      "[1518-09-08 00:47] falls asleep\n",
      "[1518-09-08 00:54] wakes up\n",
      "[1518-09-08 23:52] Guard #73 begins shift\n",
      "[1518-09-09 00:02] falls asleep\n",
      "[1518-09-09 00:43] wakes up\n",
      "[1518-09-10 00:00] Guard #401 begins shift\n",
      "[1518-09-10 00:16] falls asleep\n",
      "[1518-09-10 00:26] wakes up\n",
      "[1518-09-10 00:33] falls asleep\n",
      "[1518-09-10 00:45] wakes up\n",
      "[1518-09-10 00:52] falls asleep\n",
      "[1518-09-10 00:58] wakes up\n",
      "[1518-09-10 23:57] Guard #619 begins shift\n",
      "[1518-09-11 00:09] falls asleep\n",
      "[1518-09-11 00:59] wakes up\n",
      "[1518-09-12 00:02] Guard #509 begins shift\n",
      "[1518-09-12 00:22] falls asleep\n",
      "[1518-09-12 00:27] wakes up\n",
      "[1518-09-12 00:34] falls asleep\n",
      "[1518-09-12 00:42] wakes up\n",
      "[1518-09-12 00:56] falls asleep\n",
      "[1518-09-12 00:57] wakes up\n",
      "[1518-09-12 23:59] Guard #3541 begins shift\n",
      "[1518-09-13 00:21] falls asleep\n",
      "[1518-09-13 00:35] wakes up\n",
      "[1518-09-13 23:58] Guard #1877 begins shift\n",
      "[1518-09-14 00:25] falls asleep\n",
      "[1518-09-14 00:54] wakes up\n",
      "[1518-09-14 00:57] falls asleep\n",
      "[1518-09-14 00:58] wakes up\n",
      "[1518-09-14 23:59] Guard #2207 begins shift\n",
      "[1518-09-15 00:44] falls asleep\n",
      "[1518-09-15 00:51] wakes up\n",
      "[1518-09-15 23:59] Guard #73 begins shift\n",
      "[1518-09-16 00:28] falls asleep\n",
      "[1518-09-16 00:35] wakes up\n",
      "[1518-09-16 00:42] falls asleep\n",
      "[1518-09-16 00:51] wakes up\n",
      "[1518-09-17 00:03] Guard #1697 begins shift\n",
      "[1518-09-18 00:03] Guard #3469 begins shift\n",
      "[1518-09-18 00:27] falls asleep\n",
      "[1518-09-18 00:34] wakes up\n",
      "[1518-09-19 00:02] Guard #3499 begins shift\n",
      "[1518-09-19 00:35] falls asleep\n",
      "[1518-09-19 00:53] wakes up\n",
      "[1518-09-20 00:03] Guard #433 begins shift\n",
      "[1518-09-20 00:23] falls asleep\n",
      "[1518-09-20 00:51] wakes up\n",
      "[1518-09-20 23:58] Guard #1877 begins shift\n",
      "[1518-09-21 00:13] falls asleep\n",
      "[1518-09-21 00:57] wakes up\n",
      "[1518-09-22 00:02] Guard #2663 begins shift\n",
      "[1518-09-22 00:07] falls asleep\n",
      "[1518-09-22 00:17] wakes up\n",
      "[1518-09-22 00:24] falls asleep\n",
      "[1518-09-22 00:27] wakes up\n",
      "[1518-09-23 00:00] Guard #73 begins shift\n",
      "[1518-09-23 00:11] falls asleep\n",
      "[1518-09-23 00:46] wakes up\n",
      "[1518-09-24 00:04] Guard #3499 begins shift\n",
      "[1518-09-24 00:24] falls asleep\n",
      "[1518-09-24 00:46] wakes up\n",
      "[1518-09-24 23:56] Guard #2663 begins shift\n",
      "[1518-09-25 00:28] falls asleep\n",
      "[1518-09-25 00:34] wakes up\n",
      "[1518-09-25 00:39] falls asleep\n",
      "[1518-09-25 00:59] wakes up\n",
      "[1518-09-26 00:01] Guard #2417 begins shift\n",
      "[1518-09-26 00:08] falls asleep\n",
      "[1518-09-26 00:34] wakes up\n",
      "[1518-09-26 00:39] falls asleep\n",
      "[1518-09-26 00:43] wakes up\n",
      "[1518-09-27 00:00] Guard #2411 begins shift\n",
      "[1518-09-27 00:15] falls asleep\n",
      "[1518-09-27 00:35] wakes up\n",
      "[1518-09-27 00:38] falls asleep\n",
      "[1518-09-27 00:45] wakes up\n",
      "[1518-09-28 00:03] Guard #1409 begins shift\n",
      "[1518-09-28 00:09] falls asleep\n",
      "[1518-09-28 00:27] wakes up\n",
      "[1518-09-28 23:52] Guard #1831 begins shift\n",
      "[1518-09-29 00:01] falls asleep\n",
      "[1518-09-29 00:54] wakes up\n",
      "[1518-09-29 23:59] Guard #433 begins shift\n",
      "[1518-09-30 00:19] falls asleep\n",
      "[1518-09-30 00:28] wakes up\n",
      "[1518-09-30 00:32] falls asleep\n",
      "[1518-09-30 00:42] wakes up\n",
      "[1518-10-01 00:01] Guard #2207 begins shift\n",
      "[1518-10-01 00:32] falls asleep\n",
      "[1518-10-01 00:57] wakes up\n",
      "[1518-10-01 23:59] Guard #3499 begins shift\n",
      "[1518-10-02 00:32] falls asleep\n",
      "[1518-10-02 00:34] wakes up\n",
      "[1518-10-02 00:42] falls asleep\n",
      "[1518-10-02 00:54] wakes up\n",
      "[1518-10-03 00:00] Guard #2417 begins shift\n",
      "[1518-10-03 00:36] falls asleep\n",
      "[1518-10-03 00:50] wakes up\n",
      "[1518-10-03 00:57] falls asleep\n",
      "[1518-10-03 00:58] wakes up\n",
      "[1518-10-03 23:59] Guard #2663 begins shift\n",
      "[1518-10-04 00:47] falls asleep\n",
      "[1518-10-04 00:48] wakes up\n",
      "[1518-10-04 23:49] Guard #3271 begins shift\n",
      "[1518-10-05 00:00] falls asleep\n",
      "[1518-10-05 00:57] wakes up\n",
      "[1518-10-05 23:57] Guard #73 begins shift\n",
      "[1518-10-06 00:28] falls asleep\n",
      "[1518-10-06 00:51] wakes up\n",
      "[1518-10-07 00:00] Guard #1831 begins shift\n",
      "[1518-10-07 00:18] falls asleep\n",
      "[1518-10-07 00:44] wakes up\n",
      "[1518-10-07 00:53] falls asleep\n",
      "[1518-10-07 00:57] wakes up\n",
      "[1518-10-07 23:56] Guard #619 begins shift\n",
      "[1518-10-08 00:19] falls asleep\n",
      "[1518-10-08 00:56] wakes up\n",
      "[1518-10-09 00:00] Guard #509 begins shift\n",
      "[1518-10-09 00:12] falls asleep\n",
      "[1518-10-09 00:56] wakes up\n",
      "[1518-10-10 00:04] Guard #1301 begins shift\n",
      "[1518-10-10 00:07] falls asleep\n",
      "[1518-10-10 00:39] wakes up\n",
      "[1518-10-10 23:59] Guard #401 begins shift\n",
      "[1518-10-11 00:37] falls asleep\n",
      "[1518-10-11 00:40] wakes up\n",
      "[1518-10-11 00:43] falls asleep\n",
      "[1518-10-11 00:50] wakes up\n",
      "[1518-10-12 00:00] Guard #509 begins shift\n",
      "[1518-10-12 00:24] falls asleep\n",
      "[1518-10-12 00:29] wakes up\n",
      "[1518-10-12 00:52] falls asleep\n",
      "[1518-10-12 00:56] wakes up\n",
      "[1518-10-12 23:47] Guard #509 begins shift\n",
      "[1518-10-13 00:04] falls asleep\n",
      "[1518-10-13 00:54] wakes up\n",
      "[1518-10-13 23:50] Guard #2207 begins shift\n",
      "[1518-10-14 00:05] falls asleep\n",
      "[1518-10-14 00:32] wakes up\n",
      "[1518-10-14 00:55] falls asleep\n",
      "[1518-10-14 00:57] wakes up\n",
      "[1518-10-14 23:59] Guard #3541 begins shift\n",
      "[1518-10-15 00:27] falls asleep\n",
      "[1518-10-15 00:41] wakes up\n",
      "[1518-10-16 00:02] Guard #3499 begins shift\n",
      "[1518-10-16 00:26] falls asleep\n",
      "[1518-10-16 00:39] wakes up\n",
      "[1518-10-16 00:44] falls asleep\n",
      "[1518-10-16 00:56] wakes up\n",
      "[1518-10-17 00:04] Guard #1831 begins shift\n",
      "[1518-10-17 00:13] falls asleep\n",
      "[1518-10-17 00:48] wakes up\n",
      "[1518-10-17 00:51] falls asleep\n",
      "[1518-10-17 00:52] wakes up\n",
      "[1518-10-18 00:04] Guard #509 begins shift\n",
      "[1518-10-18 00:08] falls asleep\n",
      "[1518-10-18 00:42] wakes up\n",
      "[1518-10-19 00:00] Guard #1877 begins shift\n",
      "[1518-10-19 00:09] falls asleep\n",
      "[1518-10-19 00:39] wakes up\n",
      "[1518-10-19 00:54] falls asleep\n",
      "[1518-10-19 00:55] wakes up\n",
      "[1518-10-19 23:56] Guard #433 begins shift\n",
      "[1518-10-20 00:23] falls asleep\n",
      "[1518-10-20 00:33] wakes up\n",
      "[1518-10-20 00:53] falls asleep\n",
      "[1518-10-20 00:57] wakes up\n",
      "[1518-10-20 23:57] Guard #3499 begins shift\n",
      "[1518-10-21 00:33] falls asleep\n",
      "[1518-10-21 00:58] wakes up\n",
      "[1518-10-22 00:00] Guard #3499 begins shift\n",
      "[1518-10-22 00:32] falls asleep\n",
      "[1518-10-22 00:49] wakes up\n",
      "[1518-10-23 00:04] Guard #509 begins shift\n",
      "[1518-10-23 00:11] falls asleep\n",
      "[1518-10-23 00:52] wakes up\n",
      "[1518-10-24 00:02] Guard #3541 begins shift\n",
      "[1518-10-24 00:19] falls asleep\n",
      "[1518-10-24 00:27] wakes up\n",
      "[1518-10-24 00:35] falls asleep\n",
      "[1518-10-24 00:42] wakes up\n",
      "[1518-10-25 00:00] Guard #3499 begins shift\n",
      "[1518-10-25 00:17] falls asleep\n",
      "[1518-10-25 00:53] wakes up\n",
      "[1518-10-25 23:52] Guard #73 begins shift\n",
      "[1518-10-26 00:02] falls asleep\n",
      "[1518-10-26 00:25] wakes up\n",
      "[1518-10-26 00:35] falls asleep\n",
      "[1518-10-26 00:36] wakes up\n",
      "[1518-10-26 23:57] Guard #2411 begins shift\n",
      "[1518-10-27 00:22] falls asleep\n",
      "[1518-10-27 00:38] wakes up\n",
      "[1518-10-27 23:57] Guard #2663 begins shift\n",
      "[1518-10-28 00:31] falls asleep\n",
      "[1518-10-28 00:52] wakes up\n",
      "[1518-10-28 23:58] Guard #433 begins shift\n",
      "[1518-10-29 00:28] falls asleep\n",
      "[1518-10-29 00:52] wakes up\n",
      "[1518-10-29 00:55] falls asleep\n",
      "[1518-10-29 00:56] wakes up\n",
      "[1518-10-30 00:03] Guard #1877 begins shift\n",
      "[1518-10-30 00:14] falls asleep\n",
      "[1518-10-30 00:35] wakes up\n",
      "[1518-10-30 00:53] falls asleep\n",
      "[1518-10-30 00:57] wakes up\n",
      "[1518-10-31 00:01] Guard #3499 begins shift\n",
      "[1518-10-31 00:28] falls asleep\n",
      "[1518-10-31 00:58] wakes up\n",
      "[1518-11-01 00:04] Guard #509 begins shift\n",
      "[1518-11-01 00:08] falls asleep\n",
      "[1518-11-01 00:45] wakes up\n",
      "[1518-11-01 23:57] Guard #2207 begins shift\n",
      "[1518-11-02 00:13] falls asleep\n",
      "[1518-11-02 00:36] wakes up\n",
      "[1518-11-03 00:04] Guard #73 begins shift\n",
      "[1518-11-03 00:15] falls asleep\n",
      "[1518-11-03 00:46] wakes up\n",
      "[1518-11-03 23:57] Guard #3499 begins shift\n",
      "[1518-11-04 00:38] falls asleep\n",
      "[1518-11-04 00:55] wakes up\n",
      "[1518-11-04 23:56] Guard #3541 begins shift\n",
      "[1518-11-05 00:12] falls asleep\n",
      "[1518-11-05 00:39] wakes up\n",
      "[1518-11-05 00:46] falls asleep\n",
      "[1518-11-05 00:47] wakes up\n",
      "[1518-11-05 00:55] falls asleep\n",
      "[1518-11-05 00:59] wakes up\n",
      "[1518-11-05 23:58] Guard #3499 begins shift\n",
      "[1518-11-06 00:27] falls asleep\n",
      "[1518-11-06 00:59] wakes up\n",
      "[1518-11-06 23:58] Guard #401 begins shift\n",
      "[1518-11-07 00:26] falls asleep\n",
      "[1518-11-07 00:48] wakes up\n",
      "[1518-11-08 00:00] Guard #2861 begins shift\n",
      "[1518-11-08 00:09] falls asleep\n",
      "[1518-11-08 00:57] wakes up\n",
      "[1518-11-08 23:56] Guard #1831 begins shift\n",
      "[1518-11-09 00:23] falls asleep\n",
      "[1518-11-09 00:59] wakes up\n",
      "[1518-11-09 23:59] Guard #73 begins shift\n",
      "[1518-11-10 00:26] falls asleep\n",
      "[1518-11-10 00:30] wakes up\n",
      "[1518-11-10 00:48] falls asleep\n",
      "[1518-11-10 00:59] wakes up\n",
      "[1518-11-11 00:00] Guard #1409 begins shift\n",
      "[1518-11-11 00:39] falls asleep\n",
      "[1518-11-11 00:54] wakes up\n",
      "[1518-11-12 00:03] Guard #1877 begins shift\n",
      "[1518-11-12 00:50] falls asleep\n",
      "[1518-11-12 00:58] wakes up\n",
      "[1518-11-12 23:59] Guard #2663 begins shift\n",
      "[1518-11-13 00:14] falls asleep\n",
      "[1518-11-13 00:47] wakes up\n",
      "[1518-11-14 00:04] Guard #2663 begins shift\n",
      "[1518-11-14 00:15] falls asleep\n",
      "[1518-11-14 00:42] wakes up\n",
      "[1518-11-14 00:51] falls asleep\n",
      "[1518-11-14 00:52] wakes up\n",
      "[1518-11-15 00:03] Guard #73 begins shift\n",
      "[1518-11-15 00:11] falls asleep\n",
      "[1518-11-15 00:26] wakes up\n",
      "[1518-11-15 00:35] falls asleep\n",
      "[1518-11-15 00:38] wakes up\n",
      "[1518-11-15 00:50] falls asleep\n",
      "[1518-11-15 00:52] wakes up\n",
      "[1518-11-15 00:56] falls asleep\n",
      "[1518-11-15 00:59] wakes up\n",
      "[1518-11-16 00:03] Guard #2861 begins shift\n",
      "[1518-11-16 00:36] falls asleep\n",
      "[1518-11-16 00:41] wakes up\n",
      "[1518-11-16 00:57] falls asleep\n",
      "[1518-11-16 00:58] wakes up\n",
      "[1518-11-16 23:48] Guard #2861 begins shift\n",
      "[1518-11-17 00:00] falls asleep\n",
      "[1518-11-17 00:49] wakes up\n",
      "[1518-11-18 00:04] Guard #2411 begins shift\n",
      "[1518-11-18 00:37] falls asleep\n",
      "[1518-11-18 00:41] wakes up\n",
      "[1518-11-18 00:44] falls asleep\n",
      "[1518-11-18 00:52] wakes up\n",
      "[1518-11-18 23:57] Guard #1409 begins shift\n",
      "[1518-11-19 00:16] falls asleep\n",
      "[1518-11-19 00:27] wakes up\n",
      "[1518-11-19 00:40] falls asleep\n",
      "[1518-11-19 00:45] wakes up\n",
      "[1518-11-19 23:54] Guard #3271 begins shift\n",
      "[1518-11-20 00:04] falls asleep\n",
      "[1518-11-20 00:07] wakes up\n",
      "[1518-11-20 00:44] falls asleep\n",
      "[1518-11-20 00:52] wakes up\n",
      "[1518-11-20 23:56] Guard #433 begins shift\n",
      "[1518-11-21 00:38] falls asleep\n",
      "[1518-11-21 00:40] wakes up\n",
      "[1518-11-21 23:56] Guard #433 begins shift\n",
      "[1518-11-22 00:38] falls asleep\n",
      "[1518-11-22 00:55] wakes up\n",
      "[1518-11-23 00:00] Guard #3271 begins shift\n",
      "[1518-11-23 00:07] falls asleep\n",
      "[1518-11-23 00:57] wakes up\n"
     ]
    }
   ],
   "source": [
    "! sort < input/4"
   ]
  },
  {
   "cell_type": "markdown",
   "metadata": {},
   "source": [
    "Now my questions about the input are clarified. Every night just a single guard is on duty and that guard only sleeps during the midnight hour.\n",
    "\n",
    "We scan through the sorted records and keep a counter for each guard. That counter records minutes in the midnight hour the guard was asleep. For example, `sleeping[42][5] == 3` would mean guard `#42` was asleep on 3 nights between `00:05` and `00:06`."
   ]
  },
  {
   "cell_type": "code",
   "execution_count": 16,
   "metadata": {},
   "outputs": [
    {
     "data": {
      "text/plain": [
       "[(39, 10), (40, 10), (41, 10), (42, 10), (36, 9)]"
      ]
     },
     "execution_count": 16,
     "metadata": {},
     "output_type": "execute_result"
    }
   ],
   "source": [
    "sleeping = collections.defaultdict(collections.Counter)\n",
    "\n",
    "for record in sorted(day(4).splitlines()):\n",
    "    yy,mm,dd,hh,mm,*rest = ints(record)\n",
    "    if 'shift'  in record:\n",
    "        guard = rest[0]\n",
    "    elif 'asleep' in record:\n",
    "        assert hh == 0, f\"Guard falls asleep at time {hh}:{mm}!\"\n",
    "        asleep = mm\n",
    "    else:\n",
    "        assert 'wakes' in record, record\n",
    "        assert hh == 0, f\"Guard wakes at time {hh}:{mm}!\"\n",
    "        sleeping[guard].update(range(asleep, mm))\n",
    "\n",
    "# Let's have a look at some data & check it looks OK. \n",
    "sleeping[2417].most_common(5) # Guard 2417 is the first in our ordered input"
   ]
  },
  {
   "cell_type": "markdown",
   "metadata": {},
   "source": [
    "For part one, we're after the guard who slept the longest and the minute they were most often asleep. The answer wanted is the product of the gaurd's id and the minute."
   ]
  },
  {
   "cell_type": "code",
   "execution_count": 17,
   "metadata": {},
   "outputs": [
    {
     "data": {
      "text/plain": [
       "[(45, 15), (44, 14)]"
      ]
     },
     "execution_count": 17,
     "metadata": {},
     "output_type": "execute_result"
    }
   ],
   "source": [
    "guard, asleep = max(sleeping.items(), key=lambda i: sum(i[1].values()))\n",
    "asleep.most_common(2)"
   ]
  },
  {
   "cell_type": "markdown",
   "metadata": {},
   "source": [
    "That's good -- we have a unique choice for the minute the guard was most often asleep. We can get the answer directly."
   ]
  },
  {
   "cell_type": "code",
   "execution_count": 18,
   "metadata": {},
   "outputs": [
    {
     "data": {
      "text/plain": [
       "119835"
      ]
     },
     "execution_count": 18,
     "metadata": {},
     "output_type": "execute_result"
    }
   ],
   "source": [
    "guard * asleep.most_common(1)[0][0]"
   ]
  },
  {
   "cell_type": "markdown",
   "metadata": {},
   "source": [
    "Part two asks: Of all guards, which guard is most frequently asleep on the same minute? The answer is in our `sleeping` dict."
   ]
  },
  {
   "cell_type": "code",
   "execution_count": 19,
   "metadata": {},
   "outputs": [
    {
     "data": {
      "text/plain": [
       "12725"
      ]
     },
     "execution_count": 19,
     "metadata": {},
     "output_type": "execute_result"
    }
   ],
   "source": [
    "def sleepiest_minute(guard_mins):\n",
    "    guard, mins = guard_mins\n",
    "    minute, freq = mins.most_common(1).pop()\n",
    "    return freq, minute, guard\n",
    "\n",
    "freq, minute, guard = max(map(sleepiest_minute, sleeping.items()))\n",
    "guard * minute"
   ]
  },
  {
   "cell_type": "markdown",
   "metadata": {},
   "source": [
    "## [Day 5](https://adventofcode.com/2018/day/5) Alchemical Reduction\n",
    "Pairs of characters are repeatedly removed from a polymer -- represented as a string. First, find all possible pairs, and create a function to destroy these pairs."
   ]
  },
  {
   "cell_type": "code",
   "execution_count": 20,
   "metadata": {},
   "outputs": [],
   "source": [
    "import string\n",
    "az, AZ = string.ascii_lowercase, string.ascii_uppercase\n",
    "removes = [cat(p) for p in zip(az, AZ)] + [cat(p) for p in zip(AZ, az)]\n",
    "react_sub = re.compile('|'.join(removes)).sub\n",
    "\n",
    "def react_fn(s):\n",
    "    return react_sub('', s)\n",
    "\n",
    "assert react_fn('abBA') == 'aA'"
   ]
  },
  {
   "cell_type": "markdown",
   "metadata": {},
   "source": [
    "Now we keep processing the polymer until there's nothing to remove."
   ]
  },
  {
   "cell_type": "code",
   "execution_count": 21,
   "metadata": {},
   "outputs": [
    {
     "name": "stdout",
     "output_type": "stream",
     "text": [
      "Wall time: 3.99 s\n"
     ]
    },
    {
     "data": {
      "text/plain": [
       "9562"
      ]
     },
     "execution_count": 21,
     "metadata": {},
     "output_type": "execute_result"
    }
   ],
   "source": [
    "def react(polymer, react_fn=react_fn):\n",
    "    'Apply `react_fn` until `polymer` stabilises, returning the stable form'\n",
    "    return next(p for p, n in pairwise(unfold(react_fn, polymer))\n",
    "                if p == n)\n",
    "\n",
    "assert react('dabAcCaCBAcCcaDA') == 'dabCBAcaDA'\n",
    "\n",
    "polymer = day(5).strip() # (strip in case a newline appeared in the file)\n",
    "%time len(react(polymer))"
   ]
  },
  {
   "cell_type": "markdown",
   "metadata": {},
   "source": [
    "For part two, we see what happens if we remove all instances of a unit before reacting. Which unit results in the biggest reaction?"
   ]
  },
  {
   "cell_type": "code",
   "execution_count": 22,
   "metadata": {},
   "outputs": [
    {
     "name": "stdout",
     "output_type": "stream",
     "text": [
      "Wall time: 1min 41s\n"
     ]
    },
    {
     "data": {
      "text/plain": [
       "9560"
      ]
     },
     "execution_count": 22,
     "metadata": {},
     "output_type": "execute_result"
    }
   ],
   "source": [
    "inputs = (re.sub(x, '', polymer, re.I) for x in AZ)\n",
    "%time min(len(react(p)) for p in inputs)"
   ]
  },
  {
   "cell_type": "markdown",
   "metadata": {},
   "source": [
    "## [Day 6](https://adventofcode.com/2018/day/6) Chronal Coordinates\n",
    "We are filling an infinite grid, stepping in horizontal or vertical direction. "
   ]
  },
  {
   "cell_type": "code",
   "execution_count": 23,
   "metadata": {},
   "outputs": [
    {
     "data": {
      "text/plain": [
       "3894"
      ]
     },
     "execution_count": 23,
     "metadata": {},
     "output_type": "execute_result"
    }
   ],
   "source": [
    "coords = set(ints(row) for row in day(6).splitlines())\n",
    "\n",
    "# Find the X and Y ranges of the pts\n",
    "x, X = min(map(first,  coords)), max(map(first,  coords))\n",
    "y, Y = min(map(second, coords)), max(map(second, coords))\n",
    "\n",
    "def on_edge(pt):\n",
    "    'Return `True` if `pt` is on the bounding box of `coords`'\n",
    "    return pt[0] in {x, X} or pt[1] in {y, Y}\n",
    "\n",
    "def closest(pt, coords, dist=manhattan_distance):\n",
    "    'Return the `coords` closest to `pt`'\n",
    "    def key(p): return dist(p, pt)\n",
    "    d, result = next(its.groupby(sorted(coords, key=key), key=key))\n",
    "    return tuple(result)\n",
    "\n",
    "# Find the closest coord to each point in the bounding box of `coords`\n",
    "closest_coords = {p: closest(p, coords) \n",
    "                  for p in its.product(range(x, X+1), range(y, Y+1))}\n",
    "\n",
    "# We are looking for the coord surrounded by the largest contained region. \n",
    "\n",
    "# We can eliminate any coord which is closest to a point on \n",
    "# the bounding box -- such points are not contained\n",
    "infinite_extent = set(\n",
    "    flatten(vs for p, vs in closest_coords.items() if on_edge(p)))\n",
    "\n",
    "# Now count up points closest to `coords` -- this gives us areas of\n",
    "# contained regions\n",
    "areas = collections.Counter(\n",
    "    v for v, *tied in closest_coords.values()\n",
    "    if not tied and v not in infinite_extent)\n",
    "\n",
    "coord, biggest_area = areas.most_common(1)[0]\n",
    "biggest_area"
   ]
  },
  {
   "cell_type": "markdown",
   "metadata": {},
   "source": [
    "For part two, we want to find the region in which all points have a total Manhattan distance from `pts` of less than 10000."
   ]
  },
  {
   "cell_type": "code",
   "execution_count": 24,
   "metadata": {},
   "outputs": [
    {
     "data": {
      "text/plain": [
       "11299.0"
      ]
     },
     "execution_count": 24,
     "metadata": {},
     "output_type": "execute_result"
    }
   ],
   "source": [
    "min(sum(manhattan_distance(p, q) for q in coords) \n",
    "    for p in closest_coords if on_edge(p)) "
   ]
  },
  {
   "cell_type": "markdown",
   "metadata": {},
   "source": [
    "Since 11299 > 10000, this check confirms the region is strictly within the bounding box of the coords."
   ]
  },
  {
   "cell_type": "code",
   "execution_count": 25,
   "metadata": {},
   "outputs": [
    {
     "data": {
      "text/plain": [
       "39398"
      ]
     },
     "execution_count": 25,
     "metadata": {},
     "output_type": "execute_result"
    }
   ],
   "source": [
    "ilen(p for p in its.product(range(x, X+1), range(y, Y+1))\n",
    "     if sum(manhattan_distance(p, q) for q in coords) < 10000)"
   ]
  },
  {
   "cell_type": "markdown",
   "metadata": {},
   "source": [
    "## [Day 7](https://adventofcode.com/2018/day/7) The Sum of Its Parts\n",
    "Part one is a topological sort, with the minor twist of ordering dependencies alphabetically when there's a choice."
   ]
  },
  {
   "cell_type": "code",
   "execution_count": 26,
   "metadata": {},
   "outputs": [
    {
     "data": {
      "text/plain": [
       "('Y', 'J')"
      ]
     },
     "execution_count": 26,
     "metadata": {},
     "output_type": "execute_result"
    }
   ],
   "source": [
    "# Each row in the input looks something like\n",
    "row = 'Step Y must be finished before step J can begin.'\n",
    "# We can extract the dependency like this\n",
    "select = operator.itemgetter(1, 7)\n",
    "select(row.split())"
   ]
  },
  {
   "cell_type": "code",
   "execution_count": 27,
   "metadata": {},
   "outputs": [
    {
     "data": {
      "text/plain": [
       "'CHILFNMORYKGAQXUVBZPSJWDET'"
      ]
     },
     "execution_count": 27,
     "metadata": {},
     "output_type": "execute_result"
    }
   ],
   "source": [
    "edges = sorted(select(row.split()) for row in day(7).splitlines())\n",
    "\n",
    "graph = collections.defaultdict(list,\n",
    "    {v: mapt(second, deps) for v, deps in its.groupby(edges, key=first)})\n",
    "\n",
    "in_degrees = collections.Counter(map(second, edges))\n",
    "ready = set(graph) - set(in_degrees)\n",
    "topo = []\n",
    "while ready:\n",
    "    v = min(ready)\n",
    "    topo.append(v)\n",
    "    ready.remove(v)\n",
    "    in_degrees.subtract(collections.Counter(graph[v]))\n",
    "    ready |= {v for v, n in in_degrees.items() \n",
    "              if n==0 and v not in topo}\n",
    "    \n",
    "cat(topo)"
   ]
  },
  {
   "cell_type": "markdown",
   "metadata": {},
   "source": [
    "Part two adds extra workers (elves) and assigns times to the steps. We are asked for the time to complete the tasks."
   ]
  },
  {
   "cell_type": "code",
   "execution_count": 28,
   "metadata": {},
   "outputs": [
    {
     "data": {
      "text/plain": [
       "891"
      ]
     },
     "execution_count": 28,
     "metadata": {},
     "output_type": "execute_result"
    }
   ],
   "source": [
    "in_degrees = collections.Counter(map(second, edges))\n",
    "ready = set(graph) - set(in_degrees)\n",
    "workers = 5\n",
    "\n",
    "def t_step(S):\n",
    "    'Step A takes 61 seconds, B 62 seconds etc.'\n",
    "    return 61 + ord(S) - ord('A')\n",
    "\n",
    "t = 0\n",
    "work = []\n",
    "topo = []\n",
    "\n",
    "while ready or work:\n",
    "    if ready and workers:\n",
    "        workers -= 1\n",
    "        v = min(ready)\n",
    "        ready.remove(v)\n",
    "        work.append((t + t_step(v), v))\n",
    "    else:\n",
    "        workers += 1\n",
    "        work.sort(reverse=True)\n",
    "        t, v = work.pop()\n",
    "        topo.append(v)\n",
    "        in_degrees.subtract(collections.Counter(graph[v]))\n",
    "        ready |= {v for v, n in in_degrees.items() \n",
    "                  if n==0 and v not in topo and v not in mapt(second, work)}\n",
    "\n",
    "t"
   ]
  },
  {
   "cell_type": "markdown",
   "metadata": {},
   "source": [
    "## [Day 8](https://adventofcode.com/2018/day/8) Memory Maneuver\n",
    "A list of integers defines a tree structure. Part one asks us to total up the metadata stored in the tree nodes."
   ]
  },
  {
   "cell_type": "code",
   "execution_count": 29,
   "metadata": {},
   "outputs": [
    {
     "data": {
      "text/plain": [
       "44838"
      ]
     },
     "execution_count": 29,
     "metadata": {},
     "output_type": "execute_result"
    }
   ],
   "source": [
    "def traverse(tree_data, i, metadata_callback):\n",
    "    '''Traverse `tree_data` from index `i` calling `metadata_callback`\n",
    "    \n",
    "    Returns the index into `tree_data` after traversing\n",
    "    '''\n",
    "    # Read the header ...\n",
    "    children, metas = tree_data[i], tree_data[i+1]\n",
    "    i += 2\n",
    "    # ... and the children\n",
    "    for _ in range(children):\n",
    "        i = traverse(tree_data, i, metadata_callback)\n",
    "    # ... and metadata\n",
    "    metadata_callback(tree_data[i: i+metas])\n",
    "    return i + metas\n",
    "\n",
    "metadata = []\n",
    "\n",
    "# Check the example\n",
    "traverse(ints('2 3 0 3 10 11 12 1 1 0 1 99 2 1 1 2'), 0, metadata.extend)\n",
    "assert sum(metadata) == 138\n",
    "\n",
    "metadata.clear()\n",
    "traverse(ints(day(8)), 0, metadata.extend)\n",
    "sum(metadata)"
   ]
  },
  {
   "cell_type": "markdown",
   "metadata": {},
   "source": [
    "Part two asks for the value of the root node, which is recursively evaluated from its children, considering the metadata as indices into these children."
   ]
  },
  {
   "cell_type": "code",
   "execution_count": 30,
   "metadata": {},
   "outputs": [
    {
     "data": {
      "text/plain": [
       "22198"
      ]
     },
     "execution_count": 30,
     "metadata": {},
     "output_type": "execute_result"
    }
   ],
   "source": [
    "def tree_value(tree_data, i):\n",
    "    children, metas = tree_data[i], tree_data[i+1]\n",
    "    i += 2\n",
    "    child_values = {}\n",
    "    for j in range(children):\n",
    "        i, v = tree_value(tree_data, i)\n",
    "        child_values[j+1] = v\n",
    "    \n",
    "    md = tree_data[i: i+metas]\n",
    "    if children:\n",
    "        value = sum(child_values.get(m, 0) for m in md)\n",
    "    else:\n",
    "        value = sum(md)\n",
    "    return i + metas, value\n",
    "\n",
    "assert tree_value(ints('2 3 0 3 10 11 12 1 1 0 1 99 2 1 1 2'), 0)[1] == 66\n",
    "tree_value(ints(day(8)), 0)[1]"
   ]
  },
  {
   "cell_type": "markdown",
   "metadata": {},
   "source": [
    "## [Day 9](https://adventofcode.com/2018/day/9) Marble Mania\n",
    "Inserting numbers into a circular buffer, following some bizarre rules."
   ]
  },
  {
   "cell_type": "code",
   "execution_count": 31,
   "metadata": {},
   "outputs": [],
   "source": [
    "def play_marbles():\n",
    "    marbles, pos = [0], 0\n",
    "    for N in its.count(1):\n",
    "        if N % 23:\n",
    "            pos = (pos + 2) % len(marbles)\n",
    "            marbles.insert(pos, N)\n",
    "            yield 0\n",
    "        else:\n",
    "            pos = (pos - 7) % len(marbles)\n",
    "            yield N + marbles.pop(pos)\n",
    "\n",
    "def marbles_game(players, marbles):\n",
    "    scores = collections.Counter()\n",
    "    for score, player in zip(\n",
    "        its.islice(play_marbles(), marbles), its.cycle(range(players))):\n",
    "        scores[player] += score\n",
    "    return max(scores.values())\n",
    "\n",
    "assert marbles_game(10, 1618) == 8317\n",
    "assert marbles_game(13, 7999) == 146373\n",
    "assert marbles_game(17, 1104) == 2764\n",
    "assert marbles_game(30, 5807) == 37305"
   ]
  },
  {
   "cell_type": "code",
   "execution_count": 32,
   "metadata": {},
   "outputs": [
    {
     "name": "stdout",
     "output_type": "stream",
     "text": [
      "Wall time: 676 ms\n"
     ]
    },
    {
     "data": {
      "text/plain": [
       "416424"
      ]
     },
     "execution_count": 32,
     "metadata": {},
     "output_type": "execute_result"
    }
   ],
   "source": [
    "# My input: 413 players; last marble is worth 71082 points\n",
    "%time marbles_game(413, 71082)"
   ]
  },
  {
   "cell_type": "markdown",
   "metadata": {},
   "source": [
    "For the second part, I wrote a [C++ program](./day9/main.cpp) using a doubly-linked list so I could insert and delete nodes in constant time. This gave the answer `3498287922`."
   ]
  },
  {
   "cell_type": "markdown",
   "metadata": {},
   "source": [
    "## [Day 10](https://adventofcode.com/2018/day/10) The Stars Align\n",
    "Points move in a grid until they form a message."
   ]
  },
  {
   "cell_type": "code",
   "execution_count": 33,
   "metadata": {},
   "outputs": [
    {
     "data": {
      "text/plain": [
       "(range(141, 203), range(133, 143))"
      ]
     },
     "execution_count": 33,
     "metadata": {},
     "output_type": "execute_result"
    }
   ],
   "source": [
    "pts_vs = array(day(10))\n",
    "\n",
    "def lights(pts_vs):\n",
    "    'Generate the light positions from the `pts_vs` point+velocity 4-tuples.'\n",
    "    posns = [(its.count(x, vx), its.count(y, vy)) for x, y, vx, vy in pts_vs]\n",
    "    while True:\n",
    "        yield [(next(x), next(y)) for x, y in posns]\n",
    "\n",
    "def bounding_box(pts):\n",
    "    'Return the axis-aligned box which bounds `pts` as an X-range, Y-range pair'\n",
    "    xs, ys = mapt(first, pts), mapt(second, pts)\n",
    "    return range(min(xs), max(xs)+1), range(min(ys), max(ys)+1)\n",
    "\n",
    "def area(box):\n",
    "    w, h = box\n",
    "    return len(w) * len(h)\n",
    "\n",
    "this_pts, next_pts = its.tee(lights(pts_vs))\n",
    "next(next_pts)\n",
    "\n",
    "# We'll assume the message appears when the bounding box of \n",
    "# the points reaches a minimum -- when we print the result\n",
    "# we'll know if we were right :-)\n",
    "for seconds, (this, next_) in enumerate(zip(this_pts, next_pts)):\n",
    "    if area(bounding_box(this)) < area(bounding_box(next_)):\n",
    "        break\n",
    "\n",
    "# Check the bounding box looks sane\n",
    "bounding_box(this)"
   ]
  },
  {
   "cell_type": "code",
   "execution_count": 34,
   "metadata": {},
   "outputs": [
    {
     "name": "stdout",
     "output_type": "stream",
     "text": [
      "******  *****   *****   *****   *****   *****   ******    **  \n",
      "*       *    *  *    *  *    *  *    *  *    *       *   *  * \n",
      "*       *    *  *    *  *    *  *    *  *    *       *  *    *\n",
      "*       *    *  *    *  *    *  *    *  *    *      *   *    *\n",
      "*****   *****   *****   *****   *****   *****      *    *    *\n",
      "*       *       *  *    *    *  *  *    *  *      *     ******\n",
      "*       *       *   *   *    *  *   *   *   *    *      *    *\n",
      "*       *       *   *   *    *  *   *   *   *   *       *    *\n",
      "*       *       *    *  *    *  *    *  *    *  *       *    *\n",
      "*       *       *    *  *****   *    *  *    *  ******  *    *\n"
     ]
    }
   ],
   "source": [
    "# Yes, that looks good. Render the message\n",
    "draw_grid({p: '*' if p in this else ' '\n",
    "          for p in its.product(*bounding_box(this))})"
   ]
  },
  {
   "cell_type": "markdown",
   "metadata": {},
   "source": [
    "Part two of the question asks how long it would take to get this answer. I went back and modified my `for` loop to enumerate the zipped values, making the answer available."
   ]
  },
  {
   "cell_type": "code",
   "execution_count": 35,
   "metadata": {},
   "outputs": [
    {
     "data": {
      "text/plain": [
       "10027"
      ]
     },
     "execution_count": 35,
     "metadata": {},
     "output_type": "execute_result"
    }
   ],
   "source": [
    "seconds"
   ]
  },
  {
   "cell_type": "markdown",
   "metadata": {},
   "source": [
    "## [Day 11](https://adventofcode.com/2018/day/11) Chronal Charge\n",
    "We are asked to find the 3x3 square in a 300x300 grid with the largest total power level. "
   ]
  },
  {
   "cell_type": "code",
   "execution_count": 36,
   "metadata": {},
   "outputs": [],
   "source": [
    "# The power level for cell (x, y) is calculated from its coords\n",
    "# and a \"serial number\"\n",
    "def hundreds(n):\n",
    "    'Return the hundreds digit in the decimal representation of `n`'\n",
    "    return (n//100)%10\n",
    "\n",
    "def power_level(serial_number, x, y):\n",
    "    rack_id = x + 10\n",
    "    return hundreds((rack_id*y + serial_number)*rack_id) - 5\n",
    "\n",
    "assert power_level(8, 3, 5) == 4\n",
    "assert power_level(71, 101, 153) == 4"
   ]
  },
  {
   "cell_type": "code",
   "execution_count": 37,
   "metadata": {
    "scrolled": true
   },
   "outputs": [
    {
     "name": "stdout",
     "output_type": "stream",
     "text": [
      "Wall time: 428 ms\n"
     ]
    },
    {
     "data": {
      "text/plain": [
       "(243, 64)"
      ]
     },
     "execution_count": 37,
     "metadata": {},
     "output_type": "execute_result"
    }
   ],
   "source": [
    "def power_levels(serial_number, S):\n",
    "    'Calculate power levels for square side `S` using supplied `serial_number`'\n",
    "    return {p: power_level(serial_number, *p) \n",
    "            for p in its.product(range(1, S+1), repeat=2)}\n",
    "    \n",
    "def max_power_cell(serial_number, s, S):\n",
    "    '''Maximise the power for a square side `s`\n",
    "    \n",
    "    Returns the cell at the top-left of the `s` square\n",
    "    - serial_number\n",
    "    - s, the side legth\n",
    "    - S, side length of the whole grid\n",
    "    '''\n",
    "    levels = power_levels(serial_number, S)\n",
    "    def total_power(x, y):\n",
    "        sq = its.product(range(x, x+s), range(y, y+s))\n",
    "        return sum(levels[p] for p in sq)\n",
    "\n",
    "    return max(\n",
    "        (p for p in its.product(range(1,1+S-s), repeat=2)),\n",
    "        key=lambda p: total_power(*p))\n",
    "\n",
    "s, S = 3, 300\n",
    "serial_number = 5468\n",
    "assert max_power_cell(18, s, S) == (33, 45)\n",
    "%time max_power_cell(5468, s, S)"
   ]
  },
  {
   "cell_type": "code",
   "execution_count": 38,
   "metadata": {},
   "outputs": [
    {
     "name": "stdout",
     "output_type": "stream",
     "text": [
      " -4 -3 -3 -3\n",
      " -2 -2 -1 -1\n",
      " -1  0  0  1\n",
      "  0  1  2  3\n"
     ]
    }
   ],
   "source": [
    "def draw_cells(cells):\n",
    "    'Draw the square grid of `cells`'\n",
    "    S = int(math.sqrt(len(cells)))\n",
    "    R = range(1, S+1)\n",
    "    print(ncat(cat(f'{cells[(x,y)]:3}' for x in R) for y in R))\n",
    "\n",
    "draw_cells(power_levels(6, 4))"
   ]
  },
  {
   "cell_type": "markdown",
   "metadata": {},
   "source": [
    "For the second part of the question, we want to maximise the power in a square region over all possible square side lengths `s`. We start by accumulating the power over the grid. "
   ]
  },
  {
   "cell_type": "code",
   "execution_count": 39,
   "metadata": {},
   "outputs": [
    {
     "name": "stdout",
     "output_type": "stream",
     "text": [
      " -4 -3 -3 -3\n",
      " -2 -2 -1 -1\n",
      " -1  0  0  1\n",
      "  0  1  2  3\n",
      "\n",
      " -4 -7-10-13\n",
      " -6-11-15-19\n",
      " -7-12-16-19\n",
      " -7-11-13-13\n"
     ]
    }
   ],
   "source": [
    "def cumulative_power(serial_number, S):\n",
    "    cells = power_levels(serial_number, S)\n",
    "    R = range(1, S+1)\n",
    "    # Accumulate rows top-to-bottom\n",
    "    for y in R[1:]:\n",
    "        cells.update({(x,y): cells[x,y]+cells[x,y-1] for x in R})\n",
    "\n",
    "    # Accumulate columns left-to-right\n",
    "    for x in R[1:]:\n",
    "        cells.update({(x,y): cells[x,y]+cells[x-1,y] for y in R})\n",
    "    \n",
    "    return collections.Counter(cells)\n",
    "\n",
    "draw_cells(power_levels(6,4))\n",
    "print()\n",
    "draw_cells(cumulative_power(6, 4))"
   ]
  },
  {
   "cell_type": "markdown",
   "metadata": {},
   "source": [
    "Using the cumulative power grid we can read out the total power for a rectangular region."
   ]
  },
  {
   "cell_type": "code",
   "execution_count": 40,
   "metadata": {},
   "outputs": [],
   "source": [
    "def region_power(accu, t, l, b, r):\n",
    "    '''Return the total power for a rectangular region\n",
    "    \n",
    "    accu - the cumulative powers over the grid\n",
    "    tl - top-left corner\n",
    "    br - bottom-right corner (included)\n",
    "    '''\n",
    "    return accu[(r,b)] - accu[(r,t-1)] - accu[(l-1,b)] + accu[(l-1,t-1)]\n",
    "\n",
    "accu = cumulative_power(6, 4)\n",
    "assert region_power(accu, 1, 1, 1, 1) == -4\n",
    "assert region_power(accu, 1, 1, 3, 2) == -12"
   ]
  },
  {
   "cell_type": "code",
   "execution_count": 41,
   "metadata": {},
   "outputs": [
    {
     "name": "stdout",
     "output_type": "stream",
     "text": [
      "5468 300\n",
      "Wall time: 16.4 s\n"
     ]
    },
    {
     "data": {
      "text/plain": [
       "(90, 101, 15)"
      ]
     },
     "execution_count": 41,
     "metadata": {},
     "output_type": "execute_result"
    }
   ],
   "source": [
    "def highest_powered_square(serial_number, S):\n",
    "    R = range(S+1)\n",
    "    accu = cumulative_power(serial_number, S)\n",
    "    def square_power(lts):\n",
    "        left, top, side = lts\n",
    "        return region_power(accu, top, left, top+side-1, left+side-1)\n",
    "    return max(\n",
    "        ((left, top, side)\n",
    "        for side in range(1, S+1)\n",
    "        for top, left in its.product(range(1, S-side+2), repeat=2)),\n",
    "        key=square_power)\n",
    "\n",
    "# Check the supplied example answers\n",
    "assert highest_powered_square(18, 300) == (90, 269, 16)\n",
    "assert highest_powered_square(42, 300) == (232, 251, 12)\n",
    "\n",
    "print(serial_number, S)\n",
    "%time highest_powered_square(serial_number, S)"
   ]
  },
  {
   "cell_type": "markdown",
   "metadata": {},
   "source": [
    "## [Day 12](https://adventofcode.com/2018/day/12) Subterranean Sustainability\n",
    "This looks like a one dimensional [game of life](http://wordaligned.org/life)."
   ]
  },
  {
   "cell_type": "code",
   "execution_count": 42,
   "metadata": {},
   "outputs": [
    {
     "name": "stdout",
     "output_type": "stream",
     "text": [
      "#..#.#..##......###...###\n",
      "#...#....#.....#..#..#..#\n",
      "##..##...##....#..#..#..##\n",
      "#.#...#..#.#....#..#..#...#\n",
      "#.#..#...#.#...#..#..##..##\n"
     ]
    }
   ],
   "source": [
    "def parse_input(data):\n",
    "    'Read initial state and rules'\n",
    "    rules = {}\n",
    "    for line in data.splitlines():\n",
    "        if 'initial state' in line:\n",
    "            state = line.split()[2]\n",
    "        elif '=>' in line:\n",
    "            src, _, dst = line.split()\n",
    "            rules[src] = dst\n",
    "    return state, rules\n",
    "\n",
    "def trim(state, pos0):\n",
    "    begin, end = state.find('#'), state.rfind('#')\n",
    "    return state[begin:end+1], pos0-begin\n",
    "\n",
    "def grow_plants(state, rules):\n",
    "    pos0 = 0\n",
    "    while True:\n",
    "        state, pos0 = trim(state, pos0)\n",
    "        yield state, pos0\n",
    "        # Pad the state with enough blanks to apply the rules\n",
    "        padded = '....' + state + '....'\n",
    "        state = cat(rules.get(padded[p:p+5], '.') for p,c in enumerate(padded[2:-2]))\n",
    "        pos0 += 2\n",
    "\n",
    "example_setup = '''\\\n",
    "initial state: #..#.#..##......###...###\n",
    "\n",
    "...## => #\n",
    "..#.. => #\n",
    ".#... => #\n",
    ".#.#. => #\n",
    ".#.## => #\n",
    ".##.. => #\n",
    ".#### => #\n",
    "#.#.# => #\n",
    "#.### => #\n",
    "##.#. => #\n",
    "##.## => #\n",
    "###.. => #\n",
    "###.# => #\n",
    "####. => #'''\n",
    "\n",
    "# Let's check the output against the example shown\n",
    "state, rules = parse_input(example_setup)\n",
    "print('\\n'.join(s for s, _ in take(grow_plants(state, rules), 5)))"
   ]
  },
  {
   "cell_type": "code",
   "execution_count": 43,
   "metadata": {},
   "outputs": [
    {
     "data": {
      "text/plain": [
       "2040"
      ]
     },
     "execution_count": 43,
     "metadata": {},
     "output_type": "execute_result"
    }
   ],
   "source": [
    "def sum_of_plant_positions(setup, time):\n",
    "    plants = grow_plants(*parse_input(setup))\n",
    "    state, pos0 = next(its.islice(plants, time, None))\n",
    "    return sum(i - pos0 for i, c in enumerate(state) if c == '#')\n",
    "\n",
    "assert sum_of_plant_positions(example_setup, 20) == 325\n",
    "sum_of_plant_positions(day(12), 20)"
   ]
  },
  {
   "cell_type": "markdown",
   "metadata": {},
   "source": [
    "For part two, we're asked for the value returned by `sum_of_plant_positions()` when `time=50_000_000_000`. This is way too big to run directly. Let's see if the pattern repeats."
   ]
  },
  {
   "cell_type": "code",
   "execution_count": 44,
   "metadata": {},
   "outputs": [
    {
     "name": "stdout",
     "output_type": "stream",
     "text": [
      "192 -96 191 -95\n"
     ]
    }
   ],
   "source": [
    "def repeat(setup):\n",
    "    '''Grow plants from initial setup until a state repeats\n",
    "    \n",
    "    Returns (state, time of repeat, pos0 at repeat, time first seen, pos0 first seen)\n",
    "    '''\n",
    "    seen = {}\n",
    "    for t, (state, pos0) in enumerate(grow_plants(*parse_input(setup))):\n",
    "        if state in seen:\n",
    "            return (state, t, pos0, *seen[state])\n",
    "        seen[state] = t, pos0\n",
    "\n",
    "state, t_repeat, pos0_repeat, t_first_seen, pos0_first_seen = repeat(day(12))\n",
    "print(t_repeat, pos0_repeat, t_first_seen, pos0_first_seen)"
   ]
  },
  {
   "cell_type": "markdown",
   "metadata": {},
   "source": [
    "This tells us the state at time `192` is the same as the state at time `191`, shifted one to the left. Now we can figure out the state at `time=50_000_000_000`."
   ]
  },
  {
   "cell_type": "code",
   "execution_count": 45,
   "metadata": {},
   "outputs": [
    {
     "data": {
      "text/plain": [
       "1700000000011"
      ]
     },
     "execution_count": 45,
     "metadata": {},
     "output_type": "execute_result"
    }
   ],
   "source": [
    "T = 50_000_000_000\n",
    "pos0 = -96 - T + 192\n",
    "sum(i - pos0 for i, c in enumerate(state) if c == '#')"
   ]
  },
  {
   "cell_type": "markdown",
   "metadata": {},
   "source": [
    "## [Day 13](https://adventofcode.com/2018/day/13) Mine Cart Madness\n",
    "Carts are moving round a grid, according to simple rules. The challenge for part one is to locate the first collision. This can be done by reading in the initial set up and then applying the rules to simulate the carts' movements."
   ]
  },
  {
   "cell_type": "code",
   "execution_count": 46,
   "metadata": {},
   "outputs": [],
   "source": [
    "# Complex numbers can be used to represent both position and direction.\n",
    "\n",
    "# Directions to step\n",
    "N, E, S, W = -1j, 1, 1j, -1\n",
    "# Ways to turn through 90 degrees\n",
    "# Note: multiplying a direction by a turn effects that turn\n",
    "LEFT, AHEAD, RIGHT = -1j, 1, 1j \n",
    "\n",
    "class Cart:\n",
    "    'A cart on a grid'\n",
    "\n",
    "    def __init__(self, pos, dir_):\n",
    "        'Initialise, given position and direction'\n",
    "        self.pos = pos\n",
    "        self.dir = dir_\n",
    "        self.turn = its.cycle([LEFT,AHEAD,RIGHT])\n",
    "\n",
    "    def step(self, track):\n",
    "        'Step along the track, returning new position'\n",
    "        self.pos += self.dir\n",
    "        # Recalculate direction\n",
    "        at = track[self.pos]\n",
    "        if   at == '+' : self.dir = next(self.turn) * self.dir\n",
    "        elif at == '/' : self.dir = {N:E, S:W, W:S, E:N}[self.dir]\n",
    "        elif at == '\\\\': self.dir = {N:W, S:E, E:S, W:N}[self.dir]\n",
    "        return self.pos\n",
    "\n",
    "    def __lt__(self, o):\n",
    "        # We need to advance the carts in order\n",
    "        return (self.pos.imag, self.pos.real) < (o.pos.imag, o.pos.real)\n",
    "    \n",
    "    def __str__(self):\n",
    "        return {N:'^', S:'v', E:'>', W:'<'}[self.dir] "
   ]
  },
  {
   "cell_type": "markdown",
   "metadata": {},
   "source": [
    "We need to read in the initial setup."
   ]
  },
  {
   "cell_type": "code",
   "execution_count": 47,
   "metadata": {},
   "outputs": [
    {
     "name": "stdout",
     "output_type": "stream",
     "text": [
      "/->-\\        \n",
      "|   |  /----\\\n",
      "| /-+--+-\\  |\n",
      "| | |  | v  |\n",
      "\\-+-/  \\-+--/\n",
      "  \\------/   \n"
     ]
    }
   ],
   "source": [
    "def read_setup(data):\n",
    "    'Read the setup from `data`, returning carts and track.'\n",
    "    cart_to_track = {'^':'|','v':'|','>':'-','<':'-'}\n",
    "    cart_or_track = set('^v><+|-/\\\\')\n",
    "    cart_to_dir = {'^':N, 'v':S, '>':E, '<':W}\n",
    "\n",
    "    all_ = {complex(x,y): c\n",
    "            for y, row in enumerate(data.splitlines())\n",
    "            for x, c in enumerate(row)}\n",
    "\n",
    "    carts = {Cart(p, cart_to_dir[c]) for p,c in all_.items()\n",
    "             if c in cart_to_track}\n",
    "\n",
    "    track = {p: cart_to_track.get(c, c)\n",
    "             for p,c in all_.items() if c in cart_or_track}\n",
    "\n",
    "    return carts, track\n",
    "\n",
    "\n",
    "def draw(carts, track):\n",
    "    width = int(max(p.real for p in track))\n",
    "    height = int(max(p.imag for p in track))\n",
    "    pic = {**track, **{cart.pos: str(cart) for cart in carts}}\n",
    "    draw_grid({p: pic.get(complex(*p), ' ') \n",
    "               for p in its.product(range(width+1), range(height+1))})\n",
    "\n",
    "example_13 = read_setup(\n",
    "r'''/->-\\        \n",
    "|   |  /----\\\n",
    "| /-+--+-\\  |\n",
    "| | |  | v  |\n",
    "\\-+-/  \\-+--/\n",
    "  \\------/   \n",
    "''')\n",
    "\n",
    "draw(*example_13)"
   ]
  },
  {
   "cell_type": "markdown",
   "metadata": {},
   "source": [
    "For part one, we want to know where the first crash occurs."
   ]
  },
  {
   "cell_type": "code",
   "execution_count": 48,
   "metadata": {},
   "outputs": [
    {
     "data": {
      "text/plain": [
       "(136, 36)"
      ]
     },
     "execution_count": 48,
     "metadata": {},
     "output_type": "execute_result"
    }
   ],
   "source": [
    "def first_crash(carts, track):\n",
    "    while True:\n",
    "        for cart in sorted(carts):\n",
    "            pos = cart.step(track)\n",
    "            if ilen(c for c in carts if c.pos == pos) > 1:\n",
    "                return int(pos.real), int(pos.imag)\n",
    "\n",
    "assert first_crash(*example_13) == (7, 3)\n",
    "first_crash(*read_setup(day(13)))"
   ]
  },
  {
   "cell_type": "markdown",
   "metadata": {},
   "source": [
    "Part two asks for the position of the final cart after the others have crashed out."
   ]
  },
  {
   "cell_type": "code",
   "execution_count": 49,
   "metadata": {},
   "outputs": [
    {
     "name": "stdout",
     "output_type": "stream",
     "text": [
      "(53, 111)\n"
     ]
    }
   ],
   "source": [
    "def last_cart_pos(carts, track):\n",
    "    crashed = set()\n",
    "    while len(carts) > 1:\n",
    "        for cart in sorted(carts):\n",
    "            pos = cart.step(track)\n",
    "            at_pos = {c for c in carts-crashed if c.pos==pos}\n",
    "            if len(at_pos) > 1:\n",
    "                crashed |= at_pos\n",
    "        carts -= crashed\n",
    "    assert len(carts) == 1\n",
    "    pos = carts.pop().pos\n",
    "    return int(pos.real), int(pos.imag)\n",
    "\n",
    "example_13_part2 = read_setup(\n",
    "r'''/>-<\\  \n",
    "|   |  \n",
    "| /<+-\\\n",
    "| | | v\n",
    "\\>+</ |\n",
    "  |   ^\n",
    "  \\<->/  \n",
    "''')\n",
    "\n",
    "assert last_cart_pos(*example_13_part2) == (6, 4)\n",
    "print(last_cart_pos(*read_setup(day(13))))"
   ]
  },
  {
   "cell_type": "markdown",
   "metadata": {},
   "source": [
    "## [Day 14](https://adventofcode.com/2018/day/14) Chocolate Charts\n",
    "A pair of elves are inventing recipes, which they do by combining numbers from a list of existing recipes."
   ]
  },
  {
   "cell_type": "code",
   "execution_count": 50,
   "metadata": {},
   "outputs": [
    {
     "data": {
      "text/plain": [
       "[[3, 7, 1, 0, 1, 0, 1, 2, 4],\n",
       " [3, 7, 1, 0, 1, 0, 1, 2, 4],\n",
       " [3, 7, 1, 0, 1, 0, 1, 2, 4],\n",
       " [3, 7, 1, 0, 1, 0, 1, 2, 4],\n",
       " [3, 7, 1, 0, 1, 0, 1, 2, 4]]"
      ]
     },
     "execution_count": 50,
     "metadata": {},
     "output_type": "execute_result"
    }
   ],
   "source": [
    "def digits(N):\n",
    "    '''Return a list of the digits in +ve int N\n",
    "    \n",
    "    >>> digits(123)\n",
    "    [1, 2, 3]\n",
    "    '''\n",
    "    return [int(d) for d in str(N)]\n",
    "\n",
    "def generate_recipes(recipes, elf1, elf2):\n",
    "    '''Generate the list of recipes\n",
    "    \n",
    "    - recipes: initial list of recipes\n",
    "    - elf1, elf2: position of santa's helpers\n",
    "    '''\n",
    "    digits_ = [digits(n) for n in range(19)]\n",
    "    while True:\n",
    "        yield recipes\n",
    "        recipes += digits_[recipes[elf1] + recipes[elf2]]\n",
    "        elf1 = (elf1 + recipes[elf1] + 1) % len(recipes)\n",
    "        elf2 = (elf2 + recipes[elf2] + 1) % len(recipes)\n",
    "\n",
    "# Check generate_recipes() matches the supplied example\n",
    "take(generate_recipes([3, 7], 0, 1), 5)"
   ]
  },
  {
   "cell_type": "code",
   "execution_count": 51,
   "metadata": {},
   "outputs": [],
   "source": [
    "input14 = 540391"
   ]
  },
  {
   "cell_type": "markdown",
   "metadata": {},
   "source": [
    "We're asked for the 10 recipes which follow the first N, where N is the puzzle input -- in my case, `540391`."
   ]
  },
  {
   "cell_type": "code",
   "execution_count": 52,
   "metadata": {},
   "outputs": [
    {
     "name": "stdout",
     "output_type": "stream",
     "text": [
      "1474315445\n"
     ]
    }
   ],
   "source": [
    "gen = generate_recipes([3, 7], 0, 1)\n",
    "recipes = next(r for r in gen if len(r) >= input14 + 10)\n",
    "print(cat(map(str, recipes[input14:input14+10])))"
   ]
  },
  {
   "cell_type": "markdown",
   "metadata": {},
   "source": [
    "Part two asks when we see the recipe sequence formed from the digits of N, the puzzle input."
   ]
  },
  {
   "cell_type": "code",
   "execution_count": 53,
   "metadata": {},
   "outputs": [],
   "source": [
    "def day14_part2(input_n):\n",
    "    gen = generate_recipes([3, 7], 0, 1)\n",
    "    seq = digits(input_n)\n",
    "    L = len(seq)\n",
    "    for recipes in gen:\n",
    "        if recipes[-L:] == seq: \n",
    "            return len(recipes) - L\n",
    "        if recipes[-L-1:-1] == seq: \n",
    "            return len(recipes) - L - 1\n",
    "\n",
    "assert day14_part2(51589) == 9\n",
    "assert day14_part2(59414) == 2018"
   ]
  },
  {
   "cell_type": "code",
   "execution_count": 54,
   "metadata": {},
   "outputs": [
    {
     "name": "stdout",
     "output_type": "stream",
     "text": [
      "Wall time: 21.4 s\n"
     ]
    },
    {
     "data": {
      "text/plain": [
       "20278122"
      ]
     },
     "execution_count": 54,
     "metadata": {},
     "output_type": "execute_result"
    }
   ],
   "source": [
    "%time day14_part2(input14)"
   ]
  },
  {
   "cell_type": "markdown",
   "metadata": {},
   "source": [
    "## [Day 16](https://adventofcode.com/2018/day/16) Chronal Classification\n",
    "We are given a description of various computer instructions and have to figure out which of them might produce results given a sample showing the register values before and after. I split the input into two sections: part one requires the first only, which is a list of samples, the last of which reads:"
   ]
  },
  {
   "cell_type": "code",
   "execution_count": 55,
   "metadata": {},
   "outputs": [
    {
     "name": "stdout",
     "output_type": "stream",
     "text": [
      "Before: [3, 2, 0, 3]\n",
      "11 2 0 2\n",
      "After:  [3, 2, 1, 3]\n"
     ]
    }
   ],
   "source": [
    "! tail -n 3 input/16_part_one"
   ]
  },
  {
   "cell_type": "code",
   "execution_count": 56,
   "metadata": {},
   "outputs": [
    {
     "data": {
      "text/plain": [
       "((3, 2, 0, 3), (11, 2, 0, 2), (3, 2, 1, 3))"
      ]
     },
     "execution_count": 56,
     "metadata": {},
     "output_type": "execute_result"
    }
   ],
   "source": [
    "def load_part_one(data):\n",
    "    'Load up (before, instruction, after) triples'\n",
    "    xs = array(data)\n",
    "    return take(chunked((x for x in xs if x), 3))\n",
    "\n",
    "samples = load_part_one(open('input/16_part_one').read())\n",
    "samples[-1]"
   ]
  },
  {
   "cell_type": "markdown",
   "metadata": {},
   "source": [
    "We have 16 possible operations on a processor with 4 registers. The operations can be \"register\" or \"immediate\", applying to the value in the register specified in the instruction or to the value itself respectively."
   ]
  },
  {
   "cell_type": "code",
   "execution_count": 57,
   "metadata": {},
   "outputs": [],
   "source": [
    "def addr(regs, A, B, C): regs[C] = regs[A] +  regs[B]\n",
    "def addi(regs, A, B, C): regs[C] = regs[A] +       B\n",
    "def mulr(regs, A, B, C): regs[C] = regs[A] *  regs[B]\n",
    "def muli(regs, A, B, C): regs[C] = regs[A] *       B\n",
    "def banr(regs, A, B, C): regs[C] = regs[A] &  regs[B]\n",
    "def bani(regs, A, B, C): regs[C] = regs[A] &       B\n",
    "def borr(regs, A, B, C): regs[C] = regs[A] |  regs[B]\n",
    "def bori(regs, A, B, C): regs[C] = regs[A] |       B\n",
    "def setr(regs, A, B, C): regs[C] = regs[A]\n",
    "def seti(regs, A, B, C): regs[C] =      A\n",
    "def gtir(regs, A, B, C): regs[C] =      A  >  regs[B]\n",
    "def gtri(regs, A, B, C): regs[C] = regs[A] >       B\n",
    "def gtrr(regs, A, B, C): regs[C] = regs[A] > regs[B]\n",
    "def eqir(regs, A, B, C): regs[C] =      A  == regs[B]\n",
    "def eqri(regs, A, B, C): regs[C] = regs[A] ==      B\n",
    "def eqrr(regs, A, B, C): regs[C] = regs[A] == regs[B]\n",
    "\n",
    "all_ops = [\n",
    "    addr, addi, mulr, muli, banr, bani, borr, bori, setr, seti,\n",
    "    gtir, gtri, gtrr, eqir, eqri, eqrr\n",
    "]"
   ]
  },
  {
   "cell_type": "markdown",
   "metadata": {},
   "source": [
    "Now we've implemented the operators, part one asks how many samples in the puzzle input behave like three or more opcodes?"
   ]
  },
  {
   "cell_type": "code",
   "execution_count": 58,
   "metadata": {},
   "outputs": [
    {
     "data": {
      "text/plain": [
       "580"
      ]
     },
     "execution_count": 58,
     "metadata": {},
     "output_type": "execute_result"
    }
   ],
   "source": [
    "def valid_for_sample(op, sample):\n",
    "    'Return `True` iff the op is valid for the sample'\n",
    "    before, instruction, after = sample\n",
    "    regs, after = list(before), list(after)\n",
    "    code, A, B, C = instruction\n",
    "    op(regs, A, B, C)\n",
    "    return regs == after\n",
    "\n",
    "def possible_ops(all_ops, sample):\n",
    "    'Return the subset of `all_ops` which are valid for the sample'\n",
    "    return {op for op in all_ops if valid_for_sample(op, sample)}\n",
    "\n",
    "# Try out the example\n",
    "assert len(possible_ops(all_ops, ((3, 2, 1, 1), (9, 2, 1, 2), (3, 2, 2, 1)))) == 3\n",
    "\n",
    "# Now get the answer for part one\n",
    "ilen(_ for sample in samples if len(possible_ops(all_ops, sample)) >= 3)"
   ]
  },
  {
   "cell_type": "markdown",
   "metadata": {},
   "source": [
    "For part two, we learn the samples are self-consistent, and we can deduce which opcode corresponds to which operator. We need to figure out the mapping `opcode => operation` where `op_code` is the opcode value and `operation` is the function -- one of `all_ops`"
   ]
  },
  {
   "cell_type": "code",
   "execution_count": 59,
   "metadata": {},
   "outputs": [],
   "source": [
    "def map_code2op(all_ops, samples):\n",
    "    'Return the {code => op} mapping consistent with samples'\n",
    "    code2op = {n:set(all_ops) for n in range(16)}\n",
    "    for sample in samples:\n",
    "        code = sample[1][0]\n",
    "        code2op[code] &= possible_ops(all_ops, sample)\n",
    "    while any(len(ops) > 1 for ops in code2op.values()):\n",
    "        known_codes = {code for code, ops in code2op.items() if len(ops)==1}\n",
    "        known_ops = {op for code in known_codes for op in code2op[code]}\n",
    "        for code in set(code2op) - known_codes:\n",
    "            code2op[code] -= known_ops\n",
    "    assert all(len(ops)==1 for ops in code2op.values())\n",
    "    return {code: ops.pop() for code, ops in code2op.items()}\n",
    "\n",
    "code2op = map_code2op(all_ops, samples)"
   ]
  },
  {
   "cell_type": "markdown",
   "metadata": {},
   "source": [
    "Now we're asked to run the program given as the second part of the input, and find the final value of register `0`."
   ]
  },
  {
   "cell_type": "code",
   "execution_count": 60,
   "metadata": {},
   "outputs": [
    {
     "data": {
      "text/plain": [
       "537"
      ]
     },
     "execution_count": 60,
     "metadata": {},
     "output_type": "execute_result"
    }
   ],
   "source": [
    "def run_prog(code2op, prog):\n",
    "    regs = [0, 0, 0, 0]\n",
    "    for code, A, B, C in prog:\n",
    "        code2op[code](regs, A, B, C)\n",
    "    return regs\n",
    "\n",
    "test_prog = array(open('input/16_part_two').read())\n",
    "regs = run_prog(code2op, test_prog)\n",
    "regs[0]"
   ]
  },
  {
   "cell_type": "markdown",
   "metadata": {},
   "source": [
    "## [Day 17](https://adventofcode.com/2018/day/17) Reservoir Research\n",
    "Water sinks into the ground. It stops when it hits clay. The worked example suggests two modes: \n",
    "- fill, when the water is contained by horizontal and vertical bounds\n",
    "- spill, when the water flows horizontally and down"
   ]
  },
  {
   "cell_type": "code",
   "execution_count": 61,
   "metadata": {},
   "outputs": [
    {
     "name": "stdout",
     "output_type": "stream",
     "text": [
      "............#.\n",
      ".#..#.......#.\n",
      ".#..#..#......\n",
      ".#..#..#......\n",
      ".#.....#......\n",
      ".#.....#......\n",
      ".#######......\n",
      "..............\n",
      "..............\n",
      "....#.....#...\n",
      "....#.....#...\n",
      "....#.....#...\n",
      "....#######...\n",
      "!!!!!!!!!!!!!!\n"
     ]
    }
   ],
   "source": [
    "example_17 = '''\\\n",
    "x=495, y=2..7\n",
    "y=7, x=495..501\n",
    "x=501, y=3..7\n",
    "x=498, y=2..4\n",
    "x=506, y=1..2\n",
    "x=498, y=10..13\n",
    "x=504, y=10..13\n",
    "y=13, x=498..504'''\n",
    "\n",
    "def read_ground(data):\n",
    "    'Reads in the ground, as specified by the example data above'\n",
    "    ground = collections.defaultdict(lambda: '.')\n",
    "    fill = ground.update\n",
    "\n",
    "    for row in data.splitlines():\n",
    "        v, lo, hi = ints(row)\n",
    "        if row.startswith('x'): \n",
    "            fill(((v,y), '#') for y in range(lo, hi+1))\n",
    "        elif row.startswith('y'):\n",
    "            fill(((x,v), '#') for x in range(lo, hi+1))\n",
    "    \n",
    "    # Add \"!\" at the base level so we know when we're in pure sand\n",
    "    x, X = min(map(first, ground)), max(map(first, ground))\n",
    "    Y = max(map(second, ground))\n",
    "    fill(((x, Y+1), '!') for x in range(x-1, X+2))\n",
    "\n",
    "    return ground\n",
    "\n",
    "example_ground = read_ground(example_17)\n",
    "draw_grid(example_ground, '.')"
   ]
  },
  {
   "cell_type": "markdown",
   "metadata": {},
   "source": [
    "Now let's try and implement the fill and spill flow."
   ]
  },
  {
   "cell_type": "code",
   "execution_count": 62,
   "metadata": {},
   "outputs": [
    {
     "name": "stdout",
     "output_type": "stream",
     "text": [
      "            # \n",
      " #  #       # \n",
      " #  #  #      \n",
      " #  #  #      \n",
      " #     #      \n",
      " #     #      \n",
      " #######      \n",
      "              \n",
      "              \n",
      "    #     #   \n",
      "    #     #   \n",
      "    #     #   \n",
      "    #######   \n",
      "!!!!!!!!!!!!!!\n",
      "\n",
      "      |       \n",
      "      |     # \n",
      " #  #||||   # \n",
      " #  #~~#|     \n",
      " #  #~~#|     \n",
      " #~~~~~#|     \n",
      " #~~~~~#|     \n",
      " #######|     \n",
      "        |     \n",
      "   |||||||||  \n",
      "   |#~~~~~#|  \n",
      "   |#~~~~~#|  \n",
      "   |#~~~~~#|  \n",
      "   |#######|  \n",
      "!!!!!!!!!!!!!!\n"
     ]
    }
   ],
   "source": [
    "def step_L(p): return (left(p, d) for d in its.count())\n",
    "def step_R(p): return (right(p, d) for d in its.count())\n",
    "def step_D(p): return (down(p, d) for d in its.count())\n",
    "def layer(L, R): return ((x, L[1]) for x in range(L[0], R[0]))\n",
    "def column(T, B): return ((T[0], y) for y in range(T[1], B[1]))\n",
    "\n",
    "def left (p, d=1): return p[0]-d, p[1]\n",
    "def right(p, d=1): return p[0]+d, p[1]\n",
    "def down (p, d=1): return p[0]  , p[1]+d\n",
    "def up   (p, d=1): return p[0]  , p[1]-d\n",
    "\n",
    "def water_flow(ground, source):\n",
    "    ' Model water sinking into `ground`, starting from `source` '\n",
    "    def stop(p):\n",
    "        'Should we stop spreading horizontally at `p`?'\n",
    "        # Yes, if we've hit clay or if there's sand or water beneath\n",
    "        return ground[p] == '#' or ground[down(p)] in '.|'\n",
    "\n",
    "    fill = ground.update\n",
    "    flow_q = {source}\n",
    "    \n",
    "    while flow_q:\n",
    "        source = flow_q.pop()\n",
    "        # Vertical \"Spill\": go down until we hit clay/water/baseline\n",
    "        D = next(d for d in step_D(source) if ground[d] in '#~!')\n",
    "        fill((d, '|') for d in column(source, D))\n",
    "\n",
    "        if ground[D] == '!': continue # Bottomed out\n",
    "\n",
    "        # Horizontal \"Fill\": spread across left and right\n",
    "        D = up(D)\n",
    "        L = next(p for p in step_L(D) if stop(p))\n",
    "        R = next(p for p in step_R(D) if stop(p))\n",
    "\n",
    "        if (ground[L], ground[R]) == ('#', '#'):    \n",
    "            fill((p, '~') for p in layer(right(L), R)) # Fill this level\n",
    "            flow_q.add(up(D))\n",
    "        elif ground[L] == '#':                         # Spill right\n",
    "            fill((p, '|') for p in layer(right(L), right(R)))\n",
    "            flow_q.add(R)\n",
    "        elif ground[R] == '#':                         # Spill Left\n",
    "            fill((p, '|') for p in layer(L, R))\n",
    "            flow_q.add(L)\n",
    "        else:\n",
    "            fill((p, '|') for p in layer(L, right(R))) # Spill both sides\n",
    "            flow_q |= {L, R}\n",
    "\n",
    "    return ground\n",
    "\n",
    "water_source = 500, 0\n",
    "example_ground = read_ground(example_17)\n",
    "draw_grid(example_ground)\n",
    "print()\n",
    "ground = water_flow(example_ground, water_source)\n",
    "draw_grid(ground)"
   ]
  },
  {
   "cell_type": "markdown",
   "metadata": {},
   "source": [
    "That looks OK. Let's check the result."
   ]
  },
  {
   "cell_type": "code",
   "execution_count": 63,
   "metadata": {},
   "outputs": [
    {
     "data": {
      "text/plain": [
       "(35707, 29293)"
      ]
     },
     "execution_count": 63,
     "metadata": {},
     "output_type": "execute_result"
    }
   ],
   "source": [
    "def count_wet_tiles(ground_data, water_source):\n",
    "    ground = read_ground(ground_data)\n",
    "    y_range = range(min(map(second, ground)), max(map(second, ground))+1)\n",
    "    ground = water_flow(ground, water_source)\n",
    "    tiles = collections.Counter(v for (_, y), v in ground.items() if y in y_range)\n",
    "    return tiles['|'] + tiles['~'], tiles['~']\n",
    "\n",
    "assert count_wet_tiles(example_17, water_source) == (57, 29)\n",
    "count_wet_tiles(day(17), water_source)"
   ]
  },
  {
   "cell_type": "markdown",
   "metadata": {},
   "source": [
    "Part two asks how many cells have standing water in (marked as `~` on the diagram). I adapted `count_wet_tiles` to return that information. For fun and education, let's try and plot the results."
   ]
  },
  {
   "cell_type": "code",
   "execution_count": null,
   "metadata": {},
   "outputs": [],
   "source": [
    "%matplotlib inline\n",
    "import matplotlib.pyplot as plt\n",
    "import numpy as np\n",
    "ground = read_ground(day(17))\n",
    "ground = water_flow(ground, water_source)\n",
    "dpi = 96\n",
    "rx = range(min(map(first,ground)), max(map(first,ground))+1)\n",
    "ry = range(min(map(second,ground)), max(map(second,ground)))\n",
    "def colour(v):\n",
    "    return {'.': [0,0,0], '#': [255,255,255], '~': [0,0,255], '|': [0,255,0]}[v]\n",
    "z = np.array([[colour(ground[(x,y)]) for x in rx] for y in ry])\n",
    "fig = plt.figure(frameon=False, figsize=(len(rx)/dpi, len(ry)/dpi), dpi=dpi)\n",
    "ax = plt.Axes(fig, [0., 0., 1., 1.])\n",
    "ax.set_axis_off()\n",
    "fig.add_axes(ax)\n",
    "ax.imshow(z)\n",
    "plt.imshow(z)"
   ]
  },
  {
   "cell_type": "markdown",
   "metadata": {},
   "source": [
    "## [Day 18](https://adventofcode.com/2018/day/18) Settlers of The North Pole\n",
    "Another game of life style automaton, this time in 2D. The rules for evolution of the area are as follows. Note that the area has a boundary: it does not expand or wrap."
   ]
  },
  {
   "cell_type": "code",
   "execution_count": null,
   "metadata": {},
   "outputs": [],
   "source": [
    "clear, trees, yard = '.|#'\n",
    "\n",
    "def read_setup(data):\n",
    "    return {(x, y): c \n",
    "            for y, row in enumerate(data.splitlines())\n",
    "            for x, c in enumerate(row)}\n",
    "\n",
    "def evolve_cell(state, p):\n",
    "    adj = collections.Counter(state.get(n, '!') for n in neighbours8(*p))\n",
    "    cell = state[p] \n",
    "    return {\n",
    "        clear: trees if adj[trees] > 2 else cell,\n",
    "        trees: yard if adj[yard] > 2 else cell,\n",
    "        yard: yard if min(adj[yard], adj[trees]) > 0 else clear\n",
    "    }[cell]\n",
    "\n",
    "def evolve_area(state):\n",
    "    while True:\n",
    "        yield state\n",
    "        state = {p: evolve_cell(state, p) for p in state}"
   ]
  },
  {
   "cell_type": "markdown",
   "metadata": {},
   "source": [
    "Let's check the worked example ."
   ]
  },
  {
   "cell_type": "code",
   "execution_count": null,
   "metadata": {},
   "outputs": [],
   "source": [
    "example_data = r'''\\\n",
    ".#.#...|#.\n",
    ".....#|##|\n",
    ".|..|...#.\n",
    "..|#.....#\n",
    "#.#|||#|#|\n",
    "...#.||...\n",
    ".|....|...\n",
    "||...#|.#|\n",
    "|.||||..|.\n",
    "...#.|..|.\n",
    "'''\n",
    "\n",
    "areas = evolve_area(read_setup(example_data))\n",
    "print(render_grid(next(areas)),\n",
    "      render_grid(next(areas)),\n",
    "      render_grid(next(areas)), sep='\\n\\n')"
   ]
  },
  {
   "cell_type": "markdown",
   "metadata": {},
   "source": [
    "That looks fine. Now let's check the resource value -- the number of wooded acres multiplied by the number of lumberyards -- after 10 minutes."
   ]
  },
  {
   "cell_type": "code",
   "execution_count": null,
   "metadata": {},
   "outputs": [],
   "source": [
    "def area_value(area):\n",
    "    counts = collections.Counter(area.values())\n",
    "    return counts[trees] * counts[yard]\n",
    "    \n",
    "def resource_value(data, t):\n",
    "    areas = evolve_area(read_setup(data))\n",
    "    area = next(its.islice(areas, t, None))\n",
    "    return area_value(area)\n",
    "\n",
    "assert resource_value(example_data, 10) == 1147\n",
    "resource_value(day(18), 10)"
   ]
  },
  {
   "cell_type": "markdown",
   "metadata": {},
   "source": [
    "For part two, we're asked for the resource value after `1_000_000_000` minutes. Look for a repeating pattern in the data."
   ]
  },
  {
   "cell_type": "code",
   "execution_count": null,
   "metadata": {},
   "outputs": [],
   "source": [
    "def repeated_pattern(data, T):\n",
    "    '''Evolve the supplied data for up to T minutes, looking for repeats\n",
    "    \n",
    "    Returns the repeat, time + time first seen\n",
    "    Or the final area, 0, 0 if no repeats found\n",
    "    '''\n",
    "    seen = {}\n",
    "    areas = evolve_area(read_setup(data))\n",
    "    for t, area in its.islice(enumerate(areas), T+1):\n",
    "        area_hash = render_grid(area)\n",
    "        if area_hash in seen:\n",
    "            return area, seen[area_hash], t\n",
    "        seen[area_hash] = t\n",
    "    return area, 0, 0\n",
    "\n",
    "def resource_value(data, T):\n",
    "    area, tlo, thi = repeated_pattern(data, T)\n",
    "    if thi > tlo:\n",
    "        t_left = (T - tlo) % (thi - tlo)\n",
    "        area = next(its.islice(evolve_area(area), t_left, None))\n",
    "    return area_value(area)\n",
    "\n",
    "assert resource_value(example_data, 10) == 1147\n",
    "resource_value(day(18), 1_000_000_000)"
   ]
  },
  {
   "cell_type": "markdown",
   "metadata": {},
   "source": [
    "## [Day 19](https://adventofcode.com/2018/day/19) Go With The Flow\n",
    "Again, we're being asked to model a processor. In fact the processor uses the same rules as Day 16."
   ]
  },
  {
   "cell_type": "code",
   "execution_count": null,
   "metadata": {},
   "outputs": [],
   "source": [
    "def load_program(data, instructions):\n",
    "    ip, *ops = data.splitlines()\n",
    "    ip = int(ip.split()[1])\n",
    "    return ip, [(instructions[op.split()[0]], ints(op)) for op in ops]\n",
    "\n",
    "def run_program(regs, ip, ops):\n",
    "    while regs[ip] in range(len(ops)):\n",
    "        op, args = ops[regs[ip]]\n",
    "        op(regs, *args)\n",
    "        yield regs[:]\n",
    "        regs[ip] += 1\n",
    "\n",
    "example_program = r'''\\\n",
    "ip 0\n",
    "seti 5 0 1\n",
    "seti 6 0 2\n",
    "addi 0 1 0\n",
    "addr 1 2 3\n",
    "setr 1 0 0\n",
    "seti 8 0 4\n",
    "seti 9 0 5'''\n",
    "\n",
    "ops = {op.__name__: op for op in all_ops}\n",
    "prog = load_program(example_program, ops)\n",
    "print(*take(run_program([0, 0, 0, 0, 0, 0], *prog)), sep='\\n')"
   ]
  },
  {
   "cell_type": "code",
   "execution_count": null,
   "metadata": {},
   "outputs": [],
   "source": [
    "last(run_program([0, 0, 0, 0, 0, 0], *prog))"
   ]
  },
  {
   "cell_type": "code",
   "execution_count": null,
   "metadata": {},
   "outputs": [],
   "source": [
    "%time last(run_program([0, 0, 0, 0, 0, 0], *load_program(day(19), ops)))"
   ]
  },
  {
   "cell_type": "markdown",
   "metadata": {},
   "source": [
    "I had a strong suspicion that this technique wasn't going to get me answer to the second part of the question -- so I set it running whilst also trying to figure out what the [instructions](input/19) were actually doing. "
   ]
  },
  {
   "cell_type": "code",
   "execution_count": null,
   "metadata": {},
   "outputs": [],
   "source": [
    "def rewrite(instructions):\n",
    "    vars = 'ABCDEF'\n",
    "    for i, (op, (a, b, c)) in enumerate(instructions):\n",
    "        syms = {\n",
    "            addr:'+', addi:'+', mulr:'*', muli:'*', banr:'&', bani:'&', borr:'|', bori:'|',\n",
    "            gtir:'>', gtri:'>', gtrr:'>', eqir:'==', eqri:'==', eqrr:'=='\n",
    "        }\n",
    "        name = op.__name__\n",
    "\n",
    "        if   name.endswith('rr'): lhs, rhs = vars[a], vars[b]\n",
    "        elif name.endswith('ir'): lhs, rhs =      a , vars[b]\n",
    "        elif name.endswith('i' ): lhs, rhs = vars[a], b\n",
    "        elif name.endswith('r' ): lhs, rhs = vars[a], vars[b]\n",
    "\n",
    "        if name == 'seti':\n",
    "            print(f'{vars[c]} = {a}            # {i}')\n",
    "        elif name == 'setr':\n",
    "            print(f'{vars[c]} = {vars[a]}        # {i}')\n",
    "        else:\n",
    "            print(f'{vars[c]} = {lhs} {syms[op]} {rhs}      # {i}')\n",
    "\n",
    "rewrite(load_program(day(19), ops)[1])"
   ]
  },
  {
   "cell_type": "markdown",
   "metadata": {},
   "source": [
    "Here, C is the instruction pointer. Running the program for ~100 iterations and checking the registers, it became clear that B had become fixed at `10551292` and the eventual exit point would be line 16, `C = C * C`.\n",
    "\n",
    "I refactored the inner block as:\n",
    "\n",
    "    for F in range(1, B+1):\n",
    "        for D in range(1, B+1):\n",
    "            if F*D == B:\n",
    "                A += F\n",
    "\n",
    "That is, A (register 0, which part two asks for) is the sum of factors of B. We can figure this out by processing numbers up to the square root of B."
   ]
  },
  {
   "cell_type": "code",
   "execution_count": null,
   "metadata": {},
   "outputs": [],
   "source": [
    "B = 10_551_292\n",
    "sum(F + B//F for F in range(1, int(math.sqrt(B))) if B % F == 0)"
   ]
  },
  {
   "cell_type": "markdown",
   "metadata": {},
   "source": [
    "## [Day 20](https://adventofcode.com/2018/day/20) A Regular Map\n",
    "A branching path through a grid of rooms is specified by a regular expression. For part one, we are asked to find the shortest path to the furthest room.\n",
    "\n",
    "We can step through the regex one character at a time, exploring the map at the same time.\n",
    "\n",
    "To do this, we maintain a \"frontier\" -- the rooms we are visiting right now -- and a stack corresponding to the groups in the regex. For each group we have two things:\n",
    "1. the start positions for the group. That is, the frontier when the group started. We go back to these start positions for each branch in the group.\n",
    "2. the ends of each branch visited during group traversal. When the group ends, these become the new frontier."
   ]
  },
  {
   "cell_type": "code",
   "execution_count": null,
   "metadata": {},
   "outputs": [],
   "source": [
    "# Use Complex numbers for 2-D position and direction\n",
    "step_vals = {'N': -1j, 'E': 1, 'S': 1j, 'W':-1}\n",
    "\n",
    "def advance(frontier, c, doors):\n",
    "    \"Advance `frontier` by a compass direction `c`, noting `doors` used\"\n",
    "    s = step_vals[c]\n",
    "    for f in frontier:\n",
    "        doors[f].add(f + s)\n",
    "        doors[f + s].add(f)\n",
    "    return {f + s for f in frontier}\n",
    "\n",
    "def visit_rooms(map_re):\n",
    "    \"Process the map regex, returning the doors we discovered\"\n",
    "    doors = collections.defaultdict(set)\n",
    "    frontier = {0}\n",
    "\n",
    "    group_stack = []\n",
    "    push = group_stack.append\n",
    "    pop = group_stack.pop\n",
    "    start = lambda: group_stack[-1][0]\n",
    "    branches = lambda: group_stack[-1][1]\n",
    "    \n",
    "    for c in map_re:\n",
    "        if c in '^(':\n",
    "            push((frontier, set()))\n",
    "        elif c in 'NEWS':\n",
    "            frontier = advance(frontier, c, doors)\n",
    "        elif c == '|':\n",
    "            branches().update(frontier)\n",
    "            frontier = set(start())\n",
    "        elif c == ')':\n",
    "            branches().update(frontier)\n",
    "            _, frontier = pop()\n",
    "        else:\n",
    "            assert c == '$'\n",
    "            return doors"
   ]
  },
  {
   "cell_type": "markdown",
   "metadata": {},
   "source": [
    "To figure out the shortest paths to the rooms in the map, use a breadth first search."
   ]
  },
  {
   "cell_type": "code",
   "execution_count": null,
   "metadata": {},
   "outputs": [],
   "source": [
    "def shortest_paths_to_rooms(map_re):\n",
    "    doors = visit_rooms(map_re)\n",
    "    frontier = {0}\n",
    "    visited = {0}\n",
    "    d = 0\n",
    "    # A breadth first traversal gives us the distances to each room\n",
    "    while frontier:\n",
    "        yield frontier, d\n",
    "        frontier = set.union(*[doors[f] for f in frontier]) - visited\n",
    "        d += 1\n",
    "        visited |= frontier\n",
    "\n",
    "\n",
    "assert last(shortest_paths_to_rooms('^ENWWW(NEEE|SSE(EE|N))$'))[1] == 10\n",
    "assert last(shortest_paths_to_rooms('^ENNWSWW(NEWS|)SSSEEN(WNSE|)EE(SWEN|)NNN$'))[1] == 18\n",
    "\n",
    "last(shortest_paths_to_rooms(day(20)))[1]"
   ]
  },
  {
   "cell_type": "markdown",
   "metadata": {},
   "source": [
    "For part two, we're asked how many rooms are more than 1000 steps away."
   ]
  },
  {
   "cell_type": "code",
   "execution_count": null,
   "metadata": {},
   "outputs": [],
   "source": [
    "sum(len(f) for f, d in shortest_paths_to_rooms(day(20)) if d >= 1000)"
   ]
  },
  {
   "cell_type": "markdown",
   "metadata": {},
   "source": [
    "## [Day 22](https://adventofcode.com/2018/day/22) Mode Maze\n",
    "Recursive calculations to figure out erosion levels in a cave system. We can use a cache to save time."
   ]
  },
  {
   "cell_type": "code",
   "execution_count": null,
   "metadata": {},
   "outputs": [],
   "source": [
    "depth, target = 6084, (14, 709)\n",
    "\n",
    "def cache(f):\n",
    "    _cached = {}\n",
    "    def get(*v):\n",
    "        if v not in _cached:\n",
    "            _cached[v] = f(*v)\n",
    "        return _cached[v]\n",
    "    return get\n",
    "\n",
    "@cache\n",
    "def erosion_level(x, y, depth):\n",
    "    return (geological_index(x, y, depth) + depth) % 20183\n",
    "\n",
    "@cache\n",
    "def geological_index(x, y, depth):\n",
    "    if y == 0: return x * 16807\n",
    "    if x == 0: return y * 48271\n",
    "    return erosion_level(x-1, y, depth) * erosion_level(x, y-1, depth)\n",
    "\n",
    "def risk_level(depth, target):\n",
    "    # It's not entirely clear from the wording, but the worked example\n",
    "    # shows the target risk level should not be included in the calculation.\n",
    "    return sum(erosion_level(x, y, depth) % 3\n",
    "               for x, y in its.product(range(target[0]+1), \n",
    "                                       range(target[1]+1))\n",
    "              ) - erosion_level(*target, depth) % 3\n",
    "               \n",
    "    \n",
    "assert risk_level(510, (10, 10)) == 114\n",
    "risk_level(depth, target)"
   ]
  },
  {
   "cell_type": "markdown",
   "metadata": {},
   "source": [
    "## [Day 23](https://adventofcode.com/2018/day/23) Experimental Emergency Teleportation\n",
    "Nanobots in 3-space. In part one, each has a position and radius. We are asked to find how many are in range of the one with the largest radius, using a city-block distance metric."
   ]
  },
  {
   "cell_type": "code",
   "execution_count": null,
   "metadata": {},
   "outputs": [],
   "source": [
    "example_23 = '''\\\n",
    "pos=<0,0,0>, r=4\n",
    "pos=<1,0,0>, r=1\n",
    "pos=<4,0,0>, r=3\n",
    "pos=<0,2,0>, r=1\n",
    "pos=<0,5,0>, r=3\n",
    "pos=<0,0,3>, r=1\n",
    "pos=<1,1,1>, r=1\n",
    "pos=<1,1,2>, r=1\n",
    "pos=<1,3,1>, r=1'''\n",
    "\n",
    "def in_range_of_strongest(nanobot_data):\n",
    "    nanobots = array(nanobot_data)\n",
    "    *strongest, strength = max(nanobots, key=lambda nb: nb[3])\n",
    "    return ilen(nb for nb in nanobots \n",
    "                if manhattan_distance(nb[:3], strongest) <= strength)\n",
    "\n",
    "assert in_range_of_strongest(example_23) == 7\n",
    "in_range_of_strongest(day(23))"
   ]
  },
  {
   "cell_type": "code",
   "execution_count": null,
   "metadata": {},
   "outputs": [],
   "source": [
    "nanobots = array(day(23))\n",
    "ilen(_ for n, m in its.combinations(nanobots, 2)\n",
    "     if manhattan_distance(n[:3], m[:3]) < n[3] + m[3])"
   ]
  },
  {
   "cell_type": "markdown",
   "metadata": {},
   "source": [
    "## [Day 25](https://adventofcode.com/2018/day/25) Four-Dimensional Adventure\n",
    "We have points in 4-space, and we're using a Manhattan distance metric. For part one, we have to figure out the number of constellations formed by a set of points: this is the number of connected components of the graph whose nodes are the points, with an edge `PQ` iff `|PQ|` is 3 or less."
   ]
  },
  {
   "cell_type": "code",
   "execution_count": null,
   "metadata": {},
   "outputs": [],
   "source": [
    "def graph(pts, D=3):\n",
    "    '''Form the graph from the `pts` data\n",
    "    \n",
    "    D - add an edge between two points P, Q iff |PQ| <= D\n",
    "    '''\n",
    "    pts = array(pts)\n",
    "    g = {p: set() for p in pts}\n",
    "    for p, q in its.permutations(pts, 2):\n",
    "        if manhattan_distance(p, q) <= D:\n",
    "            g[p].add(q)\n",
    "    return g\n",
    "\n",
    "example_25 = '''\\\n",
    "0,0,0,0\n",
    " 3,0,0,0\n",
    " 0,3,0,0\n",
    " 0,0,3,0\n",
    " 0,0,0,3\n",
    " 0,0,0,6\n",
    " 9,0,0,0\n",
    "12,0,0,0'''"
   ]
  },
  {
   "cell_type": "code",
   "execution_count": null,
   "metadata": {},
   "outputs": [],
   "source": [
    "def component(g, v):\n",
    "    cpt = {v}\n",
    "    fringe = g[v]\n",
    "    while fringe:\n",
    "        cpt |= fringe\n",
    "        fringe = {w for f in fringe for w in g[f]} - cpt\n",
    "    return cpt\n",
    "    \n",
    "def connected_components(g):\n",
    "    'Generate the connected components of a graph `g`'\n",
    "    vs = set(g)\n",
    "    while vs:\n",
    "        cpt = component(g, vs.pop())\n",
    "        yield cpt\n",
    "        vs -= cpt\n",
    "\n",
    "assert ilen(connected_components(graph(example_25))) == 2"
   ]
  },
  {
   "cell_type": "code",
   "execution_count": null,
   "metadata": {},
   "outputs": [],
   "source": [
    "example_25_b = '''\\\n",
    "1,-1,-1,-2\n",
    "-2,-2,0,1\n",
    "0,2,1,3\n",
    "-2,3,-2,1\n",
    "0,2,3,-2\n",
    "-1,-1,1,-2\n",
    "0,-2,-1,0\n",
    "-2,2,3,-1\n",
    "1,2,2,0\n",
    "-1,-2,0,-2'''\n",
    "\n",
    "assert ilen(connected_components(graph(example_25_b))) == 8"
   ]
  },
  {
   "cell_type": "code",
   "execution_count": null,
   "metadata": {},
   "outputs": [],
   "source": [
    "ilen(connected_components(graph(day(25))))"
   ]
  },
  {
   "cell_type": "code",
   "execution_count": null,
   "metadata": {},
   "outputs": [],
   "source": []
  }
 ],
 "metadata": {
  "kernelspec": {
   "display_name": "Python 3",
   "language": "python",
   "name": "python3"
  },
  "language_info": {
   "codemirror_mode": {
    "name": "ipython",
    "version": 3
   },
   "file_extension": ".py",
   "mimetype": "text/x-python",
   "name": "python",
   "nbconvert_exporter": "python",
   "pygments_lexer": "ipython3",
   "version": "3.7.0"
  }
 },
 "nbformat": 4,
 "nbformat_minor": 2
}
