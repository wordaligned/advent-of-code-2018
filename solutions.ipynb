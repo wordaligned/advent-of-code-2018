{
 "cells": [
  {
   "cell_type": "markdown",
   "metadata": {},
   "source": [
    "# [Advent of Code 2018](https://adventofcode.com/2018)\n",
    "\n",
    "- [Day 1](#Day-1-Chronal-Calibration) Chronal Calibration\n",
    "- [Day 2](#Day-2-Inventory-Management-System) Inventory Management System\n",
    "- [Day 3](#Day-3-No-Matter-How-You-Slice-It)  No Matter How You Slice It\n",
    "- [Day 4](#Day-4-Repose-Record) Repose Record\n",
    "- [Day 5](#Day-5-Alchemical-Reduction) Alchemical Reduction\n",
    "- [Day 6](#Day-6-Chronal-Coordinates) Chronal Coordinates\n",
    "- [Day 7](#Day-7-The-Sum-of-Its-Parts) The Sum of Its Parts\n",
    "- [Day 8](#Day-8-Memory-Maneuver) Memory Maneuver\n",
    "- [Day 9](#Day-9-Marble-Mania) Marble Mania\n",
    "- [Day 10](#Day-10-The-Stars-Align) The Stars Align\n",
    "- [Day 11](#Day-11-Chronal-Charge) Chronal Charge\n",
    "- [Day 12](#Day-12-Subterranean-Sustainability) Subterranean Sustainability\n",
    "- [Day 13](#Day-13-Mine-Cart-Madness) Mine Cart Madness\n",
    "- [Day 14](#Day-14-Chocolate-Charts) Chocolate Charts\n",
    "- [Day 15](#Day-15)\n",
    "- [Day 16](#Day-16-Chronal-Classification) Chronal Classification\n",
    "- [Day 17](#Day-17-Reservoir-Research) Reservoir Research\n",
    "- [Day 18](#Day-18-Settlers-of-The-North-Pole) Settlers of The North Pole\n",
    "- [Day 19](#Day-19-Go-With-The-Flow) Go With The Flow\n",
    "- [Day 20](#Day-20)\n",
    "- [Day 21](#Day-21)\n",
    "- [Day 22](#Day-22-Mode-Maze) Mode Maze\n",
    "- [Day 23](#Day-23-Experimental-Emergency-Teleportation) Experimental Emergency Teleportation\n",
    "- [Day 24](#Day-24)\n",
    "- [Day 25](#Day-25-Four-Dimensional-Adventure) Four Dimensional Adventure\n",
    "\n",
    "I'm going to have a go at the Advent of Code 2018 puzzles using a Jupyter notebook.\n",
    "First, let's import some standard modules."
   ]
  },
  {
   "cell_type": "code",
   "execution_count": 1,
   "metadata": {},
   "outputs": [],
   "source": [
    "import collections\n",
    "import functools\n",
    "import itertools as its\n",
    "import math\n",
    "import operator\n",
    "import re\n",
    "import string\n",
    "from pprint import pprint"
   ]
  },
  {
   "cell_type": "markdown",
   "metadata": {},
   "source": [
    "Also, here are some general purpose functions."
   ]
  },
  {
   "cell_type": "code",
   "execution_count": 2,
   "metadata": {},
   "outputs": [],
   "source": [
    "def day(day):\n",
    "    'Load the input for `day`'\n",
    "    return open(f'input/{day}').read()\n",
    "\n",
    "def ilen(xs):\n",
    "    'Return the length of an iterable'\n",
    "    return sum(1 for _ in iter(xs))\n",
    "\n",
    "def last(xs):\n",
    "    'Return the last element of an iterable sequence.'\n",
    "    xs = iter(xs)\n",
    "    return collections.deque(xs, maxlen=1)[0]\n",
    "\n",
    "def ints(s):\n",
    "    'Return a tuple of integer tokens in `s`.'\n",
    "    return tuple(int(x) for x in re.findall(r'[-+]?\\d+', s))\n",
    "\n",
    "def array(data):\n",
    "    'Convert the data into a tuple of int-tuples.'\n",
    "    return tuple(ints(line) for line in data.splitlines())\n",
    "\n",
    "def swap(xs, i, j):\n",
    "    'Swap items in a sequence.'\n",
    "    xs[i], xs[j] = xs[j], xs[i]\n",
    "\n",
    "def nth(xs, n):\n",
    "    'Return the nth element of a sequence.'\n",
    "    return next(its.islice(xs, n, None))\n",
    "\n",
    "def take(xs, n=None):\n",
    "    '''Return (up to) first `n` items of a sequence\n",
    "    or the whole sequence if `n` is `None`\n",
    "    '''\n",
    "    return list(xs) if n is None else [x for x, _ in zip(xs, range(n))]\n",
    "\n",
    "def overlapping(xs, n):\n",
    "    '''Generate overlapping n-tuples from `xs`\n",
    "\n",
    "    overlapping('ABCDEFG', 3) --> ABC BCD CDE DEF EFG\n",
    "    '''\n",
    "    if isinstance(xs, collections.abc.Sequence):\n",
    "        yield from (xs[i:i+n] for i in range(len(xs) + 1 - n))\n",
    "    else:\n",
    "        result = collections.deque(maxlen=n)\n",
    "        for x in xs:\n",
    "            result.append(x)\n",
    "            if len(result) == n:\n",
    "                yield tuple(result)\n",
    "                \n",
    "def pairwise(iterable):\n",
    "    's -> (s0,s1), (s1,s2), (s2, s3), ...'\n",
    "    return overlapping(iterable, 2)\n",
    "\n",
    "def unfold(fn, x):\n",
    "    while True:\n",
    "        yield x\n",
    "        x = fn(x)\n",
    "\n",
    "def chunked(xs, n):\n",
    "    'Collect `xs` into chunks of length `n`'\n",
    "    return zip(*[iter(xs)] * n)\n",
    "\n",
    "def manhattan_distance(P, Q):\n",
    "    'Return the city block distance from `P` to `Q`'\n",
    "    return sum(math.fabs(p-q) for p,q in zip(P, Q))\n",
    "\n",
    "def neighbours4(x, y):\n",
    "    'Return the horizontal and vertical neighbours of `(x, y)`'\n",
    "    return (x,y-1),(x-1,y),(x+1,y),(x,y+1)\n",
    "\n",
    "def neighbours8(x, y):\n",
    "    'Return the horizontal, vertical and diagonal neighbours of `(x, y)`'\n",
    "    return ((x-1,y-1),(x-1,y),(x-1,y+1),\n",
    "            (x,y-1),(x,y+1),\n",
    "            (x+1,y-1),(x+1,y),(x+1,y+1))\n",
    "\n",
    "def unique(xs):\n",
    "    'Return `True` iff no elements of `xs` are repeated'\n",
    "    return len(xs) == len(set(xs))\n",
    "\n",
    "def mapt(f, xs):\n",
    "    return tuple(map(f, xs))\n",
    "\n",
    "def render_grid(grid, fill_ch=' '):\n",
    "    '''Convert `grid` into a printable form\n",
    "    \n",
    "    grid - maps 2D points to single chars\n",
    "    fill_ch - used for chars not in the grid\n",
    "    '''\n",
    "    xlo, xhi = min(map(first, grid)), max(map(first, grid))\n",
    "    ylo, yhi = min(map(second, grid)), max(map(second, grid))\n",
    "    return ncat(cat(grid.get((x,y), fill_ch)\n",
    "                    for x in range(xlo, xhi+1))\n",
    "                for y in range(ylo, yhi+1))\n",
    "\n",
    "def draw_grid(grid, fill_ch=' '):\n",
    "    print(render_grid(grid, fill_ch))       \n",
    "\n",
    "flatten = its.chain.from_iterable\n",
    "cat = ''.join\n",
    "ncat = '\\n'.join\n",
    "first = operator.itemgetter(0)\n",
    "second = operator.itemgetter(1)"
   ]
  },
  {
   "cell_type": "markdown",
   "metadata": {},
   "source": [
    "## [Day 1](https://adventofcode.com/2018/day/1) Chronal Calibration\n",
    "The input is a series of integers, one per line. These integers represent frequency deltas. Part one requires the final frequency. That is, the sum of these integers."
   ]
  },
  {
   "cell_type": "code",
   "execution_count": 3,
   "metadata": {},
   "outputs": [
    {
     "data": {
      "text/plain": [
       "599"
      ]
     },
     "execution_count": 3,
     "metadata": {},
     "output_type": "execute_result"
    }
   ],
   "source": [
    "deltas = ints(day(1)) \n",
    "sum(deltas)"
   ]
  },
  {
   "cell_type": "markdown",
   "metadata": {},
   "source": [
    "Part two explains the frequency deltas cycle repeatedly. We are asked to find the first frequency which is reached a second time."
   ]
  },
  {
   "cell_type": "code",
   "execution_count": 4,
   "metadata": {},
   "outputs": [
    {
     "data": {
      "text/plain": [
       "81204"
      ]
     },
     "execution_count": 4,
     "metadata": {},
     "output_type": "execute_result"
    }
   ],
   "source": [
    "seen = set()\n",
    "for freq in its.accumulate(its.cycle(deltas)):\n",
    "    if freq in seen:\n",
    "        break\n",
    "    seen.add(freq)\n",
    "\n",
    "freq"
   ]
  },
  {
   "cell_type": "markdown",
   "metadata": {},
   "source": [
    "## [Day 2](https://adventofcode.com/2018/day/2) Inventory Management System\n",
    "The input is a list of strings representing box ids."
   ]
  },
  {
   "cell_type": "code",
   "execution_count": 5,
   "metadata": {},
   "outputs": [],
   "source": [
    "box_ids = day(2).split()"
   ]
  },
  {
   "cell_type": "markdown",
   "metadata": {},
   "source": [
    "We need to know the counts of letters in these ids -- specifically, how many ids have letters repeated 2 and/or 3 times? `Counter` can help here."
   ]
  },
  {
   "cell_type": "code",
   "execution_count": 6,
   "metadata": {},
   "outputs": [],
   "source": [
    "box_counts = [collections.Counter(box_id) for box_id in box_ids]\n",
    "x2 = sum(2 in box_count.values() for box_count in box_counts)\n",
    "x3 = sum(3 in box_count.values() for box_count in box_counts)"
   ]
  },
  {
   "cell_type": "markdown",
   "metadata": {},
   "source": [
    "We're asked for the product of the repeat counts."
   ]
  },
  {
   "cell_type": "code",
   "execution_count": 7,
   "metadata": {},
   "outputs": [
    {
     "data": {
      "text/plain": [
       "5681"
      ]
     },
     "execution_count": 7,
     "metadata": {},
     "output_type": "execute_result"
    }
   ],
   "source": [
    "x2 * x3"
   ]
  },
  {
   "cell_type": "markdown",
   "metadata": {},
   "source": [
    "Part two asks for something quite different: to identify a pair of ids which differ by a single character."
   ]
  },
  {
   "cell_type": "code",
   "execution_count": 8,
   "metadata": {},
   "outputs": [
    {
     "data": {
      "text/plain": [
       "250"
      ]
     },
     "execution_count": 8,
     "metadata": {},
     "output_type": "execute_result"
    }
   ],
   "source": [
    "len(box_ids)"
   ]
  },
  {
   "cell_type": "markdown",
   "metadata": {},
   "source": [
    "For such a low number of ids, we simply check every pair."
   ]
  },
  {
   "cell_type": "code",
   "execution_count": 9,
   "metadata": {},
   "outputs": [],
   "source": [
    "def diffs(b, B):\n",
    "    'Return the number of characters which differ in the inputs'\n",
    "    return sum(c != C for c, C in zip(b, B))\n",
    "\n",
    "diff_by_one = [p for p in its.combinations(box_ids, 2) if diffs(*p) == 1]\n",
    "\n",
    "# Check there's just one pair which fits the criteria\n",
    "assert len(diff_by_one) == 1"
   ]
  },
  {
   "cell_type": "markdown",
   "metadata": {},
   "source": [
    "We're asked for the letters common to this pair."
   ]
  },
  {
   "cell_type": "code",
   "execution_count": 10,
   "metadata": {},
   "outputs": [
    {
     "data": {
      "text/plain": [
       "'uqyoeizfvmbistpkgnocjtwld'"
      ]
     },
     "execution_count": 10,
     "metadata": {},
     "output_type": "execute_result"
    }
   ],
   "source": [
    "''.join(c for c, C in zip(*diff_by_one[0]) if c == C)"
   ]
  },
  {
   "cell_type": "markdown",
   "metadata": {},
   "source": [
    "## [Day 3](https://adventofcode.com/2018/day/3) No Matter How You Slice It\n",
    "This puzzle is about *claim*s, which are regions in a grid. Each grid square is specified by an id, then left, top, width, height values. We could write a regex to parse/check, but simply extracting `ints` gets us there."
   ]
  },
  {
   "cell_type": "code",
   "execution_count": 11,
   "metadata": {},
   "outputs": [
    {
     "data": {
      "text/plain": [
       "(123, 3, 2, 5, 4)"
      ]
     },
     "execution_count": 11,
     "metadata": {},
     "output_type": "execute_result"
    }
   ],
   "source": [
    "claim = \"#123 @ 3,2: 5x4\"\n",
    "ints(claim) "
   ]
  },
  {
   "cell_type": "markdown",
   "metadata": {},
   "source": [
    "For part one, we want to know how many squares on the grid are covered by more than one claim. Let's find the total area of all the claims."
   ]
  },
  {
   "cell_type": "code",
   "execution_count": 12,
   "metadata": {},
   "outputs": [
    {
     "data": {
      "text/plain": [
       "492476"
      ]
     },
     "execution_count": 12,
     "metadata": {},
     "output_type": "execute_result"
    }
   ],
   "source": [
    "claims = array(day(3))\n",
    "sum(c[3]*c[4] for c in claims)"
   ]
  },
  {
   "cell_type": "markdown",
   "metadata": {},
   "source": [
    "Given this figure, we can just count the number of claims in each cell. We can then read the number of squares with 2 or more claims."
   ]
  },
  {
   "cell_type": "code",
   "execution_count": 13,
   "metadata": {},
   "outputs": [
    {
     "data": {
      "text/plain": [
       "112378"
      ]
     },
     "execution_count": 13,
     "metadata": {},
     "output_type": "execute_result"
    }
   ],
   "source": [
    "def rectangle(id_, L, T, W, H):\n",
    "    'Generate the points within a claim'\n",
    "    return its.product(range(L, L+W), range(T, T+H))\n",
    "\n",
    "grid = collections.Counter(\n",
    "    p for claim in claims for p in rectangle(*claim))\n",
    "\n",
    "sum(N > 1 for N in grid.values())"
   ]
  },
  {
   "cell_type": "markdown",
   "metadata": {},
   "source": [
    "For part two, we want the id of the claim which doesn't overlap any other claim. That's the claim for which cell counts are all `1`."
   ]
  },
  {
   "cell_type": "code",
   "execution_count": 14,
   "metadata": {},
   "outputs": [
    {
     "data": {
      "text/plain": [
       "603"
      ]
     },
     "execution_count": 14,
     "metadata": {},
     "output_type": "execute_result"
    }
   ],
   "source": [
    "non_overlaps = [claim[0] for claim in claims\n",
    "                if all(grid[p] == 1 for p in rectangle(*claim))]\n",
    "\n",
    "assert len(non_overlaps) == 1, \"Multiple answers to Day 3 part 2\"\n",
    "non_overlaps[0]"
   ]
  },
  {
   "cell_type": "markdown",
   "metadata": {},
   "source": [
    "## [Day 4](https://adventofcode.com/2018/day/4) Repose Record\n",
    "It's not entirely clear what's wanted here. Are we only concerned with guards being asleep during the midnight hour? Or, when we sort the inputs, are these the only times guards are asleep? Let's investigate by sorting the records, noting that the result is time-ordered."
   ]
  },
  {
   "cell_type": "code",
   "execution_count": 15,
   "metadata": {},
   "outputs": [
    {
     "name": "stdout",
     "output_type": "stream",
     "text": [
      "[1518-01-29 23:57] Guard #2417 begins shift\n",
      "[1518-01-30 00:13] falls asleep\n",
      "[1518-01-30 00:50] wakes up\n",
      "[1518-01-31 00:00] Guard #1301 begins shift\n",
      "[1518-01-31 00:24] falls asleep\n",
      "[1518-01-31 00:54] wakes up\n",
      "[1518-01-31 23:59] Guard #401 begins shift\n",
      "[1518-02-01 00:42] falls asleep\n",
      "[1518-02-01 00:51] wakes up\n",
      "[1518-02-02 00:03] Guard #2207 begins shift\n",
      "[1518-02-02 00:10] falls asleep\n",
      "[1518-02-02 00:49] wakes up\n",
      "[1518-02-03 00:03] Guard #3541 begins shift\n",
      "[1518-02-03 00:22] falls asleep\n",
      "[1518-02-03 00:56] wakes up\n",
      "[1518-02-04 00:03] Guard #2207 begins shift\n",
      "[1518-02-04 00:09] falls asleep\n",
      "[1518-02-04 00:26] wakes up\n",
      "[1518-02-04 00:42] falls asleep\n",
      "[1518-02-04 00:58] wakes up\n",
      "[1518-02-05 00:00] Guard #2663 begins shift\n",
      "[1518-02-05 00:44] falls asleep\n",
      "[1518-02-05 00:50] wakes up\n",
      "[1518-02-05 23:57] Guard #2207 begins shift\n",
      "[1518-02-06 00:54] falls asleep\n",
      "[1518-02-06 00:59] wakes up\n",
      "[1518-02-07 00:00] Guard #1301 begins shift\n",
      "[1518-02-07 00:44] falls asleep\n",
      "[1518-02-07 00:53] wakes up\n",
      "[1518-02-08 00:03] Guard #1327 begins shift\n",
      "[1518-02-08 00:07] falls asleep\n",
      "[1518-02-08 00:22] wakes up\n",
      "[1518-02-08 00:31] falls asleep\n",
      "[1518-02-08 00:51] wakes up\n",
      "[1518-02-08 23:58] Guard #2411 begins shift\n",
      "[1518-02-09 00:34] falls asleep\n",
      "[1518-02-09 00:50] wakes up\n",
      "[1518-02-10 00:00] Guard #2411 begins shift\n",
      "[1518-02-10 00:42] falls asleep\n",
      "[1518-02-10 00:49] wakes up\n",
      "[1518-02-10 23:47] Guard #3541 begins shift\n",
      "[1518-02-11 00:05] falls asleep\n",
      "[1518-02-11 00:18] wakes up\n",
      "[1518-02-12 00:01] Guard #1831 begins shift\n",
      "[1518-02-12 00:17] falls asleep\n",
      "[1518-02-12 00:35] wakes up\n",
      "[1518-02-12 00:38] falls asleep\n",
      "[1518-02-12 00:51] wakes up\n",
      "[1518-02-13 00:02] Guard #1301 begins shift\n",
      "[1518-02-13 00:10] falls asleep\n",
      "[1518-02-13 00:55] wakes up\n",
      "[1518-02-14 00:00] Guard #2459 begins shift\n",
      "[1518-02-14 00:35] falls asleep\n",
      "[1518-02-14 00:48] wakes up\n",
      "[1518-02-14 00:52] falls asleep\n",
      "[1518-02-14 00:57] wakes up\n",
      "[1518-02-15 00:03] Guard #3499 begins shift\n",
      "[1518-02-15 00:46] falls asleep\n",
      "[1518-02-15 00:58] wakes up\n",
      "[1518-02-16 00:04] Guard #2459 begins shift\n",
      "[1518-02-16 00:13] falls asleep\n",
      "[1518-02-16 00:26] wakes up\n",
      "[1518-02-16 00:39] falls asleep\n",
      "[1518-02-16 00:41] wakes up\n",
      "[1518-02-16 00:45] falls asleep\n",
      "[1518-02-16 00:59] wakes up\n",
      "[1518-02-16 23:59] Guard #1327 begins shift\n",
      "[1518-02-17 00:13] falls asleep\n",
      "[1518-02-17 00:46] wakes up\n",
      "[1518-02-17 00:57] falls asleep\n",
      "[1518-02-17 00:59] wakes up\n",
      "[1518-02-17 23:47] Guard #2417 begins shift\n",
      "[1518-02-18 00:01] falls asleep\n",
      "[1518-02-18 00:53] wakes up\n",
      "[1518-02-18 23:59] Guard #2663 begins shift\n",
      "[1518-02-19 00:27] falls asleep\n",
      "[1518-02-19 00:37] wakes up\n",
      "[1518-02-19 00:52] falls asleep\n",
      "[1518-02-19 00:55] wakes up\n",
      "[1518-02-20 00:02] Guard #3191 begins shift\n",
      "[1518-02-21 00:00] Guard #3469 begins shift\n",
      "[1518-02-21 00:16] falls asleep\n",
      "[1518-02-21 00:26] wakes up\n",
      "[1518-02-21 00:36] falls asleep\n",
      "[1518-02-21 00:49] wakes up\n",
      "[1518-02-21 00:55] falls asleep\n",
      "[1518-02-21 00:56] wakes up\n",
      "[1518-02-21 23:57] Guard #1409 begins shift\n",
      "[1518-02-22 00:14] falls asleep\n",
      "[1518-02-22 00:57] wakes up\n",
      "[1518-02-23 00:00] Guard #2207 begins shift\n",
      "[1518-02-23 00:11] falls asleep\n",
      "[1518-02-23 00:19] wakes up\n",
      "[1518-02-24 00:00] Guard #3271 begins shift\n",
      "[1518-02-24 00:19] falls asleep\n",
      "[1518-02-24 00:50] wakes up\n",
      "[1518-02-25 00:02] Guard #1877 begins shift\n",
      "[1518-02-25 00:22] falls asleep\n",
      "[1518-02-25 00:42] wakes up\n",
      "[1518-02-25 00:46] falls asleep\n",
      "[1518-02-25 00:49] wakes up\n",
      "[1518-02-26 00:04] Guard #619 begins shift\n",
      "[1518-02-26 00:08] falls asleep\n",
      "[1518-02-26 00:42] wakes up\n",
      "[1518-02-26 23:58] Guard #1301 begins shift\n",
      "[1518-02-27 00:20] falls asleep\n",
      "[1518-02-27 00:32] wakes up\n",
      "[1518-02-27 00:43] falls asleep\n",
      "[1518-02-27 00:57] wakes up\n",
      "[1518-02-27 23:59] Guard #2861 begins shift\n",
      "[1518-02-28 00:31] falls asleep\n",
      "[1518-02-28 00:38] wakes up\n",
      "[1518-02-28 00:43] falls asleep\n",
      "[1518-02-28 00:56] wakes up\n",
      "[1518-03-01 00:00] Guard #2411 begins shift\n",
      "[1518-03-01 00:26] falls asleep\n",
      "[1518-03-01 00:34] wakes up\n",
      "[1518-03-02 00:00] Guard #2207 begins shift\n",
      "[1518-03-02 00:56] falls asleep\n",
      "[1518-03-02 00:58] wakes up\n",
      "[1518-03-03 00:00] Guard #433 begins shift\n",
      "[1518-03-03 00:06] falls asleep\n",
      "[1518-03-03 00:08] wakes up\n",
      "[1518-03-03 23:54] Guard #1327 begins shift\n",
      "[1518-03-04 00:02] falls asleep\n",
      "[1518-03-04 00:44] wakes up\n",
      "[1518-03-05 00:03] Guard #401 begins shift\n",
      "[1518-03-05 00:45] falls asleep\n",
      "[1518-03-05 00:46] wakes up\n",
      "[1518-03-05 23:46] Guard #401 begins shift\n",
      "[1518-03-06 00:02] falls asleep\n",
      "[1518-03-06 00:57] wakes up\n",
      "[1518-03-06 23:53] Guard #3469 begins shift\n",
      "[1518-03-07 00:00] falls asleep\n",
      "[1518-03-07 00:05] wakes up\n",
      "[1518-03-07 00:36] falls asleep\n",
      "[1518-03-07 00:43] wakes up\n",
      "[1518-03-07 00:46] falls asleep\n",
      "[1518-03-07 00:50] wakes up\n",
      "[1518-03-08 00:02] Guard #619 begins shift\n",
      "[1518-03-08 00:22] falls asleep\n",
      "[1518-03-08 00:24] wakes up\n",
      "[1518-03-08 00:30] falls asleep\n",
      "[1518-03-08 00:48] wakes up\n",
      "[1518-03-09 00:00] Guard #1831 begins shift\n",
      "[1518-03-09 00:30] falls asleep\n",
      "[1518-03-09 00:58] wakes up\n",
      "[1518-03-09 23:56] Guard #2333 begins shift\n",
      "[1518-03-10 23:58] Guard #509 begins shift\n",
      "[1518-03-11 00:09] falls asleep\n",
      "[1518-03-11 00:30] wakes up\n",
      "[1518-03-11 00:34] falls asleep\n",
      "[1518-03-11 00:49] wakes up\n",
      "[1518-03-12 00:01] Guard #2663 begins shift\n",
      "[1518-03-12 00:38] falls asleep\n",
      "[1518-03-12 00:46] wakes up\n",
      "[1518-03-12 00:49] falls asleep\n",
      "[1518-03-12 00:52] wakes up\n",
      "[1518-03-13 00:02] Guard #2663 begins shift\n",
      "[1518-03-13 00:13] falls asleep\n",
      "[1518-03-13 00:56] wakes up\n",
      "[1518-03-14 00:00] Guard #2663 begins shift\n",
      "[1518-03-14 00:06] falls asleep\n",
      "[1518-03-14 00:47] wakes up\n",
      "[1518-03-14 23:59] Guard #2861 begins shift\n",
      "[1518-03-15 00:18] falls asleep\n",
      "[1518-03-15 00:33] wakes up\n",
      "[1518-03-15 00:42] falls asleep\n",
      "[1518-03-15 00:47] wakes up\n",
      "[1518-03-15 23:59] Guard #2459 begins shift\n",
      "[1518-03-16 00:31] falls asleep\n",
      "[1518-03-16 00:35] wakes up\n",
      "[1518-03-16 00:43] falls asleep\n",
      "[1518-03-16 00:48] wakes up\n",
      "[1518-03-16 00:51] falls asleep\n",
      "[1518-03-16 00:53] wakes up\n",
      "[1518-03-16 23:58] Guard #1409 begins shift\n",
      "[1518-03-17 00:06] falls asleep\n",
      "[1518-03-17 00:46] wakes up\n",
      "[1518-03-18 00:03] Guard #1409 begins shift\n",
      "[1518-03-18 00:19] falls asleep\n",
      "[1518-03-18 00:29] wakes up\n",
      "[1518-03-18 00:40] falls asleep\n",
      "[1518-03-18 00:56] wakes up\n",
      "[1518-03-18 23:57] Guard #1301 begins shift\n",
      "[1518-03-19 00:33] falls asleep\n",
      "[1518-03-19 00:34] wakes up\n",
      "[1518-03-19 23:59] Guard #2459 begins shift\n",
      "[1518-03-20 00:23] falls asleep\n",
      "[1518-03-20 00:51] wakes up\n",
      "[1518-03-21 00:04] Guard #1831 begins shift\n",
      "[1518-03-21 00:09] falls asleep\n",
      "[1518-03-21 00:16] wakes up\n",
      "[1518-03-21 00:45] falls asleep\n",
      "[1518-03-21 00:56] wakes up\n",
      "[1518-03-22 00:02] Guard #619 begins shift\n",
      "[1518-03-22 00:20] falls asleep\n",
      "[1518-03-22 00:40] wakes up\n",
      "[1518-03-22 00:43] falls asleep\n",
      "[1518-03-22 00:52] wakes up\n",
      "[1518-03-22 00:56] falls asleep\n",
      "[1518-03-22 00:59] wakes up\n",
      "[1518-03-23 00:04] Guard #509 begins shift\n",
      "[1518-03-23 00:21] falls asleep\n",
      "[1518-03-23 00:26] wakes up\n",
      "[1518-03-23 00:30] falls asleep\n",
      "[1518-03-23 00:48] wakes up\n",
      "[1518-03-23 23:48] Guard #3271 begins shift\n",
      "[1518-03-24 00:01] falls asleep\n",
      "[1518-03-24 00:16] wakes up\n",
      "[1518-03-24 00:26] falls asleep\n",
      "[1518-03-24 00:30] wakes up\n",
      "[1518-03-24 23:54] Guard #3469 begins shift\n",
      "[1518-03-25 00:01] falls asleep\n",
      "[1518-03-25 00:23] wakes up\n",
      "[1518-03-25 00:31] falls asleep\n",
      "[1518-03-25 00:52] wakes up\n",
      "[1518-03-26 00:03] Guard #2207 begins shift\n",
      "[1518-03-26 00:35] falls asleep\n",
      "[1518-03-26 00:54] wakes up\n",
      "[1518-03-27 00:01] Guard #509 begins shift\n",
      "[1518-03-27 00:09] falls asleep\n",
      "[1518-03-27 00:29] wakes up\n",
      "[1518-03-27 00:32] falls asleep\n",
      "[1518-03-27 00:56] wakes up\n",
      "[1518-03-27 23:56] Guard #2459 begins shift\n",
      "[1518-03-28 00:22] falls asleep\n",
      "[1518-03-28 00:27] wakes up\n",
      "[1518-03-28 00:43] falls asleep\n",
      "[1518-03-28 00:47] wakes up\n",
      "[1518-03-28 23:57] Guard #2207 begins shift\n",
      "[1518-03-29 00:39] falls asleep\n",
      "[1518-03-29 00:46] wakes up\n",
      "[1518-03-29 23:52] Guard #401 begins shift\n",
      "[1518-03-30 00:05] falls asleep\n",
      "[1518-03-30 00:55] wakes up\n",
      "[1518-03-31 00:03] Guard #2663 begins shift\n",
      "[1518-03-31 00:09] falls asleep\n",
      "[1518-03-31 00:46] wakes up\n",
      "[1518-04-01 00:00] Guard #2861 begins shift\n",
      "[1518-04-01 00:09] falls asleep\n",
      "[1518-04-01 00:59] wakes up\n",
      "[1518-04-01 23:58] Guard #1877 begins shift\n",
      "[1518-04-02 00:10] falls asleep\n",
      "[1518-04-02 00:48] wakes up\n",
      "[1518-04-02 23:56] Guard #3271 begins shift\n",
      "[1518-04-03 00:29] falls asleep\n",
      "[1518-04-03 00:46] wakes up\n",
      "[1518-04-03 00:49] falls asleep\n",
      "[1518-04-03 00:56] wakes up\n",
      "[1518-04-03 23:59] Guard #619 begins shift\n",
      "[1518-04-04 00:30] falls asleep\n",
      "[1518-04-04 00:40] wakes up\n",
      "[1518-04-04 00:50] falls asleep\n",
      "[1518-04-04 00:51] wakes up\n",
      "[1518-04-04 23:54] Guard #2663 begins shift\n",
      "[1518-04-05 00:03] falls asleep\n",
      "[1518-04-05 00:55] wakes up\n",
      "[1518-04-06 00:01] Guard #3271 begins shift\n",
      "[1518-04-06 00:44] falls asleep\n",
      "[1518-04-06 00:57] wakes up\n",
      "[1518-04-06 23:58] Guard #433 begins shift\n",
      "[1518-04-07 00:16] falls asleep\n",
      "[1518-04-07 00:46] wakes up\n",
      "[1518-04-07 00:49] falls asleep\n",
      "[1518-04-07 00:50] wakes up\n",
      "[1518-04-07 00:53] falls asleep\n",
      "[1518-04-07 00:57] wakes up\n",
      "[1518-04-08 00:00] Guard #2663 begins shift\n",
      "[1518-04-08 00:26] falls asleep\n",
      "[1518-04-08 00:28] wakes up\n",
      "[1518-04-08 00:45] falls asleep\n",
      "[1518-04-08 00:54] wakes up\n",
      "[1518-04-09 00:04] Guard #1697 begins shift\n",
      "[1518-04-09 23:58] Guard #2861 begins shift\n",
      "[1518-04-10 00:26] falls asleep\n",
      "[1518-04-10 00:44] wakes up\n",
      "[1518-04-10 23:49] Guard #73 begins shift\n",
      "[1518-04-11 00:05] falls asleep\n",
      "[1518-04-11 00:24] wakes up\n",
      "[1518-04-11 00:28] falls asleep\n",
      "[1518-04-11 00:35] wakes up\n",
      "[1518-04-11 00:49] falls asleep\n",
      "[1518-04-11 00:52] wakes up\n",
      "[1518-04-11 00:57] falls asleep\n",
      "[1518-04-11 00:59] wakes up\n",
      "[1518-04-11 23:59] Guard #1697 begins shift\n",
      "[1518-04-12 23:58] Guard #3191 begins shift\n",
      "[1518-04-14 00:04] Guard #3469 begins shift\n",
      "[1518-04-14 00:29] falls asleep\n",
      "[1518-04-14 00:38] wakes up\n",
      "[1518-04-15 00:00] Guard #1831 begins shift\n",
      "[1518-04-15 00:35] falls asleep\n",
      "[1518-04-15 00:39] wakes up\n",
      "[1518-04-15 00:52] falls asleep\n",
      "[1518-04-15 00:53] wakes up\n",
      "[1518-04-16 00:00] Guard #2207 begins shift\n",
      "[1518-04-16 00:24] falls asleep\n",
      "[1518-04-16 00:59] wakes up\n",
      "[1518-04-16 23:57] Guard #2861 begins shift\n",
      "[1518-04-17 00:22] falls asleep\n",
      "[1518-04-17 00:34] wakes up\n",
      "[1518-04-17 00:41] falls asleep\n",
      "[1518-04-17 00:53] wakes up\n",
      "[1518-04-18 00:01] Guard #401 begins shift\n",
      "[1518-04-18 00:31] falls asleep\n",
      "[1518-04-18 00:59] wakes up\n",
      "[1518-04-19 00:00] Guard #1409 begins shift\n",
      "[1518-04-19 00:46] falls asleep\n",
      "[1518-04-19 00:51] wakes up\n",
      "[1518-04-19 23:47] Guard #619 begins shift\n",
      "[1518-04-20 00:01] falls asleep\n",
      "[1518-04-20 00:42] wakes up\n",
      "[1518-04-20 23:58] Guard #2663 begins shift\n",
      "[1518-04-21 00:12] falls asleep\n",
      "[1518-04-21 00:52] wakes up\n",
      "[1518-04-22 00:02] Guard #2207 begins shift\n",
      "[1518-04-22 00:47] falls asleep\n",
      "[1518-04-22 00:53] wakes up\n",
      "[1518-04-23 00:00] Guard #1327 begins shift\n",
      "[1518-04-23 00:40] falls asleep\n",
      "[1518-04-23 00:53] wakes up\n",
      "[1518-04-23 00:57] falls asleep\n",
      "[1518-04-23 00:58] wakes up\n",
      "[1518-04-24 00:01] Guard #2207 begins shift\n",
      "[1518-04-24 00:24] falls asleep\n",
      "[1518-04-24 00:43] wakes up\n",
      "[1518-04-25 00:00] Guard #1877 begins shift\n",
      "[1518-04-25 00:37] falls asleep\n",
      "[1518-04-25 00:49] wakes up\n",
      "[1518-04-25 23:54] Guard #1301 begins shift\n",
      "[1518-04-26 00:00] falls asleep\n",
      "[1518-04-26 00:04] wakes up\n",
      "[1518-04-26 00:14] falls asleep\n",
      "[1518-04-26 00:29] wakes up\n",
      "[1518-04-26 00:46] falls asleep\n",
      "[1518-04-26 00:49] wakes up\n",
      "[1518-04-27 00:03] Guard #2333 begins shift\n",
      "[1518-04-28 00:01] Guard #3541 begins shift\n",
      "[1518-04-28 00:27] falls asleep\n",
      "[1518-04-28 00:30] wakes up\n",
      "[1518-04-28 00:33] falls asleep\n",
      "[1518-04-28 00:59] wakes up\n",
      "[1518-04-28 23:48] Guard #2663 begins shift\n",
      "[1518-04-29 00:02] falls asleep\n",
      "[1518-04-29 00:26] wakes up\n",
      "[1518-04-30 00:01] Guard #3499 begins shift\n",
      "[1518-04-30 00:28] falls asleep\n",
      "[1518-04-30 00:31] wakes up\n",
      "[1518-04-30 00:47] falls asleep\n",
      "[1518-04-30 00:58] wakes up\n",
      "[1518-05-01 00:02] Guard #3271 begins shift\n",
      "[1518-05-01 00:12] falls asleep\n",
      "[1518-05-01 00:48] wakes up\n",
      "[1518-05-02 00:04] Guard #1409 begins shift\n",
      "[1518-05-02 00:33] falls asleep\n",
      "[1518-05-02 00:48] wakes up\n",
      "[1518-05-02 00:52] falls asleep\n",
      "[1518-05-02 00:58] wakes up\n",
      "[1518-05-02 23:57] Guard #1301 begins shift\n",
      "[1518-05-03 00:12] falls asleep\n",
      "[1518-05-03 00:51] wakes up\n",
      "[1518-05-03 23:59] Guard #1831 begins shift\n",
      "[1518-05-04 00:10] falls asleep\n",
      "[1518-05-04 00:58] wakes up\n",
      "[1518-05-04 23:50] Guard #2207 begins shift\n",
      "[1518-05-05 00:05] falls asleep\n",
      "[1518-05-05 00:11] wakes up\n",
      "[1518-05-05 00:23] falls asleep\n",
      "[1518-05-05 00:50] wakes up\n",
      "[1518-05-05 23:58] Guard #3271 begins shift\n",
      "[1518-05-06 00:43] falls asleep\n",
      "[1518-05-06 00:51] wakes up\n",
      "[1518-05-07 00:02] Guard #73 begins shift\n",
      "[1518-05-07 00:17] falls asleep\n",
      "[1518-05-07 00:54] wakes up\n",
      "[1518-05-08 00:00] Guard #2411 begins shift\n",
      "[1518-05-08 00:06] falls asleep\n",
      "[1518-05-08 00:18] wakes up\n",
      "[1518-05-08 00:50] falls asleep\n",
      "[1518-05-08 00:59] wakes up\n",
      "[1518-05-08 23:59] Guard #2861 begins shift\n",
      "[1518-05-09 00:07] falls asleep\n",
      "[1518-05-09 00:41] wakes up\n",
      "[1518-05-09 23:49] Guard #3541 begins shift\n",
      "[1518-05-10 00:03] falls asleep\n",
      "[1518-05-10 00:59] wakes up\n",
      "[1518-05-11 00:01] Guard #3469 begins shift\n",
      "[1518-05-11 00:16] falls asleep\n",
      "[1518-05-11 00:26] wakes up\n",
      "[1518-05-11 00:52] falls asleep\n",
      "[1518-05-11 00:54] wakes up\n",
      "[1518-05-12 00:00] Guard #1301 begins shift\n",
      "[1518-05-12 00:32] falls asleep\n",
      "[1518-05-12 00:38] wakes up\n",
      "[1518-05-12 00:44] falls asleep\n",
      "[1518-05-12 00:53] wakes up\n",
      "[1518-05-13 00:00] Guard #3499 begins shift\n",
      "[1518-05-13 00:40] falls asleep\n",
      "[1518-05-13 00:50] wakes up\n",
      "[1518-05-13 23:59] Guard #509 begins shift\n",
      "[1518-05-14 00:25] falls asleep\n",
      "[1518-05-14 00:48] wakes up\n",
      "[1518-05-15 00:04] Guard #1301 begins shift\n",
      "[1518-05-15 00:10] falls asleep\n",
      "[1518-05-15 00:53] wakes up\n",
      "[1518-05-15 23:56] Guard #3499 begins shift\n",
      "[1518-05-16 00:14] falls asleep\n",
      "[1518-05-16 00:31] wakes up\n",
      "[1518-05-16 00:36] falls asleep\n",
      "[1518-05-16 00:51] wakes up\n",
      "[1518-05-17 00:04] Guard #2411 begins shift\n",
      "[1518-05-17 00:33] falls asleep\n",
      "[1518-05-17 00:42] wakes up\n",
      "[1518-05-17 00:46] falls asleep\n",
      "[1518-05-17 00:55] wakes up\n",
      "[1518-05-18 00:04] Guard #2417 begins shift\n",
      "[1518-05-18 00:38] falls asleep\n",
      "[1518-05-18 00:48] wakes up\n",
      "[1518-05-18 00:56] falls asleep\n",
      "[1518-05-18 00:59] wakes up\n",
      "[1518-05-19 00:02] Guard #2411 begins shift\n",
      "[1518-05-19 00:35] falls asleep\n",
      "[1518-05-19 00:40] wakes up\n",
      "[1518-05-19 23:57] Guard #3541 begins shift\n",
      "[1518-05-20 00:25] falls asleep\n",
      "[1518-05-20 00:47] wakes up\n",
      "[1518-05-20 23:56] Guard #1301 begins shift\n",
      "[1518-05-21 00:10] falls asleep\n",
      "[1518-05-21 00:49] wakes up\n",
      "[1518-05-21 23:58] Guard #509 begins shift\n",
      "[1518-05-22 00:22] falls asleep\n",
      "[1518-05-22 00:31] wakes up\n",
      "[1518-05-23 00:04] Guard #401 begins shift\n",
      "[1518-05-23 00:29] falls asleep\n",
      "[1518-05-23 00:37] wakes up\n",
      "[1518-05-24 00:00] Guard #509 begins shift\n",
      "[1518-05-24 00:23] falls asleep\n",
      "[1518-05-24 00:28] wakes up\n",
      "[1518-05-24 00:57] falls asleep\n",
      "[1518-05-24 00:58] wakes up\n",
      "[1518-05-24 23:50] Guard #3271 begins shift\n",
      "[1518-05-25 00:05] falls asleep\n",
      "[1518-05-25 00:56] wakes up\n",
      "[1518-05-26 00:03] Guard #2411 begins shift\n",
      "[1518-05-26 00:14] falls asleep\n",
      "[1518-05-26 00:17] wakes up\n",
      "[1518-05-26 00:21] falls asleep\n",
      "[1518-05-26 00:48] wakes up\n",
      "[1518-05-26 23:49] Guard #3271 begins shift\n",
      "[1518-05-27 00:04] falls asleep\n",
      "[1518-05-27 00:12] wakes up\n",
      "[1518-05-28 00:00] Guard #2417 begins shift\n",
      "[1518-05-28 00:07] falls asleep\n",
      "[1518-05-28 00:44] wakes up\n",
      "[1518-05-28 23:57] Guard #401 begins shift\n",
      "[1518-05-29 00:18] falls asleep\n",
      "[1518-05-29 00:45] wakes up\n",
      "[1518-05-29 00:53] falls asleep\n",
      "[1518-05-29 00:58] wakes up\n",
      "[1518-05-30 00:02] Guard #3499 begins shift\n",
      "[1518-05-30 00:20] falls asleep\n",
      "[1518-05-30 00:42] wakes up\n",
      "[1518-05-30 00:48] falls asleep\n",
      "[1518-05-30 00:51] wakes up\n",
      "[1518-05-30 23:56] Guard #2861 begins shift\n",
      "[1518-05-31 00:32] falls asleep\n",
      "[1518-05-31 00:39] wakes up\n",
      "[1518-06-01 00:03] Guard #2417 begins shift\n",
      "[1518-06-01 00:25] falls asleep\n",
      "[1518-06-01 00:57] wakes up\n",
      "[1518-06-02 00:04] Guard #1301 begins shift\n",
      "[1518-06-02 00:27] falls asleep\n",
      "[1518-06-02 00:36] wakes up\n",
      "[1518-06-02 00:42] falls asleep\n",
      "[1518-06-02 00:54] wakes up\n",
      "[1518-06-03 00:01] Guard #3469 begins shift\n",
      "[1518-06-03 00:18] falls asleep\n",
      "[1518-06-03 00:27] wakes up\n",
      "[1518-06-03 23:58] Guard #509 begins shift\n",
      "[1518-06-04 00:19] falls asleep\n",
      "[1518-06-04 00:29] wakes up\n",
      "[1518-06-04 00:48] falls asleep\n",
      "[1518-06-04 00:58] wakes up\n",
      "[1518-06-05 00:00] Guard #619 begins shift\n",
      "[1518-06-05 00:33] falls asleep\n",
      "[1518-06-05 00:45] wakes up\n",
      "[1518-06-05 23:59] Guard #509 begins shift\n",
      "[1518-06-06 00:25] falls asleep\n",
      "[1518-06-06 00:36] wakes up\n",
      "[1518-06-06 23:56] Guard #3271 begins shift\n",
      "[1518-06-07 00:41] falls asleep\n",
      "[1518-06-07 00:57] wakes up\n",
      "[1518-06-08 00:04] Guard #2207 begins shift\n",
      "[1518-06-08 00:38] falls asleep\n",
      "[1518-06-08 00:47] wakes up\n",
      "[1518-06-09 00:01] Guard #1831 begins shift\n",
      "[1518-06-09 00:16] falls asleep\n",
      "[1518-06-09 00:41] wakes up\n",
      "[1518-06-09 23:56] Guard #3271 begins shift\n",
      "[1518-06-10 00:10] falls asleep\n",
      "[1518-06-10 00:51] wakes up\n",
      "[1518-06-10 23:59] Guard #433 begins shift\n",
      "[1518-06-11 00:19] falls asleep\n",
      "[1518-06-11 00:26] wakes up\n",
      "[1518-06-11 00:31] falls asleep\n",
      "[1518-06-11 00:54] wakes up\n",
      "[1518-06-12 00:00] Guard #2861 begins shift\n",
      "[1518-06-12 00:33] falls asleep\n",
      "[1518-06-12 00:47] wakes up\n",
      "[1518-06-12 00:50] falls asleep\n",
      "[1518-06-12 00:59] wakes up\n",
      "[1518-06-12 23:54] Guard #73 begins shift\n",
      "[1518-06-13 00:01] falls asleep\n",
      "[1518-06-13 00:41] wakes up\n",
      "[1518-06-13 23:53] Guard #73 begins shift\n",
      "[1518-06-14 00:04] falls asleep\n",
      "[1518-06-14 00:58] wakes up\n",
      "[1518-06-15 00:00] Guard #1409 begins shift\n",
      "[1518-06-15 00:06] falls asleep\n",
      "[1518-06-15 00:20] wakes up\n",
      "[1518-06-15 00:44] falls asleep\n",
      "[1518-06-15 00:47] wakes up\n",
      "[1518-06-16 00:03] Guard #3271 begins shift\n",
      "[1518-06-16 00:48] falls asleep\n",
      "[1518-06-16 00:56] wakes up\n",
      "[1518-06-17 00:03] Guard #3499 begins shift\n",
      "[1518-06-17 00:22] falls asleep\n",
      "[1518-06-17 00:53] wakes up\n",
      "[1518-06-17 00:57] falls asleep\n",
      "[1518-06-17 00:58] wakes up\n",
      "[1518-06-17 23:50] Guard #401 begins shift\n",
      "[1518-06-18 00:02] falls asleep\n",
      "[1518-06-18 00:49] wakes up\n",
      "[1518-06-18 23:57] Guard #2411 begins shift\n",
      "[1518-06-19 00:21] falls asleep\n",
      "[1518-06-19 00:24] wakes up\n",
      "[1518-06-19 23:57] Guard #509 begins shift\n",
      "[1518-06-20 00:16] falls asleep\n",
      "[1518-06-20 00:54] wakes up\n",
      "[1518-06-20 23:58] Guard #619 begins shift\n",
      "[1518-06-21 00:31] falls asleep\n",
      "[1518-06-21 00:59] wakes up\n",
      "[1518-06-22 00:02] Guard #619 begins shift\n",
      "[1518-06-22 00:06] falls asleep\n",
      "[1518-06-22 00:52] wakes up\n",
      "[1518-06-22 23:57] Guard #619 begins shift\n",
      "[1518-06-23 00:10] falls asleep\n",
      "[1518-06-23 00:28] wakes up\n",
      "[1518-06-23 00:32] falls asleep\n",
      "[1518-06-23 00:41] wakes up\n",
      "[1518-06-23 00:54] falls asleep\n",
      "[1518-06-23 00:59] wakes up\n",
      "[1518-06-24 00:03] Guard #3541 begins shift\n",
      "[1518-06-24 00:28] falls asleep\n",
      "[1518-06-24 00:42] wakes up\n",
      "[1518-06-24 23:49] Guard #3271 begins shift\n",
      "[1518-06-25 00:03] falls asleep\n",
      "[1518-06-25 00:47] wakes up\n",
      "[1518-06-26 00:03] Guard #2459 begins shift\n",
      "[1518-06-26 00:28] falls asleep\n",
      "[1518-06-26 00:57] wakes up\n",
      "[1518-06-27 00:01] Guard #1877 begins shift\n",
      "[1518-06-27 00:30] falls asleep\n",
      "[1518-06-27 00:44] wakes up\n",
      "[1518-06-27 00:47] falls asleep\n",
      "[1518-06-27 00:48] wakes up\n",
      "[1518-06-28 00:00] Guard #433 begins shift\n",
      "[1518-06-28 00:25] falls asleep\n",
      "[1518-06-28 00:57] wakes up\n",
      "[1518-06-28 23:57] Guard #1327 begins shift\n",
      "[1518-06-29 00:07] falls asleep\n",
      "[1518-06-29 00:11] wakes up\n",
      "[1518-06-29 23:59] Guard #1409 begins shift\n",
      "[1518-06-30 00:18] falls asleep\n",
      "[1518-06-30 00:24] wakes up\n",
      "[1518-06-30 00:40] falls asleep\n",
      "[1518-06-30 00:57] wakes up\n",
      "[1518-07-01 00:01] Guard #73 begins shift\n",
      "[1518-07-01 00:37] falls asleep\n",
      "[1518-07-01 00:47] wakes up\n",
      "[1518-07-01 23:59] Guard #1301 begins shift\n",
      "[1518-07-02 00:06] falls asleep\n",
      "[1518-07-02 00:48] wakes up\n",
      "[1518-07-03 00:02] Guard #73 begins shift\n",
      "[1518-07-03 00:19] falls asleep\n",
      "[1518-07-03 00:58] wakes up\n",
      "[1518-07-04 00:01] Guard #2417 begins shift\n",
      "[1518-07-04 00:22] falls asleep\n",
      "[1518-07-04 00:38] wakes up\n",
      "[1518-07-04 00:54] falls asleep\n",
      "[1518-07-04 00:59] wakes up\n",
      "[1518-07-05 00:01] Guard #2663 begins shift\n",
      "[1518-07-05 00:40] falls asleep\n",
      "[1518-07-05 00:48] wakes up\n",
      "[1518-07-05 23:51] Guard #1327 begins shift\n",
      "[1518-07-06 00:01] falls asleep\n",
      "[1518-07-06 00:24] wakes up\n",
      "[1518-07-06 00:48] falls asleep\n",
      "[1518-07-06 00:55] wakes up\n",
      "[1518-07-07 00:02] Guard #1877 begins shift\n",
      "[1518-07-07 00:35] falls asleep\n",
      "[1518-07-07 00:52] wakes up\n",
      "[1518-07-08 00:04] Guard #3541 begins shift\n",
      "[1518-07-08 00:11] falls asleep\n",
      "[1518-07-08 00:36] wakes up\n",
      "[1518-07-08 23:57] Guard #619 begins shift\n",
      "[1518-07-09 00:42] falls asleep\n",
      "[1518-07-09 00:56] wakes up\n",
      "[1518-07-10 00:00] Guard #2861 begins shift\n",
      "[1518-07-10 00:10] falls asleep\n",
      "[1518-07-10 00:11] wakes up\n",
      "[1518-07-10 00:23] falls asleep\n",
      "[1518-07-10 00:26] wakes up\n",
      "[1518-07-11 00:01] Guard #619 begins shift\n",
      "[1518-07-11 00:28] falls asleep\n",
      "[1518-07-11 00:56] wakes up\n",
      "[1518-07-11 23:47] Guard #3469 begins shift\n",
      "[1518-07-12 00:04] falls asleep\n",
      "[1518-07-12 00:08] wakes up\n",
      "[1518-07-12 00:17] falls asleep\n",
      "[1518-07-12 00:37] wakes up\n",
      "[1518-07-13 00:00] Guard #1831 begins shift\n",
      "[1518-07-13 00:36] falls asleep\n",
      "[1518-07-13 00:39] wakes up\n",
      "[1518-07-13 00:43] falls asleep\n",
      "[1518-07-13 00:58] wakes up\n",
      "[1518-07-13 23:56] Guard #401 begins shift\n",
      "[1518-07-14 00:30] falls asleep\n",
      "[1518-07-14 00:46] wakes up\n",
      "[1518-07-14 00:54] falls asleep\n",
      "[1518-07-14 00:57] wakes up\n",
      "[1518-07-14 23:59] Guard #3469 begins shift\n",
      "[1518-07-15 00:24] falls asleep\n",
      "[1518-07-15 00:27] wakes up\n",
      "[1518-07-16 00:00] Guard #509 begins shift\n",
      "[1518-07-16 00:24] falls asleep\n",
      "[1518-07-16 00:29] wakes up\n",
      "[1518-07-17 00:00] Guard #1409 begins shift\n",
      "[1518-07-17 00:12] falls asleep\n",
      "[1518-07-17 00:56] wakes up\n",
      "[1518-07-17 23:57] Guard #1301 begins shift\n",
      "[1518-07-18 00:35] falls asleep\n",
      "[1518-07-18 00:55] wakes up\n",
      "[1518-07-18 23:54] Guard #2411 begins shift\n",
      "[1518-07-19 00:04] falls asleep\n",
      "[1518-07-19 00:19] wakes up\n",
      "[1518-07-19 00:37] falls asleep\n",
      "[1518-07-19 00:55] wakes up\n",
      "[1518-07-20 00:03] Guard #433 begins shift\n",
      "[1518-07-20 00:41] falls asleep\n",
      "[1518-07-20 00:55] wakes up\n",
      "[1518-07-21 00:01] Guard #2411 begins shift\n",
      "[1518-07-21 00:50] falls asleep\n",
      "[1518-07-21 00:54] wakes up\n",
      "[1518-07-21 23:59] Guard #1409 begins shift\n",
      "[1518-07-22 00:35] falls asleep\n",
      "[1518-07-22 00:50] wakes up\n",
      "[1518-07-22 23:56] Guard #2459 begins shift\n",
      "[1518-07-23 00:26] falls asleep\n",
      "[1518-07-23 00:45] wakes up\n",
      "[1518-07-24 00:04] Guard #1409 begins shift\n",
      "[1518-07-24 00:32] falls asleep\n",
      "[1518-07-24 00:45] wakes up\n",
      "[1518-07-25 00:01] Guard #509 begins shift\n",
      "[1518-07-25 00:16] falls asleep\n",
      "[1518-07-25 00:42] wakes up\n",
      "[1518-07-25 23:56] Guard #433 begins shift\n",
      "[1518-07-26 00:35] falls asleep\n",
      "[1518-07-26 00:37] wakes up\n",
      "[1518-07-26 00:46] falls asleep\n",
      "[1518-07-26 00:58] wakes up\n",
      "[1518-07-26 23:50] Guard #3541 begins shift\n",
      "[1518-07-27 00:04] falls asleep\n",
      "[1518-07-27 00:45] wakes up\n",
      "[1518-07-27 00:55] falls asleep\n",
      "[1518-07-27 00:59] wakes up\n",
      "[1518-07-28 00:03] Guard #3499 begins shift\n",
      "[1518-07-28 00:34] falls asleep\n",
      "[1518-07-28 00:48] wakes up\n",
      "[1518-07-28 23:58] Guard #619 begins shift\n",
      "[1518-07-29 00:09] falls asleep\n",
      "[1518-07-29 00:13] wakes up\n",
      "[1518-07-29 00:19] falls asleep\n",
      "[1518-07-29 00:53] wakes up\n",
      "[1518-07-29 23:59] Guard #3469 begins shift\n",
      "[1518-07-30 00:16] falls asleep\n",
      "[1518-07-30 00:25] wakes up\n",
      "[1518-07-30 00:38] falls asleep\n",
      "[1518-07-30 00:48] wakes up\n",
      "[1518-07-30 00:55] falls asleep\n",
      "[1518-07-30 00:56] wakes up\n",
      "[1518-07-31 00:02] Guard #401 begins shift\n",
      "[1518-07-31 00:23] falls asleep\n",
      "[1518-07-31 00:50] wakes up\n",
      "[1518-08-01 00:03] Guard #3499 begins shift\n",
      "[1518-08-01 00:40] falls asleep\n",
      "[1518-08-01 00:58] wakes up\n",
      "[1518-08-02 00:03] Guard #3469 begins shift\n",
      "[1518-08-02 00:06] falls asleep\n",
      "[1518-08-02 00:09] wakes up\n",
      "[1518-08-02 00:14] falls asleep\n",
      "[1518-08-02 00:40] wakes up\n",
      "[1518-08-03 00:02] Guard #3191 begins shift\n",
      "[1518-08-04 00:04] Guard #3541 begins shift\n",
      "[1518-08-04 00:18] falls asleep\n",
      "[1518-08-04 00:26] wakes up\n",
      "[1518-08-04 00:35] falls asleep\n",
      "[1518-08-04 00:37] wakes up\n",
      "[1518-08-04 00:41] falls asleep\n",
      "[1518-08-04 00:55] wakes up\n",
      "[1518-08-05 00:03] Guard #509 begins shift\n",
      "[1518-08-05 00:10] falls asleep\n",
      "[1518-08-05 00:34] wakes up\n",
      "[1518-08-06 00:00] Guard #3541 begins shift\n",
      "[1518-08-06 00:17] falls asleep\n",
      "[1518-08-06 00:27] wakes up\n",
      "[1518-08-06 00:39] falls asleep\n",
      "[1518-08-06 00:55] wakes up\n",
      "[1518-08-07 00:02] Guard #2207 begins shift\n",
      "[1518-08-07 00:47] falls asleep\n",
      "[1518-08-07 00:54] wakes up\n",
      "[1518-08-08 00:01] Guard #3541 begins shift\n",
      "[1518-08-08 00:17] falls asleep\n",
      "[1518-08-08 00:55] wakes up\n",
      "[1518-08-08 23:58] Guard #2333 begins shift\n",
      "[1518-08-10 00:00] Guard #2207 begins shift\n",
      "[1518-08-10 00:21] falls asleep\n",
      "[1518-08-10 00:33] wakes up\n",
      "[1518-08-10 00:42] falls asleep\n",
      "[1518-08-10 00:54] wakes up\n",
      "[1518-08-10 23:57] Guard #1877 begins shift\n",
      "[1518-08-11 00:16] falls asleep\n",
      "[1518-08-11 00:51] wakes up\n",
      "[1518-08-11 23:56] Guard #2411 begins shift\n",
      "[1518-08-12 00:16] falls asleep\n",
      "[1518-08-12 00:31] wakes up\n",
      "[1518-08-12 23:59] Guard #619 begins shift\n",
      "[1518-08-13 00:22] falls asleep\n",
      "[1518-08-13 00:33] wakes up\n",
      "[1518-08-14 00:00] Guard #2861 begins shift\n",
      "[1518-08-14 00:25] falls asleep\n",
      "[1518-08-14 00:35] wakes up\n",
      "[1518-08-15 00:01] Guard #2411 begins shift\n",
      "[1518-08-15 00:12] falls asleep\n",
      "[1518-08-15 00:51] wakes up\n",
      "[1518-08-15 00:54] falls asleep\n",
      "[1518-08-15 00:58] wakes up\n",
      "[1518-08-16 00:04] Guard #509 begins shift\n",
      "[1518-08-16 00:25] falls asleep\n",
      "[1518-08-16 00:30] wakes up\n",
      "[1518-08-16 00:40] falls asleep\n",
      "[1518-08-16 00:56] wakes up\n",
      "[1518-08-16 23:56] Guard #3191 begins shift\n",
      "[1518-08-18 00:01] Guard #401 begins shift\n",
      "[1518-08-18 00:47] falls asleep\n",
      "[1518-08-18 00:53] wakes up\n",
      "[1518-08-19 00:00] Guard #2417 begins shift\n",
      "[1518-08-19 00:07] falls asleep\n",
      "[1518-08-19 00:50] wakes up\n",
      "[1518-08-19 23:59] Guard #2663 begins shift\n",
      "[1518-08-20 00:18] falls asleep\n",
      "[1518-08-20 00:59] wakes up\n",
      "[1518-08-20 23:54] Guard #1831 begins shift\n",
      "[1518-08-21 00:01] falls asleep\n",
      "[1518-08-21 00:55] wakes up\n",
      "[1518-08-21 23:56] Guard #1301 begins shift\n",
      "[1518-08-22 00:12] falls asleep\n",
      "[1518-08-22 00:43] wakes up\n",
      "[1518-08-22 00:46] falls asleep\n",
      "[1518-08-22 00:59] wakes up\n",
      "[1518-08-23 00:04] Guard #73 begins shift\n",
      "[1518-08-23 00:11] falls asleep\n",
      "[1518-08-23 00:56] wakes up\n",
      "[1518-08-23 23:49] Guard #2207 begins shift\n",
      "[1518-08-24 00:04] falls asleep\n",
      "[1518-08-24 00:33] wakes up\n",
      "[1518-08-24 00:40] falls asleep\n",
      "[1518-08-24 00:56] wakes up\n",
      "[1518-08-24 23:52] Guard #2663 begins shift\n",
      "[1518-08-25 00:04] falls asleep\n",
      "[1518-08-25 00:48] wakes up\n",
      "[1518-08-25 23:57] Guard #73 begins shift\n",
      "[1518-08-26 00:18] falls asleep\n",
      "[1518-08-26 00:34] wakes up\n",
      "[1518-08-26 00:44] falls asleep\n",
      "[1518-08-26 00:52] wakes up\n",
      "[1518-08-27 00:02] Guard #2663 begins shift\n",
      "[1518-08-27 00:21] falls asleep\n",
      "[1518-08-27 00:50] wakes up\n",
      "[1518-08-28 00:04] Guard #1301 begins shift\n",
      "[1518-08-28 00:16] falls asleep\n",
      "[1518-08-28 00:42] wakes up\n",
      "[1518-08-28 00:48] falls asleep\n",
      "[1518-08-28 00:55] wakes up\n",
      "[1518-08-28 23:57] Guard #401 begins shift\n",
      "[1518-08-29 00:26] falls asleep\n",
      "[1518-08-29 00:28] wakes up\n",
      "[1518-08-29 00:34] falls asleep\n",
      "[1518-08-29 00:45] wakes up\n",
      "[1518-08-29 00:50] falls asleep\n",
      "[1518-08-29 00:59] wakes up\n",
      "[1518-08-29 23:52] Guard #2417 begins shift\n",
      "[1518-08-30 00:04] falls asleep\n",
      "[1518-08-30 00:29] wakes up\n",
      "[1518-08-30 00:35] falls asleep\n",
      "[1518-08-30 00:58] wakes up\n",
      "[1518-08-30 23:57] Guard #1877 begins shift\n",
      "[1518-08-31 00:48] falls asleep\n",
      "[1518-08-31 00:55] wakes up\n",
      "[1518-08-31 23:59] Guard #1831 begins shift\n",
      "[1518-09-01 00:51] falls asleep\n",
      "[1518-09-01 00:54] wakes up\n",
      "[1518-09-01 23:57] Guard #3271 begins shift\n",
      "[1518-09-02 00:08] falls asleep\n",
      "[1518-09-02 00:36] wakes up\n",
      "[1518-09-02 00:41] falls asleep\n",
      "[1518-09-02 00:57] wakes up\n",
      "[1518-09-02 23:59] Guard #3541 begins shift\n",
      "[1518-09-03 00:25] falls asleep\n",
      "[1518-09-03 00:42] wakes up\n",
      "[1518-09-03 00:48] falls asleep\n",
      "[1518-09-03 00:51] wakes up\n",
      "[1518-09-03 23:57] Guard #2417 begins shift\n",
      "[1518-09-04 00:34] falls asleep\n",
      "[1518-09-04 00:47] wakes up\n",
      "[1518-09-04 00:56] falls asleep\n",
      "[1518-09-04 00:58] wakes up\n",
      "[1518-09-05 00:00] Guard #3271 begins shift\n",
      "[1518-09-05 00:06] falls asleep\n",
      "[1518-09-05 00:56] wakes up\n",
      "[1518-09-05 23:59] Guard #73 begins shift\n",
      "[1518-09-06 00:37] falls asleep\n",
      "[1518-09-06 00:46] wakes up\n",
      "[1518-09-06 23:58] Guard #3499 begins shift\n",
      "[1518-09-07 00:17] falls asleep\n",
      "[1518-09-07 00:36] wakes up\n",
      "[1518-09-07 00:45] falls asleep\n",
      "[1518-09-07 00:58] wakes up\n",
      "[1518-09-07 23:58] Guard #433 begins shift\n",
      "[1518-09-08 00:47] falls asleep\n",
      "[1518-09-08 00:54] wakes up\n",
      "[1518-09-08 23:52] Guard #73 begins shift\n",
      "[1518-09-09 00:02] falls asleep\n",
      "[1518-09-09 00:43] wakes up\n",
      "[1518-09-10 00:00] Guard #401 begins shift\n",
      "[1518-09-10 00:16] falls asleep\n",
      "[1518-09-10 00:26] wakes up\n",
      "[1518-09-10 00:33] falls asleep\n",
      "[1518-09-10 00:45] wakes up\n",
      "[1518-09-10 00:52] falls asleep\n",
      "[1518-09-10 00:58] wakes up\n",
      "[1518-09-10 23:57] Guard #619 begins shift\n",
      "[1518-09-11 00:09] falls asleep\n",
      "[1518-09-11 00:59] wakes up\n",
      "[1518-09-12 00:02] Guard #509 begins shift\n",
      "[1518-09-12 00:22] falls asleep\n",
      "[1518-09-12 00:27] wakes up\n",
      "[1518-09-12 00:34] falls asleep\n",
      "[1518-09-12 00:42] wakes up\n",
      "[1518-09-12 00:56] falls asleep\n",
      "[1518-09-12 00:57] wakes up\n",
      "[1518-09-12 23:59] Guard #3541 begins shift\n",
      "[1518-09-13 00:21] falls asleep\n",
      "[1518-09-13 00:35] wakes up\n",
      "[1518-09-13 23:58] Guard #1877 begins shift\n",
      "[1518-09-14 00:25] falls asleep\n",
      "[1518-09-14 00:54] wakes up\n",
      "[1518-09-14 00:57] falls asleep\n",
      "[1518-09-14 00:58] wakes up\n",
      "[1518-09-14 23:59] Guard #2207 begins shift\n",
      "[1518-09-15 00:44] falls asleep\n",
      "[1518-09-15 00:51] wakes up\n",
      "[1518-09-15 23:59] Guard #73 begins shift\n",
      "[1518-09-16 00:28] falls asleep\n",
      "[1518-09-16 00:35] wakes up\n",
      "[1518-09-16 00:42] falls asleep\n",
      "[1518-09-16 00:51] wakes up\n",
      "[1518-09-17 00:03] Guard #1697 begins shift\n",
      "[1518-09-18 00:03] Guard #3469 begins shift\n",
      "[1518-09-18 00:27] falls asleep\n",
      "[1518-09-18 00:34] wakes up\n",
      "[1518-09-19 00:02] Guard #3499 begins shift\n",
      "[1518-09-19 00:35] falls asleep\n",
      "[1518-09-19 00:53] wakes up\n",
      "[1518-09-20 00:03] Guard #433 begins shift\n",
      "[1518-09-20 00:23] falls asleep\n",
      "[1518-09-20 00:51] wakes up\n",
      "[1518-09-20 23:58] Guard #1877 begins shift\n",
      "[1518-09-21 00:13] falls asleep\n",
      "[1518-09-21 00:57] wakes up\n",
      "[1518-09-22 00:02] Guard #2663 begins shift\n",
      "[1518-09-22 00:07] falls asleep\n",
      "[1518-09-22 00:17] wakes up\n",
      "[1518-09-22 00:24] falls asleep\n",
      "[1518-09-22 00:27] wakes up\n",
      "[1518-09-23 00:00] Guard #73 begins shift\n",
      "[1518-09-23 00:11] falls asleep\n",
      "[1518-09-23 00:46] wakes up\n",
      "[1518-09-24 00:04] Guard #3499 begins shift\n",
      "[1518-09-24 00:24] falls asleep\n",
      "[1518-09-24 00:46] wakes up\n",
      "[1518-09-24 23:56] Guard #2663 begins shift\n",
      "[1518-09-25 00:28] falls asleep\n",
      "[1518-09-25 00:34] wakes up\n",
      "[1518-09-25 00:39] falls asleep\n",
      "[1518-09-25 00:59] wakes up\n",
      "[1518-09-26 00:01] Guard #2417 begins shift\n",
      "[1518-09-26 00:08] falls asleep\n",
      "[1518-09-26 00:34] wakes up\n",
      "[1518-09-26 00:39] falls asleep\n",
      "[1518-09-26 00:43] wakes up\n",
      "[1518-09-27 00:00] Guard #2411 begins shift\n",
      "[1518-09-27 00:15] falls asleep\n",
      "[1518-09-27 00:35] wakes up\n",
      "[1518-09-27 00:38] falls asleep\n",
      "[1518-09-27 00:45] wakes up\n",
      "[1518-09-28 00:03] Guard #1409 begins shift\n",
      "[1518-09-28 00:09] falls asleep\n",
      "[1518-09-28 00:27] wakes up\n",
      "[1518-09-28 23:52] Guard #1831 begins shift\n",
      "[1518-09-29 00:01] falls asleep\n",
      "[1518-09-29 00:54] wakes up\n",
      "[1518-09-29 23:59] Guard #433 begins shift\n",
      "[1518-09-30 00:19] falls asleep\n",
      "[1518-09-30 00:28] wakes up\n",
      "[1518-09-30 00:32] falls asleep\n",
      "[1518-09-30 00:42] wakes up\n",
      "[1518-10-01 00:01] Guard #2207 begins shift\n",
      "[1518-10-01 00:32] falls asleep\n",
      "[1518-10-01 00:57] wakes up\n",
      "[1518-10-01 23:59] Guard #3499 begins shift\n",
      "[1518-10-02 00:32] falls asleep\n",
      "[1518-10-02 00:34] wakes up\n",
      "[1518-10-02 00:42] falls asleep\n",
      "[1518-10-02 00:54] wakes up\n",
      "[1518-10-03 00:00] Guard #2417 begins shift\n",
      "[1518-10-03 00:36] falls asleep\n",
      "[1518-10-03 00:50] wakes up\n",
      "[1518-10-03 00:57] falls asleep\n",
      "[1518-10-03 00:58] wakes up\n",
      "[1518-10-03 23:59] Guard #2663 begins shift\n",
      "[1518-10-04 00:47] falls asleep\n",
      "[1518-10-04 00:48] wakes up\n",
      "[1518-10-04 23:49] Guard #3271 begins shift\n",
      "[1518-10-05 00:00] falls asleep\n",
      "[1518-10-05 00:57] wakes up\n",
      "[1518-10-05 23:57] Guard #73 begins shift\n",
      "[1518-10-06 00:28] falls asleep\n",
      "[1518-10-06 00:51] wakes up\n",
      "[1518-10-07 00:00] Guard #1831 begins shift\n",
      "[1518-10-07 00:18] falls asleep\n",
      "[1518-10-07 00:44] wakes up\n",
      "[1518-10-07 00:53] falls asleep\n",
      "[1518-10-07 00:57] wakes up\n",
      "[1518-10-07 23:56] Guard #619 begins shift\n",
      "[1518-10-08 00:19] falls asleep\n",
      "[1518-10-08 00:56] wakes up\n",
      "[1518-10-09 00:00] Guard #509 begins shift\n",
      "[1518-10-09 00:12] falls asleep\n",
      "[1518-10-09 00:56] wakes up\n",
      "[1518-10-10 00:04] Guard #1301 begins shift\n",
      "[1518-10-10 00:07] falls asleep\n",
      "[1518-10-10 00:39] wakes up\n",
      "[1518-10-10 23:59] Guard #401 begins shift\n",
      "[1518-10-11 00:37] falls asleep\n",
      "[1518-10-11 00:40] wakes up\n",
      "[1518-10-11 00:43] falls asleep\n",
      "[1518-10-11 00:50] wakes up\n",
      "[1518-10-12 00:00] Guard #509 begins shift\n",
      "[1518-10-12 00:24] falls asleep\n",
      "[1518-10-12 00:29] wakes up\n",
      "[1518-10-12 00:52] falls asleep\n",
      "[1518-10-12 00:56] wakes up\n",
      "[1518-10-12 23:47] Guard #509 begins shift\n",
      "[1518-10-13 00:04] falls asleep\n",
      "[1518-10-13 00:54] wakes up\n",
      "[1518-10-13 23:50] Guard #2207 begins shift\n",
      "[1518-10-14 00:05] falls asleep\n",
      "[1518-10-14 00:32] wakes up\n",
      "[1518-10-14 00:55] falls asleep\n",
      "[1518-10-14 00:57] wakes up\n",
      "[1518-10-14 23:59] Guard #3541 begins shift\n",
      "[1518-10-15 00:27] falls asleep\n",
      "[1518-10-15 00:41] wakes up\n",
      "[1518-10-16 00:02] Guard #3499 begins shift\n",
      "[1518-10-16 00:26] falls asleep\n",
      "[1518-10-16 00:39] wakes up\n",
      "[1518-10-16 00:44] falls asleep\n",
      "[1518-10-16 00:56] wakes up\n",
      "[1518-10-17 00:04] Guard #1831 begins shift\n",
      "[1518-10-17 00:13] falls asleep\n",
      "[1518-10-17 00:48] wakes up\n",
      "[1518-10-17 00:51] falls asleep\n",
      "[1518-10-17 00:52] wakes up\n",
      "[1518-10-18 00:04] Guard #509 begins shift\n",
      "[1518-10-18 00:08] falls asleep\n",
      "[1518-10-18 00:42] wakes up\n",
      "[1518-10-19 00:00] Guard #1877 begins shift\n",
      "[1518-10-19 00:09] falls asleep\n",
      "[1518-10-19 00:39] wakes up\n",
      "[1518-10-19 00:54] falls asleep\n",
      "[1518-10-19 00:55] wakes up\n",
      "[1518-10-19 23:56] Guard #433 begins shift\n",
      "[1518-10-20 00:23] falls asleep\n",
      "[1518-10-20 00:33] wakes up\n",
      "[1518-10-20 00:53] falls asleep\n",
      "[1518-10-20 00:57] wakes up\n",
      "[1518-10-20 23:57] Guard #3499 begins shift\n",
      "[1518-10-21 00:33] falls asleep\n",
      "[1518-10-21 00:58] wakes up\n",
      "[1518-10-22 00:00] Guard #3499 begins shift\n",
      "[1518-10-22 00:32] falls asleep\n",
      "[1518-10-22 00:49] wakes up\n",
      "[1518-10-23 00:04] Guard #509 begins shift\n",
      "[1518-10-23 00:11] falls asleep\n",
      "[1518-10-23 00:52] wakes up\n",
      "[1518-10-24 00:02] Guard #3541 begins shift\n",
      "[1518-10-24 00:19] falls asleep\n",
      "[1518-10-24 00:27] wakes up\n",
      "[1518-10-24 00:35] falls asleep\n",
      "[1518-10-24 00:42] wakes up\n",
      "[1518-10-25 00:00] Guard #3499 begins shift\n",
      "[1518-10-25 00:17] falls asleep\n",
      "[1518-10-25 00:53] wakes up\n",
      "[1518-10-25 23:52] Guard #73 begins shift\n",
      "[1518-10-26 00:02] falls asleep\n",
      "[1518-10-26 00:25] wakes up\n",
      "[1518-10-26 00:35] falls asleep\n",
      "[1518-10-26 00:36] wakes up\n",
      "[1518-10-26 23:57] Guard #2411 begins shift\n",
      "[1518-10-27 00:22] falls asleep\n",
      "[1518-10-27 00:38] wakes up\n",
      "[1518-10-27 23:57] Guard #2663 begins shift\n",
      "[1518-10-28 00:31] falls asleep\n",
      "[1518-10-28 00:52] wakes up\n",
      "[1518-10-28 23:58] Guard #433 begins shift\n",
      "[1518-10-29 00:28] falls asleep\n",
      "[1518-10-29 00:52] wakes up\n",
      "[1518-10-29 00:55] falls asleep\n",
      "[1518-10-29 00:56] wakes up\n",
      "[1518-10-30 00:03] Guard #1877 begins shift\n",
      "[1518-10-30 00:14] falls asleep\n",
      "[1518-10-30 00:35] wakes up\n",
      "[1518-10-30 00:53] falls asleep\n",
      "[1518-10-30 00:57] wakes up\n",
      "[1518-10-31 00:01] Guard #3499 begins shift\n",
      "[1518-10-31 00:28] falls asleep\n",
      "[1518-10-31 00:58] wakes up\n",
      "[1518-11-01 00:04] Guard #509 begins shift\n",
      "[1518-11-01 00:08] falls asleep\n",
      "[1518-11-01 00:45] wakes up\n",
      "[1518-11-01 23:57] Guard #2207 begins shift\n",
      "[1518-11-02 00:13] falls asleep\n",
      "[1518-11-02 00:36] wakes up\n",
      "[1518-11-03 00:04] Guard #73 begins shift\n",
      "[1518-11-03 00:15] falls asleep\n",
      "[1518-11-03 00:46] wakes up\n",
      "[1518-11-03 23:57] Guard #3499 begins shift\n",
      "[1518-11-04 00:38] falls asleep\n",
      "[1518-11-04 00:55] wakes up\n",
      "[1518-11-04 23:56] Guard #3541 begins shift\n",
      "[1518-11-05 00:12] falls asleep\n",
      "[1518-11-05 00:39] wakes up\n",
      "[1518-11-05 00:46] falls asleep\n",
      "[1518-11-05 00:47] wakes up\n",
      "[1518-11-05 00:55] falls asleep\n",
      "[1518-11-05 00:59] wakes up\n",
      "[1518-11-05 23:58] Guard #3499 begins shift\n",
      "[1518-11-06 00:27] falls asleep\n",
      "[1518-11-06 00:59] wakes up\n",
      "[1518-11-06 23:58] Guard #401 begins shift\n",
      "[1518-11-07 00:26] falls asleep\n",
      "[1518-11-07 00:48] wakes up\n",
      "[1518-11-08 00:00] Guard #2861 begins shift\n",
      "[1518-11-08 00:09] falls asleep\n",
      "[1518-11-08 00:57] wakes up\n",
      "[1518-11-08 23:56] Guard #1831 begins shift\n",
      "[1518-11-09 00:23] falls asleep\n",
      "[1518-11-09 00:59] wakes up\n",
      "[1518-11-09 23:59] Guard #73 begins shift\n",
      "[1518-11-10 00:26] falls asleep\n",
      "[1518-11-10 00:30] wakes up\n",
      "[1518-11-10 00:48] falls asleep\n",
      "[1518-11-10 00:59] wakes up\n",
      "[1518-11-11 00:00] Guard #1409 begins shift\n",
      "[1518-11-11 00:39] falls asleep\n",
      "[1518-11-11 00:54] wakes up\n",
      "[1518-11-12 00:03] Guard #1877 begins shift\n",
      "[1518-11-12 00:50] falls asleep\n",
      "[1518-11-12 00:58] wakes up\n",
      "[1518-11-12 23:59] Guard #2663 begins shift\n",
      "[1518-11-13 00:14] falls asleep\n",
      "[1518-11-13 00:47] wakes up\n",
      "[1518-11-14 00:04] Guard #2663 begins shift\n",
      "[1518-11-14 00:15] falls asleep\n",
      "[1518-11-14 00:42] wakes up\n",
      "[1518-11-14 00:51] falls asleep\n",
      "[1518-11-14 00:52] wakes up\n",
      "[1518-11-15 00:03] Guard #73 begins shift\n",
      "[1518-11-15 00:11] falls asleep\n",
      "[1518-11-15 00:26] wakes up\n",
      "[1518-11-15 00:35] falls asleep\n",
      "[1518-11-15 00:38] wakes up\n",
      "[1518-11-15 00:50] falls asleep\n",
      "[1518-11-15 00:52] wakes up\n",
      "[1518-11-15 00:56] falls asleep\n",
      "[1518-11-15 00:59] wakes up\n",
      "[1518-11-16 00:03] Guard #2861 begins shift\n",
      "[1518-11-16 00:36] falls asleep\n",
      "[1518-11-16 00:41] wakes up\n",
      "[1518-11-16 00:57] falls asleep\n",
      "[1518-11-16 00:58] wakes up\n",
      "[1518-11-16 23:48] Guard #2861 begins shift\n",
      "[1518-11-17 00:00] falls asleep\n",
      "[1518-11-17 00:49] wakes up\n",
      "[1518-11-18 00:04] Guard #2411 begins shift\n",
      "[1518-11-18 00:37] falls asleep\n",
      "[1518-11-18 00:41] wakes up\n",
      "[1518-11-18 00:44] falls asleep\n",
      "[1518-11-18 00:52] wakes up\n",
      "[1518-11-18 23:57] Guard #1409 begins shift\n",
      "[1518-11-19 00:16] falls asleep\n",
      "[1518-11-19 00:27] wakes up\n",
      "[1518-11-19 00:40] falls asleep\n",
      "[1518-11-19 00:45] wakes up\n",
      "[1518-11-19 23:54] Guard #3271 begins shift\n",
      "[1518-11-20 00:04] falls asleep\n",
      "[1518-11-20 00:07] wakes up\n",
      "[1518-11-20 00:44] falls asleep\n",
      "[1518-11-20 00:52] wakes up\n",
      "[1518-11-20 23:56] Guard #433 begins shift\n",
      "[1518-11-21 00:38] falls asleep\n",
      "[1518-11-21 00:40] wakes up\n",
      "[1518-11-21 23:56] Guard #433 begins shift\n",
      "[1518-11-22 00:38] falls asleep\n",
      "[1518-11-22 00:55] wakes up\n",
      "[1518-11-23 00:00] Guard #3271 begins shift\n",
      "[1518-11-23 00:07] falls asleep\n",
      "[1518-11-23 00:57] wakes up\n"
     ]
    }
   ],
   "source": [
    "! sort < input/4"
   ]
  },
  {
   "cell_type": "markdown",
   "metadata": {},
   "source": [
    "Now my questions about the input are clarified. Every night just a single guard is on duty and that guard only sleeps during the midnight hour.\n",
    "\n",
    "We scan through the sorted records and keep a counter for each guard. That counter records minutes in the midnight hour the guard was asleep. For example, `sleeping[42][5] == 3` would mean guard `#42` was asleep on 3 nights between `00:05` and `00:06`."
   ]
  },
  {
   "cell_type": "code",
   "execution_count": 16,
   "metadata": {},
   "outputs": [
    {
     "data": {
      "text/plain": [
       "[(39, 10), (40, 10), (41, 10), (42, 10), (36, 9)]"
      ]
     },
     "execution_count": 16,
     "metadata": {},
     "output_type": "execute_result"
    }
   ],
   "source": [
    "sleeping = collections.defaultdict(collections.Counter)\n",
    "\n",
    "for record in sorted(day(4).splitlines()):\n",
    "    yy,mm,dd,hh,mm,*rest = ints(record)\n",
    "    if 'shift'  in record:\n",
    "        guard = rest[0]\n",
    "    elif 'asleep' in record:\n",
    "        assert hh == 0, f\"Guard falls asleep at time {hh}:{mm}!\"\n",
    "        asleep = mm\n",
    "    else:\n",
    "        assert 'wakes' in record, record\n",
    "        assert hh == 0, f\"Guard wakes at time {hh}:{mm}!\"\n",
    "        sleeping[guard].update(range(asleep, mm))\n",
    "\n",
    "# Let's have a look at some data & check it looks OK. \n",
    "sleeping[2417].most_common(5) # Guard 2417 is the first in our ordered input"
   ]
  },
  {
   "cell_type": "markdown",
   "metadata": {},
   "source": [
    "For part one, we're after the guard who slept the longest and the minute they were most often asleep. The answer wanted is the product of the gaurd's id and the minute."
   ]
  },
  {
   "cell_type": "code",
   "execution_count": 17,
   "metadata": {},
   "outputs": [
    {
     "data": {
      "text/plain": [
       "[(45, 15), (44, 14)]"
      ]
     },
     "execution_count": 17,
     "metadata": {},
     "output_type": "execute_result"
    }
   ],
   "source": [
    "guard, asleep = max(sleeping.items(), key=lambda i: sum(i[1].values()))\n",
    "asleep.most_common(2)"
   ]
  },
  {
   "cell_type": "markdown",
   "metadata": {},
   "source": [
    "That's good -- we have a unique choice for the minute the guard was most often asleep. We can get the answer directly."
   ]
  },
  {
   "cell_type": "code",
   "execution_count": 18,
   "metadata": {},
   "outputs": [
    {
     "data": {
      "text/plain": [
       "119835"
      ]
     },
     "execution_count": 18,
     "metadata": {},
     "output_type": "execute_result"
    }
   ],
   "source": [
    "guard * asleep.most_common(1)[0][0]"
   ]
  },
  {
   "cell_type": "markdown",
   "metadata": {},
   "source": [
    "Part two asks: Of all guards, which guard is most frequently asleep on the same minute? The answer is in our `sleeping` dict."
   ]
  },
  {
   "cell_type": "code",
   "execution_count": 19,
   "metadata": {},
   "outputs": [
    {
     "data": {
      "text/plain": [
       "12725"
      ]
     },
     "execution_count": 19,
     "metadata": {},
     "output_type": "execute_result"
    }
   ],
   "source": [
    "def sleepiest_minute(guard_mins):\n",
    "    guard, mins = guard_mins\n",
    "    minute, freq = mins.most_common(1).pop()\n",
    "    return freq, minute, guard\n",
    "\n",
    "freq, minute, guard = max(map(sleepiest_minute, sleeping.items()))\n",
    "guard * minute"
   ]
  },
  {
   "cell_type": "markdown",
   "metadata": {},
   "source": [
    "## [Day 5](https://adventofcode.com/2018/day/5) Alchemical Reduction\n",
    "Pairs of characters are repeatedly removed from a polymer -- represented as a string. First, find all possible pairs, and create a function to destroy these pairs."
   ]
  },
  {
   "cell_type": "code",
   "execution_count": 20,
   "metadata": {},
   "outputs": [],
   "source": [
    "import string\n",
    "az, AZ = string.ascii_lowercase, string.ascii_uppercase\n",
    "removes = [cat(p) for p in zip(az, AZ)] + [cat(p) for p in zip(AZ, az)]\n",
    "react_sub = re.compile('|'.join(removes)).sub\n",
    "\n",
    "def react_fn(s):\n",
    "    return react_sub('', s)\n",
    "\n",
    "assert react_fn('abBA') == 'aA'"
   ]
  },
  {
   "cell_type": "markdown",
   "metadata": {},
   "source": [
    "Now we keep processing the polymer until there's nothing to remove."
   ]
  },
  {
   "cell_type": "code",
   "execution_count": 21,
   "metadata": {},
   "outputs": [
    {
     "name": "stdout",
     "output_type": "stream",
     "text": [
      "Wall time: 3.81 s\n"
     ]
    },
    {
     "data": {
      "text/plain": [
       "9562"
      ]
     },
     "execution_count": 21,
     "metadata": {},
     "output_type": "execute_result"
    }
   ],
   "source": [
    "def react(polymer, react_fn=react_fn):\n",
    "    'Apply `react_fn` until `polymer` stabilises, returning the stable form'\n",
    "    return next(p for p, n in pairwise(unfold(react_fn, polymer))\n",
    "                if p == n)\n",
    "\n",
    "assert react('dabAcCaCBAcCcaDA') == 'dabCBAcaDA'\n",
    "\n",
    "polymer = day(5).strip() # (strip in case a newline appeared in the file)\n",
    "%time len(react(polymer))"
   ]
  },
  {
   "cell_type": "markdown",
   "metadata": {},
   "source": [
    "For part two, we see what happens if we remove all instances of a unit before reacting. Which unit results in the biggest reaction?"
   ]
  },
  {
   "cell_type": "code",
   "execution_count": 22,
   "metadata": {},
   "outputs": [
    {
     "name": "stdout",
     "output_type": "stream",
     "text": [
      "Wall time: 1min 42s\n"
     ]
    },
    {
     "data": {
      "text/plain": [
       "9560"
      ]
     },
     "execution_count": 22,
     "metadata": {},
     "output_type": "execute_result"
    }
   ],
   "source": [
    "inputs = (re.sub(x, '', polymer, re.I) for x in AZ)\n",
    "%time min(len(react(p)) for p in inputs)"
   ]
  },
  {
   "cell_type": "markdown",
   "metadata": {},
   "source": [
    "## [Day 6](https://adventofcode.com/2018/day/6) Chronal Coordinates\n",
    "We are filling an infinite grid, stepping in horizontal or vertical direction. "
   ]
  },
  {
   "cell_type": "code",
   "execution_count": 23,
   "metadata": {},
   "outputs": [
    {
     "data": {
      "text/plain": [
       "3894"
      ]
     },
     "execution_count": 23,
     "metadata": {},
     "output_type": "execute_result"
    }
   ],
   "source": [
    "coords = set(ints(row) for row in day(6).splitlines())\n",
    "\n",
    "# Find the X and Y ranges of the pts\n",
    "x, X = min(map(first,  coords)), max(map(first,  coords))\n",
    "y, Y = min(map(second, coords)), max(map(second, coords))\n",
    "\n",
    "def on_edge(pt):\n",
    "    'Return `True` if `pt` is on the bounding box of `coords`'\n",
    "    return pt[0] in {x, X} or pt[1] in {y, Y}\n",
    "\n",
    "def closest(pt, coords, dist=manhattan_distance):\n",
    "    'Return the `coords` closest to `pt`'\n",
    "    def key(p): return dist(p, pt)\n",
    "    d, result = next(its.groupby(sorted(coords, key=key), key=key))\n",
    "    return tuple(result)\n",
    "\n",
    "# Find the closest coord to each point in the bounding box of `coords`\n",
    "closest_coords = {p: closest(p, coords) \n",
    "                  for p in its.product(range(x, X+1), range(y, Y+1))}\n",
    "\n",
    "# We are looking for the coord surrounded by the largest contained region. \n",
    "\n",
    "# We can eliminate any coord which is closest to a point on \n",
    "# the bounding box -- such points are not contained\n",
    "infinite_extent = set(\n",
    "    flatten(vs for p, vs in closest_coords.items() if on_edge(p)))\n",
    "\n",
    "# Now count up points closest to `coords` -- this gives us areas of\n",
    "# contained regions\n",
    "areas = collections.Counter(\n",
    "    v for v, *tied in closest_coords.values()\n",
    "    if not tied and v not in infinite_extent)\n",
    "\n",
    "coord, biggest_area = areas.most_common(1)[0]\n",
    "biggest_area"
   ]
  },
  {
   "cell_type": "markdown",
   "metadata": {},
   "source": [
    "For part two, we want to find the region in which all points have a total Manhattan distance from `pts` of less than 10000."
   ]
  },
  {
   "cell_type": "code",
   "execution_count": 24,
   "metadata": {},
   "outputs": [
    {
     "data": {
      "text/plain": [
       "11299.0"
      ]
     },
     "execution_count": 24,
     "metadata": {},
     "output_type": "execute_result"
    }
   ],
   "source": [
    "min(sum(manhattan_distance(p, q) for q in coords) \n",
    "    for p in closest_coords if on_edge(p)) "
   ]
  },
  {
   "cell_type": "markdown",
   "metadata": {},
   "source": [
    "Since 11299 > 10000, this check confirms the region is strictly within the bounding box of the coords."
   ]
  },
  {
   "cell_type": "code",
   "execution_count": 25,
   "metadata": {},
   "outputs": [
    {
     "data": {
      "text/plain": [
       "39398"
      ]
     },
     "execution_count": 25,
     "metadata": {},
     "output_type": "execute_result"
    }
   ],
   "source": [
    "ilen(p for p in its.product(range(x, X+1), range(y, Y+1))\n",
    "     if sum(manhattan_distance(p, q) for q in coords) < 10000)"
   ]
  },
  {
   "cell_type": "markdown",
   "metadata": {},
   "source": [
    "## [Day 7](https://adventofcode.com/2018/day/7) The Sum of Its Parts\n",
    "Part one is a topological sort, with the minor twist of ordering dependencies alphabetically when there's a choice."
   ]
  },
  {
   "cell_type": "code",
   "execution_count": 26,
   "metadata": {},
   "outputs": [
    {
     "data": {
      "text/plain": [
       "('Y', 'J')"
      ]
     },
     "execution_count": 26,
     "metadata": {},
     "output_type": "execute_result"
    }
   ],
   "source": [
    "# Each row in the input looks something like\n",
    "row = 'Step Y must be finished before step J can begin.'\n",
    "# We can extract the dependency like this\n",
    "select = operator.itemgetter(1, 7)\n",
    "select(row.split())"
   ]
  },
  {
   "cell_type": "code",
   "execution_count": 27,
   "metadata": {},
   "outputs": [
    {
     "data": {
      "text/plain": [
       "'CHILFNMORYKGAQXUVBZPSJWDET'"
      ]
     },
     "execution_count": 27,
     "metadata": {},
     "output_type": "execute_result"
    }
   ],
   "source": [
    "edges = sorted(select(row.split()) for row in day(7).splitlines())\n",
    "\n",
    "graph = collections.defaultdict(list,\n",
    "    {v: mapt(second, deps) for v, deps in its.groupby(edges, key=first)})\n",
    "\n",
    "in_degrees = collections.Counter(map(second, edges))\n",
    "ready = set(graph) - set(in_degrees)\n",
    "topo = []\n",
    "while ready:\n",
    "    v = min(ready)\n",
    "    topo.append(v)\n",
    "    ready.remove(v)\n",
    "    in_degrees.subtract(collections.Counter(graph[v]))\n",
    "    ready |= {v for v, n in in_degrees.items() \n",
    "              if n==0 and v not in topo}\n",
    "    \n",
    "cat(topo)"
   ]
  },
  {
   "cell_type": "markdown",
   "metadata": {},
   "source": [
    "Part two adds extra workers (elves) and assigns times to the steps. We are asked for the time to complete the tasks."
   ]
  },
  {
   "cell_type": "code",
   "execution_count": 28,
   "metadata": {},
   "outputs": [
    {
     "data": {
      "text/plain": [
       "891"
      ]
     },
     "execution_count": 28,
     "metadata": {},
     "output_type": "execute_result"
    }
   ],
   "source": [
    "in_degrees = collections.Counter(map(second, edges))\n",
    "ready = set(graph) - set(in_degrees)\n",
    "workers = 5\n",
    "\n",
    "def t_step(S):\n",
    "    'Step A takes 61 seconds, B 62 seconds etc.'\n",
    "    return 61 + ord(S) - ord('A')\n",
    "\n",
    "t = 0\n",
    "work = []\n",
    "topo = []\n",
    "\n",
    "while ready or work:\n",
    "    if ready and workers:\n",
    "        workers -= 1\n",
    "        v = min(ready)\n",
    "        ready.remove(v)\n",
    "        work.append((t + t_step(v), v))\n",
    "    else:\n",
    "        workers += 1\n",
    "        work.sort(reverse=True)\n",
    "        t, v = work.pop()\n",
    "        topo.append(v)\n",
    "        in_degrees.subtract(collections.Counter(graph[v]))\n",
    "        ready |= {v for v, n in in_degrees.items() \n",
    "                  if n==0 and v not in topo and v not in mapt(second, work)}\n",
    "\n",
    "t"
   ]
  },
  {
   "cell_type": "markdown",
   "metadata": {},
   "source": [
    "## [Day 8](https://adventofcode.com/2018/day/8) Memory Maneuver\n",
    "A list of integers defines a tree structure. Part one asks us to total up the metadata stored in the tree nodes."
   ]
  },
  {
   "cell_type": "code",
   "execution_count": 29,
   "metadata": {},
   "outputs": [
    {
     "data": {
      "text/plain": [
       "44838"
      ]
     },
     "execution_count": 29,
     "metadata": {},
     "output_type": "execute_result"
    }
   ],
   "source": [
    "def traverse(tree_data, i, metadata_callback):\n",
    "    '''Traverse `tree_data` from index `i` calling `metadata_callback`\n",
    "    \n",
    "    Returns the index into `tree_data` after traversing\n",
    "    '''\n",
    "    # Read the header ...\n",
    "    children, metas = tree_data[i], tree_data[i+1]\n",
    "    i += 2\n",
    "    # ... and the children\n",
    "    for _ in range(children):\n",
    "        i = traverse(tree_data, i, metadata_callback)\n",
    "    # ... and metadata\n",
    "    metadata_callback(tree_data[i: i+metas])\n",
    "    return i + metas\n",
    "\n",
    "metadata = []\n",
    "\n",
    "# Check the example\n",
    "traverse(ints('2 3 0 3 10 11 12 1 1 0 1 99 2 1 1 2'), 0, metadata.extend)\n",
    "assert sum(metadata) == 138\n",
    "\n",
    "metadata.clear()\n",
    "traverse(ints(day(8)), 0, metadata.extend)\n",
    "sum(metadata)"
   ]
  },
  {
   "cell_type": "markdown",
   "metadata": {},
   "source": [
    "Part two asks for the value of the root node, which is recursively evaluated from its children, considering the metadata as indices into these children."
   ]
  },
  {
   "cell_type": "code",
   "execution_count": 30,
   "metadata": {},
   "outputs": [
    {
     "data": {
      "text/plain": [
       "22198"
      ]
     },
     "execution_count": 30,
     "metadata": {},
     "output_type": "execute_result"
    }
   ],
   "source": [
    "def tree_value(tree_data, i):\n",
    "    children, metas = tree_data[i], tree_data[i+1]\n",
    "    i += 2\n",
    "    child_values = {}\n",
    "    for j in range(children):\n",
    "        i, v = tree_value(tree_data, i)\n",
    "        child_values[j+1] = v\n",
    "    \n",
    "    md = tree_data[i: i+metas]\n",
    "    if children:\n",
    "        value = sum(child_values.get(m, 0) for m in md)\n",
    "    else:\n",
    "        value = sum(md)\n",
    "    return i + metas, value\n",
    "\n",
    "assert tree_value(ints('2 3 0 3 10 11 12 1 1 0 1 99 2 1 1 2'), 0)[1] == 66\n",
    "tree_value(ints(day(8)), 0)[1]"
   ]
  },
  {
   "cell_type": "markdown",
   "metadata": {},
   "source": [
    "## [Day 9](https://adventofcode.com/2018/day/9) Marble Mania\n",
    "Inserting numbers into a circular buffer, following some bizarre rules."
   ]
  },
  {
   "cell_type": "code",
   "execution_count": 31,
   "metadata": {},
   "outputs": [],
   "source": [
    "def play_marbles():\n",
    "    marbles, pos = [0], 0\n",
    "    for N in its.count(1):\n",
    "        if N % 23:\n",
    "            pos = (pos + 2) % len(marbles)\n",
    "            marbles.insert(pos, N)\n",
    "            yield 0\n",
    "        else:\n",
    "            pos = (pos - 7) % len(marbles)\n",
    "            yield N + marbles.pop(pos)\n",
    "\n",
    "def marbles_game(players, marbles):\n",
    "    scores = collections.Counter()\n",
    "    for score, player in zip(\n",
    "        its.islice(play_marbles(), marbles), its.cycle(range(players))):\n",
    "        scores[player] += score\n",
    "    return max(scores.values())\n",
    "\n",
    "assert marbles_game(10, 1618) == 8317\n",
    "assert marbles_game(13, 7999) == 146373\n",
    "assert marbles_game(17, 1104) == 2764\n",
    "assert marbles_game(30, 5807) == 37305"
   ]
  },
  {
   "cell_type": "code",
   "execution_count": 32,
   "metadata": {},
   "outputs": [
    {
     "name": "stdout",
     "output_type": "stream",
     "text": [
      "Wall time: 622 ms\n"
     ]
    },
    {
     "data": {
      "text/plain": [
       "416424"
      ]
     },
     "execution_count": 32,
     "metadata": {},
     "output_type": "execute_result"
    }
   ],
   "source": [
    "# My input: 413 players; last marble is worth 71082 points\n",
    "%time marbles_game(413, 71082)"
   ]
  },
  {
   "cell_type": "markdown",
   "metadata": {},
   "source": [
    "For the second part, I wrote a [C++ program](./day9/main.cpp) using a doubly-linked list so I could insert and delete nodes in constant time. This gave the answer `3498287922`."
   ]
  },
  {
   "cell_type": "markdown",
   "metadata": {},
   "source": [
    "## [Day 10](https://adventofcode.com/2018/day/10) The Stars Align\n",
    "Points move in a grid until they form a message."
   ]
  },
  {
   "cell_type": "code",
   "execution_count": 33,
   "metadata": {},
   "outputs": [
    {
     "data": {
      "text/plain": [
       "(range(141, 203), range(133, 143))"
      ]
     },
     "execution_count": 33,
     "metadata": {},
     "output_type": "execute_result"
    }
   ],
   "source": [
    "pts_vs = array(day(10))\n",
    "\n",
    "def lights(pts_vs):\n",
    "    'Generate the light positions from the `pts_vs` point+velocity 4-tuples.'\n",
    "    posns = [(its.count(x, vx), its.count(y, vy)) for x, y, vx, vy in pts_vs]\n",
    "    while True:\n",
    "        yield [(next(x), next(y)) for x, y in posns]\n",
    "\n",
    "def bounding_box(pts):\n",
    "    'Return the axis-aligned box which bounds `pts` as an X-range, Y-range pair'\n",
    "    xs, ys = mapt(first, pts), mapt(second, pts)\n",
    "    return range(min(xs), max(xs)+1), range(min(ys), max(ys)+1)\n",
    "\n",
    "def area(box):\n",
    "    w, h = box\n",
    "    return len(w) * len(h)\n",
    "\n",
    "this_pts, next_pts = its.tee(lights(pts_vs))\n",
    "next(next_pts)\n",
    "\n",
    "# We'll assume the message appears when the bounding box of \n",
    "# the points reaches a minimum -- when we print the result\n",
    "# we'll know if we were right :-)\n",
    "for seconds, (this, next_) in enumerate(zip(this_pts, next_pts)):\n",
    "    if area(bounding_box(this)) < area(bounding_box(next_)):\n",
    "        break\n",
    "\n",
    "# Check the bounding box looks sane\n",
    "bounding_box(this)"
   ]
  },
  {
   "cell_type": "code",
   "execution_count": 34,
   "metadata": {},
   "outputs": [
    {
     "name": "stdout",
     "output_type": "stream",
     "text": [
      "******  *****   *****   *****   *****   *****   ******    **  \n",
      "*       *    *  *    *  *    *  *    *  *    *       *   *  * \n",
      "*       *    *  *    *  *    *  *    *  *    *       *  *    *\n",
      "*       *    *  *    *  *    *  *    *  *    *      *   *    *\n",
      "*****   *****   *****   *****   *****   *****      *    *    *\n",
      "*       *       *  *    *    *  *  *    *  *      *     ******\n",
      "*       *       *   *   *    *  *   *   *   *    *      *    *\n",
      "*       *       *   *   *    *  *   *   *   *   *       *    *\n",
      "*       *       *    *  *    *  *    *  *    *  *       *    *\n",
      "*       *       *    *  *****   *    *  *    *  ******  *    *\n"
     ]
    }
   ],
   "source": [
    "# Yes, that looks good. Render the message\n",
    "draw_grid({p: '*' if p in this else ' '\n",
    "          for p in its.product(*bounding_box(this))})"
   ]
  },
  {
   "cell_type": "markdown",
   "metadata": {},
   "source": [
    "Part two of the question asks how long it would take to get this answer. I went back and modified my `for` loop to enumerate the zipped values, making the answer available."
   ]
  },
  {
   "cell_type": "code",
   "execution_count": 35,
   "metadata": {},
   "outputs": [
    {
     "data": {
      "text/plain": [
       "10027"
      ]
     },
     "execution_count": 35,
     "metadata": {},
     "output_type": "execute_result"
    }
   ],
   "source": [
    "seconds"
   ]
  },
  {
   "cell_type": "markdown",
   "metadata": {},
   "source": [
    "## [Day 11](https://adventofcode.com/2018/day/11) Chronal Charge\n",
    "We are asked to find the 3x3 square in a 300x300 grid with the largest total power level. "
   ]
  },
  {
   "cell_type": "code",
   "execution_count": 36,
   "metadata": {},
   "outputs": [],
   "source": [
    "# The power level for cell (x, y) is calculated from its coords\n",
    "# and a \"serial number\"\n",
    "def hundreds(n):\n",
    "    'Return the hundreds digit in the decimal representation of `n`'\n",
    "    return (n//100)%10\n",
    "\n",
    "def power_level(serial_number, x, y):\n",
    "    rack_id = x + 10\n",
    "    return hundreds((rack_id*y + serial_number)*rack_id) - 5\n",
    "\n",
    "assert power_level(8, 3, 5) == 4\n",
    "assert power_level(71, 101, 153) == 4"
   ]
  },
  {
   "cell_type": "code",
   "execution_count": 37,
   "metadata": {
    "scrolled": true
   },
   "outputs": [
    {
     "name": "stdout",
     "output_type": "stream",
     "text": [
      "Wall time: 402 ms\n"
     ]
    },
    {
     "data": {
      "text/plain": [
       "(243, 64)"
      ]
     },
     "execution_count": 37,
     "metadata": {},
     "output_type": "execute_result"
    }
   ],
   "source": [
    "def power_levels(serial_number, S):\n",
    "    'Calculate power levels for square side `S` using supplied `serial_number`'\n",
    "    return {p: power_level(serial_number, *p) \n",
    "            for p in its.product(range(1, S+1), repeat=2)}\n",
    "    \n",
    "def max_power_cell(serial_number, s, S):\n",
    "    '''Maximise the power for a square side `s`\n",
    "    \n",
    "    Returns the cell at the top-left of the `s` square\n",
    "    - serial_number\n",
    "    - s, the side legth\n",
    "    - S, side length of the whole grid\n",
    "    '''\n",
    "    levels = power_levels(serial_number, S)\n",
    "    def total_power(x, y):\n",
    "        sq = its.product(range(x, x+s), range(y, y+s))\n",
    "        return sum(levels[p] for p in sq)\n",
    "\n",
    "    return max(\n",
    "        (p for p in its.product(range(1,1+S-s), repeat=2)),\n",
    "        key=lambda p: total_power(*p))\n",
    "\n",
    "s, S = 3, 300\n",
    "serial_number = 5468\n",
    "assert max_power_cell(18, s, S) == (33, 45)\n",
    "%time max_power_cell(5468, s, S)"
   ]
  },
  {
   "cell_type": "code",
   "execution_count": 38,
   "metadata": {},
   "outputs": [
    {
     "name": "stdout",
     "output_type": "stream",
     "text": [
      " -4 -3 -3 -3\n",
      " -2 -2 -1 -1\n",
      " -1  0  0  1\n",
      "  0  1  2  3\n"
     ]
    }
   ],
   "source": [
    "def draw_cells(cells):\n",
    "    'Draw the square grid of `cells`'\n",
    "    S = int(math.sqrt(len(cells)))\n",
    "    R = range(1, S+1)\n",
    "    print(ncat(cat(f'{cells[(x,y)]:3}' for x in R) for y in R))\n",
    "\n",
    "draw_cells(power_levels(6, 4))"
   ]
  },
  {
   "cell_type": "markdown",
   "metadata": {},
   "source": [
    "For the second part of the question, we want to maximise the power in a square region over all possible square side lengths `s`. We start by accumulating the power over the grid. "
   ]
  },
  {
   "cell_type": "code",
   "execution_count": 39,
   "metadata": {},
   "outputs": [
    {
     "name": "stdout",
     "output_type": "stream",
     "text": [
      " -4 -3 -3 -3\n",
      " -2 -2 -1 -1\n",
      " -1  0  0  1\n",
      "  0  1  2  3\n",
      "\n",
      " -4 -7-10-13\n",
      " -6-11-15-19\n",
      " -7-12-16-19\n",
      " -7-11-13-13\n"
     ]
    }
   ],
   "source": [
    "def cumulative_power(serial_number, S):\n",
    "    cells = power_levels(serial_number, S)\n",
    "    R = range(1, S+1)\n",
    "    # Accumulate rows top-to-bottom\n",
    "    for y in R[1:]:\n",
    "        cells.update({(x,y): cells[x,y]+cells[x,y-1] for x in R})\n",
    "\n",
    "    # Accumulate columns left-to-right\n",
    "    for x in R[1:]:\n",
    "        cells.update({(x,y): cells[x,y]+cells[x-1,y] for y in R})\n",
    "    \n",
    "    return collections.Counter(cells)\n",
    "\n",
    "draw_cells(power_levels(6,4))\n",
    "print()\n",
    "draw_cells(cumulative_power(6, 4))"
   ]
  },
  {
   "cell_type": "markdown",
   "metadata": {},
   "source": [
    "Using the cumulative power grid we can read out the total power for a rectangular region."
   ]
  },
  {
   "cell_type": "code",
   "execution_count": 40,
   "metadata": {},
   "outputs": [],
   "source": [
    "def region_power(accu, t, l, b, r):\n",
    "    '''Return the total power for a rectangular region\n",
    "    \n",
    "    accu - the cumulative powers over the grid\n",
    "    tl - top-left corner\n",
    "    br - bottom-right corner (included)\n",
    "    '''\n",
    "    return accu[(r,b)] - accu[(r,t-1)] - accu[(l-1,b)] + accu[(l-1,t-1)]\n",
    "\n",
    "accu = cumulative_power(6, 4)\n",
    "assert region_power(accu, 1, 1, 1, 1) == -4\n",
    "assert region_power(accu, 1, 1, 3, 2) == -12"
   ]
  },
  {
   "cell_type": "code",
   "execution_count": 41,
   "metadata": {},
   "outputs": [
    {
     "name": "stdout",
     "output_type": "stream",
     "text": [
      "5468 300\n",
      "Wall time: 16.5 s\n"
     ]
    },
    {
     "data": {
      "text/plain": [
       "(90, 101, 15)"
      ]
     },
     "execution_count": 41,
     "metadata": {},
     "output_type": "execute_result"
    }
   ],
   "source": [
    "def highest_powered_square(serial_number, S):\n",
    "    R = range(S+1)\n",
    "    accu = cumulative_power(serial_number, S)\n",
    "    def square_power(lts):\n",
    "        left, top, side = lts\n",
    "        return region_power(accu, top, left, top+side-1, left+side-1)\n",
    "    return max(\n",
    "        ((left, top, side)\n",
    "        for side in range(1, S+1)\n",
    "        for top, left in its.product(range(1, S-side+2), repeat=2)),\n",
    "        key=square_power)\n",
    "\n",
    "# Check the supplied example answers\n",
    "assert highest_powered_square(18, 300) == (90, 269, 16)\n",
    "assert highest_powered_square(42, 300) == (232, 251, 12)\n",
    "\n",
    "print(serial_number, S)\n",
    "%time highest_powered_square(serial_number, S)"
   ]
  },
  {
   "cell_type": "markdown",
   "metadata": {},
   "source": [
    "## [Day 12](https://adventofcode.com/2018/day/12) Subterranean Sustainability\n",
    "This looks like a one dimensional [game of life](http://wordaligned.org/life)."
   ]
  },
  {
   "cell_type": "code",
   "execution_count": 42,
   "metadata": {},
   "outputs": [
    {
     "name": "stdout",
     "output_type": "stream",
     "text": [
      "#..#.#..##......###...###\n",
      "#...#....#.....#..#..#..#\n",
      "##..##...##....#..#..#..##\n",
      "#.#...#..#.#....#..#..#...#\n",
      "#.#..#...#.#...#..#..##..##\n"
     ]
    }
   ],
   "source": [
    "def parse_input(data):\n",
    "    'Read initial state and rules'\n",
    "    rules = {}\n",
    "    for line in data.splitlines():\n",
    "        if 'initial state' in line:\n",
    "            state = line.split()[2]\n",
    "        elif '=>' in line:\n",
    "            src, _, dst = line.split()\n",
    "            rules[src] = dst\n",
    "    return state, rules\n",
    "\n",
    "def trim(state, pos0):\n",
    "    begin, end = state.find('#'), state.rfind('#')\n",
    "    return state[begin:end+1], pos0-begin\n",
    "\n",
    "def grow_plants(state, rules):\n",
    "    pos0 = 0\n",
    "    while True:\n",
    "        state, pos0 = trim(state, pos0)\n",
    "        yield state, pos0\n",
    "        # Pad the state with enough blanks to apply the rules\n",
    "        padded = '....' + state + '....'\n",
    "        state = cat(rules.get(padded[p:p+5], '.') for p,c in enumerate(padded[2:-2]))\n",
    "        pos0 += 2\n",
    "\n",
    "example_setup = '''\\\n",
    "initial state: #..#.#..##......###...###\n",
    "\n",
    "...## => #\n",
    "..#.. => #\n",
    ".#... => #\n",
    ".#.#. => #\n",
    ".#.## => #\n",
    ".##.. => #\n",
    ".#### => #\n",
    "#.#.# => #\n",
    "#.### => #\n",
    "##.#. => #\n",
    "##.## => #\n",
    "###.. => #\n",
    "###.# => #\n",
    "####. => #'''\n",
    "\n",
    "# Let's check the output against the example shown\n",
    "state, rules = parse_input(example_setup)\n",
    "print('\\n'.join(s for s, _ in take(grow_plants(state, rules), 5)))"
   ]
  },
  {
   "cell_type": "code",
   "execution_count": 43,
   "metadata": {},
   "outputs": [
    {
     "data": {
      "text/plain": [
       "2040"
      ]
     },
     "execution_count": 43,
     "metadata": {},
     "output_type": "execute_result"
    }
   ],
   "source": [
    "def sum_of_plant_positions(setup, time):\n",
    "    plants = grow_plants(*parse_input(setup))\n",
    "    state, pos0 = next(its.islice(plants, time, None))\n",
    "    return sum(i - pos0 for i, c in enumerate(state) if c == '#')\n",
    "\n",
    "assert sum_of_plant_positions(example_setup, 20) == 325\n",
    "sum_of_plant_positions(day(12), 20)"
   ]
  },
  {
   "cell_type": "markdown",
   "metadata": {},
   "source": [
    "For part two, we're asked for the value returned by `sum_of_plant_positions()` when `time=50_000_000_000`. This is way too big to run directly. Let's see if the pattern repeats."
   ]
  },
  {
   "cell_type": "code",
   "execution_count": 44,
   "metadata": {},
   "outputs": [
    {
     "name": "stdout",
     "output_type": "stream",
     "text": [
      "192 -96 191 -95\n"
     ]
    }
   ],
   "source": [
    "def repeat(setup):\n",
    "    '''Grow plants from initial setup until a state repeats\n",
    "    \n",
    "    Returns (state, time of repeat, pos0 at repeat, time first seen, pos0 first seen)\n",
    "    '''\n",
    "    seen = {}\n",
    "    for t, (state, pos0) in enumerate(grow_plants(*parse_input(setup))):\n",
    "        if state in seen:\n",
    "            return (state, t, pos0, *seen[state])\n",
    "        seen[state] = t, pos0\n",
    "\n",
    "state, t_repeat, pos0_repeat, t_first_seen, pos0_first_seen = repeat(day(12))\n",
    "print(t_repeat, pos0_repeat, t_first_seen, pos0_first_seen)"
   ]
  },
  {
   "cell_type": "markdown",
   "metadata": {},
   "source": [
    "This tells us the state at time `192` is the same as the state at time `191`, shifted one to the left. Now we can figure out the state at `time=50_000_000_000`."
   ]
  },
  {
   "cell_type": "code",
   "execution_count": 45,
   "metadata": {},
   "outputs": [
    {
     "data": {
      "text/plain": [
       "1700000000011"
      ]
     },
     "execution_count": 45,
     "metadata": {},
     "output_type": "execute_result"
    }
   ],
   "source": [
    "T = 50_000_000_000\n",
    "pos0 = -96 - T + 192\n",
    "sum(i - pos0 for i, c in enumerate(state) if c == '#')"
   ]
  },
  {
   "cell_type": "markdown",
   "metadata": {},
   "source": [
    "## [Day 13](https://adventofcode.com/2018/day/13) Mine Cart Madness\n",
    "Carts are moving round a grid, according to simple rules. The challenge for part one is to locate the first collision. This can be done by reading in the initial set up and then applying the rules to simulate the carts' movements."
   ]
  },
  {
   "cell_type": "code",
   "execution_count": 46,
   "metadata": {},
   "outputs": [],
   "source": [
    "# Complex numbers can be used to represent both position and direction.\n",
    "\n",
    "# Directions to step\n",
    "N, E, S, W = -1j, 1, 1j, -1\n",
    "# Ways to turn through 90 degrees\n",
    "# Note: multiplying a direction by a turn effects that turn\n",
    "LEFT, AHEAD, RIGHT = -1j, 1, 1j \n",
    "\n",
    "class Cart:\n",
    "    'A cart on a grid'\n",
    "\n",
    "    def __init__(self, pos, dir_):\n",
    "        'Initialise, given position and direction'\n",
    "        self.pos = pos\n",
    "        self.dir = dir_\n",
    "        self.turn = its.cycle([LEFT,AHEAD,RIGHT])\n",
    "\n",
    "    def step(self, track):\n",
    "        'Step along the track, returning new position'\n",
    "        self.pos += self.dir\n",
    "        # Recalculate direction\n",
    "        at = track[self.pos]\n",
    "        if   at == '+' : self.dir = next(self.turn) * self.dir\n",
    "        elif at == '/' : self.dir = {N:E, S:W, W:S, E:N}[self.dir]\n",
    "        elif at == '\\\\': self.dir = {N:W, S:E, E:S, W:N}[self.dir]\n",
    "        return self.pos\n",
    "\n",
    "    def __lt__(self, o):\n",
    "        # We need to advance the carts in order\n",
    "        return (self.pos.imag, self.pos.real) < (o.pos.imag, o.pos.real)\n",
    "    \n",
    "    def __str__(self):\n",
    "        return {N:'^', S:'v', E:'>', W:'<'}[self.dir] "
   ]
  },
  {
   "cell_type": "markdown",
   "metadata": {},
   "source": [
    "We need to read in the initial setup."
   ]
  },
  {
   "cell_type": "code",
   "execution_count": 47,
   "metadata": {},
   "outputs": [
    {
     "name": "stdout",
     "output_type": "stream",
     "text": [
      "/->-\\        \n",
      "|   |  /----\\\n",
      "| /-+--+-\\  |\n",
      "| | |  | v  |\n",
      "\\-+-/  \\-+--/\n",
      "  \\------/   \n"
     ]
    }
   ],
   "source": [
    "def read_setup(data):\n",
    "    'Read the setup from `data`, returning carts and track.'\n",
    "    cart_to_track = {'^':'|','v':'|','>':'-','<':'-'}\n",
    "    cart_or_track = set('^v><+|-/\\\\')\n",
    "    cart_to_dir = {'^':N, 'v':S, '>':E, '<':W}\n",
    "\n",
    "    all_ = {complex(x,y): c\n",
    "            for y, row in enumerate(data.splitlines())\n",
    "            for x, c in enumerate(row)}\n",
    "\n",
    "    carts = {Cart(p, cart_to_dir[c]) for p,c in all_.items()\n",
    "             if c in cart_to_track}\n",
    "\n",
    "    track = {p: cart_to_track.get(c, c)\n",
    "             for p,c in all_.items() if c in cart_or_track}\n",
    "\n",
    "    return carts, track\n",
    "\n",
    "\n",
    "def draw(carts, track):\n",
    "    width = int(max(p.real for p in track))\n",
    "    height = int(max(p.imag for p in track))\n",
    "    pic = {**track, **{cart.pos: str(cart) for cart in carts}}\n",
    "    draw_grid({p: pic.get(complex(*p), ' ') \n",
    "               for p in its.product(range(width+1), range(height+1))})\n",
    "\n",
    "example_13 = read_setup(\n",
    "r'''/->-\\        \n",
    "|   |  /----\\\n",
    "| /-+--+-\\  |\n",
    "| | |  | v  |\n",
    "\\-+-/  \\-+--/\n",
    "  \\------/   \n",
    "''')\n",
    "\n",
    "draw(*example_13)"
   ]
  },
  {
   "cell_type": "markdown",
   "metadata": {},
   "source": [
    "For part one, we want to know where the first crash occurs."
   ]
  },
  {
   "cell_type": "code",
   "execution_count": 48,
   "metadata": {},
   "outputs": [
    {
     "data": {
      "text/plain": [
       "(136, 36)"
      ]
     },
     "execution_count": 48,
     "metadata": {},
     "output_type": "execute_result"
    }
   ],
   "source": [
    "def first_crash(carts, track):\n",
    "    while True:\n",
    "        for cart in sorted(carts):\n",
    "            pos = cart.step(track)\n",
    "            if ilen(c for c in carts if c.pos == pos) > 1:\n",
    "                return int(pos.real), int(pos.imag)\n",
    "\n",
    "assert first_crash(*example_13) == (7, 3)\n",
    "first_crash(*read_setup(day(13)))"
   ]
  },
  {
   "cell_type": "markdown",
   "metadata": {},
   "source": [
    "Part two asks for the position of the final cart after the others have crashed out."
   ]
  },
  {
   "cell_type": "code",
   "execution_count": 49,
   "metadata": {},
   "outputs": [
    {
     "name": "stdout",
     "output_type": "stream",
     "text": [
      "(53, 111)\n"
     ]
    }
   ],
   "source": [
    "def last_cart_pos(carts, track):\n",
    "    crashed = set()\n",
    "    while len(carts) > 1:\n",
    "        for cart in sorted(carts):\n",
    "            pos = cart.step(track)\n",
    "            at_pos = {c for c in carts-crashed if c.pos==pos}\n",
    "            if len(at_pos) > 1:\n",
    "                crashed |= at_pos\n",
    "        carts -= crashed\n",
    "    assert len(carts) == 1\n",
    "    pos = carts.pop().pos\n",
    "    return int(pos.real), int(pos.imag)\n",
    "\n",
    "example_13_part2 = read_setup(\n",
    "r'''/>-<\\  \n",
    "|   |  \n",
    "| /<+-\\\n",
    "| | | v\n",
    "\\>+</ |\n",
    "  |   ^\n",
    "  \\<->/  \n",
    "''')\n",
    "\n",
    "assert last_cart_pos(*example_13_part2) == (6, 4)\n",
    "print(last_cart_pos(*read_setup(day(13))))"
   ]
  },
  {
   "cell_type": "markdown",
   "metadata": {},
   "source": [
    "## [Day 14](https://adventofcode.com/2018/day/14) Chocolate Charts\n",
    "A pair of elves are inventing recipes, which they do by combining numbers from a list of existing recipes."
   ]
  },
  {
   "cell_type": "code",
   "execution_count": 50,
   "metadata": {},
   "outputs": [
    {
     "data": {
      "text/plain": [
       "[[3, 7, 1, 0, 1, 0, 1, 2, 4],\n",
       " [3, 7, 1, 0, 1, 0, 1, 2, 4],\n",
       " [3, 7, 1, 0, 1, 0, 1, 2, 4],\n",
       " [3, 7, 1, 0, 1, 0, 1, 2, 4],\n",
       " [3, 7, 1, 0, 1, 0, 1, 2, 4]]"
      ]
     },
     "execution_count": 50,
     "metadata": {},
     "output_type": "execute_result"
    }
   ],
   "source": [
    "def digits(N):\n",
    "    '''Return a list of the digits in +ve int N\n",
    "    \n",
    "    >>> digits(123)\n",
    "    [1, 2, 3]\n",
    "    '''\n",
    "    return [int(d) for d in str(N)]\n",
    "\n",
    "def generate_recipes(recipes, elf1, elf2):\n",
    "    '''Generate the list of recipes\n",
    "    \n",
    "    - recipes: initial list of recipes\n",
    "    - elf1, elf2: position of santa's helpers\n",
    "    '''\n",
    "    digits_ = [digits(n) for n in range(19)]\n",
    "    while True:\n",
    "        yield recipes\n",
    "        recipes += digits_[recipes[elf1] + recipes[elf2]]\n",
    "        elf1 = (elf1 + recipes[elf1] + 1) % len(recipes)\n",
    "        elf2 = (elf2 + recipes[elf2] + 1) % len(recipes)\n",
    "\n",
    "# Check generate_recipes() matches the supplied example\n",
    "take(generate_recipes([3, 7], 0, 1), 5)"
   ]
  },
  {
   "cell_type": "code",
   "execution_count": 51,
   "metadata": {},
   "outputs": [],
   "source": [
    "input14 = 540391"
   ]
  },
  {
   "cell_type": "markdown",
   "metadata": {},
   "source": [
    "We're asked for the 10 recipes which follow the first N, where N is the puzzle input -- in my case, `540391`."
   ]
  },
  {
   "cell_type": "code",
   "execution_count": 52,
   "metadata": {},
   "outputs": [
    {
     "name": "stdout",
     "output_type": "stream",
     "text": [
      "1474315445\n"
     ]
    }
   ],
   "source": [
    "gen = generate_recipes([3, 7], 0, 1)\n",
    "recipes = next(r for r in gen if len(r) >= input14 + 10)\n",
    "print(cat(map(str, recipes[input14:input14+10])))"
   ]
  },
  {
   "cell_type": "markdown",
   "metadata": {},
   "source": [
    "Part two asks when we see the recipe sequence formed from the digits of N, the puzzle input."
   ]
  },
  {
   "cell_type": "code",
   "execution_count": 53,
   "metadata": {},
   "outputs": [],
   "source": [
    "def day14_part2(input_n):\n",
    "    gen = generate_recipes([3, 7], 0, 1)\n",
    "    seq = digits(input_n)\n",
    "    L = len(seq)\n",
    "    for recipes in gen:\n",
    "        if recipes[-L:] == seq: \n",
    "            return len(recipes) - L\n",
    "        if recipes[-L-1:-1] == seq: \n",
    "            return len(recipes) - L - 1\n",
    "\n",
    "assert day14_part2(51589) == 9\n",
    "assert day14_part2(59414) == 2018"
   ]
  },
  {
   "cell_type": "code",
   "execution_count": 54,
   "metadata": {},
   "outputs": [
    {
     "name": "stdout",
     "output_type": "stream",
     "text": [
      "Wall time: 20.4 s\n"
     ]
    },
    {
     "data": {
      "text/plain": [
       "20278122"
      ]
     },
     "execution_count": 54,
     "metadata": {},
     "output_type": "execute_result"
    }
   ],
   "source": [
    "%time day14_part2(input14)"
   ]
  },
  {
   "cell_type": "markdown",
   "metadata": {},
   "source": [
    "## [Day 16](https://adventofcode.com/2018/day/16) Chronal Classification\n",
    "We are given a description of various computer instructions and have to figure out which of them might produce results given a sample showing the register values before and after. I split the input into two sections: part one requires the first only, which is a list of samples, the last of which reads:"
   ]
  },
  {
   "cell_type": "code",
   "execution_count": 55,
   "metadata": {},
   "outputs": [
    {
     "name": "stdout",
     "output_type": "stream",
     "text": [
      "Before: [3, 2, 0, 3]\n",
      "11 2 0 2\n",
      "After:  [3, 2, 1, 3]\n"
     ]
    }
   ],
   "source": [
    "! tail -n 3 input/16_part_one"
   ]
  },
  {
   "cell_type": "code",
   "execution_count": 56,
   "metadata": {},
   "outputs": [
    {
     "data": {
      "text/plain": [
       "((3, 2, 0, 3), (11, 2, 0, 2), (3, 2, 1, 3))"
      ]
     },
     "execution_count": 56,
     "metadata": {},
     "output_type": "execute_result"
    }
   ],
   "source": [
    "def load_part_one(data):\n",
    "    'Load up (before, instruction, after) triples'\n",
    "    xs = array(data)\n",
    "    return take(chunked((x for x in xs if x), 3))\n",
    "\n",
    "samples = load_part_one(open('input/16_part_one').read())\n",
    "samples[-1]"
   ]
  },
  {
   "cell_type": "markdown",
   "metadata": {},
   "source": [
    "We have 16 possible operations on a processor with 4 registers. The operations can be \"register\" or \"immediate\", applying to the value in the register specified in the instruction or to the value itself respectively."
   ]
  },
  {
   "cell_type": "code",
   "execution_count": 57,
   "metadata": {},
   "outputs": [],
   "source": [
    "def addr(regs, A, B, C): regs[C] = regs[A] +  regs[B]\n",
    "def addi(regs, A, B, C): regs[C] = regs[A] +       B\n",
    "def mulr(regs, A, B, C): regs[C] = regs[A] *  regs[B]\n",
    "def muli(regs, A, B, C): regs[C] = regs[A] *       B\n",
    "def banr(regs, A, B, C): regs[C] = regs[A] &  regs[B]\n",
    "def bani(regs, A, B, C): regs[C] = regs[A] &       B\n",
    "def borr(regs, A, B, C): regs[C] = regs[A] |  regs[B]\n",
    "def bori(regs, A, B, C): regs[C] = regs[A] |       B\n",
    "def setr(regs, A, B, C): regs[C] = regs[A]\n",
    "def seti(regs, A, B, C): regs[C] =      A\n",
    "def gtir(regs, A, B, C): regs[C] =      A  >  regs[B]\n",
    "def gtri(regs, A, B, C): regs[C] = regs[A] >       B\n",
    "def gtrr(regs, A, B, C): regs[C] = regs[A] > regs[B]\n",
    "def eqir(regs, A, B, C): regs[C] =      A  == regs[B]\n",
    "def eqri(regs, A, B, C): regs[C] = regs[A] ==      B\n",
    "def eqrr(regs, A, B, C): regs[C] = regs[A] == regs[B]\n",
    "\n",
    "all_ops = [\n",
    "    addr, addi, mulr, muli, banr, bani, borr, bori, setr, seti,\n",
    "    gtir, gtri, gtrr, eqir, eqri, eqrr\n",
    "]"
   ]
  },
  {
   "cell_type": "markdown",
   "metadata": {},
   "source": [
    "Now we've implemented the operators, part one asks how many samples in the puzzle input behave like three or more opcodes?"
   ]
  },
  {
   "cell_type": "code",
   "execution_count": 58,
   "metadata": {},
   "outputs": [
    {
     "data": {
      "text/plain": [
       "580"
      ]
     },
     "execution_count": 58,
     "metadata": {},
     "output_type": "execute_result"
    }
   ],
   "source": [
    "def valid_for_sample(op, sample):\n",
    "    'Return `True` iff the op is valid for the sample'\n",
    "    before, instruction, after = sample\n",
    "    regs, after = list(before), list(after)\n",
    "    code, A, B, C = instruction\n",
    "    op(regs, A, B, C)\n",
    "    return regs == after\n",
    "\n",
    "def possible_ops(all_ops, sample):\n",
    "    'Return the subset of `all_ops` which are valid for the sample'\n",
    "    return {op for op in all_ops if valid_for_sample(op, sample)}\n",
    "\n",
    "# Try out the example\n",
    "assert len(possible_ops(all_ops, ((3, 2, 1, 1), (9, 2, 1, 2), (3, 2, 2, 1)))) == 3\n",
    "\n",
    "# Now get the answer for part one\n",
    "ilen(_ for sample in samples if len(possible_ops(all_ops, sample)) >= 3)"
   ]
  },
  {
   "cell_type": "markdown",
   "metadata": {},
   "source": [
    "For part two, we learn the samples are self-consistent, and we can deduce which opcode corresponds to which operator. We need to figure out the mapping `opcode => operation` where `op_code` is the opcode value and `operation` is the function -- one of `all_ops`"
   ]
  },
  {
   "cell_type": "code",
   "execution_count": 59,
   "metadata": {},
   "outputs": [],
   "source": [
    "def map_code2op(all_ops, samples):\n",
    "    'Return the {code => op} mapping consistent with samples'\n",
    "    code2op = {n:set(all_ops) for n in range(16)}\n",
    "    for sample in samples:\n",
    "        code = sample[1][0]\n",
    "        code2op[code] &= possible_ops(all_ops, sample)\n",
    "    while any(len(ops) > 1 for ops in code2op.values()):\n",
    "        known_codes = {code for code, ops in code2op.items() if len(ops)==1}\n",
    "        known_ops = {op for code in known_codes for op in code2op[code]}\n",
    "        for code in set(code2op) - known_codes:\n",
    "            code2op[code] -= known_ops\n",
    "    assert all(len(ops)==1 for ops in code2op.values())\n",
    "    return {code: ops.pop() for code, ops in code2op.items()}\n",
    "\n",
    "code2op = map_code2op(all_ops, samples)"
   ]
  },
  {
   "cell_type": "markdown",
   "metadata": {},
   "source": [
    "Now we're asked to run the program given as the second part of the input, and find the final value of register `0`."
   ]
  },
  {
   "cell_type": "code",
   "execution_count": 60,
   "metadata": {},
   "outputs": [
    {
     "data": {
      "text/plain": [
       "537"
      ]
     },
     "execution_count": 60,
     "metadata": {},
     "output_type": "execute_result"
    }
   ],
   "source": [
    "def run_prog(code2op, prog):\n",
    "    regs = [0, 0, 0, 0]\n",
    "    for code, A, B, C in prog:\n",
    "        code2op[code](regs, A, B, C)\n",
    "    return regs\n",
    "\n",
    "test_prog = array(open('input/16_part_two').read())\n",
    "regs = run_prog(code2op, test_prog)\n",
    "regs[0]"
   ]
  },
  {
   "cell_type": "markdown",
   "metadata": {},
   "source": [
    "## [Day 17](https://adventofcode.com/2018/day/17) Reservoir Research\n",
    "Water sinks into the ground. It stops when it hits clay. The worked example suggests two modes: \n",
    "- fill, when the water is contained by horizontal and vertical bounds\n",
    "- spill, when the water flows horizontally and down"
   ]
  },
  {
   "cell_type": "code",
   "execution_count": 61,
   "metadata": {},
   "outputs": [
    {
     "name": "stdout",
     "output_type": "stream",
     "text": [
      "............#.\n",
      ".#..#.......#.\n",
      ".#..#..#......\n",
      ".#..#..#......\n",
      ".#.....#......\n",
      ".#.....#......\n",
      ".#######......\n",
      "..............\n",
      "..............\n",
      "....#.....#...\n",
      "....#.....#...\n",
      "....#.....#...\n",
      "....#######...\n",
      "!!!!!!!!!!!!!!\n"
     ]
    }
   ],
   "source": [
    "example_17 = '''\\\n",
    "x=495, y=2..7\n",
    "y=7, x=495..501\n",
    "x=501, y=3..7\n",
    "x=498, y=2..4\n",
    "x=506, y=1..2\n",
    "x=498, y=10..13\n",
    "x=504, y=10..13\n",
    "y=13, x=498..504'''\n",
    "\n",
    "def read_ground(data):\n",
    "    'Reads in the ground, as specified by the example data above'\n",
    "    ground = collections.defaultdict(lambda: '.')\n",
    "    fill = ground.update\n",
    "\n",
    "    for row in data.splitlines():\n",
    "        v, lo, hi = ints(row)\n",
    "        if row.startswith('x'): \n",
    "            fill(((v,y), '#') for y in range(lo, hi+1))\n",
    "        elif row.startswith('y'):\n",
    "            fill(((x,v), '#') for x in range(lo, hi+1))\n",
    "    \n",
    "    # Add \"!\" at the base level so we know when we're in pure sand\n",
    "    x, X = min(map(first, ground)), max(map(first, ground))\n",
    "    Y = max(map(second, ground))\n",
    "    fill(((x, Y+1), '!') for x in range(x-1, X+2))\n",
    "\n",
    "    return ground\n",
    "\n",
    "example_ground = read_ground(example_17)\n",
    "draw_grid(example_ground, '.')"
   ]
  },
  {
   "cell_type": "markdown",
   "metadata": {},
   "source": [
    "Now let's try and implement the fill and spill flow."
   ]
  },
  {
   "cell_type": "code",
   "execution_count": 62,
   "metadata": {},
   "outputs": [
    {
     "name": "stdout",
     "output_type": "stream",
     "text": [
      "            # \n",
      " #  #       # \n",
      " #  #  #      \n",
      " #  #  #      \n",
      " #     #      \n",
      " #     #      \n",
      " #######      \n",
      "              \n",
      "              \n",
      "    #     #   \n",
      "    #     #   \n",
      "    #     #   \n",
      "    #######   \n",
      "!!!!!!!!!!!!!!\n",
      "\n",
      "      |       \n",
      "      |     # \n",
      " #  #||||   # \n",
      " #  #~~#|     \n",
      " #  #~~#|     \n",
      " #~~~~~#|     \n",
      " #~~~~~#|     \n",
      " #######|     \n",
      "        |     \n",
      "   |||||||||  \n",
      "   |#~~~~~#|  \n",
      "   |#~~~~~#|  \n",
      "   |#~~~~~#|  \n",
      "   |#######|  \n",
      "!!!!!!!!!!!!!!\n"
     ]
    }
   ],
   "source": [
    "def step_L(p): return (left(p, d) for d in its.count())\n",
    "def step_R(p): return (right(p, d) for d in its.count())\n",
    "def step_D(p): return (down(p, d) for d in its.count())\n",
    "def layer(L, R): return ((x, L[1]) for x in range(L[0], R[0]))\n",
    "def column(T, B): return ((T[0], y) for y in range(T[1], B[1]))\n",
    "\n",
    "def left (p, d=1): return p[0]-d, p[1]\n",
    "def right(p, d=1): return p[0]+d, p[1]\n",
    "def down (p, d=1): return p[0]  , p[1]+d\n",
    "def up   (p, d=1): return p[0]  , p[1]-d\n",
    "\n",
    "def water_flow(ground, source):\n",
    "    ' Model water sinking into `ground`, starting from `source` '\n",
    "    def stop(p):\n",
    "        'Should we stop spreading horizontally at `p`?'\n",
    "        # Yes, if we've hit clay or if there's sand or water beneath\n",
    "        return ground[p] == '#' or ground[down(p)] in '.|'\n",
    "\n",
    "    fill = ground.update\n",
    "    flow_q = {source}\n",
    "    \n",
    "    while flow_q:\n",
    "        source = flow_q.pop()\n",
    "        # Vertical \"Spill\": go down until we hit clay/water/baseline\n",
    "        D = next(d for d in step_D(source) if ground[d] in '#~!')\n",
    "        fill((d, '|') for d in column(source, D))\n",
    "\n",
    "        if ground[D] == '!': continue # Bottomed out\n",
    "\n",
    "        # Horizontal \"Fill\": spread across left and right\n",
    "        D = up(D)\n",
    "        L = next(p for p in step_L(D) if stop(p))\n",
    "        R = next(p for p in step_R(D) if stop(p))\n",
    "\n",
    "        if (ground[L], ground[R]) == ('#', '#'):    \n",
    "            fill((p, '~') for p in layer(right(L), R)) # Fill this level\n",
    "            flow_q.add(up(D))\n",
    "        elif ground[L] == '#':                         # Spill right\n",
    "            fill((p, '|') for p in layer(right(L), right(R)))\n",
    "            flow_q.add(R)\n",
    "        elif ground[R] == '#':                         # Spill Left\n",
    "            fill((p, '|') for p in layer(L, R))\n",
    "            flow_q.add(L)\n",
    "        else:\n",
    "            fill((p, '|') for p in layer(L, right(R))) # Spill both sides\n",
    "            flow_q |= {L, R}\n",
    "\n",
    "    return ground\n",
    "\n",
    "water_source = 500, 0\n",
    "example_ground = read_ground(example_17)\n",
    "draw_grid(example_ground)\n",
    "print()\n",
    "ground = water_flow(example_ground, water_source)\n",
    "draw_grid(ground)"
   ]
  },
  {
   "cell_type": "markdown",
   "metadata": {},
   "source": [
    "That looks OK. Let's check the result."
   ]
  },
  {
   "cell_type": "code",
   "execution_count": 63,
   "metadata": {},
   "outputs": [
    {
     "data": {
      "text/plain": [
       "(35707, 29293)"
      ]
     },
     "execution_count": 63,
     "metadata": {},
     "output_type": "execute_result"
    }
   ],
   "source": [
    "def count_wet_tiles(ground_data, water_source):\n",
    "    ground = read_ground(ground_data)\n",
    "    y_range = range(min(map(second, ground)), max(map(second, ground))+1)\n",
    "    ground = water_flow(ground, water_source)\n",
    "    tiles = collections.Counter(v for (_, y), v in ground.items() if y in y_range)\n",
    "    return tiles['|'] + tiles['~'], tiles['~']\n",
    "\n",
    "assert count_wet_tiles(example_17, water_source) == (57, 29)\n",
    "count_wet_tiles(day(17), water_source)"
   ]
  },
  {
   "cell_type": "markdown",
   "metadata": {},
   "source": [
    "Part two asks how many cells have standing water in (marked as `~` on the diagram). I adapted `count_wet_tiles` to return that information. For fun and education, let's try and plot the results."
   ]
  },
  {
   "cell_type": "code",
   "execution_count": 64,
   "metadata": {},
   "outputs": [
    {
     "data": {
      "text/plain": [
       "<matplotlib.image.AxesImage at 0x2380cb62a58>"
      ]
     },
     "execution_count": 64,
     "metadata": {},
     "output_type": "execute_result"
    },
    {
     "data": {
      "image/png": "[encoded data removed]",
      "text/plain": [
       "<Figure size 425x1842 with 1 Axes>"
      ]
     },
     "metadata": {
      "needs_background": "light"
     },
     "output_type": "display_data"
    }
   ],
   "source": [
    "%matplotlib inline\n",
    "import matplotlib.pyplot as plt\n",
    "import numpy as np\n",
    "ground = read_ground(day(17))\n",
    "ground = water_flow(ground, water_source)\n",
    "dpi = 96\n",
    "rx = range(min(map(first,ground)), max(map(first,ground))+1)\n",
    "ry = range(min(map(second,ground)), max(map(second,ground)))\n",
    "def colour(v):\n",
    "    return {'.': [0,0,0], '#': [255,255,255], '~': [0,0,255], '|': [0,255,0]}[v]\n",
    "z = np.array([[colour(ground[(x,y)]) for x in rx] for y in ry])\n",
    "fig = plt.figure(frameon=False, figsize=(len(rx)/dpi, len(ry)/dpi), dpi=dpi)\n",
    "ax = plt.Axes(fig, [0., 0., 1., 1.])\n",
    "ax.set_axis_off()\n",
    "fig.add_axes(ax)\n",
    "ax.imshow(z)\n",
    "plt.imshow(z)"
   ]
  },
  {
   "cell_type": "markdown",
   "metadata": {},
   "source": [
    "## [Day 18](https://adventofcode.com/2018/day/18) Settlers of The North Pole\n",
    "Another game of life style automaton, this time in 2D. The rules for evolution of the area are as follows. Note that the area has a boundary: it does not expand or wrap."
   ]
  },
  {
   "cell_type": "code",
   "execution_count": 65,
   "metadata": {},
   "outputs": [],
   "source": [
    "clear, trees, yard = '.|#'\n",
    "\n",
    "def read_setup(data):\n",
    "    return {(x, y): c \n",
    "            for y, row in enumerate(data.splitlines())\n",
    "            for x, c in enumerate(row)}\n",
    "\n",
    "def evolve_cell(state, p):\n",
    "    adj = collections.Counter(state.get(n, '!') for n in neighbours8(*p))\n",
    "    cell = state[p] \n",
    "    return {\n",
    "        clear: trees if adj[trees] > 2 else cell,\n",
    "        trees: yard if adj[yard] > 2 else cell,\n",
    "        yard: yard if min(adj[yard], adj[trees]) > 0 else clear\n",
    "    }[cell]\n",
    "\n",
    "def evolve_area(state):\n",
    "    while True:\n",
    "        yield state\n",
    "        state = {p: evolve_cell(state, p) for p in state}"
   ]
  },
  {
   "cell_type": "markdown",
   "metadata": {},
   "source": [
    "Let's check the worked example ."
   ]
  },
  {
   "cell_type": "code",
   "execution_count": 66,
   "metadata": {},
   "outputs": [
    {
     "name": "stdout",
     "output_type": "stream",
     "text": [
      ".#.#...|#.\n",
      ".....#|##|\n",
      ".|..|...#.\n",
      "..|#.....#\n",
      "#.#|||#|#|\n",
      "...#.||...\n",
      ".|....|...\n",
      "||...#|.#|\n",
      "|.||||..|.\n",
      "...#.|..|.\n",
      "\n",
      ".......##.\n",
      "......|###\n",
      ".|..|...#.\n",
      "..|#||...#\n",
      "..##||.|#|\n",
      "...#||||..\n",
      "||...|||..\n",
      "|||||.||.|\n",
      "||||||||||\n",
      "....||..|.\n",
      "\n",
      ".......#..\n",
      "......|#..\n",
      ".|.|||....\n",
      "..##|||..#\n",
      "..###|||#|\n",
      "...#|||||.\n",
      "|||||||||.\n",
      "||||||||||\n",
      "||||||||||\n",
      ".|||||||||\n"
     ]
    }
   ],
   "source": [
    "example_data = r'''\\\n",
    ".#.#...|#.\n",
    ".....#|##|\n",
    ".|..|...#.\n",
    "..|#.....#\n",
    "#.#|||#|#|\n",
    "...#.||...\n",
    ".|....|...\n",
    "||...#|.#|\n",
    "|.||||..|.\n",
    "...#.|..|.\n",
    "'''\n",
    "\n",
    "areas = evolve_area(read_setup(example_data))\n",
    "print(render_grid(next(areas)),\n",
    "      render_grid(next(areas)),\n",
    "      render_grid(next(areas)), sep='\\n\\n')"
   ]
  },
  {
   "cell_type": "markdown",
   "metadata": {},
   "source": [
    "That looks fine. Now let's check the resource value -- the number of wooded acres multiplied by the number of lumberyards -- after 10 minutes."
   ]
  },
  {
   "cell_type": "code",
   "execution_count": 67,
   "metadata": {},
   "outputs": [
    {
     "data": {
      "text/plain": [
       "604884"
      ]
     },
     "execution_count": 67,
     "metadata": {},
     "output_type": "execute_result"
    }
   ],
   "source": [
    "def area_value(area):\n",
    "    counts = collections.Counter(area.values())\n",
    "    return counts[trees] * counts[yard]\n",
    "    \n",
    "def resource_value(data, t):\n",
    "    areas = evolve_area(read_setup(data))\n",
    "    area = next(its.islice(areas, t, None))\n",
    "    return area_value(area)\n",
    "\n",
    "assert resource_value(example_data, 10) == 1147\n",
    "resource_value(day(18), 10)"
   ]
  },
  {
   "cell_type": "markdown",
   "metadata": {},
   "source": [
    "For part two, we're asked for the resource value after `1_000_000_000` minutes. Look for a repeating pattern in the data."
   ]
  },
  {
   "cell_type": "code",
   "execution_count": 68,
   "metadata": {},
   "outputs": [
    {
     "data": {
      "text/plain": [
       "190820"
      ]
     },
     "execution_count": 68,
     "metadata": {},
     "output_type": "execute_result"
    }
   ],
   "source": [
    "def repeated_pattern(data, T):\n",
    "    '''Evolve the supplied data for up to T minutes, looking for repeats\n",
    "    \n",
    "    Returns the repeat, time + time first seen\n",
    "    Or the final area, 0, 0 if no repeats found\n",
    "    '''\n",
    "    seen = {}\n",
    "    areas = evolve_area(read_setup(data))\n",
    "    for t, area in its.islice(enumerate(areas), T+1):\n",
    "        area_hash = render_grid(area)\n",
    "        if area_hash in seen:\n",
    "            return area, seen[area_hash], t\n",
    "        seen[area_hash] = t\n",
    "    return area, 0, 0\n",
    "\n",
    "def resource_value(data, T):\n",
    "    area, tlo, thi = repeated_pattern(data, T)\n",
    "    if thi > tlo:\n",
    "        t_left = (T - tlo) % (thi - tlo)\n",
    "        area = next(its.islice(evolve_area(area), t_left, None))\n",
    "    return area_value(area)\n",
    "\n",
    "assert resource_value(example_data, 10) == 1147\n",
    "resource_value(day(18), 1_000_000_000)"
   ]
  },
  {
   "cell_type": "markdown",
   "metadata": {},
   "source": [
    "## [Day 19](https://adventofcode.com/2018/day/19) Go With The Flow\n",
    "Again, we're being asked to model a processor. In fact the processor uses the same rules as Day 16."
   ]
  },
  {
   "cell_type": "code",
   "execution_count": 69,
   "metadata": {},
   "outputs": [
    {
     "name": "stdout",
     "output_type": "stream",
     "text": [
      "[0, 5, 0, 0, 0, 0]\n",
      "[1, 5, 6, 0, 0, 0]\n",
      "[3, 5, 6, 0, 0, 0]\n",
      "[5, 5, 6, 0, 0, 0]\n",
      "[6, 5, 6, 0, 0, 9]\n"
     ]
    }
   ],
   "source": [
    "def load_program(data, instructions):\n",
    "    ip, *ops = data.splitlines()\n",
    "    ip = int(ip.split()[1])\n",
    "    return ip, [(instructions[op.split()[0]], ints(op)) for op in ops]\n",
    "\n",
    "def run_program(regs, ip, ops):\n",
    "    while regs[ip] in range(len(ops)):\n",
    "        op, args = ops[regs[ip]]\n",
    "        op(regs, *args)\n",
    "        yield regs[:]\n",
    "        regs[ip] += 1\n",
    "\n",
    "example_program = r'''\\\n",
    "ip 0\n",
    "seti 5 0 1\n",
    "seti 6 0 2\n",
    "addi 0 1 0\n",
    "addr 1 2 3\n",
    "setr 1 0 0\n",
    "seti 8 0 4\n",
    "seti 9 0 5'''\n",
    "\n",
    "ops = {op.__name__: op for op in all_ops}\n",
    "prog = load_program(example_program, ops)\n",
    "print(*take(run_program([0, 0, 0, 0, 0, 0], *prog)), sep='\\n')"
   ]
  },
  {
   "cell_type": "code",
   "execution_count": 70,
   "metadata": {},
   "outputs": [
    {
     "data": {
      "text/plain": [
       "[6, 5, 6, 0, 0, 9]"
      ]
     },
     "execution_count": 70,
     "metadata": {},
     "output_type": "execute_result"
    }
   ],
   "source": [
    "last(run_program([0, 0, 0, 0, 0, 0], *prog))"
   ]
  },
  {
   "cell_type": "code",
   "execution_count": 71,
   "metadata": {},
   "outputs": [
    {
     "name": "stdout",
     "output_type": "stream",
     "text": [
      "Wall time: 8.24 s\n"
     ]
    },
    {
     "data": {
      "text/plain": [
       "[1568, 892, 256, 893, True, 893]"
      ]
     },
     "execution_count": 71,
     "metadata": {},
     "output_type": "execute_result"
    }
   ],
   "source": [
    "%time last(run_program([0, 0, 0, 0, 0, 0], *load_program(day(19), ops)))"
   ]
  },
  {
   "cell_type": "markdown",
   "metadata": {},
   "source": [
    "I had a strong suspicion that this technique wasn't going to get me answer to the second part of the question -- so I set it running whilst also trying to figure out what the [instructions](input/19) were actually doing. "
   ]
  },
  {
   "cell_type": "code",
   "execution_count": 72,
   "metadata": {},
   "outputs": [
    {
     "name": "stdout",
     "output_type": "stream",
     "text": [
      "C = C + 16      # 0\n",
      "F = 1            # 1\n",
      "D = 1            # 2\n",
      "E = F * D      # 3\n",
      "E = E == B      # 4\n",
      "C = E + C      # 5\n",
      "C = C + 1      # 6\n",
      "A = F + A      # 7\n",
      "D = D + 1      # 8\n",
      "E = D > B      # 9\n",
      "C = C + E      # 10\n",
      "C = 2            # 11\n",
      "F = F + 1      # 12\n",
      "E = F > B      # 13\n",
      "C = E + C      # 14\n",
      "C = 1            # 15\n",
      "C = C * C      # 16\n",
      "B = B + 2      # 17\n",
      "B = B * B      # 18\n",
      "B = C * B      # 19\n",
      "B = B * 11      # 20\n",
      "E = E + 2      # 21\n",
      "E = E * C      # 22\n",
      "E = E + 12      # 23\n",
      "B = B + E      # 24\n",
      "C = C + A      # 25\n",
      "C = 0            # 26\n",
      "E = C        # 27\n",
      "E = E * C      # 28\n",
      "E = C + E      # 29\n",
      "E = C * E      # 30\n",
      "E = E * 14      # 31\n",
      "E = E * C      # 32\n",
      "B = B + E      # 33\n",
      "A = 0            # 34\n",
      "C = 0            # 35\n"
     ]
    }
   ],
   "source": [
    "def rewrite(instructions):\n",
    "    vars = 'ABCDEF'\n",
    "    for i, (op, (a, b, c)) in enumerate(instructions):\n",
    "        syms = {\n",
    "            addr:'+', addi:'+', mulr:'*', muli:'*', banr:'&', bani:'&', borr:'|', bori:'|',\n",
    "            gtir:'>', gtri:'>', gtrr:'>', eqir:'==', eqri:'==', eqrr:'=='\n",
    "        }\n",
    "        name = op.__name__\n",
    "\n",
    "        if   name.endswith('rr'): lhs, rhs = vars[a], vars[b]\n",
    "        elif name.endswith('ir'): lhs, rhs =      a , vars[b]\n",
    "        elif name.endswith('i' ): lhs, rhs = vars[a], b\n",
    "        elif name.endswith('r' ): lhs, rhs = vars[a], vars[b]\n",
    "\n",
    "        if name == 'seti':\n",
    "            print(f'{vars[c]} = {a}            # {i}')\n",
    "        elif name == 'setr':\n",
    "            print(f'{vars[c]} = {vars[a]}        # {i}')\n",
    "        else:\n",
    "            print(f'{vars[c]} = {lhs} {syms[op]} {rhs}      # {i}')\n",
    "\n",
    "rewrite(load_program(day(19), ops)[1])"
   ]
  },
  {
   "cell_type": "markdown",
   "metadata": {},
   "source": [
    "Here, C is the instruction pointer. Running the program for ~100 iterations and checking the registers, it became clear that B had become fixed at `10551292` and the eventual exit point would be line 16, `C = C * C`.\n",
    "\n",
    "I refactored the inner block as:\n",
    "\n",
    "    for F in range(1, B+1):\n",
    "        for D in range(1, B+1):\n",
    "            if F*D == B:\n",
    "                A += F\n",
    "\n",
    "That is, A (register 0, which part two asks for) is the sum of factors of B. We can figure this out by processing numbers up to the square root of B."
   ]
  },
  {
   "cell_type": "code",
   "execution_count": 73,
   "metadata": {},
   "outputs": [
    {
     "data": {
      "text/plain": [
       "19030032"
      ]
     },
     "execution_count": 73,
     "metadata": {},
     "output_type": "execute_result"
    }
   ],
   "source": [
    "B = 10_551_292\n",
    "sum(F + B//F for F in range(1, int(math.sqrt(B))) if B % F == 0)"
   ]
  },
  {
   "cell_type": "markdown",
   "metadata": {},
   "source": [
    "## [Day 22](https://adventofcode.com/2018/day/22) Mode Maze\n",
    "Recursive calculations to figure out erosion levels in a cave system. We can use a cache to save time."
   ]
  },
  {
   "cell_type": "code",
   "execution_count": 74,
   "metadata": {},
   "outputs": [
    {
     "data": {
      "text/plain": [
       "10603"
      ]
     },
     "execution_count": 74,
     "metadata": {},
     "output_type": "execute_result"
    }
   ],
   "source": [
    "depth, target = 6084, (14, 709)\n",
    "\n",
    "def cache(f):\n",
    "    _cached = {}\n",
    "    def get(*v):\n",
    "        if v not in _cached:\n",
    "            _cached[v] = f(*v)\n",
    "        return _cached[v]\n",
    "    return get\n",
    "\n",
    "@cache\n",
    "def erosion_level(x, y, depth):\n",
    "    return (geological_index(x, y, depth) + depth) % 20183\n",
    "\n",
    "@cache\n",
    "def geological_index(x, y, depth):\n",
    "    if y == 0: return x * 16807\n",
    "    if x == 0: return y * 48271\n",
    "    return erosion_level(x-1, y, depth) * erosion_level(x, y-1, depth)\n",
    "\n",
    "def risk_level(depth, target):\n",
    "    # It's not entirely clear from the wording, but the worked example\n",
    "    # shows the target risk level should not be included in the calculation.\n",
    "    return sum(erosion_level(x, y, depth) % 3\n",
    "               for x, y in its.product(range(target[0]+1), \n",
    "                                       range(target[1]+1))\n",
    "              ) - erosion_level(*target, depth) % 3\n",
    "               \n",
    "    \n",
    "assert risk_level(510, (10, 10)) == 114\n",
    "risk_level(depth, target)"
   ]
  },
  {
   "cell_type": "markdown",
   "metadata": {},
   "source": [
    "## [Day 23](https://adventofcode.com/2018/day/23) Experimental Emergency Teleportation\n",
    "Nanobots in 3-space. In part one, each has a position and radius. We are asked to find how many are in range of the one with the largest radius, using a city-block distance metric."
   ]
  },
  {
   "cell_type": "code",
   "execution_count": 75,
   "metadata": {},
   "outputs": [
    {
     "data": {
      "text/plain": [
       "219"
      ]
     },
     "execution_count": 75,
     "metadata": {},
     "output_type": "execute_result"
    }
   ],
   "source": [
    "example_23 = '''\\\n",
    "pos=<0,0,0>, r=4\n",
    "pos=<1,0,0>, r=1\n",
    "pos=<4,0,0>, r=3\n",
    "pos=<0,2,0>, r=1\n",
    "pos=<0,5,0>, r=3\n",
    "pos=<0,0,3>, r=1\n",
    "pos=<1,1,1>, r=1\n",
    "pos=<1,1,2>, r=1\n",
    "pos=<1,3,1>, r=1'''\n",
    "\n",
    "def in_range_of_strongest(nanobot_data):\n",
    "    nanobots = array(nanobot_data)\n",
    "    *strongest, strength = max(nanobots, key=lambda nb: nb[3])\n",
    "    return ilen(nb for nb in nanobots \n",
    "                if manhattan_distance(nb[:3], strongest) <= strength)\n",
    "\n",
    "assert in_range_of_strongest(example_23) == 7\n",
    "in_range_of_strongest(day(23))"
   ]
  },
  {
   "cell_type": "code",
   "execution_count": 76,
   "metadata": {},
   "outputs": [
    {
     "data": {
      "text/plain": [
       "488381"
      ]
     },
     "execution_count": 76,
     "metadata": {},
     "output_type": "execute_result"
    }
   ],
   "source": [
    "nanobots = array(day(23))\n",
    "ilen(_ for n, m in its.combinations(nanobots, 2)\n",
    "     if manhattan_distance(n[:3], m[:3]) < n[3] + m[3])"
   ]
  },
  {
   "cell_type": "code",
   "execution_count": 77,
   "metadata": {},
   "outputs": [
    {
     "name": "stdout",
     "output_type": "stream",
     "text": [
      "[(-180168520, 58182546, 40115714, 55010545),\n",
      " (-156258652, 36020825, 8834591, 99044815),\n",
      " (-78161310, 32265063, 35599505, 98859504),\n",
      " (-74655591, 32122443, 50332173, 96779160),\n",
      " (-67844306, 33259338, 28903087, 96232999),\n",
      " (-67553494, 36505258, 45022779, 88750277),\n",
      " (-66430503, 34941300, 45963431, 87003981),\n",
      " (-64167302, 46378281, 47034701, 97249038),\n",
      " (-63165474, 18387928, 37292146, 91264661),\n",
      " (-62028086, 21528539, 53755994, 93670915),\n",
      " (-61343485, 12001168, 49517071, 98274817),\n",
      " (-61252218, 32287741, 43229343, 76438038),\n",
      " (-60190033, 35701529, 43657628, 79218005),\n",
      " (-58587746, 44705406, 44431432, 87393454),\n",
      " (-58012246, 34584684, 32930386, 83699057),\n",
      " (-57598647, 40578976, 43530459, 81377193),\n",
      " (-56520094, 31246321, 57194711, 84629975),\n",
      " (-56064045, 43403864, 37534136, 85966209),\n",
      " (-55638187, 37518574, 56580627, 89406133),\n",
      " (-54938780, 35400140, 24968048, 89403362),\n",
      " (-54663530, 45332635, 58875614, 98540535),\n",
      " (-53174929, 41903454, 44530854, 79277986),\n",
      " (-52741579, 9875242, 37136273, 89509114),\n",
      " (-51546866, 41920460, 43947846, 77083923),\n",
      " (-50313707, 25054560, 51014239, 75688767),\n",
      " (-50095233, 31011181, 68696612, 89471914),\n",
      " (-50048328, 51001145, 50271817, 90990047),\n",
      " (-49360746, 42646386, 26052003, 89987583),\n",
      " (-49087968, 41881858, 45677661, 76316223),\n",
      " (-48657224, 22015406, 50803186, 76860359),\n",
      " (-48088220, 5403355, 43768906, 85869189),\n",
      " (-47487334, 53867376, 56235139, 97258677),\n",
      " (-46544721, 37237164, 56124878, 79575523),\n",
      " (-45814036, 49326317, 48570978, 83380079),\n",
      " (-45693291, 66935471, 46520056, 98817610),\n",
      " (-45365712, -139230, 45838008, 90758589),\n",
      " (-45260800, 33096904, 65762888, 83789347),\n",
      " (-45109691, 43321481, 47091045, 75191017),\n",
      " (-45084216, 9665750, 48947249, 83781237),\n",
      " (-43776235, 46273920, 26921620, 87161095),\n",
      " (-43372261, 41983670, 64532707, 89557516),\n",
      " (-43117101, 7629484, 49519748, 84422713),\n",
      " (-42985181, 34286898, 75424408, 92365230),\n",
      " (-42883963, 38582377, 39820348, 65678460),\n",
      " (-42713334, 40473300, 54031429, 76886821),\n",
      " (-42637945, 10082673, 51324527, 83295141),\n",
      " (-42013587, 39582966, 55517185, 76782477),\n",
      " (-41191365, 51449549, 48474782, 80784432),\n",
      " (-39927744, 40426705, 45296923, 65320205),\n",
      " (-39856627, 18625567, 61737988, 82384519),\n",
      " (-39849537, 50823229, 46958550, 77300335),\n",
      " (-39556851, 15955059, 17690786, 89690040),\n",
      " (-39304870, 35775524, 57385786, 72135009),\n",
      " (-38439241, 53556569, 46935006, 78599682),\n",
      " (-37738188, 37510696, 80182756, 95100523),\n",
      " (-37575044, 45811352, 75105838, 98160988),\n",
      " (-36519818, 32317436, 45660832, 54166823),\n",
      " (-35048912, 37053980, 43658148, 55429836),\n",
      " (-34870395, 34498817, -2843154, 96244937),\n",
      " (-34670243, 33994497, 52904255, 61237745),\n",
      " (-34489568, 36998366, 43954878, 55111730),\n",
      " (-32606152, 44334036, 51522275, 68131263),\n",
      " (-32362449, 46714038, 49780624, 68525866),\n",
      " (-31489393, 28289613, 56786155, 59401320),\n",
      " (-31246944, 54803165, 37291291, 72791264),\n",
      " (-30559515, 70915766, 49938536, 91082553),\n",
      " (-29467839, 32874504, 53402022, 55413126),\n",
      " (-29375226, 33507289, 50847906, 53399333),\n",
      " (-29250757, 45946071, 30803783, 68425501),\n",
      " (-29060154, -1376458, 28323209, 85892545),\n",
      " (-28478549, 38773058, 79355751, 86276095),\n",
      " (-28255326, 14033665, 60406887, 74043923),\n",
      " (-27965515, 83822343, 45327871, 96784544),\n",
      " (-27712960, 43206758, 54110771, 64699226),\n",
      " (-27178696, 18877527, 52715364, 60431894),\n",
      " (-26697320, 9051177, 34329235, 67096157),\n",
      " (-26663919, 26268716, 61500331, 61311009),\n",
      " (-25230764, 49798093, 70055858, 84753502),\n",
      " (-25084413, 53966542, 30417794, 72665603),\n",
      " (-24838656, 43634317, 23467781, 69037793),\n",
      " (-24055560, 85965719, 46199237, 95889423),\n",
      " (-23813801, 60469592, 14348627, 93967311),\n",
      " (-23087213, 45179360, 22349727, 69949332),\n",
      " (-23051291, 38265311, 56514969, 57500529),\n",
      " (-22397993, 19436021, 96779563, 99157003),\n",
      " (-22279412, 32992782, 66260761, 61201707),\n",
      " (-22164054, 72963306, 45442891, 80239367),\n",
      " (-22148243, 48093581, 49213195, 59123759),\n",
      " (-21952949, 39713483, 9939459, 75759421),\n",
      " (-21399306, 48885583, 49829467, 59783143),\n",
      " (-21384364, 33219034, 75244873, 69517272),\n",
      " (-21347970, 32912285, -5858709, 84151442),\n",
      " (-20692924, 35187397, 66024842, 61573925),\n",
      " (-20327569, 47140698, 51810364, 58947386),\n",
      " (-20190588, 82538112, 45421325, 87818838),\n",
      " (-19715281, 32726420, 62294275, 54404750),\n",
      " (-19375270, 50798721, 6396140, 87810468),\n",
      " (-19296604, 32177879, 68199372, 59342920),\n",
      " (-18754662, 37798274, 55770048, 51991933),\n",
      " (-18454108, 52431910, 39250839, 55667776),\n",
      " (-18346209, 44092648, 96512768, 98620368),\n",
      " (-18301044, 59843632, 13795270, 88381842),\n",
      " (-17341595, 35282857, 66688995, 58982366),\n",
      " (-17296233, 14633182, 89132337, 91210862),\n",
      " (-17003631, 41633016, 52368899, 50674288),\n",
      " (-16051915, -2107629, 59046521, 76621411),\n",
      " (-15710743, 53995520, 40049689, 53689010),\n",
      " (-15666138, 27390074, 108001092, 95692515),\n",
      " (-15643139, 41950860, 61526862, 58789675),\n",
      " (-15263246, 22999081, 107682710, 99362209),\n",
      " (-13660085, 40609809, 91605453, 85544194),\n",
      " (-13575893, 51155707, 59215093, 63615479),\n",
      " (-13343817, 70293918, 58565015, 81871763),\n",
      " (-12769985, 69297568, 74316902, 96053231),\n",
      " (-12450070, 49299267, 89780213, 91198293),\n",
      " (-12400064, 47181577, 56836814, 56087483),\n",
      " (-12256573, 58165059, 78929691, 89020123),\n",
      " (-12023753, 56857337, 61768125, 70318012),\n",
      " (-12001725, 49589097, 55296969, 56556660),\n",
      " (-11500982, 4170129, 4109500, 87000521),\n",
      " (-11315705, 88557382, 57114960, 96656910),\n",
      " (-10647946, 66923545, 59405713, 76645995),\n",
      " (-10512466, 7511248, 49380560, 51797357),\n",
      " (-10349486, 11631832, 76040155, 74173160),\n",
      " (-9977101, 49706140, 32497640, 51218048),\n",
      " (-9975279, 17561438, 99088056, 90917417),\n",
      " (-9585305, 51050360, 72394206, 72698730),\n",
      " (-9209475, 32726262, 15016687, 50951661),\n",
      " (-8961006, 39510160, 44379192, 93217625),\n",
      " (-8915444, 69664805, 52917199, 71166256),\n",
      " (-8479024, 70641886, 59477501, 78267326),\n",
      " (-8415400, 53545023, 74424100, 76053293),\n",
      " (-7810006, 7939153, 51043757, 50330031),\n",
      " (-7696124, 45216513, 72969620, 65551181),\n",
      " (-6998737, 28095459, 46010526, 60420821),\n",
      " (-6861154, -29350315, 48641139, 84268108),\n",
      " (-6838968, 56582225, 67727663, 70817597),\n",
      " (-5219945, 47175699, 64917122, 56981505),\n",
      " (-4908172, 37039332, 39559798, 50461416),\n",
      " (-4764726, 34568405, 37260624, 84966980),\n",
      " (-4660980, 60979555, 69680933, 74990328),\n",
      " (-4191763, 34313305, 83453111, 61627223),\n",
      " (-4022567, 39371648, 72087655, 55150957),\n",
      " (-3435097, 41172730, 100516886, 84793458),\n",
      " (-3311837, -23678818, 61802720, 88208891),\n",
      " (-3042897, 22498524, 34501995, 86976837),\n",
      " (-2492365, 20741166, 71692474, 52859020),\n",
      " (-2254213, 42781206, 82143366, 66847569),\n",
      " (-2026325, 73343522, 62609811, 77648649),\n",
      " (-1932576, 32317068, 93968359, 67886799),\n",
      " (-1849728, 18327803, 75150592, 58087856),\n",
      " (-1714331, 33061614, 108399456, 82844232),\n",
      " (-1565229, 93304335, 44498605, 79037075),\n",
      " (-1514892, 26666101, 52703003, 56019850),\n",
      " (-1389368, 67130565, 67782235, 75970904),\n",
      " (-768538, 74015216, 79207432, 93659937),\n",
      " (-659866, 8975602, 79931417, 71031232),\n",
      " (-365945, 35304122, 75612476, 50951692),\n",
      " (-356398, 49596531, 60344922, 49966679),\n",
      " (-313735, 56552159, -8579625, 89478014),\n",
      " (-250119, 100396298, 53015822, 93331034),\n",
      " (-75040, -2927756, 53112914, 55531045),\n",
      " (-71363, 76801242, 46323701, 62865048),\n",
      " (35963, 66201122, 55617779, 61451674),\n",
      " (366203, 37506728, 60457949, 68620048),\n",
      " (800038, 23737996, 4617817, 54623247),\n",
      " (977926, 54503494, 91685884, 84880193),\n",
      " (1025013, 51937183, 73176939, 63758018),\n",
      " (1031282, 98227591, 49201795, 86066859),\n",
      " (1130789, 73626095, 60485478, 72649523),\n",
      " (2049031, -28823974, 56084426, 82275017),\n",
      " (2197136, 56438525, 78146999, 72057215),\n",
      " (2572295, -1290410, 27222018, 55275242),\n",
      " (2818749, 71703902, 61792480, 70346420),\n",
      " (3043913, 44127022, -11009094, 76124655),\n",
      " (3506964, 47883386, 9746465, 58662467),\n",
      " (3632480, -22352919, 27917243, 74582241),\n",
      " (3650961, 40225750, 107087632, 83331222),\n",
      " (3787364, 34449029, 85887852, 56218310),\n",
      " (4007650, 7005827, 97927680, 86329546),\n",
      " (4878519, 71064091, 57458211, 63313211),\n",
      " (5232409, 36633476, -8078640, 63512292),\n",
      " (5999518, 49608871, 82980909, 66259081),\n",
      " (6179655, 31467053, 35814609, 74062929),\n",
      " (6295687, 6620027, 8875546, 61987950),\n",
      " (6370728, 55922059, -11157059, 84740964),\n",
      " (6446995, 89463450, 8208120, 98841430),\n",
      " (6865615, 66287264, 54431454, 53521860),\n",
      " (7347952, -9776940, 57414308, 59258648),\n",
      " (7439041, 80524883, 58003998, 70758711),\n",
      " (7455758, 40034915, -17625989, 74237593),\n",
      " (7640774, 54893307, 14309863, 56975249),\n",
      " (7755175, 66852405, 96794234, 95560223),\n",
      " (7840367, 43812736, 83715365, 59356479),\n",
      " (8138167, 32296032, 70364586, 94223747),\n",
      " (8497571, 114970701, 32327320, 98178253),\n",
      " (8685593, 40455124, 39658979, 92873555),\n",
      " (9125824, 48180865, -7543793, 70631329),\n",
      " (9207100, 43292737, 33767963, 63659458),\n",
      " (9909677, 23251043, 115051287, 81306238),\n",
      " (9969344, 35496812, 47279270, 56142777),\n",
      " (10080618, 63721270, 76928591, 70238563),\n",
      " (10400128, 54360257, 73111315, 56740252),\n",
      " (10573027, 54782809, 49932958, 97928881),\n",
      " (12835171, 65619432, 69684630, 64360239),\n",
      " (12882407, 78477558, 1468971, 90475691),\n",
      " (12942049, 35333963, 90092673, 54589975),\n",
      " (12954345, 121066142, 44681028, 94922553),\n",
      " (13016750, 43538852, 50286125, 62603090),\n",
      " (13118513, 39870959, 47173859, 76240231),\n",
      " (13224791, 40543302, 45205738, 80992340),\n",
      " (13337794, 103783915, 43789302, 77132028),\n",
      " (13433705, 40638818, 43739945, 95060440),\n",
      " (13491505, 35845651, 102956679, 68515349),\n",
      " (13495220, 78439234, 45389490, 53544973),\n",
      " (13531644, 44102196, 88482255, 62337062),\n",
      " (13681290, 78468616, 31538119, 61196462),\n",
      " (13785546, 79465028, 65979139, 75450706),\n",
      " (14035488, 63407863, 88413378, 82077705),\n",
      " (14334714, -13400071, 67296190, 70999174),\n",
      " (14448510, 34414735, 85114858, 50199172),\n",
      " (14539349, 78669999, 82637808, 92068161),\n",
      " (14564999, 95460626, 45954041, 72200633),\n",
      " (14635382, 99505255, 59866441, 90228407),\n",
      " (14699637, 36892487, 89142214, 56955579),\n",
      " (14714236, 84723622, 2490696, 97532105),\n",
      " (14845325, 54707694, 46684098, 60183329),\n",
      " (14858780, 34290194, 47523242, 64608553),\n",
      " (14869205, 99473027, 66810613, 97373901),\n",
      " (14946413, 43567887, 106377976, 81113407),\n",
      " (14952087, 73183159, -10458068, 99178035),\n",
      " (14999356, 33319914, 56157731, 78322388),\n",
      " (15042509, 96393929, 57562989, 85220415),\n",
      " (15099621, 41138597, 79154601, 51614259),\n",
      " (15125462, 90597087, 65675586, 87619366),\n",
      " (15166057, 22366936, 63621325, 98758791),\n",
      " (15177352, 58554505, 89414635, 79367467),\n",
      " (15285809, 9243302, 69269239, 51279394),\n",
      " (15296893, 34778601, 26242628, 58888673),\n",
      " (15297643, 57784499, 5180357, 68486456),\n",
      " (15414668, 36102767, 90572859, 58311293),\n",
      " (15481869, 44192870, 113667821, 89563980),\n",
      " (15487536, 40294906, 2736286, 53631023),\n",
      " (15527172, 62441731, 86552811, 80742696),\n",
      " (15535324, 16778896, 84159614, 58883610),\n",
      " (15562865, 68406899, 83572533, 83763287),\n",
      " (15576466, -11030576, 54489022, 57063669),\n",
      " (15588242, 34125648, 84293258, 50228544),\n",
      " (15702703, 83036208, 26248274, 73075341),\n",
      " (15737128, 25128231, -2395506, 53335756),\n",
      " (15801462, 89372891, 63622372, 85017733),\n",
      " (15838738, 31555867, -3294871, 51274159),\n",
      " (15880526, 31817157, 11586934, 96317161),\n",
      " (15892198, 49677094, 85296304, 67086599),\n",
      " (15947518, -5513035, 57309963, 54738402),\n",
      " (15964845, 35383027, 37413192, 51409441),\n",
      " (15977988, 108335687, 43760783, 84295757),\n",
      " (16016694, 58278266, 44222337, 50156323),\n",
      " (16067196, 38114028, 22595543, 52749053),\n",
      " (16114836, 94988408, 48542923, 75867143),\n",
      " (16279024, 1451239, 98552883, 89348233),\n",
      " (16291384, 49412783, 72958033, 54883534),\n",
      " (16343953, 53883538, 48739034, 84460861),\n",
      " (16397657, 58558194, 105046250, 96223082),\n",
      " (16552712, 33590383, 46220516, 76467819),\n",
      " (16580474, 50880831, 113355119, 97037390),\n",
      " (16582136, 12156129, -28221128, 92978995),\n",
      " (16843120, 59376378, 91363736, 83804211),\n",
      " (16914569, 75630846, 64503310, 73269695),\n",
      " (16980478, 64918118, -9384858, 91868181),\n",
      " (17015121, 35711967, 44303752, 57585611),\n",
      " (17066979, 13095811, 52491540, 91948433),\n",
      " (17082925, 7499710, 43301741, 72420509),\n",
      " (17173778, -23403626, 70300097, 86845164),\n",
      " (17202815, 15507051, 82679709, 60343112),\n",
      " (17209020, 70298842, 21734952, 66358173),\n",
      " (17237893, 71435620, 53479174, 58373688),\n",
      " (17273774, 35146153, 90327050, 58967944),\n",
      " (17279833, 31268502, -8333183, 57466616),\n",
      " (17510295, 1434835, 74659905, 66703135),\n",
      " (17530327, 39010050, 87456451, 60217797),\n",
      " (17662117, 66628987, 83749935, 84262035),\n",
      " (17679541, 34896514, 82987436, 51784584),\n",
      " (17686584, 106541084, 44480732, 84929455),\n",
      " (17706598, 44234605, 48671407, 89742148),\n",
      " (17798385, 38596172, 88557505, 61173529),\n",
      " (17813324, -10085344, 49089550, 52955885),\n",
      " (17831898, 43073525, 26590620, 59687549),\n",
      " (17893448, 201564612, 81105391, 98728031),\n",
      " (17915794, 42002002, 90967880, 67106681),\n",
      " (17959385, 11383589, 43919425, 84668841),\n",
      " (18080840, 105092491, 24861093, 98897003),\n",
      " (18082855, 25335247, 102306981, 71022161),\n",
      " (18101895, 40261032, 51252719, 84624079),\n",
      " (18159490, 14831766, 81065410, 60360752),\n",
      " (18206031, 26816060, 35281836, 82111394),\n",
      " (18335765, 114432875, 49053256, 98042952),\n",
      " (18345568, 86457937, 43852584, 64877130),\n",
      " (18368413, 32306567, -14746680, 66006426),\n",
      " (18427606, 7805315, 66858749, 53448605),\n",
      " (18499312, 4094750, 78646419, 69018635),\n",
      " (18507168, 43522540, 45786116, 94100717),\n",
      " (18628093, 35765359, -17947677, 72925909),\n",
      " (18650268, 35465139, 36640207, 54098147),\n",
      " (18685588, 98290592, 52761909, 85959059),\n",
      " (18691160, 51159885, 72491129, 58563204),\n",
      " (18839179, -129918, 28110712, 51189650),\n",
      " (18855414, 55541733, 61238505, 51856779),\n",
      " (18862617, 64708607, 94667325, 94459518),\n",
      " (18913224, 40139107, 111059545, 86332855),\n",
      " (18994072, 73893717, 38130127, 55342356),\n",
      " (19029136, 27756949, 47315754, 53000253),\n",
      " (19105820, 70453042, 86793385, 92573221),\n",
      " (19253724, 38200442, 53283365, 62058330),\n",
      " (19293554, 39115778, 102073321, 76703673),\n",
      " (19443782, -30820741, 25908322, 84687680),\n",
      " (19451221, -162586, 78217037, 73798715),\n",
      " (19580862, 36279991, 43474118, 89836747),\n",
      " (19623190, 2532866, 95979091, 89037003),\n",
      " (19823823, 21974369, 95454086, 69271127),\n",
      " (19867342, 42176720, 43242960, 99220928),\n",
      " (19902051, 92216643, 44688862, 73028522),\n",
      " (19930720, 32351118, 45407131, 98445455),\n",
      " (20024735, 39388433, 47051528, 73392134),\n",
      " (20087906, 50325177, 66513525, 53147593),\n",
      " (20106075, 442092, 93215933, 88847502),\n",
      " (20111131, 53879623, 68615502, 58827291),\n",
      " (20179772, 58116943, -19150665, 98032318),\n",
      " (20243848, 92848167, 34036254, 79640460),\n",
      " (20341287, -11516639, 44879919, 52705410),\n",
      " (20424345, 77098219, 49023427, 62767180),\n",
      " (20492676, 49712543, 7049759, 63740203),\n",
      " (20617933, 55710493, 97221947, 89771347),\n",
      " (20657244, -424310, 102086387, 99135683),\n",
      " (20709597, 74217199, 52428978, 63576824),\n",
      " (20850609, 71830962, 5438919, 87827831),\n",
      " (20873458, 36056452, 43849278, 86896409),\n",
      " (20945049, 38152168, 43614019, 96282620),\n",
      " (20957554, 35095432, 44272935, 67439760),\n",
      " (21016215, 85162036, 24388238, 82374904),\n",
      " (21078750, 50366928, 45163738, 96741854),\n",
      " (21232980, 84005187, 46620861, 68080403),\n",
      " (21239784, 66502817, 64447228, 68410887),\n",
      " (21271519, 14479452, 71273364, 54033043),\n",
      " (21357766, -11349321, 34809028, 58229405),\n",
      " (21415379, 38136558, 45219879, 80819765),\n",
      " (21423607, -5963794, 9173467, 78545428),\n",
      " (21698417, 34986923, 56982129, 67892013),\n",
      " (21727679, 22166185, 99683946, 75213069),\n",
      " (21814646, 9402608, 88864704, 77244585),\n",
      " (21870080, 52443301, 74339264, 64873742),\n",
      " (21893831, -1820326, 65179679, 64861426),\n",
      " (21960279, 51345892, 92042251, 81569558),\n",
      " (21968457, 19666143, 50222091, 63938920),\n",
      " (21973114, 69192996, 57037830, 64425045),\n",
      " (22003586, 38485690, 77871419, 54581671),\n",
      " (22027917, 31390297, 38482387, 70203754),\n",
      " (22137909, 40811435, 88215253, 67385869),\n",
      " (22181299, 48051247, 68543176, 54996867),\n",
      " (22334063, 47585053, 91700109, 77840219),\n",
      " (22380211, 51603847, 66387013, 56592240),\n",
      " (22407445, 96498685, 60739095, 95866205),\n",
      " (22498719, 64491079, 47566043, 50776958),\n",
      " (22563972, 24368923, 38181976, 51511688),\n",
      " (22596983, 50209802, -19954168, 93345619),\n",
      " (22704902, 51488317, 46138658, 78683586),\n",
      " (22885614, 47783814, 63733293, 50623843),\n",
      " (23169951, 56178076, 98917553, 94486625),\n",
      " (23238183, -24209551, 47738320, 71153668),\n",
      " (23256165, 42246763, 93063358, 74787358),\n",
      " (23256937, 31585249, 52124249, 68262694),\n",
      " (23303891, 41664349, 2510522, 63042453),\n",
      " (23336969, 53737173, 76249, 77582581),\n",
      " (23579602, 34299308, 47216968, 76058657),\n",
      " (23681612, 62779080, 88147140, 90828821),\n",
      " (23718699, 52513455, 74539057, 66992183),\n",
      " (23755868, 40320959, 48440537, 50635050),\n",
      " (23781698, 60002582, -14186353, 98555559),\n",
      " (23813006, 46602996, 69712447, 56349441),\n",
      " (23895409, 67818972, 3962453, 88336603),\n",
      " (24237789, 51092438, 61003474, 52554768),\n",
      " (24239689, 31169673, 114901671, 86532700),\n",
      " (24541711, 67248435, 55460464, 63471626),\n",
      " (24609816, 35310804, 54596540, 80938142),\n",
      " (24667589, 31813329, 101673623, 74375603),\n",
      " (24698749, 9368404, 62396625, 53694826),\n",
      " (24704155, 46144575, 73393162, 60462860),\n",
      " (24710354, 39996376, 105273138, 86200834),\n",
      " (24748802, 47264320, 106132087, 94366224),\n",
      " (24749609, 80902671, 24866727, 81370274),\n",
      " (24841443, -12890533, 71333154, 85032694),\n",
      " (24894420, 38366944, 45117994, 55115552),\n",
      " (24984649, 65531537, 74118143, 80855305),\n",
      " (24988407, 40119320, 71175149, 52504106),\n",
      " (25090783, -19241816, 54195687, 74495989),\n",
      " (25154892, 46323226, 6788937, 65274111),\n",
      " (25181074, 36705740, 98405442, 76513514),\n",
      " (25186502, 56384754, 30879255, 51276667),\n",
      " (25272073, 76757757, 65340945, 83591881),\n",
      " (25284608, 74885851, 74187125, 90578643),\n",
      " (25345223, 53185147, 78005033, 72756846),\n",
      " (25383988, 75207064, 57809379, 74621742),\n",
      " (25397447, 35107680, 81255319, 57981717),\n",
      " (25421760, 35180910, 48932915, 70009648),\n",
      " (25476437, 75564682, 43998461, 61260549),\n",
      " (25904657, 78353951, 60889509, 81369085),\n",
      " (25975719, 71996177, 62570599, 76763706),\n",
      " (25987992, 36637221, 98961122, 77807349),\n",
      " (26007588, 47703186, -4599305, 78894787),\n",
      " (26013414, 86488108, 46752235, 75474736),\n",
      " (26074805, -3576774, 61938745, 67558103),\n",
      " (26171822, 68533781, 50919838, 61846516),\n",
      " (26337218, 48869613, 78831435, 70259239),\n",
      " (26367727, 89503549, 59467504, 91559750),\n",
      " (26528366, 51638693, -13997492, 92749241),\n",
      " (26648757, 57023945, 76267433, 76161128),\n",
      " (26674896, 64449706, 75164935, 82510835),\n",
      " (26700098, 25498885, 90813288, 67982269),\n",
      " (26751002, 37411746, 106664230, 87047953),\n",
      " (26874151, 67303659, 55446180, 65844958),\n",
      " (26960566, 41524948, 106800580, 91507078),\n",
      " (27001802, -13976350, 8185419, 93124021),\n",
      " (27050555, 44126026, -16730778, 88492030),\n",
      " (27113012, 89092390, 170089463, 71835028),\n",
      " (27113059, 45096929, 107658592, 96089568),\n",
      " (27185427, 51172526, -10644230, 89586887),\n",
      " (27227194, 13810047, 62213756, 51598515),\n",
      " (27445260, 5320286, 55850147, 53942750),\n",
      " (27456643, 44762652, -12564014, 85367979),\n",
      " (27532848, 35760197, 83971886, 63485913),\n",
      " (27613782, 35060224, -3724609, 66983564),\n",
      " (27668834, 47605513, 63562813, 55058264),\n",
      " (27771249, 44686081, 89641040, 78319356),\n",
      " (27786534, 69938177, 62764171, 76709856),\n",
      " (27831623, 47573386, 64459134, 56085140),\n",
      " (27862523, 54160406, 56209392, 54453772),\n",
      " (28020363, 28396542, 47093526, 88784510),\n",
      " (28104886, 47865859, 78929023, 71120841),\n",
      " (28167318, 17187486, 104833185, 91780646),\n",
      " (28246412, 70628826, 40545086, 58914827),\n",
      " (28252210, 67136866, 16233392, 79740373),\n",
      " (28340003, 34064285, 107499775, 86125113),\n",
      " (28362269, 48429938, -15547097, 92924089),\n",
      " (28537036, 37596197, 85239089, 67593362),\n",
      " (28574005, 42116466, 100296519, 87208056),\n",
      " (28579621, 41991190, 70204912, 56996698),\n",
      " (28671560, 63404885, 55901157, 64198570),\n",
      " (28677665, 42780579, 81027864, 68707096),\n",
      " (28697720, 39054618, 78273365, 62246711),\n",
      " (28770783, 87009321, 59796352, 91797442),\n",
      " (28806613, 82945105, 48045256, 76017950),\n",
      " (28888580, 31222542, 43994345, 59113041),\n",
      " (28910774, 85526754, 56864094, 87522592),\n",
      " (28944267, 55577747, 57152188, 57895325),\n",
      " (29163582, 8701620, 30786132, 50007102),\n",
      " (29376323, 62733747, 28593216, 64102169),\n",
      " (29423555, 53611856, 78782267, 78038880),\n",
      " (29567587, 42255829, 13253659, 59154544),\n",
      " (29623133, 32033843, 89249808, 67127794),\n",
      " (29898856, 46454782, 61351451, 53926699),\n",
      " (29927352, 27134368, 54778512, 77786917),\n",
      " (29934466, 7213878, 79221398, 77909810),\n",
      " (29950117, 5030523, -8534367, 93785292),\n",
      " (29996885, 61903547, 82594373, 90715772),\n",
      " (30268215, -1711562, 83940876, 91888282),\n",
      " (30368055, 37697762, 78399854, 62686694),\n",
      " (30401527, 34919096, -26492142, 92397705),\n",
      " (30457063, 26211627, 54991517, 53857964),\n",
      " (30470381, 50994730, 61428805, 59114926),\n",
      " (30531834, 39033365, 92899936, 78686158),\n",
      " (30608574, 76756062, 43638436, 67224039),\n",
      " (30664865, 56332195, 88807492, 92025519),\n",
      " (30722117, 42339412, 16278616, 57367679),\n",
      " (30745648, 39569046, 98507190, 85042963),\n",
      " (30755314, 36057462, 43295223, 82909679),\n",
      " (30771112, 35347437, 45236935, 59372575),\n",
      " (30780453, 16432074, 79641106, 69957052),\n",
      " (30843643, 88629209, 25090814, 94966720),\n",
      " (30941152, 73550118, 69615250, 90327745),\n",
      " (30976522, 54537063, 51095454, 52830200),\n",
      " (31092638, 67358775, 76460211, 91132595),\n",
      " (31096001, 41948597, -5887208, 79516587),\n",
      " (31212852, 186649, 68631148, 75624948),\n",
      " (31255760, 43852384, -10634742, 86327921),\n",
      " (31290335, 28125514, 57497277, 65254512),\n",
      " (31357594, 42379558, 4242706, 70079369),\n",
      " (31369062, 20572834, 40504166, 93873937),\n",
      " (31405956, 56707949, 55446336, 59781579),\n",
      " (31584228, 82178934, 54378065, 84362301),\n",
      " (31619401, 65168319, 73369822, 86378693),\n",
      " (31706928, 36395484, 15717356, 52970023),\n",
      " (31740978, 36720062, 80861174, 65543188),\n",
      " (31849329, 34079146, 76544068, 58693699),\n",
      " (31960465, 37490709, 33909687, 61624102),\n",
      " (31970702, 57955174, 1101890, 89408887),\n",
      " (32044749, 63593311, 57429250, 69288915),\n",
      " (32150151, 77881757, 64284660, 90537647),\n",
      " (32295247, 38563338, 82687601, 69767164),\n",
      " (32428169, 50978171, 79016305, 78643813),\n",
      " (32563164, 14180322, 69667411, 64018027),\n",
      " (32731048, 52455235, 14033621, 71737337),\n",
      " (32939551, 46882892, 66292328, 62335739),\n",
      " (33252872, 46016676, 80144411, 75635129),\n",
      " (33400284, 54035761, 31240407, 56780390),\n",
      " (33435688, 49265011, 83784428, 82706109),\n",
      " (33677327, 1473594, 82314876, 90486188),\n",
      " (33765294, 48978147, 66110316, 65075430),\n",
      " (33793756, 75897455, 22834239, 87441652),\n",
      " (33805003, 92074140, 50436710, 92537141),\n",
      " (33878754, 32235971, 98363792, 80699878),\n",
      " (34089598, 42532769, 84758642, 77602002),\n",
      " (34098383, 79117161, 53068877, 82505450),\n",
      " (34170094, 46234170, -6248380, 87237676),\n",
      " (34351631, 31925501, 107382688, 89880786),\n",
      " (34506369, 91260796, 43332134, 85320387),\n",
      " (34534598, 38754534, 44445887, 61522343),\n",
      " (34576925, 80284404, 65500164, 96582641),\n",
      " (34718805, 33469700, 45056643, 82156287),\n",
      " (34748077, 6597408, 92025325, 96143696),\n",
      " (35185003, 76216363, 20692082, 91293980),\n",
      " (35214946, 32632359, 15754691, 52677781),\n",
      " (35363039, 56654893, 46054728, 54293721),\n",
      " (35503796, 58200334, 49735259, 59660509),\n",
      " (35554239, 36253626, -21508735, 93901328),\n",
      " (35566228, -178299, 45999700, 57711993),\n",
      " (35736718, 31208944, 43736722, 65997133),\n",
      " (35793901, 68508642, 50327290, 70850844),\n",
      " (35798965, 77161463, 67250603, 96432049),\n",
      " (35839369, 45120097, 62397945, 59578383),\n",
      " (35980438, 50471375, 53626412, 56299464),\n",
      " (36256149, 7147196, 69857156, 74934125),\n",
      " (36310472, 55749002, 58967174, 67247631),\n",
      " (36538959, 32919966, 94428888, 80108886),\n",
      " (36550525, 61960821, 50189154, 64922038),\n",
      " (36567186, 35855441, 22081421, 50926073),\n",
      " (36584625, 33344865, 50056851, 61013677),\n",
      " (36594366, 66442718, 44634090, 63892179),\n",
      " (36627134, 44842901, 53424520, 51115522),\n",
      " (36685842, 55933644, 74909646, 83750391),\n",
      " (36881852, 48853609, 90603721, 92560150),\n",
      " (37060450, 49189744, 86473937, 88945201),\n",
      " (37067756, 47641584, 78326599, 79257134),\n",
      " (37389495, 93241473, 50222630, 97074734),\n",
      " (37427677, 56005809, 48301070, 57955524),\n",
      " (37452395, 56341589, 49139093, 59154050),\n",
      " (37485936, 42877106, 54917917, 51501927),\n",
      " (37577404, 42528843, 59236667, 55564037),\n",
      " (37603471, 54845532, 78097273, 86767387),\n",
      " (37676756, -19501375, 50319145, 83464901),\n",
      " (37736548, 65014439, 43970621, 62942586),\n",
      " (37777952, 10636546, 82658940, 85768011),\n",
      " (37811274, 44954155, 93718116, 92704568),\n",
      " (37918618, -4036866, 61618220, 79541620),\n",
      " (37969494, 64878110, 59680966, 78749610),\n",
      " (37976888, 45941837, 9052990, 75450414),\n",
      " (38181639, 32829987, 88819570, 76052685),\n",
      " (38183109, 52217546, 33317985, 57667348),\n",
      " (38267389, 95368232, 39865486, 94354801),\n",
      " (38353577, 54353674, 62143308, 71071628),\n",
      " (38483946, 48338182, 48001496, 51044605),\n",
      " (38588718, 51419724, 66298404, 72527812),\n",
      " (38664165, 38679832, 26074092, 51854805),\n",
      " (38783931, 40095942, 62216949, 57317963),\n",
      " (38815104, 65021131, 44345892, 64403142),\n",
      " (38916877, 54737466, 55255272, 65130729),\n",
      " (38975553, 62160694, 43468811, 60826030),\n",
      " (39085956, 72253640, 71678059, 99238655),\n",
      " (39254541, 78522406, 64013331, 98011284),\n",
      " (39382637, 10302954, 49824851, 54872402),\n",
      " (39655153, 44891369, 76271592, 77039085),\n",
      " (39701183, 32909092, 12616286, 60578711),\n",
      " (39778783, 70649797, 65294823, 91944392),\n",
      " (39878314, 61913612, 38121989, 64254741),\n",
      " (39983685, 37670545, 59469158, 53344512),\n",
      " (40018156, -24441849, 52327435, 92755012),\n",
      " (40024346, 51290408, -6835792, 98735574),\n",
      " (40060154, 32062715, 43197263, 74165901),\n",
      " (40150970, 12029647, 50348533, 54437452),\n",
      " (40413881, 45483483, 29365674, 57116366),\n",
      " (40418778, 57104864, 51597878, 65342819),\n",
      " (40525833, 52527007, 60901295, 70175205),\n",
      " (40719947, 46036548, 60217153, 63194679),\n",
      " (40847262, 41152317, 74150511, 72371373),\n",
      " (40972991, 54215915, 60026860, 71436753),\n",
      " (41002159, 44747614, 67371297, 69342158),\n",
      " (41042577, 51422528, 45494381, 54180555),\n",
      " (41102552, -27889975, 50956237, 95916333),\n",
      " (41238734, 56806423, 52891534, 67157781),\n",
      " (41269762, 24204964, 64585827, 57618288),\n",
      " (41313454, -479421, 12124222, 90000422),\n",
      " (41370853, 26267420, 8021141, 67413607),\n",
      " (41394069, 10649991, 56185791, 62897550),\n",
      " (41588337, 54940443, 49771120, 62521020),\n",
      " (41658744, 91352377, 38180907, 95414994),\n",
      " (41664736, 75913672, 33114810, 85048357),\n",
      " (41680570, 34973305, 61879870, 54755051),\n",
      " (41904247, 56533706, 63542219, 78201293),\n",
      " (41966604, 37894385, 55238084, 51320081),\n",
      " (42046531, 36369207, 21827363, 57173172),\n",
      " (42105741, 32177763, 88010287, 78515053),\n",
      " (42308372, 51054421, 50735530, 60319599),\n",
      " (42398875, 40083042, 53768029, 52470975),\n",
      " (42449288, 58260829, 59936369, 76867595),\n",
      " (42593650, 38134627, 85330028, 82279594),\n",
      " (42637371, 28728183, 60383713, 50260880),\n",
      " (42711011, 35123779, 57880151, 51936265),\n",
      " (42814607, 47231795, 73426763, 79694411),\n",
      " (42837369, 22492837, 70082903, 66395063),\n",
      " (42926615, 43656105, 20986096, 66181298),\n",
      " (42952170, 45746544, 15661479, 73622060),\n",
      " (42968527, -10283060, 66669962, 95889136),\n",
      " (42968811, 39354640, 61977742, 60522164),\n",
      " (43053624, 39255367, 87164706, 85694753),\n",
      " (43187050, 44288379, 37499510, 50560694),\n",
      " (43212125, 37854133, 55011374, 52298649),\n",
      " (43226060, 46140436, 82931427, 88519133),\n",
      " (43242100, 40828205, 82007495, 82298791),\n",
      " (43565116, 66974786, 61559393, 88320408),\n",
      " (43590760, -12331869, 44637816, 76528205),\n",
      " (43593576, 44736321, 50074885, 54625807),\n",
      " (43674469, 37056668, 74379705, 71331973),\n",
      " (43724192, 66168116, 45998390, 72111664),\n",
      " (43875194, 32661477, 76111377, 68869105),\n",
      " (43878825, 21398655, -13844561, 96656396),\n",
      " (43924980, 85967284, 47250189, 93363426),\n",
      " (44084276, 43206962, 76802999, 80315409),\n",
      " (44191329, 53536415, 7098945, 91213494),\n",
      " (44337000, 35473294, 64032025, 60063386),\n",
      " (44405365, 79849981, 46639149, 87115473),\n",
      " (44488012, 43023552, 46138865, 49871595),\n",
      " (44497501, 85168043, 46139811, 92026336),\n",
      " (44602204, 38714678, 55112189, 54650042),\n",
      " (44631552, 47060482, 43565281, 51478382),\n",
      " (44688818, 63776344, 60577815, 85264049),\n",
      " (44707309, 45462137, 68198404, 74588850),\n",
      " (44744694, 66371552, 64804705, 92141979),\n",
      " (44782025, 55414214, 47190512, 63607737),\n",
      " (44794720, 49520140, 49872431, 60408266),\n",
      " (44807176, 27185659, 78205259, 71794505),\n",
      " (44884442, -14900633, 61540752, 97293394),\n",
      " (44997011, 21078632, 54080206, 53966198),\n",
      " (45011066, 25075024, 59340425, 55244267),\n",
      " (45085963, 63336678, 68190448, 92834060),\n",
      " (45129568, 62206708, 15786765, 92134497),\n",
      " (45330180, 45858545, 27630095, 64143299),\n",
      " (45341030, 42587894, 76776267, 80926368),\n",
      " (45414711, 52701538, 75321108, 89658328),\n",
      " (45540202, 75399717, 44197695, 81358616),\n",
      " (45549484, 14320857, 50240303, 57436612),\n",
      " (45711076, 55684416, 49619906, 67236451),\n",
      " (45753924, 35213384, 62303114, 59491397),\n",
      " (45775581, 33014866, 101206702, 96218143),\n",
      " (45848696, 60921235, 66582632, 89574181),\n",
      " (45869051, 42330085, 35407843, 53376003),\n",
      " (45944701, 32916456, 87086172, 82168352),\n",
      " (45984199, 63019285, 48875854, 74101121),\n",
      " (45985334, 44732043, 67521488, 74459839),\n",
      " (46004845, 62718477, 68174641, 93118964),\n",
      " (46111142, 44764430, 32630990, 58829485),\n",
      " (46174800, 50262478, 29843777, 67178321),\n",
      " (46238076, 35467097, 77497297, 75423551),\n",
      " (46415219, 36242605, 98499946, 97379072),\n",
      " (46454707, 33763136, 60761626, 57200559),\n",
      " (46503350, 33753583, 30842353, 49999291),\n",
      " (46548047, 54644420, 57202759, 74616244),\n",
      " (46820349, 47115141, 43487732, 53644285),\n",
      " (46880460, 32116029, 55547131, 50764826),\n",
      " (46901913, 63711215, 53706376, 80540521),\n",
      " (46932127, 7496696, 57762934, 73166069),\n",
      " (47350962, 32552206, 74298716, 70422916),\n",
      " (47361045, 48853069, 41021824, 55776974),\n",
      " (47363800, 62158683, 58656177, 84399640),\n",
      " (47372536, 48661652, 62747363, 75002543),\n",
      " (47448520, 22215522, 57089429, 58290343),\n",
      " (47509114, 62402264, 60637703, 86770250),\n",
      " (47704536, 38318808, 48781105, 51025437),\n",
      " (47922834, 41272568, 65209435, 70625806),\n",
      " (47957263, 51437860, 57351702, 72967856),\n",
      " (48074504, 52760257, 47591035, 64646764),\n",
      " (48120229, 32374506, 16988377, 64091105),\n",
      " (48179583, 19827077, 67660457, 71980816),\n",
      " (48413804, 34201349, 60104744, 58940873),\n",
      " (48561027, 39839299, 83840226, 88461657),\n",
      " (48695663, 45324637, 68370840, 78612106),\n",
      " (48790429, 65870504, 40682103, 74563572),\n",
      " (48833941, 42467746, 49739532, 57262255),\n",
      " (49094666, 33258870, 78815413, 77390289),\n",
      " (49298847, 43258719, 49338234, 58117069),\n",
      " (49403004, 25839089, 61070611, 60602107),\n",
      " (49510657, 58019735, 43279251, 67030703),\n",
      " (49549730, 36693348, 56284206, 58748672),\n",
      " (49564312, 51035935, 68452707, 85273926),\n",
      " (49624394, 40110410, 54476030, 60431831),\n",
      " (49641113, 73623042, 33138383, 90710626),\n",
      " (49747473, 21710689, 49915476, 53920034),\n",
      " (49931657, 58269961, 58203549, 82626140),\n",
      " (49967919, 47463735, 37208969, 60807499),\n",
      " (50139661, 45595327, 38230520, 58089448),\n",
      " (50264994, 53434189, 8367495, 95916429),\n",
      " (50288804, 50781416, 47138862, 64430078),\n",
      " (50375305, 46117670, 72432725, 85146685),\n",
      " (50522101, 43952637, 64956959, 75652687),\n",
      " (50871051, 43691542, 44414997, 55198556),\n",
      " (50882868, 62448365, 48643947, 78196225),\n",
      " (50915553, 41583372, 45811937, 54532247),\n",
      " (51067410, 33906698, 35658568, 49900223),\n",
      " (51240263, 54828493, 45066457, 67356614),\n",
      " (51352316, 76330587, 53716765, 97620666),\n",
      " (51424288, 31269104, 51773838, 50688196),\n",
      " (51438596, 47099527, 64827378, 79586470),\n",
      " (51530753, 33891527, 1358686, 84648428),\n",
      " (51532660, 77388377, 45844158, 90986192),\n",
      " (51589287, 40391369, 44785106, 52986785),\n",
      " (51606727, 36737468, 51086527, 55651689),\n",
      " (51715770, 45498816, 79119369, 92555253),\n",
      " (51921297, 37810140, 44423755, 50376176),\n",
      " (52138310, 41306969, 58834673, 68500970),\n",
      " (52231157, 34207266, -11541538, 98564670),\n",
      " (52254266, -17802752, 31767960, 98620322),\n",
      " (52275864, 36916127, 9346074, 80431337),\n",
      " (52320953, 34997809, 56275959, 59815739),\n",
      " (52391625, 77510755, 52156221, 98280339),\n",
      " (52462372, 24944599, 47831282, 51316681),\n",
      " (52467886, 65407283, 48053293, 82149732),\n",
      " (52608334, 31510427, 52511935, 52851663),\n",
      " (52652022, 53948785, 32256107, 74929523),\n",
      " (52739793, 26634886, 56141964, 58214621),\n",
      " (52817046, 36336228, 50539565, 55913843),\n",
      " (52830402, 54877471, 58275715, 82204823),\n",
      " (53004730, 38149039, 45888432, 53263203),\n",
      " (53103092, 40284582, 45251015, 54859721),\n",
      " (53170059, 34123820, 53024879, 56539810),\n",
      " (53205395, 33589002, 52571716, 55587642),\n",
      " (53280961, 47373552, 44412632, 61288113),\n",
      " (53292903, 37084884, 61594272, 68193106),\n",
      " (53298196, 32392941, 60684362, 62596501),\n",
      " (53401360, 42725759, 77999817, 90348111),\n",
      " (53618896, 45159890, 44969051, 59968964),\n",
      " (53636913, 40644469, 34984245, 59882063),\n",
      " (53844591, 23983650, 21592250, 68599989),\n",
      " (54224456, 74620055, 43304299, 88369791),\n",
      " (54399329, 63006802, 53961570, 87589068),\n",
      " (54400190, 49306701, 67709199, 87637541),\n",
      " (54488797, 44286391, 56715704, 71711897),\n",
      " (54666612, 61798435, 39915234, 77134606),\n",
      " (54952911, 43289967, 52860353, 67324342),\n",
      " (54995701, 27176143, 52347840, 56135016),\n",
      " (55027442, 42009942, 18840144, 78782103),\n",
      " (55081964, 36562461, 79985548, 87850963),\n",
      " (55300756, 35019160, 63649621, 70190517),\n",
      " (55350532, 57930630, 48091072, 77593542),\n",
      " (55389707, 19092022, 56127751, 68393224),\n",
      " (55434119, 34491019, 43914922, 50061033),\n",
      " (55591832, 52645938, 70977859, 95436607),\n",
      " (55793774, 55600258, 67560062, 95175404),\n",
      " (55800954, 35388242, 45112504, 52522724),\n",
      " (55828289, 32715308, 73473118, 78237731),\n",
      " (55978984, 28691145, 53908120, 57163748),\n",
      " (56004958, 80225695, 41021362, 95793993),\n",
      " (56008079, 48037518, 66754039, 87020954),\n",
      " (56053131, 47181398, 48732021, 68187824),\n",
      " (56127563, 46472544, 45459314, 64280445),\n",
      " (56194764, 35887812, 37893802, 54773655),\n",
      " (56263947, 16641002, 21741916, 78212857),\n",
      " (56416970, 63997843, 60853733, 97489545),\n",
      " (56444102, 37012598, 44478640, 54156309),\n",
      " (56469052, 10224803, 61283831, 83495695),\n",
      " (56486866, 46966504, 44279911, 63954264),\n",
      " (56658580, 65657278, 32600266, 90300271),\n",
      " (56664836, 42500877, 68999826, 84386615),\n",
      " (56704095, 30894433, 48093497, 51912997),\n",
      " (56974807, 67722429, 53369246, 94288053),\n",
      " (56977853, 27035469, 88672783, 94582782),\n",
      " (56981417, 18851888, 51728287, 65826149),\n",
      " (57084567, 41449570, 43504953, 58260143),\n",
      " (57135316, 33093290, 55543413, 61993074),\n",
      " (57253046, 34557368, 55214210, 63245590),\n",
      " (57255316, 23620800, 57201877, 66804015),\n",
      " (57283876, 39148031, 43444406, 56097287),\n",
      " (57597026, 26916829, 44437491, 51085401),\n",
      " (57619394, 33198857, 44956023, 51995382),\n",
      " (57672811, 44896434, 70926594, 89717341),\n",
      " (57744596, 45518066, 48580167, 68063978),\n",
      " (57894718, 28383054, 34848830, 54994103),\n",
      " (57943741, 33923827, 55259819, 63348522),\n",
      " (58029599, 25262477, 66704585, 75439275),\n",
      " (58149834, 62530372, 58512268, 95413576),\n",
      " (58399342, 52591387, 18991284, 92584190),\n",
      " (58554621, 33443124, 66866904, 75085656),\n",
      " (58740994, 46820139, 49293153, 71075443),\n",
      " (58769465, 46090423, 58317348, 79398393),\n",
      " (59144303, 45584220, 51011962, 71961624),\n",
      " (59286699, 41272309, 30897425, 70246274),\n",
      " (59290216, 27310386, 43716407, 51663841),\n",
      " (59294760, 38070220, 47044231, 60630468),\n",
      " (59318650, 32020493, 65363660, 72923906),\n",
      " (59356316, 47240224, 48332751, 71150257),\n",
      " (59496320, 38815829, 73464595, 87997837),\n",
      " (59526023, 22725549, 45799622, 58567722),\n",
      " (59667865, 44911559, 55989536, 76790071),\n",
      " (59798929, 59737881, 62699722, 98457550),\n",
      " (59944748, 40940693, 45934186, 63040623),\n",
      " (60038757, 12562124, 53778959, 77223527),\n",
      " (60258628, 39006449, 55775918, 71262001),\n",
      " (60418527, 70944619, 47618621, 95202757),\n",
      " (60437247, 63648463, 53824060, 94131390),\n",
      " (60694813, 44908247, 36223848, 69963884),\n",
      " (60696676, 32155042, 44097572, 53170293),\n",
      " (60759345, 32208338, 53196299, 62384981),\n",
      " (60763967, 42359447, 48019194, 67363654),\n",
      " (60776053, 31491997, 50160689, 58649714),\n",
      " (60787823, 62132529, 54511218, 93652630),\n",
      " (61008815, 28396254, 43287351, 51867503),\n",
      " (61058803, 54015203, 64933347, 96228611),\n",
      " (61349825, 23565456, 39682656, 58432997),\n",
      " (61563025, 49341923, 43497613, 70623725),\n",
      " (61916494, 33730301, 53820929, 65688771),\n",
      " (62017342, 45671518, 64369142, 88278968),\n",
      " (62065088, 36543153, 31618543, 67574432),\n",
      " (62128893, 52589643, 51236395, 82175908),\n",
      " (62194845, 12170898, 71636220, 97627732),\n",
      " (62525031, 44718671, 24906249, 82922327),\n",
      " (62553249, 35198795, 55363844, 69336906),\n",
      " (62590707, 14184364, 43509708, 67883632),\n",
      " (62645168, 53039307, 48518066, 80423652),\n",
      " (62670379, 45240050, 12580107, 95915122),\n",
      " (62703644, 37100976, 76527721, 92553389),\n",
      " (62962245, 31152739, 43443847, 53779953),\n",
      " (63254821, 61129957, 43850034, 84455779),\n",
      " (63490817, 35769834, 31405588, 68439896),\n",
      " (64064976, 42157970, 28367451, 78440182),\n",
      " (64253263, 51519140, 58839013, 90832400),\n",
      " (64511516, 31221426, 31350225, 64967437),\n",
      " (64609560, 39470890, 66598424, 86900000),\n",
      " (64853878, -40453, 44417140, 85279044),\n",
      " (65127890, 32688400, 57068217, 71105480),\n",
      " (65239944, 16173477, 47937616, 72971932),\n",
      " (65341117, 17883801, 51590977, 75015899),\n",
      " (65416315, 49939741, 61196003, 92773238),\n",
      " (65442321, 51074913, 31856141, 85246217),\n",
      " (65451444, 21527122, 76681156, 96573042),\n",
      " (65528850, 5448624, 54144444, 90192234),\n",
      " (65578772, 72999103, 41110955, 98051646),\n",
      " (65642532, 39459944, 53602576, 74926148),\n",
      " (65769899, 37835310, 56239311, 76065884),\n",
      " (65976629, 36532298, 52273264, 71003361),\n",
      " (66003351, 41032456, 8483159, 99137314),\n",
      " (66169180, 34336142, 66104490, 82830824),\n",
      " (66251987, 42120029, 21642854, 87313828),\n",
      " (66500479, 33343927, 33380784, 67048303),\n",
      " (66664257, 38014011, 77300202, 98199475),\n",
      " (66756642, 33374717, 49061957, 65414387),\n",
      " (66825163, 33381230, 50993323, 67420787),\n",
      " (66844373, 49734782, 27957461, 89206445),\n",
      " (66992447, 59055633, 36922836, 89709913),\n",
      " (67126075, 47828117, 48034294, 79209452),\n",
      " (67686790, 46363229, 49213930, 79484958),\n",
      " (67710873, 36362823, 50152318, 70447025),\n",
      " (67824963, 37130088, 68725119, 89901371),\n",
      " (68098561, 39458460, 48744363, 72522605),\n",
      " (68126000, 34772356, 32791723, 70691300),\n",
      " (68342693, 37968046, 37720889, 69174932),\n",
      " (68449352, 16106094, 47902553, 76213503),\n",
      " (68482929, 11115311, 63399334, 96734551),\n",
      " (68570364, 49054956, 52232604, 86079230),\n",
      " (68598435, 39675347, 49792359, 74287183),\n",
      " (68749296, 57629739, 50962015, 93562148),\n",
      " (68888661, 32440210, 49028961, 66578818),\n",
      " (69016201, 38484687, 47379455, 71101698),\n",
      " (69317270, 3611896, 30763805, 95272907),\n",
      " (69415933, 41115420, 43698122, 70450495),\n",
      " (69540646, 44508621, 67304958, 97575300),\n",
      " (69589466, 37239197, 53280748, 76330391),\n",
      " (69722435, 34573169, 60561683, 81078448),\n",
      " (69759904, 60082027, 39301800, 91124813),\n",
      " (69808979, 25257744, 38544301, 66338323),\n",
      " (70023641, 32537633, 48704084, 67486545),\n",
      " (70300094, 37028304, 34748743, 73164437),\n",
      " (70501419, 55249194, 43642235, 85613816),\n",
      " (70627795, 35564967, 51142320, 73556214),\n",
      " (70630723, 39229800, 48405721, 74487245),\n",
      " (70807561, 26167293, 34334517, 70637070),\n",
      " (70842283, 27674030, 51371299, 70507126),\n",
      " (71024226, 25186930, 46007795, 67812698),\n",
      " (71104109, 44069242, 47311624, 78706054),\n",
      " (71169664, 40739839, 54391755, 82522243),\n",
      " (71203893, 38051219, 45372878, 70849020),\n",
      " (71266111, 36273234, 39608331, 68515881),\n",
      " (71434979, 51458035, 49886985, 89000996),\n",
      " (71832950, 36568652, 38274228, 70712112),\n",
      " (72149988, 28216302, 49800806, 69702117),\n",
      " (72347748, 31663651, 56973015, 77205451),\n",
      " (72432676, 33591556, 54409233, 76654454),\n",
      " (72617153, 37756694, 34404184, 76554391),\n",
      " (72685074, 33252951, 38019939, 68502830),\n",
      " (72765056, 42223545, 31484306, 84089360),\n",
      " (73314822, 31383096, 40717029, 64565730),\n",
      " (73515582, 44348643, 37922054, 80526852),\n",
      " (74050284, 25931609, 44741782, 68828309),\n",
      " (74361060, 32861441, 54814107, 78257758),\n",
      " (74669464, 32372925, 70139553, 93403053),\n",
      " (74675606, 62044881, 38270475, 99034758),\n",
      " (74736827, 10865869, 53408708, 93247333),\n",
      " (74781476, 57331231, 39331737, 93365716),\n",
      " (74973489, 42519850, 56885323, 90599691),\n",
      " (75421777, 33511780, 32752070, 76766195),\n",
      " (75913985, 35172499, 55047086, 82354754),\n",
      " (75938634, 31757957, 63840180, 87757889),\n",
      " (75949390, 41225731, 60224643, 93620736),\n",
      " (76146492, 24077677, 43826569, 71863041),\n",
      " (76325788, 33063178, 51599881, 77210320),\n",
      " (76651818, 2824855, 48884491, 98679018),\n",
      " (76699670, 33574261, 45873640, 72368553),\n",
      " (76900938, 31850591, 46844751, 71817994),\n",
      " (76919540, 32280419, 50676042, 76096993),\n",
      " (76977271, 34958100, 61710091, 89867004),\n",
      " (77627767, 31992026, 45751437, 71592213),\n",
      " (77733297, 34277446, 39733553, 72861861),\n",
      " (78966132, 13414486, 33824369, 92058557),\n",
      " (79027689, 42955543, 49558900, 87763151),\n",
      " (79112631, 26271238, 49613819, 78422892),\n",
      " (79382153, 33178080, 53601452, 82382735),\n",
      " (79752973, 27384861, 50702861, 79038549),\n",
      " (79883105, 35029122, 53857854, 84991074),\n",
      " (79937325, 46127692, 49959779, 92245814),\n",
      " (80080970, 35433316, 37281572, 78817488),\n",
      " (80137013, 33973811, 64818402, 95150340),\n",
      " (80339253, 32414667, 52793414, 81768308),\n",
      " (80613300, 31994809, 60125656, 88954732),\n",
      " (80824028, 32487948, 43806163, 73339264),\n",
      " (81043337, 54424299, 45694597, 97383426),\n",
      " (81643560, 45094648, 55474640, 98433815),\n",
      " (81818827, 31934893, 45544850, 75519629),\n",
      " (81838895, 20195686, 54042756, 91653558),\n",
      " (82264072, 43299176, 43634198, 85418490),\n",
      " (83150459, 37980484, 52261616, 89613530),\n",
      " (83622590, 21048124, 51750978, 90293095),\n",
      " (83675704, 33042886, 59847230, 92786821),\n",
      " (83735831, 33706772, 46174057, 79837866),\n",
      " (83940652, 21286832, 43553927, 82175333),\n",
      " (84188644, 33920412, 33921253, 84772498),\n",
      " (84273027, 30877190, 34291451, 81443653),\n",
      " (84351403, 36250524, 47964626, 84787981),\n",
      " (84464158, 45573547, 43927217, 90186045),\n",
      " (84708771, 22838268, 29942949, 92258818),\n",
      " (84827637, 19766513, 43882907, 84911603),\n",
      " (85012224, 33967457, 43461157, 78661809),\n",
      " (85140336, 33769355, 50379144, 85509935),\n",
      " (86206599, 28354608, 28794654, 89388896),\n",
      " (86586372, 31096943, 49841288, 83745612),\n",
      " (86943189, 28849114, 43242139, 77303808),\n",
      " (87016385, 34415217, 54541304, 92193898),\n",
      " (87074358, 30941686, 59302604, 93539771),\n",
      " (87202274, 32118902, 46942019, 82484215),\n",
      " (87685152, 32982399, 44848109, 81736749),\n",
      " (87961612, 42962546, 51703833, 98849153),\n",
      " (88709990, 40194393, 43515765, 88641244),\n",
      " (88842735, 34235292, 49846137, 89145184),\n",
      " (89297850, 39287670, 38119081, 91051192),\n",
      " (89506586, 31801302, 52840197, 90369420),\n",
      " (90541356, 39087242, 51492417, 97342045),\n",
      " (90703183, 27913547, 45346396, 84104016),\n",
      " (90905059, 31779896, 24162446, 99107310),\n",
      " (90958586, 31001383, 47077387, 85258422),\n",
      " (91013214, 34502001, 53211071, 94947723),\n",
      " (92012059, 31343416, 44558047, 84134636),\n",
      " (93077634, 35706173, 47698330, 92703175),\n",
      " (93437319, 36157767, 46875184, 92691373),\n",
      " (93652338, 38515598, 47915274, 96304526),\n",
      " (93787016, 32837076, 49013564, 91859076),\n",
      " (94096136, 31400362, 30610878, 95470504),\n",
      " (95011016, 35135937, 33746320, 96985477),\n",
      " (95545820, 20902700, 44277900, 94888808),\n",
      " (95577828, 31050872, 45323347, 88173428),\n",
      " (97070686, 35012373, 46518487, 94822557),\n",
      " (97116970, 23134888, 47913603, 97863362),\n",
      " (97821272, 32751773, 38341655, 92816185),\n",
      " (98230817, 31730047, 39681078, 90864481),\n",
      " (98633641, 33368674, 43907230, 92130584),\n",
      " (98654116, 35788958, 44972758, 95636934),\n",
      " (98831380, 31219104, 47610718, 93882189),\n",
      " (99774736, 26996430, 34414448, 98695125),\n",
      " (99866693, 36058447, 37512914, 98996943),\n",
      " (100012088, 33064213, 47464755, 96762337),\n",
      " (100249424, 35171163, 46278590, 97920378),\n",
      " (100429682, 31143594, 47798211, 95592598),\n",
      " (100688616, 89513113, 100651946, 80628925),\n",
      " (101694594, 34129826, 39168108, 97241047),\n",
      " (102053202, 33100784, 47451039, 98826007),\n",
      " (104589890, 26381170, 43740871, 97917175),\n",
      " (105209187, 30894506, 45847372, 98172284),\n",
      " (146706938, 72919516, 73932227, 68019840),\n",
      " (151161063, 70184440, 17952439, 78349117),\n",
      " (152759815, 73176752, 78342225, 83811864),\n",
      " (155594709, 39637727, 107223819, 95153651),\n",
      " (168446412, 31149060, 83743746, 85563787),\n",
      " (169378096, -17740697, 38297241, 66812289),\n",
      " (171627159, 58767101, 63162115, 75124242),\n",
      " (192087012, 58191094, 40891685, 77392981),\n",
      " (216782106, 36901313, 38093509, 85116307)]\n"
     ]
    }
   ],
   "source": [
    "pprint(sorted(nanobots))"
   ]
  },
  {
   "cell_type": "markdown",
   "metadata": {},
   "source": [
    "## [Day 25](https://adventofcode.com/2018/day/25) Four-Dimensional Adventure\n",
    "We have points in 4-space, and we're using a Manhattan distance metric. For part one, we have to figure out the number of constellations formed by a set of points: this is the number of connected components of the graph whose nodes are the points, with an edge `PQ` iff `|PQ|` is 3 or less."
   ]
  },
  {
   "cell_type": "code",
   "execution_count": 78,
   "metadata": {},
   "outputs": [],
   "source": [
    "def graph(pts, D=3):\n",
    "    '''Form the graph from the `pts` data\n",
    "    \n",
    "    D - add an edge between two points P, Q iff |PQ| <= D\n",
    "    '''\n",
    "    pts = array(pts)\n",
    "    g = {p: set() for p in pts}\n",
    "    for p, q in its.permutations(pts, 2):\n",
    "        if manhattan_distance(p, q) <= D:\n",
    "            g[p].add(q)\n",
    "    return g\n",
    "\n",
    "example_25 = '''\\\n",
    "0,0,0,0\n",
    " 3,0,0,0\n",
    " 0,3,0,0\n",
    " 0,0,3,0\n",
    " 0,0,0,3\n",
    " 0,0,0,6\n",
    " 9,0,0,0\n",
    "12,0,0,0'''"
   ]
  },
  {
   "cell_type": "code",
   "execution_count": 79,
   "metadata": {},
   "outputs": [],
   "source": [
    "def component(g, v):\n",
    "    cpt = {v}\n",
    "    fringe = g[v]\n",
    "    while fringe:\n",
    "        cpt |= fringe\n",
    "        fringe = {w for f in fringe for w in g[f]} - cpt\n",
    "    return cpt\n",
    "    \n",
    "def connected_components(g):\n",
    "    'Generate the connected components of a graph `g`'\n",
    "    vs = set(g)\n",
    "    while vs:\n",
    "        cpt = component(g, vs.pop())\n",
    "        yield cpt\n",
    "        vs -= cpt\n",
    "\n",
    "assert ilen(connected_components(graph(example_25))) == 2"
   ]
  },
  {
   "cell_type": "code",
   "execution_count": 80,
   "metadata": {},
   "outputs": [],
   "source": [
    "example_25_b = '''\\\n",
    "1,-1,-1,-2\n",
    "-2,-2,0,1\n",
    "0,2,1,3\n",
    "-2,3,-2,1\n",
    "0,2,3,-2\n",
    "-1,-1,1,-2\n",
    "0,-2,-1,0\n",
    "-2,2,3,-1\n",
    "1,2,2,0\n",
    "-1,-2,0,-2'''\n",
    "\n",
    "assert ilen(connected_components(graph(example_25_b))) == 8"
   ]
  },
  {
   "cell_type": "code",
   "execution_count": 81,
   "metadata": {},
   "outputs": [
    {
     "data": {
      "text/plain": [
       "420"
      ]
     },
     "execution_count": 81,
     "metadata": {},
     "output_type": "execute_result"
    }
   ],
   "source": [
    "ilen(connected_components(graph(day(25))))"
   ]
  },
  {
   "cell_type": "code",
   "execution_count": null,
   "metadata": {},
   "outputs": [],
   "source": []
  }
 ],
 "metadata": {
  "kernelspec": {
   "display_name": "Python 3",
   "language": "python",
   "name": "python3"
  },
  "language_info": {
   "codemirror_mode": {
    "name": "ipython",
    "version": 3
   },
   "file_extension": ".py",
   "mimetype": "text/x-python",
   "name": "python",
   "nbconvert_exporter": "python",
   "pygments_lexer": "ipython3",
   "version": "3.7.0"
  }
 },
 "nbformat": 4,
 "nbformat_minor": 2
}
