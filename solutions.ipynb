{
 "cells": [
  {
   "cell_type": "markdown",
   "metadata": {},
   "source": [
    "# [Advent of Code 2018](https://adventofcode.com/2018)\n",
    "I'm going to have a go at the Advent of Code 2018 puzzles using a Jupyter notebook.\n",
    "First, let's import some standard modules."
   ]
  },
  {
   "cell_type": "code",
   "execution_count": 1,
   "metadata": {},
   "outputs": [],
   "source": [
    "import collections\n",
    "import functools\n",
    "import itertools as its\n",
    "import math\n",
    "import operator\n",
    "import re\n",
    "import string\n",
    "from pprint import pprint"
   ]
  },
  {
   "cell_type": "markdown",
   "metadata": {},
   "source": [
    "Also, here are some general purpose functions."
   ]
  },
  {
   "cell_type": "code",
   "execution_count": 2,
   "metadata": {},
   "outputs": [],
   "source": [
    "def input(day):\n",
    "    'Load the input for `day`'\n",
    "    return open(f'input/{day}').read()\n",
    "\n",
    "def ilen(xs):\n",
    "    'Return the length of an iterable'\n",
    "    return sum(1 for _ in iter(xs))\n",
    "\n",
    "def last(xs):\n",
    "    'Return the last element of an iterable sequence.'\n",
    "    xs = iter(xs)\n",
    "    return collections.deque(xs, maxlen=1)[0]\n",
    "\n",
    "def ints(s):\n",
    "    'Return a list of integer tokens in `s`.'\n",
    "    return [int(x) for x in re.findall(r'[-+]?\\d+', s)]\n",
    "\n",
    "def array(data):\n",
    "    'Convert the data into a list of lists of ints.'\n",
    "    return [ints(line) for line in data.splitlines()]\n",
    "\n",
    "def swap(xs, i, j):\n",
    "    'Swap items in a sequence.'\n",
    "    xs[i], xs[j] = xs[j], xs[i]\n",
    "\n",
    "def nth(xs, n):\n",
    "    'Return the nth element of a sequence.'\n",
    "    return next(its.islice(xs, n, None))\n",
    "\n",
    "def take(xs, n=None):\n",
    "    '''Return (up to) first `n` items of a sequence\n",
    "    or the whole sequence if `n` is `None`\n",
    "    '''\n",
    "    return list(xs) if n is None else [x for x, _ in zip(xs, range(n))]\n",
    "\n",
    "def overlapping(xs, n):\n",
    "    '''Generate overlapping n-tuples from `xs`\n",
    "\n",
    "    overlapping('ABCDEFG', 3) --> ABC BCD CDE DEF EFG\n",
    "    '''\n",
    "    if isinstance(xs, collections.abc.Sequence):\n",
    "        yield from (xs[i:i+n] for i in range(len(xs) + 1 - n))\n",
    "    else:\n",
    "        result = collections.deque(maxlen=n)\n",
    "        for x in xs:\n",
    "            result.append(x)\n",
    "            if len(result) == n:\n",
    "                yield tuple(result)\n",
    "                \n",
    "def pairwise(iterable):\n",
    "    's -> (s0,s1), (s1,s2), (s2, s3), ...'\n",
    "    return overlapping(iterable, 2)\n",
    "\n",
    "def chunked(xs, n):\n",
    "    'Collect `xs` into chunks of length `n`'\n",
    "    return zip(*[iter(xs)] * n)\n",
    "\n",
    "def manhattan_distance(p, q):\n",
    "    'Return the city block distance from `p` to `q`'\n",
    "    return math.fabs(p[0]-q[0]) + math.fabs(p[1]-q[1])\n",
    "\n",
    "def neighbours4(x, y):\n",
    "    'Return the horizontal and vertical neighbours of `(x, y)`'\n",
    "    return (x,y-1),(x-1,y),(x+1,y),(x,y+1)\n",
    "\n",
    "def neighbours8(x, y):\n",
    "    'Return the horizontal, vertical and diagonal neighbours of `(x, y)`'\n",
    "    return ((x-1,y-1),(x-1,y),(x-1,y+1),\n",
    "            (x,y-1),(x,y+1),\n",
    "            (x+1,y-1),(x+1,y),(x+1,y+1))\n",
    "\n",
    "def unique(xs):\n",
    "    'Return `True` iff no elements of `xs` are repeated'\n",
    "    return len(xs) == len(set(xs))\n",
    "\n",
    "def mapt(f, xs):\n",
    "    return tuple(map(f, xs))\n",
    "\n",
    "def render_grid(grid, fill_ch=' '):\n",
    "    '''Convert `grid` into a printable form\n",
    "    \n",
    "    grid - maps 2D points to single chars\n",
    "    fill_ch - used for chars not in the grid\n",
    "    '''\n",
    "    xlo, xhi = min(map(first, grid)), max(map(first, grid))\n",
    "    ylo, yhi = min(map(second, grid)), max(map(second, grid))\n",
    "    return ncat(cat(grid.get((x,y), fill_ch)\n",
    "                    for x in range(xlo, xhi+1))\n",
    "                for y in range(ylo, yhi+1))\n",
    "\n",
    "def draw_grid(grid, fill_ch=' '):\n",
    "    print(render_grid(grid, fill_ch))       \n",
    "\n",
    "flatten = its.chain.from_iterable\n",
    "cat = ''.join\n",
    "ncat = '\\n'.join\n",
    "first = operator.itemgetter(0)\n",
    "second = operator.itemgetter(1)"
   ]
  },
  {
   "cell_type": "markdown",
   "metadata": {},
   "source": [
    "## [Day 1](https://adventofcode.com/2018/day/1)\n",
    "The input is a series of integers, one per line. These integers represent frequency deltas. Part one requires the final frequency. That is, the sum of these integers."
   ]
  },
  {
   "cell_type": "code",
   "execution_count": 3,
   "metadata": {},
   "outputs": [
    {
     "data": {
      "text/plain": [
       "599"
      ]
     },
     "execution_count": 3,
     "metadata": {},
     "output_type": "execute_result"
    }
   ],
   "source": [
    "deltas = ints(input(1)) \n",
    "sum(deltas)"
   ]
  },
  {
   "cell_type": "markdown",
   "metadata": {},
   "source": [
    "Part two explains the frequency deltas cycle repeatedly. We are asked to find the first frequency which is reached a second time."
   ]
  },
  {
   "cell_type": "code",
   "execution_count": 4,
   "metadata": {},
   "outputs": [
    {
     "data": {
      "text/plain": [
       "81204"
      ]
     },
     "execution_count": 4,
     "metadata": {},
     "output_type": "execute_result"
    }
   ],
   "source": [
    "seen = set()\n",
    "for freq in its.accumulate(its.cycle(deltas)):\n",
    "    if freq in seen:\n",
    "        break\n",
    "    seen.add(freq)\n",
    "\n",
    "freq"
   ]
  },
  {
   "cell_type": "markdown",
   "metadata": {},
   "source": [
    "## [Day 2](https://adventofcode.com/2018/day/2)\n",
    "The input is a list of strings representing box ids."
   ]
  },
  {
   "cell_type": "code",
   "execution_count": 5,
   "metadata": {},
   "outputs": [],
   "source": [
    "box_ids = input(2).split()"
   ]
  },
  {
   "cell_type": "markdown",
   "metadata": {},
   "source": [
    "We need to know the counts of letters in these ids -- specifically, how many ids have letters repeated 2 and/or 3 times? `Counter` can help here."
   ]
  },
  {
   "cell_type": "code",
   "execution_count": 6,
   "metadata": {},
   "outputs": [],
   "source": [
    "box_counts = [collections.Counter(box_id) for box_id in box_ids]\n",
    "x2 = sum(2 in box_count.values() for box_count in box_counts)\n",
    "x3 = sum(3 in box_count.values() for box_count in box_counts)"
   ]
  },
  {
   "cell_type": "markdown",
   "metadata": {},
   "source": [
    "We're asked for the product of the repeat counts."
   ]
  },
  {
   "cell_type": "code",
   "execution_count": 7,
   "metadata": {},
   "outputs": [
    {
     "data": {
      "text/plain": [
       "5681"
      ]
     },
     "execution_count": 7,
     "metadata": {},
     "output_type": "execute_result"
    }
   ],
   "source": [
    "x2 * x3"
   ]
  },
  {
   "cell_type": "markdown",
   "metadata": {},
   "source": [
    "Part two asks for something quite different: to identify a pair of ids which differ by a single character."
   ]
  },
  {
   "cell_type": "code",
   "execution_count": 8,
   "metadata": {},
   "outputs": [
    {
     "data": {
      "text/plain": [
       "250"
      ]
     },
     "execution_count": 8,
     "metadata": {},
     "output_type": "execute_result"
    }
   ],
   "source": [
    "len(box_ids)"
   ]
  },
  {
   "cell_type": "markdown",
   "metadata": {},
   "source": [
    "For such a low number of ids, we simply check every pair."
   ]
  },
  {
   "cell_type": "code",
   "execution_count": 9,
   "metadata": {},
   "outputs": [],
   "source": [
    "def diffs(b, B):\n",
    "    'Return the number of characters which differ in the inputs'\n",
    "    return sum(c != C for c, C in zip(b, B))\n",
    "\n",
    "diff_by_one = [p for p in its.combinations(box_ids, 2) if diffs(*p) == 1]\n",
    "\n",
    "# Check there's just one pair which fits the criteria\n",
    "assert len(diff_by_one) == 1"
   ]
  },
  {
   "cell_type": "markdown",
   "metadata": {},
   "source": [
    "We're asked for the letters common to this pair."
   ]
  },
  {
   "cell_type": "code",
   "execution_count": 10,
   "metadata": {},
   "outputs": [
    {
     "data": {
      "text/plain": [
       "'uqyoeizfvmbistpkgnocjtwld'"
      ]
     },
     "execution_count": 10,
     "metadata": {},
     "output_type": "execute_result"
    }
   ],
   "source": [
    "''.join(c for c, C in zip(*diff_by_one[0]) if c == C)"
   ]
  },
  {
   "cell_type": "markdown",
   "metadata": {},
   "source": [
    "## [Day 3](https://adventofcode.com/2018/day/3)\n",
    "This puzzle is about *claim*s, which are regions in a grid. Each grid square is specified by an id, then left, top, width, height values. We could write a regex to parse/check, but simply extracting `ints` gets us there."
   ]
  },
  {
   "cell_type": "code",
   "execution_count": 11,
   "metadata": {},
   "outputs": [
    {
     "data": {
      "text/plain": [
       "[123, 3, 2, 5, 4]"
      ]
     },
     "execution_count": 11,
     "metadata": {},
     "output_type": "execute_result"
    }
   ],
   "source": [
    "claim = \"#123 @ 3,2: 5x4\"\n",
    "ints(claim) "
   ]
  },
  {
   "cell_type": "markdown",
   "metadata": {},
   "source": [
    "For part one, we want to know how many squares on the grid are covered by more than one claim. Let's find the total area of all the claims."
   ]
  },
  {
   "cell_type": "code",
   "execution_count": 12,
   "metadata": {},
   "outputs": [
    {
     "data": {
      "text/plain": [
       "492476"
      ]
     },
     "execution_count": 12,
     "metadata": {},
     "output_type": "execute_result"
    }
   ],
   "source": [
    "claims = array(input(3))\n",
    "sum(c[3]*c[4] for c in claims)"
   ]
  },
  {
   "cell_type": "markdown",
   "metadata": {},
   "source": [
    "Given this figure, we can just count the number of claims in each cell. We can then read the number of squares with 2 or more claims."
   ]
  },
  {
   "cell_type": "code",
   "execution_count": 13,
   "metadata": {},
   "outputs": [
    {
     "data": {
      "text/plain": [
       "112378"
      ]
     },
     "execution_count": 13,
     "metadata": {},
     "output_type": "execute_result"
    }
   ],
   "source": [
    "def rectangle(id_, L, T, W, H):\n",
    "    'Generate the points within a claim'\n",
    "    return its.product(range(L, L+W), range(T, T+H))\n",
    "\n",
    "grid = collections.Counter(\n",
    "    p for claim in claims for p in rectangle(*claim))\n",
    "\n",
    "ilen(N for N in grid.values() if N > 1)"
   ]
  },
  {
   "cell_type": "markdown",
   "metadata": {},
   "source": [
    "For part two, we want the id of the claim which doesn't overlap any other claim. That's the claim for which cell counts are all `1`."
   ]
  },
  {
   "cell_type": "code",
   "execution_count": 14,
   "metadata": {},
   "outputs": [
    {
     "data": {
      "text/plain": [
       "603"
      ]
     },
     "execution_count": 14,
     "metadata": {},
     "output_type": "execute_result"
    }
   ],
   "source": [
    "non_overlaps = [claim[0] for claim in claims\n",
    "                if all(grid[p] == 1 for p in rectangle(*claim))]\n",
    "assert len(non_overlaps) == 1\n",
    "non_overlaps[0]"
   ]
  },
  {
   "cell_type": "markdown",
   "metadata": {},
   "source": [
    "## [Day 4](https://adventofcode.com/2018/day/4)\n",
    "It's not entirely clear what's wanted here. Are we only concerned with guards being asleep during the midnight hour? Or, when we sort the inputs, are these the only times guards are asleep? Let's start by sorting the records.\n",
    "\n",
    "    sort < input/4 > input/4a\n",
    "\n",
    "Note that alphabetically sorting the records places them in date order. Once sorted, my questions about the input are clarified. Every night just a single guard is on duty and that guard only sleeps during the midnight hour.\n",
    "\n",
    "We scan through the sorted records and keep a counter for each guard. That counter records minutes in the midnight hour the guard was asleep. For example, `sleeping[42][5] == 3` would mean guard `#42` was asleep on 3 nights between `00:05` and `00:06`."
   ]
  },
  {
   "cell_type": "code",
   "execution_count": 15,
   "metadata": {},
   "outputs": [
    {
     "data": {
      "text/plain": [
       "[(39, 10), (40, 10), (41, 10), (42, 10), (36, 9)]"
      ]
     },
     "execution_count": 15,
     "metadata": {},
     "output_type": "execute_result"
    }
   ],
   "source": [
    "sleeping = collections.defaultdict(collections.Counter)\n",
    "\n",
    "for record in open('input/4a'):\n",
    "    yy,mm,dd,hh,mm,*rest = ints(record)\n",
    "    if 'shift'  in record:\n",
    "        guard = rest[0]\n",
    "    elif 'asleep' in record:\n",
    "        assert hh == 0\n",
    "        asleep = mm\n",
    "    else:\n",
    "        assert hh == 0\n",
    "        assert 'wakes' in record\n",
    "        sleeping[guard].update(range(asleep, mm))\n",
    "\n",
    "# Let's have a look at some data & check it looks OK\n",
    "sleeping[2417].most_common(5)"
   ]
  },
  {
   "cell_type": "markdown",
   "metadata": {},
   "source": [
    "For part one, we're after the guard who slept the longest and the minute they were most often asleep."
   ]
  },
  {
   "cell_type": "code",
   "execution_count": 16,
   "metadata": {},
   "outputs": [
    {
     "data": {
      "text/plain": [
       "[(45, 15), (44, 14)]"
      ]
     },
     "execution_count": 16,
     "metadata": {},
     "output_type": "execute_result"
    }
   ],
   "source": [
    "guard, asleep = max(sleeping.items(), key=lambda i: sum(i[1].values()))\n",
    "asleep.most_common(2)"
   ]
  },
  {
   "cell_type": "markdown",
   "metadata": {},
   "source": [
    "That's good -- we have a unique choice for the minute the guard was most often asleep. We can get the answer directly."
   ]
  },
  {
   "cell_type": "code",
   "execution_count": 17,
   "metadata": {},
   "outputs": [
    {
     "data": {
      "text/plain": [
       "119835"
      ]
     },
     "execution_count": 17,
     "metadata": {},
     "output_type": "execute_result"
    }
   ],
   "source": [
    "guard * asleep.most_common(1)[0][0]"
   ]
  },
  {
   "cell_type": "markdown",
   "metadata": {},
   "source": [
    "Part two asks: Of all guards, which guard is most frequently asleep on the same minute? The answer is in our `sleeping` dict."
   ]
  },
  {
   "cell_type": "code",
   "execution_count": 18,
   "metadata": {},
   "outputs": [
    {
     "data": {
      "text/plain": [
       "12725"
      ]
     },
     "execution_count": 18,
     "metadata": {},
     "output_type": "execute_result"
    }
   ],
   "source": [
    "def sleepiest_minute(guard_mins):\n",
    "    guard, mins = guard_mins\n",
    "    minute, freq = mins.most_common(1).pop()\n",
    "    return freq, minute, guard\n",
    "\n",
    "freq, minute, guard = max(map(sleepiest_minute, sleeping.items()))\n",
    "guard * minute"
   ]
  },
  {
   "cell_type": "markdown",
   "metadata": {},
   "source": [
    "## [Day 5](https://adventofcode.com/2018/day/5)\n",
    "Pairs of characters are repeatedly removed from a polymer -- represented as a string. First, find all possible pairs. "
   ]
  },
  {
   "cell_type": "code",
   "execution_count": 19,
   "metadata": {},
   "outputs": [],
   "source": [
    "import string\n",
    "az, AZ = string.ascii_lowercase, string.ascii_uppercase\n",
    "removes = [cat(p) for p in zip(az, AZ)] + [cat(p) for p in zip(AZ, az)]"
   ]
  },
  {
   "cell_type": "markdown",
   "metadata": {},
   "source": [
    "Now we keep processing the polymer until there's nothing to remove."
   ]
  },
  {
   "cell_type": "code",
   "execution_count": 20,
   "metadata": {},
   "outputs": [
    {
     "data": {
      "text/plain": [
       "9562"
      ]
     },
     "execution_count": 20,
     "metadata": {},
     "output_type": "execute_result"
    }
   ],
   "source": [
    "def reactions(polymer, removes):\n",
    "    '''Generate the series of values taken by the polymer\n",
    "    \n",
    "    Yield `polymer`, then the repeated result of applying all removals.\n",
    "    '''\n",
    "    while True:\n",
    "        yield polymer\n",
    "        for rm in removes:\n",
    "            polymer = polymer.replace(rm, '')\n",
    "\n",
    "def reacted(polymer, removes):\n",
    "    'Keep applying removals until the polymer stabilises'\n",
    "    return next(p for p in pairwise(reactions(polymer, removes))\n",
    "                if len(set(p)) == 1)[0]\n",
    "\n",
    "polymer = input(5).strip() # (strip in case a newline appeared in the file)\n",
    "len(reacted(polymer, removes))"
   ]
  },
  {
   "cell_type": "markdown",
   "metadata": {},
   "source": [
    "For part two, we see what happens if we remove all instances of a unit before reacting. Which unit results in the biggest reaction?"
   ]
  },
  {
   "cell_type": "code",
   "execution_count": 21,
   "metadata": {},
   "outputs": [
    {
     "data": {
      "text/plain": [
       "4934"
      ]
     },
     "execution_count": 21,
     "metadata": {},
     "output_type": "execute_result"
    }
   ],
   "source": [
    "inputs = (polymer.replace(x, '').replace(X, '') for x, X in zip(az, AZ))\n",
    "min(len(reacted(p, removes)) for p in inputs)"
   ]
  },
  {
   "cell_type": "markdown",
   "metadata": {},
   "source": [
    "## [Day 6](https://adventofcode.com/2018/day/6)\n",
    "We are filling an infinite grid, stepping in horizontal or vertical direction. "
   ]
  },
  {
   "cell_type": "code",
   "execution_count": 22,
   "metadata": {},
   "outputs": [
    {
     "data": {
      "text/plain": [
       "3894"
      ]
     },
     "execution_count": 22,
     "metadata": {},
     "output_type": "execute_result"
    }
   ],
   "source": [
    "coords = set(tuple(ints(row)) for row in input(6).splitlines())\n",
    "\n",
    "# Find the X and Y ranges of the pts\n",
    "x, X = min(map(first,  coords)), max(map(first,  coords))\n",
    "y, Y = min(map(second, coords)), max(map(second, coords))\n",
    "\n",
    "def on_edge(pt):\n",
    "    'Return `True` if `pt` is on the bounding box of `coords`'\n",
    "    return pt[0] in {x, X} or pt[1] in {y, Y}\n",
    "\n",
    "def closest(pt, coords, dist=manhattan_distance):\n",
    "    'Return the `coords` closest to `pt`'\n",
    "    def key(p): return dist(p, pt)\n",
    "    d, result = next(its.groupby(sorted(coords, key=key), key=key))\n",
    "    return tuple(result)\n",
    "\n",
    "# Find the closest coord to each point in the bounding box of `coords`\n",
    "closest_coords = {p: closest(p, coords) \n",
    "                  for p in its.product(range(x, X+1), range(y, Y+1))}\n",
    "\n",
    "# We are looking for the coord surrounded by the largest contained region. \n",
    "\n",
    "# We can eliminate any coord which is closest to a point on \n",
    "# the bounding box -- such points are not contained\n",
    "infinite_extent = set(\n",
    "    flatten(vs for p, vs in closest_coords.items() if on_edge(p)))\n",
    "\n",
    "# Now count up points closest to `coords` -- this gives us areas of\n",
    "# contained regions\n",
    "areas = collections.Counter(\n",
    "    v for v, *tied in closest_coords.values()\n",
    "    if not tied and v not in infinite_extent)\n",
    "\n",
    "coord, biggest_area = areas.most_common(1)[0]\n",
    "biggest_area"
   ]
  },
  {
   "cell_type": "markdown",
   "metadata": {},
   "source": [
    "For part two, we want to find the region in which all points have a total Manhattan distance from `pts` of less than 10000."
   ]
  },
  {
   "cell_type": "code",
   "execution_count": 23,
   "metadata": {},
   "outputs": [
    {
     "data": {
      "text/plain": [
       "11299.0"
      ]
     },
     "execution_count": 23,
     "metadata": {},
     "output_type": "execute_result"
    }
   ],
   "source": [
    "min(sum(manhattan_distance(p, q) for q in coords) \n",
    "    for p in closest_coords if on_edge(p)) "
   ]
  },
  {
   "cell_type": "markdown",
   "metadata": {},
   "source": [
    "Since 11299 > 10000, this check confirms the region is strictly within the bounding box of the coords."
   ]
  },
  {
   "cell_type": "code",
   "execution_count": 24,
   "metadata": {},
   "outputs": [
    {
     "data": {
      "text/plain": [
       "39398"
      ]
     },
     "execution_count": 24,
     "metadata": {},
     "output_type": "execute_result"
    }
   ],
   "source": [
    "ilen(p for p in its.product(range(x, X+1), range(y, Y+1))\n",
    "     if sum(manhattan_distance(p, q) for q in coords) < 10000)"
   ]
  },
  {
   "cell_type": "markdown",
   "metadata": {},
   "source": [
    "## [Day 7](https://adventofcode.com/2018/day/7)\n",
    "Part one is a topological sort, with the minor twist of ordering dependencies alphabetically when there's a choice."
   ]
  },
  {
   "cell_type": "code",
   "execution_count": 25,
   "metadata": {},
   "outputs": [
    {
     "data": {
      "text/plain": [
       "('Y', 'J')"
      ]
     },
     "execution_count": 25,
     "metadata": {},
     "output_type": "execute_result"
    }
   ],
   "source": [
    "# Each row in the input looks something like\n",
    "row = 'Step Y must be finished before step J can begin.'\n",
    "# We can parse it like this\n",
    "select = operator.itemgetter(1, 7)\n",
    "select(row.split())"
   ]
  },
  {
   "cell_type": "code",
   "execution_count": 26,
   "metadata": {},
   "outputs": [
    {
     "data": {
      "text/plain": [
       "'CHILFNMORYKGAQXUVBZPSJWDET'"
      ]
     },
     "execution_count": 26,
     "metadata": {},
     "output_type": "execute_result"
    }
   ],
   "source": [
    "edges = sorted(select(row.split()) for row in input(7).splitlines())\n",
    "\n",
    "graph = collections.defaultdict(list,\n",
    "    {v: mapt(second, deps) for v, deps in its.groupby(edges, key=first)})\n",
    "\n",
    "in_degrees = collections.Counter(map(second, edges))\n",
    "ready = set(graph) - set(in_degrees)\n",
    "topo = []\n",
    "while ready:\n",
    "    v = min(ready)\n",
    "    topo.append(v)\n",
    "    ready.remove(v)\n",
    "    in_degrees.subtract(collections.Counter(graph[v]))\n",
    "    ready |= {v for v, n in in_degrees.items() \n",
    "              if n==0 and v not in topo}\n",
    "    \n",
    "''.join(topo)"
   ]
  },
  {
   "cell_type": "markdown",
   "metadata": {},
   "source": [
    "Part two adds extra workers (elves) and assigns times to the steps. We are asked for the time to complete the tasks."
   ]
  },
  {
   "cell_type": "code",
   "execution_count": 27,
   "metadata": {},
   "outputs": [
    {
     "name": "stdout",
     "output_type": "stream",
     "text": [
      "891\n"
     ]
    }
   ],
   "source": [
    "in_degrees = collections.Counter(map(second, edges))\n",
    "ready = set(graph) - set(in_degrees)\n",
    "workers = 5\n",
    "\n",
    "def t_step(S):\n",
    "    'Step A takes 61 seconds, B 62 seconds etc.'\n",
    "    return 61 + ord(S) - ord('A')\n",
    "\n",
    "t = 0\n",
    "work = []\n",
    "topo = []\n",
    "\n",
    "while ready or work:\n",
    "    if ready and workers:\n",
    "        workers -= 1\n",
    "        v = min(ready)\n",
    "        ready.remove(v)\n",
    "        work.append((t + t_step(v), v))\n",
    "    else:\n",
    "        workers += 1\n",
    "        work.sort(reverse=True)\n",
    "        t, v = work.pop()\n",
    "        topo.append(v)\n",
    "        in_degrees.subtract(collections.Counter(graph[v]))\n",
    "        ready |= {v for v, n in in_degrees.items() \n",
    "                  if n==0 and v not in topo and v not in mapt(second, work)}\n",
    "\n",
    "print(t)"
   ]
  },
  {
   "cell_type": "markdown",
   "metadata": {},
   "source": [
    "## [Day 8](https://adventofcode.com/2018/day/8)\n",
    "A list of integers defines a tree structure. Part one asks us to total up the metadata stored in the tree nodes."
   ]
  },
  {
   "cell_type": "code",
   "execution_count": 28,
   "metadata": {},
   "outputs": [
    {
     "data": {
      "text/plain": [
       "44838"
      ]
     },
     "execution_count": 28,
     "metadata": {},
     "output_type": "execute_result"
    }
   ],
   "source": [
    "def traverse(tree_data, i, metadata_callback):\n",
    "    '''Traverse `tree_data` from index `i` calling `metadata_callback`\n",
    "    \n",
    "    Returns the index into `tree_data` after traversing\n",
    "    '''\n",
    "    # Read the header ...\n",
    "    children, metas = tree_data[i], tree_data[i+1]\n",
    "    i += 2\n",
    "    # ... and the children\n",
    "    for _ in range(children):\n",
    "        i = traverse(tree_data, i, metadata_callback)\n",
    "    # ... and metadata\n",
    "    metadata_callback(tree_data[i: i+metas])\n",
    "    return i + metas\n",
    "\n",
    "metadata = []\n",
    "\n",
    "# Check the example\n",
    "traverse(ints('2 3 0 3 10 11 12 1 1 0 1 99 2 1 1 2'), 0, metadata.extend)\n",
    "assert sum(metadata) == 138\n",
    "\n",
    "metadata.clear()\n",
    "traverse(ints(input(8)), 0, metadata.extend)\n",
    "sum(metadata)"
   ]
  },
  {
   "cell_type": "markdown",
   "metadata": {},
   "source": [
    "Part two asks for the value of the root node, which is recursively evaluated from its children, considering the metadata as indices into these children."
   ]
  },
  {
   "cell_type": "code",
   "execution_count": 29,
   "metadata": {},
   "outputs": [
    {
     "data": {
      "text/plain": [
       "22198"
      ]
     },
     "execution_count": 29,
     "metadata": {},
     "output_type": "execute_result"
    }
   ],
   "source": [
    "def tree_value(tree_data, i):\n",
    "    children, metas = tree_data[i], tree_data[i+1]\n",
    "    i += 2\n",
    "    child_values = {}\n",
    "    for j in range(children):\n",
    "        i, v = tree_value(tree_data, i)\n",
    "        child_values[j+1] = v\n",
    "    \n",
    "    md = tree_data[i: i+metas]\n",
    "    if children:\n",
    "        value = sum(child_values.get(m, 0) for m in md)\n",
    "    else:\n",
    "        value = sum(md)\n",
    "    return i + metas, value\n",
    "\n",
    "assert tree_value(ints('2 3 0 3 10 11 12 1 1 0 1 99 2 1 1 2'), 0)[1] == 66\n",
    "tree_value(ints(input(8)), 0)[1]"
   ]
  },
  {
   "cell_type": "markdown",
   "metadata": {},
   "source": [
    "## [Day 9](https://adventofcode.com/2018/day/9)\n",
    "Inserting numbers into a circular buffer, following some bizarre rules."
   ]
  },
  {
   "cell_type": "code",
   "execution_count": 30,
   "metadata": {},
   "outputs": [],
   "source": [
    "def play_marbles():\n",
    "    marbles, pos = [0], 0\n",
    "    for N in its.count(1):\n",
    "        if N % 23:\n",
    "            pos = (pos + 2) % len(marbles)\n",
    "            marbles.insert(pos, N)\n",
    "            yield 0\n",
    "        else:\n",
    "            pos = (pos - 7) % len(marbles)\n",
    "            yield N + marbles.pop(pos)\n",
    "\n",
    "def marbles_game(players, marbles):\n",
    "    scores = collections.Counter()\n",
    "    for score, player in zip(\n",
    "        its.islice(play_marbles(), marbles), its.cycle(range(players))):\n",
    "        scores[player] += score\n",
    "    return max(scores.values())\n",
    "\n",
    "assert marbles_game(10, 1618) == 8317\n",
    "assert marbles_game(13, 7999) == 146373\n",
    "assert marbles_game(17, 1104) == 2764\n",
    "assert marbles_game(30, 5807) == 37305"
   ]
  },
  {
   "cell_type": "code",
   "execution_count": 31,
   "metadata": {},
   "outputs": [
    {
     "name": "stdout",
     "output_type": "stream",
     "text": [
      "Wall time: 613 ms\n"
     ]
    },
    {
     "data": {
      "text/plain": [
       "416424"
      ]
     },
     "execution_count": 31,
     "metadata": {},
     "output_type": "execute_result"
    }
   ],
   "source": [
    "# My input: 413 players; last marble is worth 71082 points\n",
    "%time marbles_game(413, 71082)"
   ]
  },
  {
   "cell_type": "markdown",
   "metadata": {},
   "source": [
    "For the second part, I wrote a [C++ program](./day9/main.cpp) using a doubly-linked list so I could insert and delete nodes in constant time. This gave the answer `3498287922`."
   ]
  },
  {
   "cell_type": "markdown",
   "metadata": {},
   "source": [
    "## [Day 10](https://adventofcode.com/2018/day/10)\n",
    "Points move in a grid until they form a message."
   ]
  },
  {
   "cell_type": "code",
   "execution_count": 32,
   "metadata": {},
   "outputs": [
    {
     "data": {
      "text/plain": [
       "(range(141, 203), range(133, 143))"
      ]
     },
     "execution_count": 32,
     "metadata": {},
     "output_type": "execute_result"
    }
   ],
   "source": [
    "pts_vs = array(input(10))\n",
    "\n",
    "def lights(pts_vs):\n",
    "    'Generate the light positions from the `pts_vs` point+velocity 4-tuples.'\n",
    "    posns = [(its.count(x, vx), its.count(y, vy)) for x, y, vx, vy in pts_vs]\n",
    "    while True:\n",
    "        yield [(next(x), next(y)) for x, y in posns]\n",
    "\n",
    "def bounding_box(pts):\n",
    "    'Return the axis-aligned box which bounds `pts` as an X-range, Y-range pair'\n",
    "    xs, ys = mapt(first, pts), mapt(second, pts)\n",
    "    return range(min(xs), max(xs)+1), range(min(ys), max(ys)+1)\n",
    "\n",
    "def area(box):\n",
    "    w, h = box\n",
    "    return len(w) * len(h)\n",
    "\n",
    "this_pts, next_pts = its.tee(lights(pts_vs))\n",
    "next(next_pts)\n",
    "\n",
    "# We'll assume the message appears when the bounding box of \n",
    "# the points reaches a minimum -- when we print the result\n",
    "# we'll know if we were right :-)\n",
    "for seconds, (this, next_) in enumerate(zip(this_pts, next_pts)):\n",
    "    if area(bounding_box(this)) < area(bounding_box(next_)):\n",
    "        break\n",
    "\n",
    "# Check the bounding box looks sane\n",
    "bounding_box(this)"
   ]
  },
  {
   "cell_type": "code",
   "execution_count": 33,
   "metadata": {},
   "outputs": [
    {
     "name": "stdout",
     "output_type": "stream",
     "text": [
      "******  *****   *****   *****   *****   *****   ******    **  \n",
      "*       *    *  *    *  *    *  *    *  *    *       *   *  * \n",
      "*       *    *  *    *  *    *  *    *  *    *       *  *    *\n",
      "*       *    *  *    *  *    *  *    *  *    *      *   *    *\n",
      "*****   *****   *****   *****   *****   *****      *    *    *\n",
      "*       *       *  *    *    *  *  *    *  *      *     ******\n",
      "*       *       *   *   *    *  *   *   *   *    *      *    *\n",
      "*       *       *   *   *    *  *   *   *   *   *       *    *\n",
      "*       *       *    *  *    *  *    *  *    *  *       *    *\n",
      "*       *       *    *  *****   *    *  *    *  ******  *    *\n"
     ]
    }
   ],
   "source": [
    "# Yes, that looks good. Render the message\n",
    "draw_grid({p: '*' if p in this else ' '\n",
    "          for p in its.product(*bounding_box(this))})"
   ]
  },
  {
   "cell_type": "markdown",
   "metadata": {},
   "source": [
    "Part two of the question asks how long it would take to get this answer. I went back and modified my `for` loop to enumerate the zipped values, making the answer available."
   ]
  },
  {
   "cell_type": "code",
   "execution_count": 34,
   "metadata": {},
   "outputs": [
    {
     "data": {
      "text/plain": [
       "10027"
      ]
     },
     "execution_count": 34,
     "metadata": {},
     "output_type": "execute_result"
    }
   ],
   "source": [
    "seconds"
   ]
  },
  {
   "cell_type": "markdown",
   "metadata": {},
   "source": [
    "## [Day 11](https://adventofcode.com/2018/day/11)\n",
    "We are asked to find the 3x3 square in a 300x300 grid with the largest total power level. "
   ]
  },
  {
   "cell_type": "code",
   "execution_count": 35,
   "metadata": {},
   "outputs": [],
   "source": [
    "# The power level for cell (x, y) is calculated from its coords\n",
    "# and a \"serial number\"\n",
    "def hundreds(n):\n",
    "    'Return the hundreds digit in the decimal representation of `n`'\n",
    "    return (n//100)%10\n",
    "\n",
    "def power_level(serial_number, x, y):\n",
    "    rack_id = x + 10\n",
    "    return hundreds((rack_id*y + serial_number)*rack_id) - 5\n",
    "\n",
    "assert power_level(8, 3, 5) == 4\n",
    "assert power_level(71, 101, 153) == 4"
   ]
  },
  {
   "cell_type": "code",
   "execution_count": 36,
   "metadata": {
    "scrolled": true
   },
   "outputs": [
    {
     "name": "stdout",
     "output_type": "stream",
     "text": [
      "Wall time: 547 ms\n"
     ]
    },
    {
     "data": {
      "text/plain": [
       "(243, 64)"
      ]
     },
     "execution_count": 36,
     "metadata": {},
     "output_type": "execute_result"
    }
   ],
   "source": [
    "def power_levels(serial_number, S):\n",
    "    'Calculate power levels for square side `S` using supplied `serial_number`'\n",
    "    return {p: power_level(serial_number, *p) \n",
    "            for p in its.product(range(1, S+1), repeat=2)}\n",
    "    \n",
    "def max_power_cell(serial_number, s, S):\n",
    "    '''Maximise the power for a square side `s`\n",
    "    \n",
    "    Returns the cell at the top-left of the `s` square\n",
    "    - serial_number\n",
    "    - s, the side legth\n",
    "    - S, side length of the whole grid\n",
    "    '''\n",
    "    levels = power_levels(serial_number, S)\n",
    "    def total_power(x, y):\n",
    "        sq = its.product(range(x, x+s), range(y, y+s))\n",
    "        return sum(levels[p] for p in sq)\n",
    "\n",
    "    return max(\n",
    "        (p for p in its.product(range(1,1+S-s), repeat=2)),\n",
    "        key=lambda p: total_power(*p))\n",
    "\n",
    "s, S = 3, 300\n",
    "serial_number = 5468\n",
    "assert max_power_cell(18, s, S) == (33, 45)\n",
    "%time max_power_cell(5468, s, S)"
   ]
  },
  {
   "cell_type": "code",
   "execution_count": 37,
   "metadata": {},
   "outputs": [
    {
     "name": "stdout",
     "output_type": "stream",
     "text": [
      " -4 -3 -3 -3\n",
      " -2 -2 -1 -1\n",
      " -1  0  0  1\n",
      "  0  1  2  3\n"
     ]
    }
   ],
   "source": [
    "def draw_cells(cells):\n",
    "    'Draw the square grid of `cells`'\n",
    "    S = int(math.sqrt(len(cells)))\n",
    "    R = range(1, S+1)\n",
    "    print(ncat(cat(f'{cells[(x,y)]:3}' for x in R) for y in R))\n",
    "\n",
    "draw_cells(power_levels(6, 4))"
   ]
  },
  {
   "cell_type": "markdown",
   "metadata": {},
   "source": [
    "For the second part of the question, we want to maximise the power in a square region over all possible square side lengths `s`. We start by accumulating the power over the grid. "
   ]
  },
  {
   "cell_type": "code",
   "execution_count": 38,
   "metadata": {},
   "outputs": [
    {
     "name": "stdout",
     "output_type": "stream",
     "text": [
      " -4 -3 -3 -3\n",
      " -2 -2 -1 -1\n",
      " -1  0  0  1\n",
      "  0  1  2  3\n",
      "\n",
      " -4 -7-10-13\n",
      " -6-11-15-19\n",
      " -7-12-16-19\n",
      " -7-11-13-13\n"
     ]
    }
   ],
   "source": [
    "def cumulative_power(serial_number, S):\n",
    "    cells = power_levels(serial_number, S)\n",
    "    R = range(1, S+1)\n",
    "    # Accumulate rows top-to-bottom\n",
    "    for y in R[1:]:\n",
    "        cells.update({(x,y): cells[x,y]+cells[x,y-1] for x in R})\n",
    "\n",
    "    # Accumulate columns left-to-right\n",
    "    for x in R[1:]:\n",
    "        cells.update({(x,y): cells[x,y]+cells[x-1,y] for y in R})\n",
    "    \n",
    "    return collections.Counter(cells)\n",
    "\n",
    "draw_cells(power_levels(6,4))\n",
    "print()\n",
    "draw_cells(cumulative_power(6, 4))"
   ]
  },
  {
   "cell_type": "markdown",
   "metadata": {},
   "source": [
    "Using the cumulative power grid we can read out the total power for a rectangular region."
   ]
  },
  {
   "cell_type": "code",
   "execution_count": 39,
   "metadata": {},
   "outputs": [],
   "source": [
    "def region_power(accu, t, l, b, r):\n",
    "    '''Return the total power for a rectangular region\n",
    "    \n",
    "    accu - the cumulative powers over the grid\n",
    "    tl - top-left corner\n",
    "    br - bottom-right corner (included)\n",
    "    '''\n",
    "    return accu[(r,b)] - accu[(r,t-1)] - accu[(l-1,b)] + accu[(l-1,t-1)]\n",
    "\n",
    "accu = cumulative_power(6, 4)\n",
    "assert region_power(accu, 1, 1, 1, 1) == -4\n",
    "assert region_power(accu, 1, 1, 3, 2) == -12"
   ]
  },
  {
   "cell_type": "code",
   "execution_count": 40,
   "metadata": {},
   "outputs": [
    {
     "name": "stdout",
     "output_type": "stream",
     "text": [
      "5468 300\n",
      "Wall time: 16.3 s\n"
     ]
    },
    {
     "data": {
      "text/plain": [
       "(90, 101, 15)"
      ]
     },
     "execution_count": 40,
     "metadata": {},
     "output_type": "execute_result"
    }
   ],
   "source": [
    "def highest_powered_square(serial_number, S):\n",
    "    R = range(S+1)\n",
    "    accu = cumulative_power(serial_number, S)\n",
    "    def square_power(lts):\n",
    "        left, top, side = lts\n",
    "        return region_power(accu, top, left, top+side-1, left+side-1)\n",
    "    return max(\n",
    "        ((left, top, side)\n",
    "        for side in range(1, S+1)\n",
    "        for top, left in its.product(range(1, S-side+2), repeat=2)),\n",
    "        key=square_power)\n",
    "\n",
    "# Check the supplied example answers\n",
    "assert highest_powered_square(18, 300) == (90, 269, 16)\n",
    "assert highest_powered_square(42, 300) == (232, 251, 12)\n",
    "\n",
    "print(serial_number, S)\n",
    "%time highest_powered_square(serial_number, S)"
   ]
  },
  {
   "cell_type": "markdown",
   "metadata": {},
   "source": [
    "## [Day 12](https://adventofcode.com/2018/day/12)\n",
    "This looks like a one dimensional [game of life](http://wordaligned.org/life)."
   ]
  },
  {
   "cell_type": "code",
   "execution_count": 41,
   "metadata": {},
   "outputs": [
    {
     "name": "stdout",
     "output_type": "stream",
     "text": [
      "#..#.#..##......###...###\n",
      "#...#....#.....#..#..#..#\n",
      "##..##...##....#..#..#..##\n",
      "#.#...#..#.#....#..#..#...#\n",
      "#.#..#...#.#...#..#..##..##\n"
     ]
    }
   ],
   "source": [
    "def parse_input(data):\n",
    "    'Read initial state and rules'\n",
    "    rules = {}\n",
    "    for line in data.splitlines():\n",
    "        if 'initial state' in line:\n",
    "            state = line.split()[2]\n",
    "        elif '=>' in line:\n",
    "            src, _, dst = line.split()\n",
    "            rules[src] = dst\n",
    "    return state, rules\n",
    "\n",
    "def trim(state, pos0):\n",
    "    begin, end = state.find('#'), state.rfind('#')\n",
    "    return state[begin:end+1], pos0-begin\n",
    "\n",
    "def grow_plants(state, rules):\n",
    "    pos0 = 0\n",
    "    while True:\n",
    "        state, pos0 = trim(state, pos0)\n",
    "        yield state, pos0\n",
    "        # Pad the state with enough blanks to apply the rules\n",
    "        padded = '....' + state + '....'\n",
    "        state = cat(rules.get(padded[p:p+5], '.') for p,c in enumerate(padded[2:-2]))\n",
    "        pos0 += 2\n",
    "\n",
    "example_setup = '''\\\n",
    "initial state: #..#.#..##......###...###\n",
    "\n",
    "...## => #\n",
    "..#.. => #\n",
    ".#... => #\n",
    ".#.#. => #\n",
    ".#.## => #\n",
    ".##.. => #\n",
    ".#### => #\n",
    "#.#.# => #\n",
    "#.### => #\n",
    "##.#. => #\n",
    "##.## => #\n",
    "###.. => #\n",
    "###.# => #\n",
    "####. => #'''\n",
    "\n",
    "# Let's check the output against the example shown\n",
    "state, rules = parse_input(example_setup)\n",
    "print('\\n'.join(s for s, _ in take(grow_plants(state, rules), 5)))"
   ]
  },
  {
   "cell_type": "code",
   "execution_count": 42,
   "metadata": {},
   "outputs": [
    {
     "data": {
      "text/plain": [
       "2040"
      ]
     },
     "execution_count": 42,
     "metadata": {},
     "output_type": "execute_result"
    }
   ],
   "source": [
    "def sum_of_plant_positions(setup, time):\n",
    "    plants = grow_plants(*parse_input(setup))\n",
    "    state, pos0 = next(its.islice(plants, time, None))\n",
    "    return sum(i - pos0 for i, c in enumerate(state) if c == '#')\n",
    "\n",
    "assert sum_of_plant_positions(example_setup, 20) == 325\n",
    "sum_of_plant_positions(input(12), 20)"
   ]
  },
  {
   "cell_type": "markdown",
   "metadata": {},
   "source": [
    "For part two, we're asked for the value returned by `sum_of_plant_positions()` when `time=50_000_000_000`. This is way too big to run directly. Let's see if the pattern repeats."
   ]
  },
  {
   "cell_type": "code",
   "execution_count": 43,
   "metadata": {},
   "outputs": [
    {
     "name": "stdout",
     "output_type": "stream",
     "text": [
      "192 -96 191 -95\n"
     ]
    }
   ],
   "source": [
    "def repeat(setup):\n",
    "    '''Grow plants from initial setup until a state repeats\n",
    "    \n",
    "    Returns (state, time of repeat, pos0 at repeat, time first seen, pos0 first seen)\n",
    "    '''\n",
    "    seen = {}\n",
    "    for t, (state, pos0) in enumerate(grow_plants(*parse_input(setup))):\n",
    "        if state in seen:\n",
    "            return (state, t, pos0, *seen[state])\n",
    "        seen[state] = t, pos0\n",
    "\n",
    "state, t_repeat, pos0_repeat, t_first_seen, pos0_first_seen = repeat(input(12))\n",
    "print(t_repeat, pos0_repeat, t_first_seen, pos0_first_seen)"
   ]
  },
  {
   "cell_type": "markdown",
   "metadata": {},
   "source": [
    "This tells us the state at time `192` is the same as the state at time `191`, shifted one to the left. Now we can figure out the state at `time=50_000_000_000`."
   ]
  },
  {
   "cell_type": "code",
   "execution_count": 44,
   "metadata": {},
   "outputs": [
    {
     "data": {
      "text/plain": [
       "1700000000011"
      ]
     },
     "execution_count": 44,
     "metadata": {},
     "output_type": "execute_result"
    }
   ],
   "source": [
    "T = 50_000_000_000\n",
    "pos0 = -96 - T + 192\n",
    "sum(i - pos0 for i, c in enumerate(state) if c == '#')"
   ]
  },
  {
   "cell_type": "markdown",
   "metadata": {},
   "source": [
    "## [Day 13](https://adventofcode.com/2018/day/13)\n",
    "Carts are moving round a grid, according to simple rules. The challenge for part one is to locate the first collision. This can be done by reading in the initial set up and then applying the rules to simulate the carts' movements."
   ]
  },
  {
   "cell_type": "code",
   "execution_count": 45,
   "metadata": {},
   "outputs": [],
   "source": [
    "# Complex numbers can be used to represent both position and direction.\n",
    "\n",
    "# Directions to step\n",
    "N, E, S, W = -1j, 1, 1j, -1\n",
    "# Ways to turn through 90 degrees\n",
    "# Note: multiply turn by direction to effect a turn\n",
    "LEFT, AHEAD, RIGHT = -1j, 1, 1j \n",
    "\n",
    "class Cart:\n",
    "    'A cart on a grid'\n",
    "\n",
    "    def __init__(self, pos, dir_):\n",
    "        'Initialise, given position and direction'\n",
    "        self.pos = pos\n",
    "        self.dir = dir_\n",
    "        self.turn = its.cycle([LEFT,AHEAD,RIGHT])\n",
    "\n",
    "    def step(self, track):\n",
    "        'Step along the track, returning new position'\n",
    "        self.pos += self.dir\n",
    "        # Recalculate direction\n",
    "        where = track[self.pos]\n",
    "        if   where == '+' : self.dir = next(self.turn) * self.dir\n",
    "        elif where == '/' : self.dir = {N:E, S:W, W:S, E:N}[self.dir]\n",
    "        elif where == '\\\\': self.dir = {N:W, S:E, E:S, W:N}[self.dir]\n",
    "        return self.pos\n",
    "\n",
    "    def __lt__(self, o):\n",
    "        'Order carts'\n",
    "        return (self.pos.imag, self.pos.real) < (o.pos.imag, o.pos.real)\n",
    "    \n",
    "    def __str__(self):\n",
    "        return {N:'^', S:'v', E:'>', W:'<'}[self.dir] "
   ]
  },
  {
   "cell_type": "markdown",
   "metadata": {},
   "source": [
    "We need to read in the initial setup."
   ]
  },
  {
   "cell_type": "code",
   "execution_count": 46,
   "metadata": {},
   "outputs": [
    {
     "name": "stdout",
     "output_type": "stream",
     "text": [
      "/->-\\        \n",
      "|   |  /----\\\n",
      "| /-+--+-\\  |\n",
      "| | |  | v  |\n",
      "\\-+-/  \\-+--/\n",
      "  \\------/   \n"
     ]
    }
   ],
   "source": [
    "def read_setup(data):\n",
    "    'Read the setup from `data`, returning carts and track.'\n",
    "    cart_to_track = {'^':'|','v':'|','>':'-','<':'-'}\n",
    "    cart_or_track = set('^v><+|-/\\\\')\n",
    "    cart_to_dir = {'^':N, 'v':S, '>':E, '<':W}\n",
    "\n",
    "    all_ = {complex(x,y): c\n",
    "            for y, row in enumerate(data.splitlines())\n",
    "            for x, c in enumerate(row)}\n",
    "\n",
    "    carts = {Cart(p, cart_to_dir[c]) for p,c in all_.items()\n",
    "             if c in cart_to_track}\n",
    "\n",
    "    track = {p: cart_to_track.get(c, c)\n",
    "             for p,c in all_.items() if c in cart_or_track}\n",
    "\n",
    "    return carts, track\n",
    "\n",
    "\n",
    "def draw(carts, track):\n",
    "    width = int(max(p.real for p in track))\n",
    "    height = int(max(p.imag for p in track))\n",
    "    pic = {**track, **{cart.pos: str(cart) for cart in carts}}\n",
    "    draw_grid({p: pic.get(complex(*p), ' ') \n",
    "               for p in its.product(range(width+1), range(height+1))})\n",
    "\n",
    "example_setup = read_setup(\n",
    "r'''/->-\\        \n",
    "|   |  /----\\\n",
    "| /-+--+-\\  |\n",
    "| | |  | v  |\n",
    "\\-+-/  \\-+--/\n",
    "  \\------/   \n",
    "''')\n",
    "\n",
    "draw(*example_setup)"
   ]
  },
  {
   "cell_type": "markdown",
   "metadata": {},
   "source": [
    "For part one, we want to know where the first crash occurs."
   ]
  },
  {
   "cell_type": "code",
   "execution_count": 47,
   "metadata": {},
   "outputs": [
    {
     "data": {
      "text/plain": [
       "(136, 36)"
      ]
     },
     "execution_count": 47,
     "metadata": {},
     "output_type": "execute_result"
    }
   ],
   "source": [
    "def first_crash(carts, track):\n",
    "    while True:\n",
    "        for cart in sorted(carts):\n",
    "            pos = cart.step(track)\n",
    "            if ilen(c for c in carts if c.pos == pos) > 1:\n",
    "                return int(pos.real), int(pos.imag)\n",
    "\n",
    "assert first_crash(*example_setup) == (7, 3)\n",
    "first_crash(*read_setup(input(13)))"
   ]
  },
  {
   "cell_type": "markdown",
   "metadata": {},
   "source": [
    "Part two asks for the position of the final cart after the others have crashed out."
   ]
  },
  {
   "cell_type": "code",
   "execution_count": 48,
   "metadata": {},
   "outputs": [
    {
     "name": "stdout",
     "output_type": "stream",
     "text": [
      "(53, 111)\n"
     ]
    }
   ],
   "source": [
    "def last_cart_pos(carts, track):\n",
    "    crashed = set()\n",
    "    while len(carts) > 1:\n",
    "        for cart in sorted(carts):\n",
    "            pos = cart.step(track)\n",
    "            at_pos = {c for c in carts-crashed if c.pos==pos}\n",
    "            if len(at_pos) > 1:\n",
    "                crashed |= at_pos\n",
    "        carts -= crashed\n",
    "    assert len(carts) == 1\n",
    "    pos = carts.pop().pos\n",
    "    return int(pos.real), int(pos.imag)\n",
    "\n",
    "example_setup = read_setup(\n",
    "r'''/>-<\\  \n",
    "|   |  \n",
    "| /<+-\\\n",
    "| | | v\n",
    "\\>+</ |\n",
    "  |   ^\n",
    "  \\<->/\n",
    "''')\n",
    "\n",
    "assert last_cart_pos(*example_setup) == (6, 4)\n",
    "print(last_cart_pos(*read_setup(input(13))))"
   ]
  },
  {
   "cell_type": "markdown",
   "metadata": {},
   "source": [
    "## [Day 14](https://adventofcode.com/2018/day/14)\n",
    "A pair of elves are inventing recipes, which they do by combining numbers from a list of existing recipes."
   ]
  },
  {
   "cell_type": "code",
   "execution_count": 49,
   "metadata": {},
   "outputs": [
    {
     "data": {
      "text/plain": [
       "[[3, 7, 1, 0, 1, 0, 1, 2, 4],\n",
       " [3, 7, 1, 0, 1, 0, 1, 2, 4],\n",
       " [3, 7, 1, 0, 1, 0, 1, 2, 4],\n",
       " [3, 7, 1, 0, 1, 0, 1, 2, 4],\n",
       " [3, 7, 1, 0, 1, 0, 1, 2, 4]]"
      ]
     },
     "execution_count": 49,
     "metadata": {},
     "output_type": "execute_result"
    }
   ],
   "source": [
    "def digits(N):\n",
    "    '''Return a list of the digits in +ve int N\n",
    "    \n",
    "    >>> digits(123)\n",
    "    [1, 2, 3]\n",
    "    '''\n",
    "    return [int(d) for d in str(N)]\n",
    "\n",
    "def generate_recipes(recipes, elf1, elf2):\n",
    "    '''Generate the list of recipes\n",
    "    \n",
    "    - recipes: initial list of recipes\n",
    "    - elf1, elf2: position of santa's helpers\n",
    "    '''\n",
    "    digits_ = [digits(n) for n in range(19)]\n",
    "    while True:\n",
    "        yield recipes\n",
    "        recipes += digits_[recipes[elf1] + recipes[elf2]]\n",
    "        elf1 = (elf1 + recipes[elf1] + 1) % len(recipes)\n",
    "        elf2 = (elf2 + recipes[elf2] + 1) % len(recipes)\n",
    "\n",
    "# Check generate_recipes() matches the supplied example\n",
    "take(generate_recipes([3, 7], 0, 1), 5)"
   ]
  },
  {
   "cell_type": "code",
   "execution_count": 50,
   "metadata": {},
   "outputs": [],
   "source": [
    "input14 = 540391"
   ]
  },
  {
   "cell_type": "markdown",
   "metadata": {},
   "source": [
    "We're asked for the 10 recipes which follow the first N, where N is the puzzle input -- in my case, `540391`."
   ]
  },
  {
   "cell_type": "code",
   "execution_count": 51,
   "metadata": {},
   "outputs": [
    {
     "name": "stdout",
     "output_type": "stream",
     "text": [
      "1474315445\n"
     ]
    }
   ],
   "source": [
    "gen = generate_recipes([3, 7], 0, 1)\n",
    "recipes = next(r for r in gen if len(r) >= input14 + 10)\n",
    "print(cat(map(str, recipes[input14:input14+10])))"
   ]
  },
  {
   "cell_type": "markdown",
   "metadata": {},
   "source": [
    "Part two asks when we see the recipe sequence formed from the digits of N, the puzzle input."
   ]
  },
  {
   "cell_type": "code",
   "execution_count": 52,
   "metadata": {},
   "outputs": [],
   "source": [
    "def day14_part2(input_n):\n",
    "    gen = generate_recipes([3, 7], 0, 1)\n",
    "    seq = digits(input_n)\n",
    "    L = len(seq)\n",
    "    for recipes in gen:\n",
    "        if recipes[-L:] == seq: \n",
    "            return len(recipes) - L\n",
    "        if recipes[-L-1:-1] == seq: \n",
    "            return len(recipes) - L - 1\n",
    "\n",
    "assert day14_part2(51589) == 9\n",
    "assert day14_part2(59414) == 2018"
   ]
  },
  {
   "cell_type": "code",
   "execution_count": 53,
   "metadata": {},
   "outputs": [
    {
     "name": "stdout",
     "output_type": "stream",
     "text": [
      "Wall time: 21.1 s\n"
     ]
    },
    {
     "data": {
      "text/plain": [
       "20278122"
      ]
     },
     "execution_count": 53,
     "metadata": {},
     "output_type": "execute_result"
    }
   ],
   "source": [
    "%time day14_part2(input14)"
   ]
  },
  {
   "cell_type": "markdown",
   "metadata": {},
   "source": [
    "## [Day 16](https://adventofcode.com/2018/day/16)\n",
    "We are given a description of various computer instructions and have to figure out which of them might produce results given a sample showing the register values before and after. I split the input into two sections: part one requires the first only, which is a list of samples, the last of which reads:\n",
    "\n",
    "    Before: [3, 2, 0, 3]\n",
    "    11 2 0 2\n",
    "    After:  [3, 2, 1, 3]\n"
   ]
  },
  {
   "cell_type": "code",
   "execution_count": 54,
   "metadata": {},
   "outputs": [
    {
     "data": {
      "text/plain": [
       "([3, 2, 0, 3], [11, 2, 0, 2], [3, 2, 1, 3])"
      ]
     },
     "execution_count": 54,
     "metadata": {},
     "output_type": "execute_result"
    }
   ],
   "source": [
    "def load_part_one(data):\n",
    "    xs = array(data)\n",
    "    return take(chunked((x for x in xs if x), 3))\n",
    "\n",
    "samples = load_part_one(open('input/16_part_one').read())\n",
    "samples[-1]"
   ]
  },
  {
   "cell_type": "markdown",
   "metadata": {},
   "source": [
    "We have 16 possible operations on a processor with 4 registers. The operations can be \"register\" or \"immediate\", applying to the value in the register specified in the instruction or to the value itself respectively."
   ]
  },
  {
   "cell_type": "code",
   "execution_count": 55,
   "metadata": {},
   "outputs": [],
   "source": [
    "def addr(regs, A, B, C): regs[C] = regs[A] +  regs[B]\n",
    "def addi(regs, A, B, C): regs[C] = regs[A] +       B\n",
    "def mulr(regs, A, B, C): regs[C] = regs[A] *  regs[B]\n",
    "def muli(regs, A, B, C): regs[C] = regs[A] *       B\n",
    "def banr(regs, A, B, C): regs[C] = regs[A] &  regs[B]\n",
    "def bani(regs, A, B, C): regs[C] = regs[A] &       B\n",
    "def borr(regs, A, B, C): regs[C] = regs[A] |  regs[B]\n",
    "def bori(regs, A, B, C): regs[C] = regs[A] |       B\n",
    "def setr(regs, A, B, C): regs[C] = regs[A]\n",
    "def seti(regs, A, B, C): regs[C] =      A\n",
    "def gtir(regs, A, B, C): regs[C] =      A  >  regs[B]\n",
    "def gtri(regs, A, B, C): regs[C] = regs[A] >       B\n",
    "def gtrr(regs, A, B, C): regs[C] = regs[A] > regs[B]\n",
    "def eqir(regs, A, B, C): regs[C] =      A  == regs[B]\n",
    "def eqri(regs, A, B, C): regs[C] = regs[A] ==      B\n",
    "def eqrr(regs, A, B, C): regs[C] = regs[A] == regs[B]\n",
    "\n",
    "all_ops = [\n",
    "    addr, addi, mulr, muli, banr, bani, borr, bori, setr, seti,\n",
    "    gtir, gtri, gtrr, eqir, eqri, eqrr\n",
    "]"
   ]
  },
  {
   "cell_type": "markdown",
   "metadata": {},
   "source": [
    "Now we've implemented the operators, part one asks how many samples in the puzzle input behave like three or more opcodes?"
   ]
  },
  {
   "cell_type": "code",
   "execution_count": 56,
   "metadata": {},
   "outputs": [
    {
     "data": {
      "text/plain": [
       "580"
      ]
     },
     "execution_count": 56,
     "metadata": {},
     "output_type": "execute_result"
    }
   ],
   "source": [
    "def valid_for_sample(op, sample):\n",
    "    'Return `True` iff the op is valid for the sample'\n",
    "    before, instruction, after = sample\n",
    "    regs = list(before)\n",
    "    code, A, B, C = instruction\n",
    "    op(regs, A, B, C)\n",
    "    return regs == after\n",
    "\n",
    "def possible_ops(all_ops, sample):\n",
    "    'Return the subset of `all_ops` which are valid for the sample'\n",
    "    return {op for op in all_ops if valid_for_sample(op, sample)}\n",
    "\n",
    "# Try out the example\n",
    "assert len(possible_ops(all_ops, ([3, 2, 1, 1], [9, 2, 1, 2], [3, 2, 2, 1]))) == 3\n",
    "\n",
    "# Now get the answer for part one\n",
    "ilen(_ for sample in samples if len(possible_ops(all_ops, sample)) >= 3)"
   ]
  },
  {
   "cell_type": "markdown",
   "metadata": {},
   "source": [
    "For part two, we learn the samples are self-consistent, and we can deduce which opcode corresponds to which operator. We need to figure out the mapping `opcode => operation` where `op_code` is the opcode value and `operation` is the function -- one of `all_ops`"
   ]
  },
  {
   "cell_type": "code",
   "execution_count": 57,
   "metadata": {},
   "outputs": [],
   "source": [
    "def map_code2op(all_ops, samples):\n",
    "    'Return the {code => op} mapping consistent with samples'\n",
    "    code2op = {n:set(all_ops) for n in range(16)}\n",
    "    for sample in samples:\n",
    "        code = sample[1][0]\n",
    "        code2op[code] &= possible_ops(all_ops, sample)\n",
    "    while any(len(ops) > 1 for ops in code2op.values()):\n",
    "        known_codes = {code for code, ops in code2op.items() if len(ops)==1}\n",
    "        known_ops = {op for code in known_codes for op in code2op[code]}\n",
    "        for code in set(code2op) - known_codes:\n",
    "            code2op[code] -= known_ops\n",
    "    assert all(len(ops)==1 for ops in code2op.values())\n",
    "    return {code: ops.pop() for code, ops in code2op.items()}\n",
    "\n",
    "code2op = map_code2op(all_ops, samples)"
   ]
  },
  {
   "cell_type": "markdown",
   "metadata": {},
   "source": [
    "Now we're asked to run the program given as the second part of the input, and find the final value of register `0`."
   ]
  },
  {
   "cell_type": "code",
   "execution_count": 58,
   "metadata": {},
   "outputs": [
    {
     "name": "stdout",
     "output_type": "stream",
     "text": [
      "537\n"
     ]
    }
   ],
   "source": [
    "def run_prog(code2op, prog):\n",
    "    regs = [0, 0, 0, 0]\n",
    "    for code, A, B, C in prog:\n",
    "        code2op[code](regs, A, B, C)\n",
    "    return regs\n",
    "\n",
    "test_prog = array(open('input/16_part_two').read())\n",
    "regs = run_prog(code2op, test_prog)\n",
    "print(regs[0])"
   ]
  },
  {
   "cell_type": "markdown",
   "metadata": {},
   "source": [
    "## [Day 17](https://adventofcode.com/2018/day/17)\n",
    "Water sinks into the ground. It stops when it hits clay. The worked example suggests two modes: \n",
    "- fill, when the water is contained by horizontal and vertical bounds\n",
    "- spill, when the water flows horizontally and down"
   ]
  },
  {
   "cell_type": "code",
   "execution_count": 59,
   "metadata": {},
   "outputs": [
    {
     "name": "stdout",
     "output_type": "stream",
     "text": [
      "............#.\n",
      ".#..#.......#.\n",
      ".#..#..#......\n",
      ".#..#..#......\n",
      ".#.....#......\n",
      ".#.....#......\n",
      ".#######......\n",
      "..............\n",
      "..............\n",
      "....#.....#...\n",
      "....#.....#...\n",
      "....#.....#...\n",
      "....#######...\n",
      "!!!!!!!!!!!!!!\n"
     ]
    }
   ],
   "source": [
    "example_17 = '''\\\n",
    "x=495, y=2..7\n",
    "y=7, x=495..501\n",
    "x=501, y=3..7\n",
    "x=498, y=2..4\n",
    "x=506, y=1..2\n",
    "x=498, y=10..13\n",
    "x=504, y=10..13\n",
    "y=13, x=498..504'''\n",
    "\n",
    "def read_ground(data):\n",
    "    'Reads in the ground, as specified by the example data above'\n",
    "    ground = collections.defaultdict(lambda: '.')\n",
    "    fill = ground.update\n",
    "\n",
    "    for row in data.splitlines():\n",
    "        v, lo, hi = ints(row)\n",
    "        if row.startswith('x'): \n",
    "            fill(((v,y), '#') for y in range(lo, hi+1))\n",
    "        elif row.startswith('y'):\n",
    "            fill(((x,v), '#') for x in range(lo, hi+1))\n",
    "    \n",
    "    # Add \"!\" at the base level so we know when we're in pure sand\n",
    "    x, X = min(map(first, ground)), max(map(first, ground))\n",
    "    Y = max(map(second, ground))\n",
    "    fill(((x, Y+1), '!') for x in range(x-1, X+2))\n",
    "\n",
    "    return ground\n",
    "\n",
    "example_ground = read_ground(example_17)\n",
    "draw_grid(example_ground, '.')"
   ]
  },
  {
   "cell_type": "markdown",
   "metadata": {},
   "source": [
    "Now let's try and implement the fill and spill flow."
   ]
  },
  {
   "cell_type": "code",
   "execution_count": 60,
   "metadata": {},
   "outputs": [
    {
     "name": "stdout",
     "output_type": "stream",
     "text": [
      "            # \n",
      " #  #       # \n",
      " #  #  #      \n",
      " #  #  #      \n",
      " #     #      \n",
      " #     #      \n",
      " #######      \n",
      "              \n",
      "              \n",
      "    #     #   \n",
      "    #     #   \n",
      "    #     #   \n",
      "    #######   \n",
      "!!!!!!!!!!!!!!\n",
      "\n",
      "      |       \n",
      "      |     # \n",
      " #  #||||   # \n",
      " #  #~~#|     \n",
      " #  #~~#|     \n",
      " #~~~~~#|     \n",
      " #~~~~~#|     \n",
      " #######|     \n",
      "        |     \n",
      "   |||||||||  \n",
      "   |#~~~~~#|  \n",
      "   |#~~~~~#|  \n",
      "   |#~~~~~#|  \n",
      "   |#######|  \n",
      "!!!!!!!!!!!!!!\n"
     ]
    }
   ],
   "source": [
    "def step_L(p): return (left(p, d) for d in its.count())\n",
    "def step_R(p): return (right(p, d) for d in its.count())\n",
    "def step_D(p): return (down(p, d) for d in its.count())\n",
    "def layer(L, R): return ((x, L[1]) for x in range(L[0], R[0]))\n",
    "def column(T, B): return ((T[0], y) for y in range(T[1], B[1]))\n",
    "\n",
    "def left (p, d=1): return p[0]-d, p[1]\n",
    "def right(p, d=1): return p[0]+d, p[1]\n",
    "def down (p, d=1): return p[0]  , p[1]+d\n",
    "def up   (p, d=1): return p[0]  , p[1]-d\n",
    "\n",
    "def water_flow(ground, source):\n",
    "    ' Model water sinking into `ground`, starting from `source` '\n",
    "    def stop(p):\n",
    "        'Should we stop spreading horizontally at `p`?'\n",
    "        # Yes, if we've hit clay or if there's sand or water beneath\n",
    "        return ground[p] == '#' or ground[down(p)] in '.|'\n",
    "\n",
    "    fill = ground.update\n",
    "    flow_q = {source}\n",
    "    \n",
    "    while flow_q:\n",
    "        source = flow_q.pop()\n",
    "        D = next(d for d in step_D(source) if ground[d] in '#~!')\n",
    "        fill((d, '|') for d in column(source, D))\n",
    "\n",
    "        if ground[D] == '!': continue\n",
    "        D = up(D)\n",
    "        L = next(p for p in step_L(D) if stop(p))\n",
    "        R = next(p for p in step_R(D) if stop(p))\n",
    "\n",
    "        if (ground[L], ground[R]) == ('#', '#'):    \n",
    "            fill((p, '~') for p in layer(right(L), R))\n",
    "            flow_q.add(up(D))\n",
    "        elif ground[L] == '#':\n",
    "            fill((p, '|') for p in layer(right(L), right(R)))\n",
    "            flow_q.add(R)\n",
    "        elif ground[R] == '#':\n",
    "            fill((p, '|') for p in layer(L, R))\n",
    "            flow_q.add(L)\n",
    "        else:\n",
    "            fill((p, '|') for p in layer(L, right(R)))\n",
    "            flow_q |= {L, R}\n",
    "\n",
    "    return ground\n",
    "\n",
    "water_source = 500, 0\n",
    "example_ground = read_ground(example_17)\n",
    "draw_grid(example_ground)\n",
    "print()\n",
    "ground = water_flow(example_ground, water_source)\n",
    "draw_grid(ground)"
   ]
  },
  {
   "cell_type": "markdown",
   "metadata": {},
   "source": [
    "That looks OK. Let's check the result."
   ]
  },
  {
   "cell_type": "code",
   "execution_count": 61,
   "metadata": {},
   "outputs": [
    {
     "data": {
      "text/plain": [
       "(35707, 29293)"
      ]
     },
     "execution_count": 61,
     "metadata": {},
     "output_type": "execute_result"
    }
   ],
   "source": [
    "def count_wet_tiles(ground_data, water_source):\n",
    "    ground = read_ground(ground_data)\n",
    "    y_range = range(min(map(second, ground)), max(map(second, ground))+1)\n",
    "    ground = water_flow(ground, water_source)\n",
    "    tiles = collections.Counter(v for (_, y), v in ground.items() if y in y_range)\n",
    "    return tiles['|'] + tiles['~'], tiles['~']\n",
    "\n",
    "assert count_wet_tiles(example_17, water_source) == (57, 29)\n",
    "count_wet_tiles(input(17), water_source)"
   ]
  },
  {
   "cell_type": "markdown",
   "metadata": {},
   "source": [
    "Part two asks how many cells have standing water in (marked as `~` on the diagram). I adapted `count_wet_tiles` to return that information."
   ]
  },
  {
   "cell_type": "markdown",
   "metadata": {},
   "source": [
    "## [Day 18](https://adventofcode.com/2018/day/18)\n",
    "Another game of life style automaton, this time in 2D. The rules for evolution of the area are as follows. Note that the area has a boundary: it does not expand or wrap."
   ]
  },
  {
   "cell_type": "code",
   "execution_count": 63,
   "metadata": {},
   "outputs": [],
   "source": [
    "clear, trees, yard = '.|#'\n",
    "\n",
    "def read_setup(data):\n",
    "    return {(x, y): c \n",
    "            for y, row in enumerate(data.splitlines())\n",
    "            for x, c in enumerate(row)}\n",
    "\n",
    "def evolve_cell(state, p):\n",
    "    adj = collections.Counter(state.get(n, '!') for n in neighbours8(*p))\n",
    "    cell = state[p] \n",
    "    return {\n",
    "        clear: trees if adj[trees] > 2 else cell,\n",
    "        trees: yard if adj[yard] > 2 else cell,\n",
    "        yard: yard if min(adj[yard], adj[trees]) > 0 else clear\n",
    "    }[cell]\n",
    "\n",
    "def evolve_area(state):\n",
    "    while True:\n",
    "        yield state\n",
    "        state = {p: evolve_cell(state, p) for p in state}"
   ]
  },
  {
   "cell_type": "markdown",
   "metadata": {},
   "source": [
    "Let's check the worked example ."
   ]
  },
  {
   "cell_type": "code",
   "execution_count": 64,
   "metadata": {},
   "outputs": [
    {
     "name": "stdout",
     "output_type": "stream",
     "text": [
      ".#.#...|#.\n",
      ".....#|##|\n",
      ".|..|...#.\n",
      "..|#.....#\n",
      "#.#|||#|#|\n",
      "...#.||...\n",
      ".|....|...\n",
      "||...#|.#|\n",
      "|.||||..|.\n",
      "...#.|..|.\n",
      "\n",
      ".......##.\n",
      "......|###\n",
      ".|..|...#.\n",
      "..|#||...#\n",
      "..##||.|#|\n",
      "...#||||..\n",
      "||...|||..\n",
      "|||||.||.|\n",
      "||||||||||\n",
      "....||..|.\n",
      "\n",
      ".......#..\n",
      "......|#..\n",
      ".|.|||....\n",
      "..##|||..#\n",
      "..###|||#|\n",
      "...#|||||.\n",
      "|||||||||.\n",
      "||||||||||\n",
      "||||||||||\n",
      ".|||||||||\n"
     ]
    }
   ],
   "source": [
    "example_data = r'''\\\n",
    ".#.#...|#.\n",
    ".....#|##|\n",
    ".|..|...#.\n",
    "..|#.....#\n",
    "#.#|||#|#|\n",
    "...#.||...\n",
    ".|....|...\n",
    "||...#|.#|\n",
    "|.||||..|.\n",
    "...#.|..|.\n",
    "'''\n",
    "\n",
    "areas = evolve_area(read_setup(example_data))\n",
    "print(render_grid(next(areas)),\n",
    "      render_grid(next(areas)),\n",
    "      render_grid(next(areas)), sep='\\n\\n')"
   ]
  },
  {
   "cell_type": "markdown",
   "metadata": {},
   "source": [
    "That looks fine. Now let's check the resource value -- the number of wooded acres multiplied by the number of lumberyards -- after 10 minutes."
   ]
  },
  {
   "cell_type": "code",
   "execution_count": 65,
   "metadata": {},
   "outputs": [
    {
     "data": {
      "text/plain": [
       "604884"
      ]
     },
     "execution_count": 65,
     "metadata": {},
     "output_type": "execute_result"
    }
   ],
   "source": [
    "def area_value(area):\n",
    "    counts = collections.Counter(area.values())\n",
    "    return counts[trees] * counts[yard]\n",
    "    \n",
    "def resource_value(data, t):\n",
    "    areas = evolve_area(read_setup(data))\n",
    "    area = next(its.islice(areas, t, None))\n",
    "    return area_value(area)\n",
    "\n",
    "assert resource_value(example_data, 10) == 1147\n",
    "resource_value(input(18), 10)"
   ]
  },
  {
   "cell_type": "markdown",
   "metadata": {},
   "source": [
    "For part two, we're asked for the resource value after `1_000_000_000` minutes. Look for a repeating pattern in the data."
   ]
  },
  {
   "cell_type": "code",
   "execution_count": 66,
   "metadata": {},
   "outputs": [
    {
     "data": {
      "text/plain": [
       "190820"
      ]
     },
     "execution_count": 66,
     "metadata": {},
     "output_type": "execute_result"
    }
   ],
   "source": [
    "def repeated_pattern(data, T):\n",
    "    '''Evolve the supplied data for up to T minutes, looking for repeats\n",
    "    \n",
    "    Returns the repeat, time + time first seen\n",
    "    Or the final area, 0, 0 if no repeats found\n",
    "    '''\n",
    "    seen = {}\n",
    "    areas = evolve_area(read_setup(data))\n",
    "    for t, area in its.islice(enumerate(areas), T+1):\n",
    "        area_hash = render_grid(area)\n",
    "        if area_hash in seen:\n",
    "            return area, seen[area_hash], t\n",
    "        seen[area_hash] = t\n",
    "    return area, 0, 0\n",
    "\n",
    "def resource_value(data, T):\n",
    "    area, tlo, thi = repeated_pattern(data, T)\n",
    "    if thi > tlo:\n",
    "        t_left = (T - tlo) % (thi - tlo)\n",
    "        area = next(its.islice(evolve_area(area), t_left, None))\n",
    "    return area_value(area)\n",
    "\n",
    "assert resource_value(example_data, 10) == 1147\n",
    "resource_value(input(18), 1_000_000_000)"
   ]
  },
  {
   "cell_type": "markdown",
   "metadata": {},
   "source": [
    "## [Day 19](https://adventofcode.com/2018/day/19)\n",
    "Again, we're being asked to model a processor. In fact the processor uses the same rules as Day 16."
   ]
  },
  {
   "cell_type": "code",
   "execution_count": 67,
   "metadata": {},
   "outputs": [
    {
     "name": "stdout",
     "output_type": "stream",
     "text": [
      "[0, 5, 0, 0, 0, 0]\n",
      "[1, 5, 6, 0, 0, 0]\n",
      "[3, 5, 6, 0, 0, 0]\n",
      "[5, 5, 6, 0, 0, 0]\n",
      "[6, 5, 6, 0, 0, 9]\n"
     ]
    }
   ],
   "source": [
    "def load_program(data, instructions):\n",
    "    ip, *ops = data.splitlines()\n",
    "    ip = int(ip.split()[1])\n",
    "    return ip, [(instructions[op.split()[0]], ints(op)) for op in ops]\n",
    "\n",
    "def run_program(regs, ip, ops):\n",
    "    while regs[ip] in range(len(ops)):\n",
    "        op, args = ops[regs[ip]]\n",
    "        op(regs, *args)\n",
    "        yield regs[:]\n",
    "        regs[ip] += 1\n",
    "\n",
    "example_program = r'''\\\n",
    "ip 0\n",
    "seti 5 0 1\n",
    "seti 6 0 2\n",
    "addi 0 1 0\n",
    "addr 1 2 3\n",
    "setr 1 0 0\n",
    "seti 8 0 4\n",
    "seti 9 0 5'''\n",
    "\n",
    "ops = {op.__name__: op for op in all_ops}\n",
    "prog = load_program(example_program, ops)\n",
    "print(*take(run_program([0, 0, 0, 0, 0, 0], *prog)), sep='\\n')"
   ]
  },
  {
   "cell_type": "code",
   "execution_count": 68,
   "metadata": {},
   "outputs": [
    {
     "data": {
      "text/plain": [
       "[6, 5, 6, 0, 0, 9]"
      ]
     },
     "execution_count": 68,
     "metadata": {},
     "output_type": "execute_result"
    }
   ],
   "source": [
    "last(run_program([0, 0, 0, 0, 0, 0], *prog))"
   ]
  },
  {
   "cell_type": "code",
   "execution_count": 69,
   "metadata": {},
   "outputs": [
    {
     "name": "stdout",
     "output_type": "stream",
     "text": [
      "Wall time: 8.17 s\n"
     ]
    },
    {
     "data": {
      "text/plain": [
       "[1568, 892, 256, 893, True, 893]"
      ]
     },
     "execution_count": 69,
     "metadata": {},
     "output_type": "execute_result"
    }
   ],
   "source": [
    "%time last(run_program([0, 0, 0, 0, 0, 0], *load_program(input(19), ops)))"
   ]
  },
  {
   "cell_type": "markdown",
   "metadata": {},
   "source": [
    "I had a suspicion that this technique wasn't going to get me answer to the second part of the question -- so I set it running whilst also trying to figure out what the [instructions](input/19) were actually doing. "
   ]
  },
  {
   "cell_type": "code",
   "execution_count": 70,
   "metadata": {},
   "outputs": [
    {
     "name": "stdout",
     "output_type": "stream",
     "text": [
      "C = C + 16      # 0\n",
      "F = 1            # 1\n",
      "D = 1            # 2\n",
      "E = F * D      # 3\n",
      "E = E == B      # 4\n",
      "C = E + C      # 5\n",
      "C = C + 1      # 6\n",
      "A = F + A      # 7\n",
      "D = D + 1      # 8\n",
      "E = D > B      # 9\n",
      "C = C + E      # 10\n",
      "C = 2            # 11\n",
      "F = F + 1      # 12\n",
      "E = F > B      # 13\n",
      "C = E + C      # 14\n",
      "C = 1            # 15\n",
      "C = C * C      # 16\n",
      "B = B + 2      # 17\n",
      "B = B * B      # 18\n",
      "B = C * B      # 19\n",
      "B = B * 11      # 20\n",
      "E = E + 2      # 21\n",
      "E = E * C      # 22\n",
      "E = E + 12      # 23\n",
      "B = B + E      # 24\n",
      "C = C + A      # 25\n",
      "C = 0            # 26\n",
      "E = C        # 27\n",
      "E = E * C      # 28\n",
      "E = C + E      # 29\n",
      "E = C * E      # 30\n",
      "E = E * 14      # 31\n",
      "E = E * C      # 32\n",
      "B = B + E      # 33\n",
      "A = 0            # 34\n",
      "C = 0            # 35\n"
     ]
    }
   ],
   "source": [
    "def rewrite(instructions):\n",
    "    vars = 'ABCDEF'\n",
    "    for i, (op, (a, b, c)) in enumerate(instructions):\n",
    "        syms = {\n",
    "            addr:'+', addi:'+', mulr:'*', muli:'*', banr:'&', bani:'&', borr:'|', bori:'|',\n",
    "            gtir:'>', gtri:'>', gtrr:'>', eqir:'==', eqri:'==', eqrr:'=='\n",
    "        }\n",
    "        name = op.__name__\n",
    "\n",
    "        if   name.endswith('rr'): lhs, rhs = vars[a], vars[b]\n",
    "        elif name.endswith('ir'): lhs, rhs =      a , vars[b]\n",
    "        elif name.endswith('i' ): lhs, rhs = vars[a], b\n",
    "        elif name.endswith('r' ): lhs, rhs = vars[a], vars[b]\n",
    "\n",
    "        if name == 'seti':\n",
    "            print(f'{vars[c]} = {a}            # {i}')\n",
    "        elif name == 'setr':\n",
    "            print(f'{vars[c]} = {vars[a]}        # {i}')\n",
    "        else:\n",
    "            print(f'{vars[c]} = {lhs} {syms[op]} {rhs}      # {i}')\n",
    "\n",
    "rewrite(load_program(input(19), ops)[1])"
   ]
  },
  {
   "cell_type": "markdown",
   "metadata": {},
   "source": [
    "Here, C is the instruction pointer. Running the program for ~100 iterations and checking the registers, it became clear that B was fixed at `10551292` and the eventual exit point would be line 16, `C = C * C`.\n",
    "\n",
    "I refactored the inner block as:\n",
    "\n",
    "    for F in range(1, B+1):\n",
    "        for D in range(1, B+1):\n",
    "            if F*D == B:\n",
    "                A += F\n",
    "\n",
    "That is, A (register 0, which part two asks for) is the sum of factors of B."
   ]
  },
  {
   "cell_type": "code",
   "execution_count": 71,
   "metadata": {},
   "outputs": [
    {
     "data": {
      "text/plain": [
       "19030032"
      ]
     },
     "execution_count": 71,
     "metadata": {},
     "output_type": "execute_result"
    }
   ],
   "source": [
    "B = 10_551_292\n",
    "sum(F + B//F for F in range(1, int(math.sqrt(B))) if B % F == 0)"
   ]
  },
  {
   "cell_type": "code",
   "execution_count": null,
   "metadata": {},
   "outputs": [],
   "source": []
  }
 ],
 "metadata": {
  "kernelspec": {
   "display_name": "Python 3",
   "language": "python",
   "name": "python3"
  },
  "language_info": {
   "codemirror_mode": {
    "name": "ipython",
    "version": 3
   },
   "file_extension": ".py",
   "mimetype": "text/x-python",
   "name": "python",
   "nbconvert_exporter": "python",
   "pygments_lexer": "ipython3",
   "version": "3.7.0"
  }
 },
 "nbformat": 4,
 "nbformat_minor": 2
}
